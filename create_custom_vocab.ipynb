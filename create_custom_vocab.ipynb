{
 "cells": [
  {
   "cell_type": "markdown",
   "metadata": {},
   "source": [
    "# Custom Vocab 만들기"
   ]
  },
  {
   "cell_type": "markdown",
   "metadata": {},
   "source": [
    "* 영어 : **wordpiece** 사용<br>\n",
    "* 한글 : **mecab 형태소 분석기** 사용<br>\n",
    "* 기호 : **+-/*÷=×±∓∘∙∩∪≅∀√%∄∃θπσ≠<>≤≥≡∼≈≢∝≪≫∈∋∉⊂⊃⊆⊇⋈∑∫∏∞x().,%#{}** 사용.<br>\n",
    "    각각의 기호 2가지경우 추가 (ex. +, ##+)\n",
    "* 숫자 : **0 1 2 3 4 5 6 7 8 9** 사용<br>\n",
    "    각각의 숫자 2가지경우 추가 (ex. 0, ##0)"
   ]
  },
  {
   "cell_type": "markdown",
   "metadata": {},
   "source": [
    "## 실행 방법 \n",
    "**PATH 값 변경** 후 실행"
   ]
  },
  {
   "cell_type": "code",
   "execution_count": 24,
   "metadata": {},
   "outputs": [],
   "source": [
    "# version\n",
    "VERSION = \"4\"\n",
    "\n",
    "# Vocab path\n",
    "## input Vocab path\n",
    "MecapVocab_path = \"only_paper_data/paper_mecab_vocab_ko_v{}_sejin.txt\".format(VERSION)\n",
    "EnglishVocab_path = \"only_paper_data/paper_wordpiece_only_eng_vocab_1000_v{}.txt\".format(VERSION)\n",
    "\n",
    "## output Vocab path\n",
    "NoEnglishCustomVocab_path = \"only_paper_data/ices_vocab_except_eng_{}.txt\".format(VERSION)\n",
    "CustomVocab_path = \"only_paper_data/ices_vocab_v{}_sejin.txt\".format(VERSION)"
   ]
  },
  {
   "cell_type": "code",
   "execution_count": 25,
   "metadata": {},
   "outputs": [],
   "source": [
    "import re\n",
    "import sys\n",
    "# custom vocab dictionaly\n",
    "new_vocab = []"
   ]
  },
  {
   "cell_type": "code",
   "execution_count": 26,
   "metadata": {},
   "outputs": [
    {
     "name": "stdout",
     "output_type": "stream",
     "text": [
      "Total Vocab size :  244945\n"
     ]
    }
   ],
   "source": [
    "# 전체 글에서 추출한 vocab dictionaly\n",
    "f = open(MecapVocab_path, 'r')\n",
    "lines = f.readlines()\n",
    "print(\"Total Vocab size : \", len(lines))\n",
    "f.close()"
   ]
  },
  {
   "cell_type": "markdown",
   "metadata": {},
   "source": [
    "## Total vocab dictionaly에서 한글 단어만 추출(Mecab 형태소 분석기)"
   ]
  },
  {
   "cell_type": "code",
   "execution_count": 27,
   "metadata": {},
   "outputs": [],
   "source": [
    "def isHangul(text):\n",
    "    if text[:2] == \"##\": text = text[2:]\n",
    "    #Check the Python Version\n",
    "    pyVer3 =  sys.version_info >= (3, 0)\n",
    "\n",
    "    if pyVer3 : # for Ver 3 or later\n",
    "        encText = text\n",
    "    else: # for Ver 2.x\n",
    "        if type(text) is not unicode:\n",
    "            encText = text.decode('utf-8')\n",
    "        else:\n",
    "            encText = text\n",
    "\n",
    "    hanCount = len(re.findall(u'[\\u3130-\\u318F\\uAC00-\\uD7A3]+', encText))\n",
    "    return hanCount > 0"
   ]
  },
  {
   "cell_type": "code",
   "execution_count": 28,
   "metadata": {},
   "outputs": [],
   "source": [
    "count = 0\n",
    "for i in lines:\n",
    "    if isHangul(i[:-1]):\n",
    "        new_vocab.append(i)\n",
    "        count += 1"
   ]
  },
  {
   "cell_type": "code",
   "execution_count": 29,
   "metadata": {},
   "outputs": [
    {
     "name": "stdout",
     "output_type": "stream",
     "text": [
      "Number of Hangul vocab : 244945\n",
      "Current new_vocab size : 244945 (한글단어 추가)\n"
     ]
    }
   ],
   "source": [
    "print(\"Number of Hangul vocab : {}\".format(count))\n",
    "print(\"Current new_vocab size : {} (한글단어 추가)\".format(len(new_vocab)))"
   ]
  },
  {
   "cell_type": "markdown",
   "metadata": {},
   "source": [
    "## Seperater 추가"
   ]
  },
  {
   "cell_type": "code",
   "execution_count": 30,
   "metadata": {},
   "outputs": [],
   "source": [
    "new_vocab.insert(0,'[MASK]\\n')\n",
    "new_vocab.insert(0,'[SEP]\\n')\n",
    "new_vocab.insert(0,'[CLS]\\n')\n",
    "new_vocab.insert(0,'[UNK]\\n')\n",
    "new_vocab.insert(0,'[PAD]\\n')"
   ]
  },
  {
   "cell_type": "code",
   "execution_count": 31,
   "metadata": {},
   "outputs": [
    {
     "name": "stdout",
     "output_type": "stream",
     "text": [
      "Number of seperater : 5\n",
      "Current new_vocab size : 244950 (Seperater 추가)\n"
     ]
    }
   ],
   "source": [
    "print(\"Number of seperater : 5\")\n",
    "print(\"Current new_vocab size : {} (Seperater 추가)\".format(len(new_vocab)))"
   ]
  },
  {
   "cell_type": "markdown",
   "metadata": {},
   "source": [
    "## 숫자 추가"
   ]
  },
  {
   "cell_type": "code",
   "execution_count": 32,
   "metadata": {},
   "outputs": [],
   "source": [
    "count = 0\n",
    "for i in range(10):\n",
    "    new_vocab.append(str(i)+'\\n')\n",
    "    new_vocab.append(\"##{}\\n\".format(i))\n",
    "    count += 2"
   ]
  },
  {
   "cell_type": "code",
   "execution_count": 33,
   "metadata": {},
   "outputs": [
    {
     "name": "stdout",
     "output_type": "stream",
     "text": [
      "Number of type of number : 20\n",
      "Current new_vocab size : 244970 (숫자 추가)\n"
     ]
    }
   ],
   "source": [
    "print(\"Number of type of number : {}\".format(count))\n",
    "print(\"Current new_vocab size : {} (숫자 추가)\".format(len(new_vocab)))"
   ]
  },
  {
   "cell_type": "markdown",
   "metadata": {},
   "source": [
    "## 특수문자 추가"
   ]
  },
  {
   "cell_type": "code",
   "execution_count": 34,
   "metadata": {},
   "outputs": [],
   "source": [
    "used_Special_Char = \"+-/*÷=×±∓∘∙∩∪≅∀√%∄∃θπσ≠<>≤≥≡∼≈≢∝≪≫∈∋∉⊂⊃⊆⊇⋈∑∫∏∞x().,%#{}\"\n",
    "count = 0\n",
    "for c in used_Special_Char:\n",
    "    new_vocab.append(c+'\\n')\n",
    "    new_vocab.append(\"##{}\\n\".format(c))\n",
    "    count+=2"
   ]
  },
  {
   "cell_type": "code",
   "execution_count": 35,
   "metadata": {},
   "outputs": [
    {
     "name": "stdout",
     "output_type": "stream",
     "text": [
      "Number of Special Characters : 110\n",
      "Current new_vocab size : 245080 (숫자 추가)\n"
     ]
    }
   ],
   "source": [
    "print(\"Number of Special Characters : {}\".format(count))\n",
    "print(\"Current new_vocab size : {} (숫자 추가)\".format(len(new_vocab)))"
   ]
  },
  {
   "cell_type": "code",
   "execution_count": 36,
   "metadata": {},
   "outputs": [],
   "source": [
    "f = open(NoEnglishCustomVocab_path, 'w')\n",
    "f.write(\"\".join(new_vocab))\n",
    "f.close()"
   ]
  },
  {
   "cell_type": "markdown",
   "metadata": {},
   "source": [
    "## 영어 단어 추가"
   ]
  },
  {
   "cell_type": "code",
   "execution_count": 37,
   "metadata": {},
   "outputs": [
    {
     "name": "stdout",
     "output_type": "stream",
     "text": [
      "Total English Vocab size :  40986\n"
     ]
    }
   ],
   "source": [
    "f = open(EnglishVocab_path, 'r')\n",
    "eng_lines = f.readlines()\n",
    "print(\"Total English Vocab size : \", len(eng_lines))\n",
    "f.close()"
   ]
  },
  {
   "cell_type": "code",
   "execution_count": 38,
   "metadata": {},
   "outputs": [],
   "source": [
    "count = 0\n",
    "for i in eng_lines[5:]:\n",
    "    new_vocab.append(i)\n",
    "    count += 1"
   ]
  },
  {
   "cell_type": "code",
   "execution_count": 39,
   "metadata": {
    "scrolled": true
   },
   "outputs": [
    {
     "name": "stdout",
     "output_type": "stream",
     "text": [
      "Number of english vocab : 40981\n",
      "Current new_vocab size : 286061 (영어 추가)\n"
     ]
    }
   ],
   "source": [
    "print(\"Number of english vocab : {}\".format(len(eng_lines[5:])))\n",
    "print(\"Current new_vocab size : {} (영어 추가)\".format(len(new_vocab)))"
   ]
  },
  {
   "cell_type": "code",
   "execution_count": 40,
   "metadata": {},
   "outputs": [],
   "source": [
    "f = open(CustomVocab_path, 'w')\n",
    "f.write(\"\".join(new_vocab))\n",
    "f.close()"
   ]
  },
  {
   "cell_type": "code",
   "execution_count": 41,
   "metadata": {},
   "outputs": [
    {
     "name": "stdout",
     "output_type": "stream",
     "text": [
      "## 붙은 것 :  98393\n",
      "## 안 붙은 것 :  187663\n"
     ]
    },
    {
     "data": {
      "text/plain": [
       "286056"
      ]
     },
     "execution_count": 41,
     "metadata": {},
     "output_type": "execute_result"
    }
   ],
   "source": [
    "# ##붙은것과 안붙은 것 갯수 비교\n",
    "f = open(CustomVocab_path, 'r')\n",
    "test = f.readlines()\n",
    "f.close()\n",
    "count = 0\n",
    "count2 = 0\n",
    "\n",
    "for i in test[5:]:\n",
    "    if i[:2] == '##': count += 1\n",
    "    else: count2 += 1\n",
    "print(\"## 붙은 것 : \", count)\n",
    "print(\"## 안 붙은 것 : \", count2)\n",
    "count+ count2"
   ]
  },
  {
   "cell_type": "code",
   "execution_count": 13,
   "metadata": {},
   "outputs": [
    {
     "name": "stdout",
     "output_type": "stream",
     "text": [
      "Total Mecab Vocab size :  750650\n",
      "Number of Hangul vocab : 282642\n",
      "Current new_vocab size : 282642 (한글단어 추가)\n",
      "Total English Vocab size :  47874\n",
      "Number of english vocab : 47869\n",
      "Current new_vocab size : 330511 (영어 추가)\n",
      "Number of seperater : 5\n",
      "Current new_vocab size : 330516 (Seperater 추가)\n",
      "Number of type of number : 20\n",
      "Current new_vocab size : 330536 (숫자 추가)\n",
      "Number of Special Characters : 110\n",
      "Current new_vocab size : 330646 (숫자 추가)\n",
      "## 붙은 것 :  137899\n",
      "## 안 붙은 것 :  192742\n"
     ]
    }
   ],
   "source": [
    "! python createCustomVocab.py rsc/my_conf/FinalMecabVocab.txt rsc/my_conf/ices_eng_vocab_1000.txt  --custom=customvocab.txt"
   ]
  },
  {
   "cell_type": "code",
   "execution_count": null,
   "metadata": {},
   "outputs": [],
   "source": []
  }
 ],
 "metadata": {
  "kernelspec": {
   "display_name": "python3_projectAI",
   "language": "python",
   "name": "projectai"
  },
  "language_info": {
   "codemirror_mode": {
    "name": "ipython",
    "version": 3
   },
   "file_extension": ".py",
   "mimetype": "text/x-python",
   "name": "python",
   "nbconvert_exporter": "python",
   "pygments_lexer": "ipython3",
   "version": "3.6.9"
  }
 },
 "nbformat": 4,
 "nbformat_minor": 4
}
