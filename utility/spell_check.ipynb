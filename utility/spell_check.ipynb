{
 "cells": [
  {
   "cell_type": "markdown",
   "metadata": {},
   "source": [
    "# 맞춤법 검사"
   ]
  },
  {
   "cell_type": "markdown",
   "metadata": {},
   "source": [
    "### hanspell 모듈의 특징\n",
    "* 문장 마지막 띄어쓰기, 줄바꿈 문자 제거\n",
    "* 처음 시작 띄어쓰기는 유지\n",
    "* 띄어쓰기나, \\n만 있을경우 제거"
   ]
  },
  {
   "cell_type": "code",
   "execution_count": 49,
   "metadata": {},
   "outputs": [],
   "source": [
    "from hanspell import spell_checker\n",
    "\n",
    "# # TEST\n",
    "# try:\n",
    "#     result = spell_checker.check('\\t')\n",
    "# except Exception as e:\n",
    "#     print(e)\n",
    "\n",
    "# print(result.as_dict())"
   ]
  },
  {
   "cell_type": "markdown",
   "metadata": {},
   "source": [
    "### 1. 맞춤법 검사 파일 경로와 저장 파일 경로 입력"
   ]
  },
  {
   "cell_type": "code",
   "execution_count": 50,
   "metadata": {},
   "outputs": [],
   "source": [
    "# PATH\n",
    "# INPUT\n",
    "SPELL_UNCHECKED_FILE_PATH = \"test.txt\"#\"rsc/training_data/final_text.txt\"\n",
    "\n",
    "# OUTPUT\n",
    "SPELL_CHECKED_FILE_PATH = \"result_test.txt\"#\"rsc/training_data/final_text_Kospell_check.txt\""
   ]
  },
  {
   "cell_type": "markdown",
   "metadata": {},
   "source": [
    "### 2. Data 전처리\n",
    "* 500이내의 문자열만 맞춤법 검사 가능\n",
    "* 500이상 띄어쓰기가 없는 Data 거르기 -> fuckData 리스트에 인덱스 저장"
   ]
  },
  {
   "cell_type": "code",
   "execution_count": 57,
   "metadata": {},
   "outputs": [
    {
     "name": "stdout",
     "output_type": "stream",
     "text": [
      "Processing line num :  0\n",
      "Processing line num :  10\n",
      "Finish preprocess for spelling check (Cut string under 500 length)\n",
      "Total preprocessed list length : 11\n"
     ]
    }
   ],
   "source": [
    "## 500길이 이하의 문자열로 자르고 500개 이상의 띄어쓰기가 있으면 뺀다.\n",
    "\n",
    "unchecked_file = open(SPELL_UNCHECKED_FILE_PATH, 'r')\n",
    "# checked_file = open(SPELL_CHECKED_FILE_PATH, 'w')\n",
    "\n",
    "lines = unchecked_file.readlines()\n",
    "\n",
    "temp_str = \"\"\n",
    "ready_list = []\n",
    "\n",
    "# 띄어쓰기가 심각하게 되어있지않는 데이터(500자 이상)\n",
    "max_iter=1000\n",
    "debug = 0\n",
    "flag = True\n",
    "fuckData = []\n",
    "\n",
    "# 맞춤범 검사를 하기 위해 길이가 500이하 문자열로 자르기\n",
    "for i, line in enumerate(lines):\n",
    "    if i % 10 == 0: print(\"Processing line num : \", i)\n",
    "    while(len(line) > 500):\n",
    "        debug += 1\n",
    "        if debug > max_iter:\n",
    "            print(\"Funking Data!! please check index : {}\".format(i))\n",
    "            print(\"Didn't insert that data (index : {})\".format(i))\n",
    "            fuckData.append(i)\n",
    "            break\n",
    "            \n",
    "        end = line[:500].rfind(\" \")\n",
    "        temp_str = line[:end]\n",
    "        ready_list.append(temp_str)\n",
    "        line = line[end:]\n",
    "        \n",
    "    ready_list.append(line)\n",
    "    debug = 0\n",
    "\n",
    "print(\"Finish preprocess for spelling check (Cut string under 500 length)\")\n",
    "print(\"Total preprocessed list length : {}\".format(len(ready_list)))\n",
    "\n",
    "unchecked_file.close()"
   ]
  },
  {
   "cell_type": "markdown",
   "metadata": {},
   "source": [
    "#### 걸러진 데이터 확인, 원본 데이터와 비교"
   ]
  },
  {
   "cell_type": "code",
   "execution_count": null,
   "metadata": {},
   "outputs": [],
   "source": [
    "## 걸러진 fuckData 확인\n",
    "# fuckData = ((2, 6608), (3, 10540), (3, 16832), (5, 1650), (5, 9128), (5, 12052), (5, 14792), (5, 1650)) // only_paper_v2 결과\n",
    "\n",
    "for j, (i, n) in enumerate(fuckData):\n",
    "    print(\"############ Fuck Data {} ############\\n\".format(j+1))\n",
    "    print(paper['PAPER_FULL_TXT'].tolist()[9000*(i-1) + (n//2)])\n",
    "    print('\\n\\n\\n')"
   ]
  },
  {
   "cell_type": "code",
   "execution_count": null,
   "metadata": {},
   "outputs": [],
   "source": [
    "## 원본 데이터 확인\n",
    "\n",
    "raw_paper = pd.read_csv(\"../Dataset/Datacon/paper.csv\")\n",
    "for j, (i, n) in enumerate(fuckData):\n",
    "    print(\"############ Fuck Data {} ############\\n\".format(j+1))\n",
    "    print(raw_paper['PAPER_FULL_TXT'].tolist()[9000*(i-1) + (n//2)])\n",
    "    print('\\n\\n\\n')"
   ]
  },
  {
   "cell_type": "code",
   "execution_count": null,
   "metadata": {},
   "outputs": [],
   "source": [
    "### 3. 맞춤법 검사진행\n",
    "* error 검사 및 * hanspell 모듈이 검사할 수 없는 단어 "
   ]
  },
  {
   "cell_type": "code",
   "execution_count": 58,
   "metadata": {},
   "outputs": [
    {
     "name": "stdout",
     "output_type": "stream",
     "text": [
      "processing index num : 10, processing time : 0.018\n",
      "There is no error\n",
      "Continue file writing\n",
      "Complete task : create spell checked text file : result_test.txt\n"
     ]
    }
   ],
   "source": [
    "# 맞춤법 검사 진행\n",
    "# 맞춤법 검사 false, 오류가 발생할 경우 검사되지 않은 문자열을 저장(error Message 출력)\n",
    "\n",
    "spellchecked_li = [] # 검사된 문자열을 담는 리스트\n",
    "error = False\n",
    "error_index = []\n",
    "\n",
    "for i, line in enumerate(ready_list):\n",
    "    try:\n",
    "        result = spell_checker.check(line)\n",
    "    except Exception as e:\n",
    "        error = True\n",
    "        error_index.append(i)\n",
    "        print(e)\n",
    "        print(\"Just insert no checked string\")\n",
    "        print(\"### Error Check This ###\\n\",line)\n",
    "        spellchecked_li.append(line)\n",
    "        continue\n",
    "    print(\"processing index num : {}, processing time : {}\".format(i, round(result.as_dict()['time'],3)), end='\\r',flush=True)\n",
    "    # drop error 발생시 stop\n",
    "    if result.as_dict()['result'] == False:\n",
    "        error = True\n",
    "        error_index.append(i)\n",
    "        print(\"DROP ERROR : error index is {}\".format(i))\n",
    "        print(\"Just insert no checked string\")\n",
    "        print(\"### Error Check This ###\\n\",line)\n",
    "        spellchecked_li.append(line)\n",
    "        continue\n",
    "    spellchecked_li.append(result.as_dict()[\"checked\"])\n",
    "    \n",
    "if error: print(\"\\nPlese check error\\nerror index numbers : {}\".format(\"\\t\".join(map(str, error_index))))\n",
    "else:\n",
    "    print(\"\\nThere is no error\\nContinue file writing\")\n",
    "    \n",
    "for i, data in enumerate(spellchecked_li):\n",
    "    if data == '':\n",
    "        spellchecked_li[i] = '\\n\\n'\n",
    "\n",
    "full_text = \"\".join(spellchecked_li)\n",
    "\n",
    "checked_file = open(SPELL_CHECKED_FILE_PATH, 'w')\n",
    "checked_file.write(full_text)\n",
    "checked_file.close()\n",
    "print(\"Complete task : create spell checked text file : {}\".format(SPELL_CHECKED_FILE_PATH))"
   ]
  },
  {
   "cell_type": "code",
   "execution_count": 11,
   "metadata": {},
   "outputs": [
    {
     "name": "stdout",
     "output_type": "stream",
     "text": [
      "23607\n",
      "2\n",
      "3\n"
     ]
    }
   ],
   "source": [
    "nbsp = 0\n",
    "ensp = 0\n",
    "emsp = 0\n",
    "\n",
    "for i in range(len(raw_paper)):\n",
    "    text = raw_paper['PAPER_FULL_TXT'].tolist()[i]\n",
    "    if \"&nbsp;\" in text: nbsp += 1\n",
    "    if \"&ensp;\" in text: ensp += 1\n",
    "    if \"&emsp;\" in text: emsp += 1\n",
    "        \n",
    "print(nbsp)\n",
    "print(ensp)\n",
    "print(emsp)"
   ]
  },
  {
   "cell_type": "code",
   "execution_count": 60,
   "metadata": {},
   "outputs": [
    {
     "name": "stdout",
     "output_type": "stream",
     "text": [
      "Processing line num :  0\n",
      "Finish preprocess for spelling check (Cut string under 500 length)\n",
      "Total preprocessed list length : 11\n",
      "processing index num : 10, processing time : 0.012\n",
      "There is no error\n",
      "Continue file writing\n",
      "Complete task : create spell checked text file : result.txt\n"
     ]
    }
   ],
   "source": [
    "! python spellingCheck.py test.txt --checked_file='result.txt'"
   ]
  },
  {
   "cell_type": "code",
   "execution_count": null,
   "metadata": {},
   "outputs": [],
   "source": []
  }
 ],
 "metadata": {
  "kernelspec": {
   "display_name": "python3_projectAI",
   "language": "python",
   "name": "projectai"
  },
  "language_info": {
   "codemirror_mode": {
    "name": "ipython",
    "version": 3
   },
   "file_extension": ".py",
   "mimetype": "text/x-python",
   "name": "python",
   "nbconvert_exporter": "python",
   "pygments_lexer": "ipython3",
   "version": "3.6.9"
  }
 },
 "nbformat": 4,
 "nbformat_minor": 4
}
