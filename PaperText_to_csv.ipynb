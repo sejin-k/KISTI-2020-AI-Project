{
 "cells": [
  {
   "cell_type": "code",
   "execution_count": 13,
   "metadata": {},
   "outputs": [
    {
     "name": "stdout",
     "output_type": "stream",
     "text": [
      "99\n",
      "QnA 데이터의 논문 개수 : 60\n"
     ]
    }
   ],
   "source": [
    "import pandas as pd\n",
    "import numpy as np\n",
    "# QnA dataset\n",
    "QnA_data_v2 = pd.read_csv(\"QnA_evaluate_dataset.csv\")\n",
    "\n",
    "# QnA데이터와 논문의 수(45000개)가 일치하는지 확인\n",
    "\n",
    "LIST_SEQs_duplicated = QnA_data_v2['논문제어번호']\n",
    "LIST_SEQs_duplicated = LIST_SEQs_duplicated.values\n",
    "print(len(LIST_SEQs_duplicated))\n",
    "LIST_SEQs = np.unique(LIST_SEQs_duplicated)\n",
    "LIST_SEQs = np.sort(LIST_SEQs)\n",
    "print('QnA 데이터의 논문 개수 : {}'.format(len(LIST_SEQs)))"
   ]
  },
  {
   "cell_type": "code",
   "execution_count": 14,
   "metadata": {
    "collapsed": true,
    "jupyter": {
     "outputs_hidden": true
    }
   },
   "outputs": [
    {
     "name": "stdout",
     "output_type": "stream",
     "text": [
      "               LIST_SEQ                                     PAPER_FULL_TXT\n",
      "0   JAKO201003949970484  <p class=\"pre-paper-name\">\\n수계소화설비용 경량벽 스테인리스 ...\n",
      "1   JAKO201301369228797  <p class=\"pre-paper-name\">\\nTTAB 용액에서 p-브로모페놀의...\n",
      "2   JAKO201332479513327  <p class=\"pre-paper-name\">\\n계산화학적 방법을 통한 β-D-g...\n",
      "3   JAKO201335057740614  <p class=\"pre-paper-name\">\\n반사 음장을 고려한 음향 확산 구...\n",
      "4   JAKO201402148670575  <p class=\"pre-paper-name\">\\nHPLC-ICP/MS에서 후 컬럼...\n",
      "5   JAKO201402755362697  <p class=\"pre-paper-name\">\\nERP시스템의 활용이 대학의 업무...\n",
      "6   JAKO201402755362725  <p class=\"pre-paper-name\">\\n대칭적 구조를 가진 주파수 고정 ...\n",
      "7   JAKO201402755672927  <p class=\"pre-paper-name\">\\n\"황제내경(黃帝內經)\"의 '음양(...\n",
      "8   JAKO201402755672944  <p class=\"pre-paper-name\">\\n단미 한약 복용중 발견한 Gilb...\n",
      "9   JAKO201405458145687  <p class=\"pre-paper-name\">\\n수중음향기법을 이용한 용담호의 어...\n",
      "10  JAKO201405458146731  <p class=\"pre-paper-name\">\\n퇴적층 배양에 따른 식물플랑크톤 ...\n",
      "11  JAKO201407651682797  <p class=\"pre-paper-name\">\\n방사효율과 방사방향 계수에 대한 ...\n",
      "12  JAKO201407651682802  <p class=\"pre-paper-name\">\\n차량 윈도우 리프트 음질 고급감 ...\n",
      "13  JAKO201408439035619  <p class=\"pre-paper-name\">\\n가감선방패독탕(加減仙防敗毒湯) 투...\n",
      "14  JAKO201409150679572  <p class=\"pre-paper-name\">\\n화재 시뮬레이션(FDS)을 이용한...\n",
      "15  JAKO201409150679586  <p class=\"pre-paper-name\">\\n등속공급 튜브연소로를 이용한 각 ...\n",
      "16  JAKO201409150679594  <p class=\"pre-paper-name\">\\n응급구조사 직업윤리에 대한 인식조...\n",
      "17  JAKO201410236202572  <p class=\"pre-paper-name\">\\n웃음치료가 구안와사환자의 안면마비...\n",
      "18  JAKO201411560021354  <p class=\"pre-paper-name\">\\n산가수분해한 유채대로부터 유리당의...\n",
      "19  JAKO201411560021512  <p class=\"pre-paper-name\">\\n당뇨병 치료제인 미티글리나이드 중...\n",
      "20  JAKO201413465493445  <p class=\"pre-paper-name\">\\n파킨슨병의 침구치료 동향에 대한 ...\n",
      "21  JAKO201413465493447  <p class=\"pre-paper-name\">\\n중완(中脘)에 신기구 뜸시술이 뇌...\n",
      "22  JAKO201414753675806  <p class=\"pre-paper-name\">\\n내장용 판재 및 루버의 연소발열특...\n",
      "23  JAKO201415642602405  <p class=\"pre-paper-name\">\\n원형 Hough 변환 및 후처리기...\n",
      "24  JAKO201416760764402  <p class=\"pre-paper-name\">\\n얼굴아토피 피부염환자 45명의 한...\n",
      "25  JAKO201416760764606  <p class=\"pre-paper-name\">\\nEyring-Halsey 모델의 ...\n",
      "26  JAKO201416760764621  <p class=\"pre-paper-name\">\\n초등 과학 영재 학생들의 과학 영...\n",
      "27  JAKO201417635760431  <p class=\"pre-paper-name\">\\n『동의보감(東醫寶鑑)』에 활용된 ...\n",
      "28  JAKO201418534782031  <p class=\"pre-paper-name\">\\n모멘트 변화와 객체 크기 비율을 ...\n",
      "29  JAKO201420947476221  <p class=\"pre-paper-name\">\\n대향류 메탄/공기 확산화염에서 복...\n",
      "30  JAKO201421153787929  <p class=\"pre-paper-name\">\\n생태독성평가를 위한 Soil Ex...\n",
      "31  JAKO201422354179720  <p class=\"pre-paper-name\">\\nPVC 바닥 마감재와 바닥 매트의...\n",
      "32  JAKO201422354179732  <p class=\"pre-paper-name\">\\n큰 반경의 원운동을 하는 점 음원...\n",
      "33  JAKO201425560113083  <p class=\"pre-paper-name\">\\n폐경기 여성의 혈관운동성 증상과 ...\n",
      "34  JAKO201429765168498  <p class=\"pre-paper-name\">\\n인화성액체를 촉진제로 사용한 방화...\n",
      "35  JAKO201432441779238  <p class=\"pre-paper-name\">\\n석유화학공장의 소화설비에 관한 연...\n",
      "36  JAKO201433150865296  <p class=\"pre-paper-name\">\\n토지 피복 세분류를 위한 경지 정...\n",
      "37  JAKO201435053629617  <p class=\"pre-paper-name\">\\n군부대 방음사격장의 음향특성 분석...\n",
      "38  JAKO201436351074915  <p class=\"pre-paper-name\">\\n신호 세기 변동에 강인한 WPS용...\n",
      "39  JAKO201504641501092  <p class=\"pre-paper-name\">\\n한국 성인의 이상지질혈증 유병률과...\n",
      "40  JAKO201506234293975  <p class=\"pre-paper-name\">\\n'자연을 통한 과학학습'을 위한 ...\n",
      "41  JAKO201506959397686  <p class=\"pre-paper-name\">\\n수조에서의 원통형 구조물 음향방사...\n",
      "42  JAKO201508449473787  <p class=\"pre-paper-name\">\\n공감모듈과 신뢰가 의료서비스 품질...\n",
      "43  JAKO201509139906817  <p class=\"pre-paper-name\">\\n공동주택 화재감지 및 소화성능개선...\n",
      "44  JAKO201514039404613  <p class=\"pre-paper-name\">\\nWAVE 통신 시스템을 위한 차량...\n",
      "45  JAKO201514039404622  <p class=\"pre-paper-name\">\\n128비트 경량 블록암호 LEA의...\n",
      "46  JAKO201514039404631  <p class=\"pre-paper-name\">\\n해상용 항로표지 충·방전조절기의 ...\n",
      "47  JAKO201514039404634  <p class=\"pre-paper-name\">\\n지정맥 인식을 위한 ROI 검출과...\n",
      "48  JAKO201518564558634  <p class=\"pre-paper-name\">\\n구강보건인력의 전문가불소도포 건강...\n",
      "49  JAKO201521839155754  <p class=\"pre-paper-name\">\\n체질처방 결정요인 확인을 위한 연...\n",
      "50  JAKO201521839155817  <p class=\"pre-paper-name\">\\n자폐증에 대한 진화적 관점\\n<b...\n",
      "51  JAKO201525339033882  <p class=\"pre-paper-name\">\\n이동형 치과 X선 발생장치의 공간...\n",
      "52  JAKO201525339033894  <p class=\"pre-paper-name\">\\n치석제거 환자의 치과 재방문 준수...\n",
      "53  JAKO201527358962186  <p class=\"pre-paper-name\">\\n일반 구조용 강재 적용 정정 및 ...\n",
      "54  JAKO201527358962196  <p class=\"pre-paper-name\">\\n광학적 연기밀도 측정을 위한 저가...\n",
      "55  JAKO201534853187850  <p class=\"pre-paper-name\">\\n치위생학 전공 석사과정 대학원생의...\n",
      "56  JAKO201534853187876  <p class=\"pre-paper-name\">\\n치과위생사의 감성리더십, 몰입도,...\n",
      "57  JAKO201606776009694  <p class=\"pre-paper-name\">\\n폭주근점 변화의 AC/A비 대체 ...\n",
      "58  JAKO201608259726610  <p class=\"pre-paper-name\">\\n정사각형 단면을 갖는 180&#x...\n",
      "59  JAKO201621650895416  <p class=\"pre-paper-name\">\\n내진 보강용 철근 사용 시 비용 ...\n"
     ]
    }
   ],
   "source": [
    "path = './Paper_text_dataset'\n",
    "\n",
    "data = []\n",
    "\n",
    "for LIST_SEQ in LIST_SEQs:\n",
    "    f = open(path + \"/{}.txt\".format(LIST_SEQ), 'r', encoding='utf-8')\n",
    "    p_text = f.read()\n",
    "    data.append([LIST_SEQ, p_text])\n",
    "    f.close()\n",
    "    \n",
    "df = pd.DataFrame(data, columns=['LIST_SEQ', 'PAPER_FULL_TXT'])\n",
    "print(df)\n",
    "\n",
    "# DataFrame을 csv파일로 만들기\n",
    "df.to_csv(\"paper.csv\", mode='w')\n",
    "\n",
    "# # 파일 확인\n",
    "# paper_data_v2 = pd.read_csv(\"paper.csv\")\n",
    "# paper_data_v2"
   ]
  },
  {
   "cell_type": "code",
   "execution_count": 17,
   "metadata": {},
   "outputs": [
    {
     "name": "stdout",
     "output_type": "stream",
     "text": [
      "QnA 데이터의 논문 개수 : 60\n",
      "Complete Creating paper.csv\n"
     ]
    }
   ],
   "source": [
    "! python paper_text_to_csv.py --input_Paper_path=Paper_text_dataset --input_QA_path=QnA_evaluate_dataset.csv"
   ]
  },
  {
   "cell_type": "code",
   "execution_count": null,
   "metadata": {},
   "outputs": [],
   "source": []
  }
 ],
 "metadata": {
  "kernelspec": {
   "display_name": "Python 3",
   "language": "python",
   "name": "python3"
  },
  "language_info": {
   "codemirror_mode": {
    "name": "ipython",
    "version": 3
   },
   "file_extension": ".py",
   "mimetype": "text/x-python",
   "name": "python",
   "nbconvert_exporter": "python",
   "pygments_lexer": "ipython3",
   "version": "3.6.9"
  }
 },
 "nbformat": 4,
 "nbformat_minor": 4
}
