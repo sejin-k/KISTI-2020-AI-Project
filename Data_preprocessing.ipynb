{
 "cells": [
  {
   "cell_type": "markdown",
   "metadata": {},
   "source": [
    "# Data Preprocessing\n",
    "### __과정__\n",
    "**csv dataset 불러오기 -> Preprocessing -> Pretraining Dataset 구축(합치기) -> Additional Preprocessing**<br>\n",
    "* __Preprocessing__\n",
    "    1. tag 제거 (3가지 유형)\n",
    "    2. 한개의 문단으로 이루어진 data를 문장으로 구분된 data로 만들기\n",
    "    3. 다중 띄어쓰기 제거\n",
    "* __Additional Preprocessing__\n",
    "    1. Null 값 제거\n",
    "    2. 영어, 숫자, 연산 기호만 남기기\n",
    "    3. OOM 방지를 위한 데이터 분할"
   ]
  },
  {
   "cell_type": "code",
   "execution_count": 1,
   "metadata": {},
   "outputs": [],
   "source": [
    "# DATA version\n",
    "VERSION = \"\"\n",
    "\n",
    "# PATH\n",
    "# INPUT PATH\n",
    "PAPER_PATH = '../Dataset/Datacon/paper.csv'\n",
    "KoSAT_PATH = '../Dataset/WebCrawling/수능/ICES_sooneung.csv'\n",
    "NEWS_PATH = '../Dataset/WebCrawling/news/ICES_News.csv'\n",
    "VOCA_DIC_PATH = \"\"\n",
    "\n",
    "# OTUPUT PATH\n",
    "FINAL_DATA_CSV_PATH = '../Dataset/FinalDataset_v{}.csv'.format(VERSION)\n",
    "FINAL_DATA_TXT_PATH = \"rsc/training_data/final_file/AllData_full_text_v{}.txt\".format(VERSION)\n",
    "FINAL_DATA_TXT_SETENCE_PATH = \"rsc/training_data/final_file/AllData_sentence_v{}.txt\".format(VERSION)\n",
    "DISTRIBUTED_FINAL_DATA_TXT_SETENCE_PATH = 'rsc/training_data/final_file/AllData_sentence_v{}_{}.txt'\n",
    "\n",
    "# version\n",
    "VERSION = \"4\""
   ]
  },
  {
   "cell_type": "code",
   "execution_count": 2,
   "metadata": {},
   "outputs": [],
   "source": [
    "import csv\n",
    "csv.field_size_limit(100000000)\n",
    "\n",
    "import pandas as pd\n",
    "import random"
   ]
  },
  {
   "cell_type": "code",
   "execution_count": 3,
   "metadata": {},
   "outputs": [],
   "source": [
    "## 뉴스 파일 -> xlsx파일이므로 csv파일로 다시 저장하여 load함\n",
    "# data_xls = pd.read_excel('../Dataset/WebCrawling/news/ICES_news.xlsx')\n",
    "# data_xls.to_csv('../Dataset/WebCrawling/news/ICES_News.csv', encoding='utf-8', index=False)\n",
    "## 단어사전 파일 -> xlsx파일이므로 csv파일로 다시 저장하여 load함\n",
    "# for i in file_path:\n",
    "#     data_xls = pd.read_excel('../Dataset/WebCrawling/dictionary/'+i)\n",
    "#     data_xls.to_csv('../Dataset/WebCrawling/dictionary/'+i[:-4]+'csv', encoding='utf-8', index=False)"
   ]
  },
  {
   "cell_type": "markdown",
   "metadata": {},
   "source": [
    "## 1. csv dataset 불러오기\n",
    "**논문, 수능, 뉴스, 단어사전 csv files**"
   ]
  },
  {
   "cell_type": "code",
   "execution_count": 4,
   "metadata": {},
   "outputs": [],
   "source": [
    "# 논문 dataset\n",
    "paper_data = pd.read_csv(PAPER_PATH)\n",
    "paper_data.drop(['Unnamed: 0'], axis='columns', inplace=True)\n",
    "# 수능 dataset\n",
    "koSAT = pd.read_csv(KoSAT_PATH)\n",
    "# 웹 크롤링 - 뉴스 dataset\n",
    "news = pd.read_csv(NEWS_PATH)\n",
    "# 웹 크롤링 - 단어사전 dataset\n",
    "import os\n",
    "file_path = [i for i in os.listdir('../Dataset/WebCrawling/dictionary') if i != '.ipynb_checkpoints' and 'xlsx' not in i]\n",
    "vocab_dic = pd.DataFrame()\n",
    "for i in file_path:\n",
    "    df4 = pd.read_csv('../Dataset/WebCrawling/dictionary/'+i[:-4]+'.csv')\n",
    "    vocab_dic =  pd.concat([vocab_dic, df4])"
   ]
  },
  {
   "cell_type": "code",
   "execution_count": 5,
   "metadata": {},
   "outputs": [
    {
     "name": "stdout",
     "output_type": "stream",
     "text": [
      "101199\n"
     ]
    }
   ],
   "source": [
    "nPaper = len(paper_data) # 45000\n",
    "nKoSATlen = len(koSAT) # 16\n",
    "nNews = len(news) # 1356\n",
    "nVocabDic = len(vocab_dic) # 54827\n",
    "total = nPaper + nKoSATlen + nNews + nVocabDic\n",
    "print(total)"
   ]
  },
  {
   "cell_type": "markdown",
   "metadata": {},
   "source": [
    "## 2. Preprocessing\n",
    "**전처리 방법**\n",
    "1. tag 제거\n",
    "2. 영어, 숫자, 연산 기호만 남기기\n",
    "3. 다중 띄어쓰기 제거"
   ]
  },
  {
   "cell_type": "code",
   "execution_count": 6,
   "metadata": {},
   "outputs": [],
   "source": [
    "import re\n",
    "\n",
    "def pre_processing(csv_file, key_name):\n",
    "    csv_file[key_name] = csv_file[key_name].astype(str)\n",
    "    # HTML tag 제거\n",
    "    # tag 제거1 => <p>\n",
    "    csv_file[key_name] = csv_file[key_name].map(lambda x: re.sub('(<([^>]+)>)', ' ',x.replace('\\n',' ')))\n",
    "    # tag 제거2 # => $nbps;\n",
    "    csv_file[key_name] = csv_file[key_name].map(lambda x: x.replace('&nbsp;',' '))\n",
    "    # tag 제거3 # => $ensp;\n",
    "    csv_file[key_name] = csv_file[key_name].map(lambda x: x.replace('&ensp;',' '))\n",
    "    # tag 제거4 # => $emsp;\n",
    "    csv_file[key_name] = csv_file[key_name].map(lambda x: x.replace('&emsp;',' '))\n",
    "    # tag 제거5 # => $amp;\n",
    "    csv_file[key_name] = csv_file[key_name].map(lambda x: x.replace('$amp;','&'))\n",
    "    # tag 제거6 # => $lt;\n",
    "    csv_file[key_name] = csv_file[key_name].map(lambda x: x.replace('$lt;','<'))\n",
    "    # tag 제거7 # => $gt;\n",
    "    csv_file[key_name] = csv_file[key_name].map(lambda x: x.replace('$gt;','>'))\n",
    "    # tag 제거8 # => $quot;\n",
    "    csv_file[key_name] = csv_file[key_name].map(lambda x: x.replace('$quot;','\\\"'))\n",
    "    # tag 제거9 # => $rsps;\n",
    "    csv_file[key_name] = csv_file[key_name].map(lambda x: re.sub(r'&(/?)(.+?);','',x))\n",
    "    # tag 제거10 => #$1{\\\\beta}$\n",
    "    csv_file[key_name] = csv_file[key_name].map(lambda x: re.sub(r'\\$[^)]*\\$', '', x))\n",
    "    \n",
    "    # 한자 제거 \n",
    "    csv_file[key_name] = csv_file[key_name].map(lambda x: re.sub(r'[一-龥]','',x))\n",
    "    # 영어, 숫자, 연산 기호만 남기기\n",
    "    csv_file[key_name] = csv_file[key_name].map(lambda x: re.sub('[^a-zA-Z0-9ㄱ-ㅣ가-힣+-/*÷=×±∓∘∙∩∪≅∀√%∄∃θπσ≠<>≤≥≡∼≈≢∝≪≫∈∋∉⊂⊃⊆⊇⋈∑∫∏∞x().,%#{}]',' ',x))\n",
    "#     다중 띄어쓰기 제거\n",
    "    csv_file[key_name] = csv_file[key_name].map(lambda x: re.sub(' +',' ', x))\n",
    "    \n",
    "    return csv_file"
   ]
  },
  {
   "cell_type": "code",
   "execution_count": 7,
   "metadata": {},
   "outputs": [],
   "source": [
    "# 각 데이터 전처리 진행\n",
    "paper_data = pre_processing(paper_data, 'PAPER_FULL_TXT')\n",
    "koSAT = pre_processing(koSAT, 'text')\n",
    "news = pre_processing(news, 'content')\n",
    "vocab_dic = pre_processing(vocab_dic, 'content')"
   ]
  },
  {
   "cell_type": "code",
   "execution_count": 8,
   "metadata": {},
   "outputs": [],
   "source": [
    "## 전처리된 CSV FILE 저장이 필요할 경우 진행 \n",
    "## 논문데이터만 활용하기 위한 csv\n",
    "paper_data.loc[:,['PAPER_FULL_TXT']].to_csv('only_paper_data/preprocessed_paper_v{}.csv'.format(VERSION),mode='w',index=False)"
   ]
  },
  {
   "cell_type": "markdown",
   "metadata": {},
   "source": [
    "## 3. Pretraining Dataset 구축\n",
    "**Dataset column 이름 통일**"
   ]
  },
  {
   "cell_type": "code",
   "execution_count": 9,
   "metadata": {},
   "outputs": [],
   "source": [
    "# dataset 합치기 위해 columns 이름 통일('PAPER_FULL_TXT')\n",
    "koSAT = koSAT.rename(columns={'text': 'PAPER_FULL_TXT'})\n",
    "news = news.rename(columns={'content': 'PAPER_FULL_TXT'})\n",
    "vocab_dic = vocab_dic.rename(columns={'content': 'PAPER_FULL_TXT'})\n",
    "# 합친후 인덱스 재설정 및 나쁜 데이터 제거(이후 전처리 과정중 발견)\n",
    "vocab_dic = vocab_dic.reset_index(drop=True)\n",
    "vocab_dic = vocab_dic.drop(vocab_dic.index[[1705, 9245, 10743, 11060, 11800, 20137, 42020]])"
   ]
  },
  {
   "cell_type": "markdown",
   "metadata": {},
   "source": [
    "**csv File 생성**"
   ]
  },
  {
   "cell_type": "code",
   "execution_count": 10,
   "metadata": {},
   "outputs": [],
   "source": [
    "# dataset 합치기\n",
    "paper_data.loc[:,['PAPER_FULL_TXT']].to_csv(FINAL_DATA_CSV_PATH,mode='w',index=False)\n",
    "koSAT.loc[:,['PAPER_FULL_TXT']].to_csv(FINAL_DATA_CSV_PATH,mode='a',index=False)\n",
    "news.loc[:,['PAPER_FULL_TXT']].to_csv(FINAL_DATA_CSV_PATH,mode='a',index=False)\n",
    "vocab_dic.loc[:,['PAPER_FULL_TXT']].to_csv(FINAL_DATA_CSV_PATH,mode='a',index=False)"
   ]
  },
  {
   "cell_type": "code",
   "execution_count": 11,
   "metadata": {},
   "outputs": [
    {
     "data": {
      "text/html": [
       "<div>\n",
       "<style scoped>\n",
       "    .dataframe tbody tr th:only-of-type {\n",
       "        vertical-align: middle;\n",
       "    }\n",
       "\n",
       "    .dataframe tbody tr th {\n",
       "        vertical-align: top;\n",
       "    }\n",
       "\n",
       "    .dataframe thead th {\n",
       "        text-align: right;\n",
       "    }\n",
       "</style>\n",
       "<table border=\"1\" class=\"dataframe\">\n",
       "  <thead>\n",
       "    <tr style=\"text-align: right;\">\n",
       "      <th></th>\n",
       "      <th>PAPER_FULL_TXT</th>\n",
       "    </tr>\n",
       "  </thead>\n",
       "  <tbody>\n",
       "    <tr>\n",
       "      <th>0</th>\n",
       "      <td>구획화재에서 환기조건의 변화가 화재특성에 미치는 영향 (Part II 다차원 화재...</td>\n",
       "    </tr>\n",
       "    <tr>\n",
       "      <th>1</th>\n",
       "      <td>방화셔터를 이용한 아트리움 제연과 피난안전에 관한 수치해석 연구 A Numeric...</td>\n",
       "    </tr>\n",
       "    <tr>\n",
       "      <th>2</th>\n",
       "      <td>이중격실 Pool 화재에 대한 FDS 검증분석 Validation of FDS f...</td>\n",
       "    </tr>\n",
       "    <tr>\n",
       "      <th>3</th>\n",
       "      <td>실규모 구획화재의 연소가스에 대한 혼합분율 분석 Mixture Fraction A...</td>\n",
       "    </tr>\n",
       "    <tr>\n",
       "      <th>4</th>\n",
       "      <td>C 60 (CH 2 ) n OH (n=0 2)와 C 60 (OH) 2 의 분자구조...</td>\n",
       "    </tr>\n",
       "    <tr>\n",
       "      <th>...</th>\n",
       "      <td>...</td>\n",
       "    </tr>\n",
       "    <tr>\n",
       "      <th>101190</th>\n",
       "      <td>사용분야 기타(Optical Holography, Infrared Examinati...</td>\n",
       "    </tr>\n",
       "    <tr>\n",
       "      <th>101191</th>\n",
       "      <td>수상 노벨 물리학상(1952년) 목차노벨상 수상자 필릭스 블로흐(Felix Bloc...</td>\n",
       "    </tr>\n",
       "    <tr>\n",
       "      <th>101192</th>\n",
       "      <td>학명 Pseudohiatula esculenta (Wulf.ex Fr.)Sing. ...</td>\n",
       "    </tr>\n",
       "    <tr>\n",
       "      <th>101193</th>\n",
       "      <td>두 장 이상의 천에 같은 모양의 바느질 표시를 할 때 사용하는 방법. 바느질할 선을...</td>\n",
       "    </tr>\n",
       "    <tr>\n",
       "      <th>101194</th>\n",
       "      <td>초전도 물질의 온도와 비열관계를 표시하는 곡선에 나타나는 형의 이상현상. 해설 어떤...</td>\n",
       "    </tr>\n",
       "  </tbody>\n",
       "</table>\n",
       "<p>101195 rows × 1 columns</p>\n",
       "</div>"
      ],
      "text/plain": [
       "                                           PAPER_FULL_TXT\n",
       "0        구획화재에서 환기조건의 변화가 화재특성에 미치는 영향 (Part II 다차원 화재...\n",
       "1        방화셔터를 이용한 아트리움 제연과 피난안전에 관한 수치해석 연구 A Numeric...\n",
       "2        이중격실 Pool 화재에 대한 FDS 검증분석 Validation of FDS f...\n",
       "3        실규모 구획화재의 연소가스에 대한 혼합분율 분석 Mixture Fraction A...\n",
       "4        C 60 (CH 2 ) n OH (n=0 2)와 C 60 (OH) 2 의 분자구조...\n",
       "...                                                   ...\n",
       "101190  사용분야 기타(Optical Holography, Infrared Examinati...\n",
       "101191  수상 노벨 물리학상(1952년) 목차노벨상 수상자 필릭스 블로흐(Felix Bloc...\n",
       "101192  학명 Pseudohiatula esculenta (Wulf.ex Fr.)Sing. ...\n",
       "101193  두 장 이상의 천에 같은 모양의 바느질 표시를 할 때 사용하는 방법. 바느질할 선을...\n",
       "101194  초전도 물질의 온도와 비열관계를 표시하는 곡선에 나타나는 형의 이상현상. 해설 어떤...\n",
       "\n",
       "[101195 rows x 1 columns]"
      ]
     },
     "execution_count": 11,
     "metadata": {},
     "output_type": "execute_result"
    }
   ],
   "source": [
    "final = pd.read_csv(FINAL_DATA_CSV_PATH)\n",
    "final"
   ]
  },
  {
   "cell_type": "code",
   "execution_count": 12,
   "metadata": {},
   "outputs": [
    {
     "data": {
      "text/html": [
       "<div>\n",
       "<style scoped>\n",
       "    .dataframe tbody tr th:only-of-type {\n",
       "        vertical-align: middle;\n",
       "    }\n",
       "\n",
       "    .dataframe tbody tr th {\n",
       "        vertical-align: top;\n",
       "    }\n",
       "\n",
       "    .dataframe thead th {\n",
       "        text-align: right;\n",
       "    }\n",
       "</style>\n",
       "<table border=\"1\" class=\"dataframe\">\n",
       "  <thead>\n",
       "    <tr style=\"text-align: right;\">\n",
       "      <th></th>\n",
       "      <th>PAPER_FULL_TXT</th>\n",
       "    </tr>\n",
       "  </thead>\n",
       "  <tbody>\n",
       "    <tr>\n",
       "      <th>0</th>\n",
       "      <td>구획화재에서 환기조건의 변화가 화재특성에 미치는 영향 (Part II 다차원 화재...</td>\n",
       "    </tr>\n",
       "    <tr>\n",
       "      <th>1</th>\n",
       "      <td>방화셔터를 이용한 아트리움 제연과 피난안전에 관한 수치해석 연구 A Numeric...</td>\n",
       "    </tr>\n",
       "    <tr>\n",
       "      <th>2</th>\n",
       "      <td>이중격실 Pool 화재에 대한 FDS 검증분석 Validation of FDS f...</td>\n",
       "    </tr>\n",
       "    <tr>\n",
       "      <th>3</th>\n",
       "      <td>실규모 구획화재의 연소가스에 대한 혼합분율 분석 Mixture Fraction A...</td>\n",
       "    </tr>\n",
       "    <tr>\n",
       "      <th>4</th>\n",
       "      <td>C 60 (CH 2 ) n OH (n=0 2)와 C 60 (OH) 2 의 분자구조...</td>\n",
       "    </tr>\n",
       "    <tr>\n",
       "      <th>...</th>\n",
       "      <td>...</td>\n",
       "    </tr>\n",
       "    <tr>\n",
       "      <th>44995</th>\n",
       "      <td>공공기관 행정정보시스템 관련 단위과제 및 보존기간 책정 현황분석 Current S...</td>\n",
       "    </tr>\n",
       "    <tr>\n",
       "      <th>44996</th>\n",
       "      <td>드론기반 도심지 디지털트윈 3차원 모형 구축에 관한 연구 A Study on 3D...</td>\n",
       "    </tr>\n",
       "    <tr>\n",
       "      <th>44997</th>\n",
       "      <td>공공기관 기록관리 평가제도 개선 방안 자체평가제도 도입을 중심으로 Improvem...</td>\n",
       "    </tr>\n",
       "    <tr>\n",
       "      <th>44998</th>\n",
       "      <td>북한의 일상생활과 문화 아카이빙 Cultural Archiving of Every...</td>\n",
       "    </tr>\n",
       "    <tr>\n",
       "      <th>44999</th>\n",
       "      <td>근전계 RCS 측정 오차 요인 및 불확도 분석 An Analysis of Erro...</td>\n",
       "    </tr>\n",
       "  </tbody>\n",
       "</table>\n",
       "<p>45000 rows × 1 columns</p>\n",
       "</div>"
      ],
      "text/plain": [
       "                                          PAPER_FULL_TXT\n",
       "0       구획화재에서 환기조건의 변화가 화재특성에 미치는 영향 (Part II 다차원 화재...\n",
       "1       방화셔터를 이용한 아트리움 제연과 피난안전에 관한 수치해석 연구 A Numeric...\n",
       "2       이중격실 Pool 화재에 대한 FDS 검증분석 Validation of FDS f...\n",
       "3       실규모 구획화재의 연소가스에 대한 혼합분율 분석 Mixture Fraction A...\n",
       "4       C 60 (CH 2 ) n OH (n=0 2)와 C 60 (OH) 2 의 분자구조...\n",
       "...                                                  ...\n",
       "44995   공공기관 행정정보시스템 관련 단위과제 및 보존기간 책정 현황분석 Current S...\n",
       "44996   드론기반 도심지 디지털트윈 3차원 모형 구축에 관한 연구 A Study on 3D...\n",
       "44997   공공기관 기록관리 평가제도 개선 방안 자체평가제도 도입을 중심으로 Improvem...\n",
       "44998   북한의 일상생활과 문화 아카이빙 Cultural Archiving of Every...\n",
       "44999   근전계 RCS 측정 오차 요인 및 불확도 분석 An Analysis of Erro...\n",
       "\n",
       "[45000 rows x 1 columns]"
      ]
     },
     "execution_count": 12,
     "metadata": {},
     "output_type": "execute_result"
    }
   ],
   "source": [
    "## 논문 데이터만 이용하기위함\n",
    "final = pd.read_csv('only_paper_data/preprocessed_paper_v{}.csv'.format(VERSION))\n",
    "final"
   ]
  },
  {
   "cell_type": "markdown",
   "metadata": {},
   "source": [
    "## 4. Aditional Preprocessing\n",
    "**Null 값 제거**"
   ]
  },
  {
   "cell_type": "code",
   "execution_count": 13,
   "metadata": {},
   "outputs": [
    {
     "name": "stdout",
     "output_type": "stream",
     "text": [
      "45000\n",
      "                                          PAPER_FULL_TXT\n",
      "0       구획화재에서 환기조건의 변화가 화재특성에 미치는 영향 (Part II 다차원 화재...\n",
      "1       방화셔터를 이용한 아트리움 제연과 피난안전에 관한 수치해석 연구 A Numeric...\n",
      "2       이중격실 Pool 화재에 대한 FDS 검증분석 Validation of FDS f...\n",
      "3       실규모 구획화재의 연소가스에 대한 혼합분율 분석 Mixture Fraction A...\n",
      "4       C 60 (CH 2 ) n OH (n=0 2)와 C 60 (OH) 2 의 분자구조...\n",
      "...                                                  ...\n",
      "44995   공공기관 행정정보시스템 관련 단위과제 및 보존기간 책정 현황분석 Current S...\n",
      "44996   드론기반 도심지 디지털트윈 3차원 모형 구축에 관한 연구 A Study on 3D...\n",
      "44997   공공기관 기록관리 평가제도 개선 방안 자체평가제도 도입을 중심으로 Improvem...\n",
      "44998   북한의 일상생활과 문화 아카이빙 Cultural Archiving of Every...\n",
      "44999   근전계 RCS 측정 오차 요인 및 불확도 분석 An Analysis of Erro...\n",
      "\n",
      "[45000 rows x 1 columns]\n"
     ]
    }
   ],
   "source": [
    "# NaN 값 제거, index 재설정 후 저장\n",
    "final = final[~final['PAPER_FULL_TXT'].isnull()]\n",
    "final = final.reset_index(drop=True)\n",
    "# final.loc[:,['PAPER_FULL_TXT']].to_csv(FINAL_DATA_CSV_PATH,mode='w',index=False)\n",
    "\n",
    "# data shuffle\n",
    "data = final['PAPER_FULL_TXT'].to_list()\n",
    "random.shuffle(data)\n",
    "print(len(data))\n",
    "print(final)"
   ]
  },
  {
   "cell_type": "markdown",
   "metadata": {},
   "source": [
    "**txt file 생성**<br>\n",
    "pretraining에 필요한 vocab 사전 만들기 위한 text file"
   ]
  },
  {
   "cell_type": "code",
   "execution_count": 14,
   "metadata": {},
   "outputs": [],
   "source": [
    "# 논문데이터만 활용하기 위한 변수 변경\n",
    "FINAL_DATA_TXT_PATH = \"only_paper_data/paper_full_text_v{}.txt\".format(VERSION)\n",
    "FINAL_DATA_TXT_SETENCE_PATH = \"only_paper_data/paper_full_sentence_v{}.txt\".format(VERSION)\n",
    "DISTRIBUTED_FINAL_DATA_TXT_SETENCE_PATH = 'only_paper_data/paper_sentence_v{}_{}.txt'"
   ]
  },
  {
   "cell_type": "code",
   "execution_count": 15,
   "metadata": {},
   "outputs": [
    {
     "name": "stdout",
     "output_type": "stream",
     "text": [
      "Create complete : only_paper_data/paper_full_text_v4.txt\n"
     ]
    }
   ],
   "source": [
    "# index별로 \\n로 구분\n",
    "f = open(FINAL_DATA_TXT_PATH, 'w')\n",
    "# PC 성능이 좋을 경우\n",
    "for i in range(len(final)):\n",
    "    f.write(final.loc[i].values[0].strip()+'\\n')\n",
    "    f.write('\\n')\n",
    "# # PC 성능이 좋지않아 나누어서\n",
    "# data_cut = 27\n",
    "# max_len = len(final)//data_cut\n",
    "# for i in range(data_cut):\n",
    "#     for j in range(max_len):\n",
    "#         f.write(data.loc[(i*max_len) + j].values[0] + '\\n')\n",
    "\n",
    "f.close()\n",
    "print(\"Create complete : {}\".format(FINAL_DATA_TXT_PATH))"
   ]
  },
  {
   "cell_type": "code",
   "execution_count": 16,
   "metadata": {
    "collapsed": true,
    "jupyter": {
     "outputs_hidden": true
    }
   },
   "outputs": [
    {
     "name": "stdout",
     "output_type": "stream",
     "text": [
      "구획화재에서 환기조건의 변화가 화재특성에 미치는 영향 (Part II 다차원 화재거동) Effects of Ventilation Condition on the Fire Characteristics in Compartment Fires (Part II Multi-dimensional Fire Dynamics) 김종현 고권현 박충화 황철홍 초록 실규모 ISO 9705 표준 화재실에서 환기조건 변화에 따른 다차원 화재거동에 관한 수치해석적 연구가 수행되었다. 선행된 실험과 동일한 조건에 대하여 FDS(Fire Dynamic Simulator)가 사용되었다. 과환기화재 및 환기부족화재의 발생을 위하여 연료 유량과 출입구의 폭이 변화되었다. 주요 결과로서, 환기부족화재의 내부 유동패턴은 과환기화재와 비교할 때 반대방향을 갖으며, 그 결과 다량의 고온 생성물이 구획내부에서 재순환되는 매우 중요한 특징을 확인하였다. 환기조건에 따른 유동패턴의 변화는 구획 내부에서 고온 생성물의 체류시간을 크게 변화시키며, CO 및 그을음의 복잡한 생성과정에 큰 영향을 미칠 수 있다. 환기부족화재는 구획 내부의 열 및 유동구조 뿐만 아니라 화학종의 분포에 관하여 매우 복잡한 3차원 구조를 생성하였다. 특히, 구획 내부의 측면에서 추가적인 반응은 유동패턴 및 CO 생성에 매우 큰 영향을 주고 있다. 복잡한 CO의 분포는 3차원 산소 농도의 분포 및 유동 패턴을 통해 체계적으로 분석되었다. 위 결과로 부터 고온 상층부에서 측정된 국부 화학종 농도는 구획 내부의 화재특성을 규명하는데 많은 한계가 있음을 확인할 수 있었다. Multi-dimensional fire dynamics were studied numerically with the change in ventilation conditions in a full-scale ISO 9705 room. Fire Dynamic Simulator (FDS) was used for the identical conditions conducted in previous experiments. Flow rate and doorway width were changed to create over-ventilated fire (OVF) and under-ventilated fire (UVF). From the numerical simulation, it was found that the internal flow pattern rotated in the opposite direction for the UVF relative to the OVF so that a portion of products recirculated to the inside of compartment. Significant change in flow pattern with ventilation conditions may affect changes in the complex process of CO and soot formation inside the compartment due to increase in the residence time of high-temperature products. The fire behavior in the UVF created complex 3D characteristics of species distribution as well as thermal and flow structures. In particular, additional burning near the side wall inside the compartment significantly affected the flow pattern and CO production. The distribution of CO inside the compartment was explained with 3D distribution and flow patterns. It was observed that gas sampling at local positions in the upper layer were insufficient to completely characterize the internal structure of the compartment fire. 핵심 어휘 Compartment fire FDS (Fire Dynamic Simulator) Ventilation condition Fire dynamics CO(Carbon monoxide) 본문 1. 서 론 구획화재에서 환기조건의 변화는 화재의 전반적 특 성인 연소효율, 총괄당량비뿐만 아니라 고온 상층부의 온도 및 연소생성물의 농도에 큰 영향을 준다. 특히 가 연연료에 비해 산소가 부족한 환기부족화재(under- ventilated fire)는 과환기화재(over-ventilated fire)에 비 해 더욱 복잡하고 불규칙한 화재거동을 보이게 된다. 또한 인체에 치명적인 일산화탄소(CO)를 포함하여 미 연탄화수소(THC total hydrocarbon carbon), 그을음 (soot) 등을 다량으로 발생시키기 때문에 심각한 인명 피해를 초래한다.1,2) 구획화재에서 CO 생성에 관한 대부분의 연구는 고 온 상층부의 화재특성을 모사하기 위하여 연료 및 공 기의 양을 제어할 수 있는 배기후드(exhaust hood)에서 주로 수행되었다.3) Pittz4) 는 다양한 실험결과를 바탕으 로 총괄당량비(global equivalence ratio)를 이용하여 환 기조건에 따른 CO 농도의 예측을 시도하였다. 그 결 과 제한된 조건에서 CO의 발생량은 총괄당량비와 고 온 상층부의 온도를 이용한 상관관계를 통해 예측될 수 있었다.5) 그러나 기존의 배기후드 실험에서와는 달 리 구획화재에서는 상층부의 온도와 생성물의 농도분 포가 균일하지 않으며, 벽면에서의 열적 피드백(thermal feedback)으로 인하여 내부의 온도는 배기후드 실험에 서의 결과와 큰 차이를 보였다.6) 그 결과 구획화재에 서는 총괄당량비를 통해 예측된 값보다 많은 양의 CO 가 발생되었으며, 구획화재와 배기후드에서의 유동특 성과 온도의 차이는 결과적으로 CO 발생량의 큰 차이 를 발생시킬 것으로 예측되었다.7) 특히 환기부족화재 는 고온 상층부와 저온 하층부의 구분이 명확하지 않 을 정도로 유동구조가 매우 복잡하며, 이는 연료와 공 기의 혼합, 온도분포의 급격한 변화를 초래하며, 결과 적으로 CO 생성특성에 큰 영향을 줄 수 있다. 최근에는 센서 및 레이저 계측을 이용한 다양한 실 험기법의 발전으로 건물 내부의 발생열량, 온도, 농도 및 속도장에 대한 측정이 가능하다. 그러나 실제 규모 의 화재실험에서는 비용 및 측정의 어려움으로 인하여 제한된 국부위치나 특정 단면에서 낮은 해상도의 계측 만이 이루어지고 있다.8) 결과적으로 실험적 연구만을 통해서 복잡한 3차원 화재거동 및 열유동 특성을 갖는 환기부족화재를 정확히 이해하는데 한계가 있다. 화재현상을 수치적으로 모사하기 위한 전산해석기법 은 크게 존(zone) 모델과 필드(field) 모델로 구분될 수 있다. 존 모델에서는 건물 내부의 공간을 상부의 고온 연기층과 하부의 차가운 공기층으로 구분한다. 이때 각 영역의 경계면을 지나는 열 및 질량유속에 의한 상호 관련성을 고려하여 균일한 물성치를 갖도록 가정된다. 최근 보다 현실적인 물리적 접근방법이 구현된 존 모 델의 경우에 예측 정확도는 부분적으로 개선되었다. 그 러나 존 모델에 적용된 물리적인 가정은 존 모델이 고 온 연기층 및 차가운 공기층의 구분이 명확하지 않은 환기부족화재를 해석하기에는 명확한 한계가 있음을 의미한다.9) 화재현상을 해석하는 필드 모델 중 NIST 의 BFRL(Building and Fire Research Lab.)에서 개발된 FDS(Fire Dynamic Simulator)10) 는 3차원의 공간에서 화 염의 순간적인 거동 해석이 가능한 LES(large eddy simulation)기법을 적용하고 있다. 또한 다양한 조건의 화재실험에 대한 검증을 통해 화재현상을 이해하는데 유용한 도구로 널리 알려져 있다. 이러한 배경 하에 본 연구에서는 환기조건 변화에 따른 건물 내부의 복잡한 유동 및 화재거동에 대한 이 해를 위하여, FDS를 이용한 수치계산을 수행하였다. 이를 통해 환기조건에 따른 다차원 유동특성, 온도 및 화학종 분포에 대해 검토하고 환기부족화재의 발생 시 중요시 되는 CO의 생성특성에 관한 새로운 해석결과 를 제시하고자 한다. 2. 실험 및 수치해석 방법 2.1 실험방법 및 조건 실제 규모의 구획화재 실험을 위하여 Figure 1과 같 이 2.4m × 2.4m × 3.6 m의 크기를 갖는 ISO 9705 표준 화재실이 제작되었다. 연료는 헵탄(C7 H16 )이 사용되었 Figure 1. Perspective views of the ISO 9705 room and location of measurements (unit m). 한국화재소방학회 논문지, 제24권 제5호, 2010년 34 김종현 고권현 박충화 황철홍 으며, 실내 중앙에 설치된 정사각형 버너(또는 팬(pan)) 에 의해 공급되었다. 환기조건에 따른 화재특성의 변 화를 관찰하기 위하여 과환기화재에서는 표준 출입구 의 크기인 0.8m × 2.0m가 사용되었으며, 환기부족화재 에서는 유입공기량의 제어를 통해 낮은 발열량에서 보 다 쉽게 환기부족조건을 조성하도록 0.2 m×2.0 m의 출 입구가 설치되었다. 발열량의 측정을 위하여 6m × 6m 후드를 가진 산소 소모 열량계를 이용하였다. 건물 내부의 온도, 연소생 성물 및 그을음의 농도는 고온 상층부의 두 지점에서 측정되었으며, 6개의 열유속계(total heat flux gauge)가 천정과 바닥에 설치되었다. 또한 수직 방향에 따른 온 도분포를 확인하기 위하여 두개의 열전대 트리(tree)를 설치하였다. 보다 자세한 실험장치, 방법 및 각 측정에 대한 불확실도(uncertainty)는 NIST TN 160311) 에서 확 인될 수 있다. 선행된 실험연구11) 에서는 매우 다양한 환기조건에 대한 측정이 이루어졌으나, 본 연구에서는 2개의 과환 기화재와 1개의 환기부족화재에 대한 검토가 수행되었 다. Table 1에 제시된바와 같이, 과환기조건에서 이론 발열량이 1100kW에서 2400kW로 증가할 때, 연소효율 은 97.8%에서 86.1%로 감소한다. 이때 총괄당량비( g ) 를 살펴보면, 0.327에서 0.634로 증가되지만 모든 조건 이 1.0보다 작은 과환기화재에 해당된다. 반면에 환기 부족화재의 경우, 이론 발열량은 1830kW로 비교적 작 은 값이지만, 출입구의 면적감소에 의한 유입 공기량 의 감소로 인하여 연소효율은 80.7%로 감소하며, 총괄 당량비는 2.156으로서 전형적인 환기부족화재의 특징 을 보여주고 있다. 참고로 Table 1에 표기된 와 는 각각 연료의 질량유량(또는 연료 소모율)과 출 입구를 통해 외부에서 유입되는 공기의 질량유량을 의 미한다. 2.2 계산방법 및 조건 환기조건에 따른 화재현상을 수치모사하기 위해 LES 의 수행이 가능한 FDS(ver. 5.1.6, SVN 1710)가 사용 되었다. LES에서 순간적인 유동변수는 GS(grid scale) 성분( )과 SGS(subgrid scale) 성분(f )으로 나뉘어진다. 이때 GS 성분은 Farve 여과( )에 의해 결정되 며, over-bar 첨자는 공간여과(spatial filter)를 의미한다. 그 결과 낮은 마하수(Ma Navier-Stokes 방정식은 다음과 같은 LES 방정식으로 표현된다.12) (1) (2) (3) (4) (5) 공간 여과과정에서 발생되는 sgs , Jsgs 와 qsgs 는 SGS 성 분 효과를 나타내는 응력텐서, 화학종 및 열 유속(flux) 을 의미하며, 위 방정식들을 종결(closure)하기 위하여 추가적인 모델이 수행된다. SGS 항들의 모델링을 위해서는 SGS의 특성길이 및 시간규모의 정보가 요구된다. 이를 위해 길이 규모는 격자의 크기, 즉 =( x y z)1/3 으로 하였으며, 시간 규모는 SGS에서 에너지의 생성과 소멸사이에 평형상 태가 존재하다는 가정을 이용하는 original Smagorinsky 의 모델13) 에 의해 결정되었다. 이때 SGS의 에디 점성 계수에 포함되는 상수 Cs는 0.2로 고정되었다. 지배방정식의 차분을 위하여 공간에 대해서는 유한 체적법을 이용한 2차 정확도의 중심 차분법이 사용되 었다. 시간적분에 대해서는 전체적으로 2차 정확도를 갖는 양해법(explicit) 예측-교정자법이 적용되었다. 또 한 열유속( )은 복사열전달 방정식의 유한체적법14) 을 통해 고려되었다. 계산조건은 Table 1에 제시된 실험조건과 동일하며, 건물 외부로 배출되는 화염 및 경계조건에 의한 영향 m f m a f f = f/ t ----- + u ( ) = 0 u t --------- + u u ( ) = p + sgs ( ) + g Y i t ----------- + Y i u ( ) = D i Y i + J sgs ( ) + m i h t --------- + h u ( ) = D p o D t --------- + k T + D ih i Y i + qsgs i ∑ qr = poW/RT qr Table 1. Experimental Conditions and Global Parameters Over- Ventilated Fires Under- Ventilated Fire Doorway Width (m) 0.80 0.20 Burner Size (m2 ) 1.0 0.5 Ideal HRR (kW) 1110 2400 1830 Measured HRR (kW) 1080 2070 1480 Combust. Eff. (%) 97.8 86.1 80.7 (kg/s) 0.025 0.054 0.041 Into Door (kg/s) 1.145 1.282 0.288 g 0.327 0.634 2.156 m f m a 구획화재에서 환기조건의 변화가 화재특성에 미치는 영향(Part II 다차원 화재거동) 35 J. of Korean Institute of Fire Sci. Eng., Vol. 24, No. 5, 2010 을 최소화하기 위하여 Figure 2에서와 같이 2.4m × 7.0m ×4.5m의 넓은 계산영역이 설정되었다. 격자 민감도 해 석을 통해 약 600,000개의 불균일 격자가 사용되었으 며, 격자의 평균 크기는 약 0.05m에 해당된다.15) 출입 구에서 발생되는 큰 구배의 속도를 해상하기 위하여 추가적으로 약 0.015m의 크기를 갖는 격자가 삽입되 었다. 실험에서 측정된 연료 유량 및 소모량이 화원의 입력값으로 사용되었으며, 그을음의 생성을 인위적으 로 모사하기 위하여 0.015의 그을음 생성량(yield) 값 이 사용되었다. 또한 벽면의 정확한 열전달을 고려하 기 위하여 온도에 의존하는 벽면 재질의 물성치값들이 적용되었다. 3. 결과 및 검토 Figure 3은 본 계산에 적용된 과환기 및 환기부족화 재에 대한 이해를 돕기 위해 선행 실험에서 측정된 순 간적인 화염사진을 나타낸 것이다. 각 조건에 대해 동 일한 위치에서 측정된 사진의 부재로, Figure 3(a)는 환 기부족화재에서 점화 이후 초기단계에서 발생되는 과 환기조건의 순간을 나타낸 것이다. 사진에서 확인할 수 있듯이, 건물 내부에 충분한 산소가 존재하는 과환기 조건에서는 화염의 크기가 작으며, 미량의 그을음만이 건물 외부로 배출된다. 반면에 환기부족조건에서는 대 부분의 화염이 건물 외부에서 생성되고 있으며, 부력 효과에 의해 주기적으로 큰 와동이 발생됨을 볼 수 있 다. 선행실험11) 을 통해 화염의 가시적인 촬영뿐만 아니 라 상층부의 국부적인 위치에서 온도 및 농도의 측정 이 이루어졌다. 그러나 환기조건의 변화에 따라 건물 내부의 유동패턴, 온도 및 농도들의 분포에 대한 정보 획득은 실험적 방법으로는 매우 큰 한계가 있다. 따라 서 상세한 검증을 통한 신뢰도 높은 수치계산 결과는 건물 내부의 다차원 화재거동을 예측하는데 매우 유용 할 것으로 사료된다. Figure 4는 x=1.2 m의 y-z 단면에서 과환기화재에 대한 평균 단위 체적당 열발생율(HRRPUV heat release rate per unit volume), 속도벡터, 유선 및 이론 화염면 을 도시한 것이다. HRRPUV는 100 2000kW/m3의 범 위에서 표현되었으며, 이론 화염면은 헵탄 연료의 이 론 혼합분율의 값(≈ 0.0622)에 의해 표현되었다. Figure 4(a)에서 측정 발열량은 1080kW이며, 총괄당량비는 0.327로 매우 낮은 조건이다. 이때 화염은 전형적인 풀 (pool) 화재의 형상을 보이고 있으며, 화원 근처의 충 분한 산소로 인하여 매우 작은 화염길이를 보여주고 있다. 유동패턴은 천정에 의한 충돌 및 뒷부분의 재순 환 유동을 제외하고는 일반적인 부력화염의 현상을 보 여주고 있다. 이러한 화염형상 및 유동패턴은 고온 상 층부에서 균일한 온도 및 농도분포를 형성시킴을 선행 된 실험결과11) 를 통해 확인될 수 있다. 측정 발열량 이 2070kW에 해당되는 Figure 4(b)를 살펴보면, 화염 길 이는 증가하였으며, 출입구를 통해 유입되는 공기량의 증가로 인하여 화염면은 뒷부분으로 기울어졌음을 볼 수 있다. 또한 내부 유동은 시계방향으로 크게 순환하 면서 출입구를 통해 외부로 배출됨을 알 수 있다. 비 록 본 논문에서는 제시되지 않았으나, 실험에서 관측 된 상층부 뒷부분의 상대적인 높은 온도분포의 원인은 Figure 2. Computational domain for predicting fire dynamics in the ISO-9705 room. Figure 3. Temporal images of (a) the over-ventilated and (b) under-ventilated compartment fires. 한국화재소방학회 논문지, 제24권 제5호, 2010년 36 김종현 고권현 박충화 황철홍 본 계산에서 예측된 화염거동을 통해 명확히 설명될 수 있다. Figure 5는 x=1.2m의 y-z 단면에서 과환기화재에 대 한 평균 O2 몰분율 및 온도분포를 도시한 결과이다. 그 림의 이해를 돕기 위하여 O2의 몰분율과 온도는 각각 0.0 0.18과 200 1200o C의 범위 내에서 표현되었다. 측 정 발열량이 1080kW일 때, 상층부의 O2 및 온도는 매 우 균일하며, 고온의 상층부와 저온의 하층부가 수평 적으로 명확하게 구분됨을 볼 수 있다. 반면에 측정 발 열량이 2070kW의 조건에서는 상층부의 두께는 낮은 발열량 조건에 비해 크게 증가하였으며, 화염면의 위 치 변화로 인하여 뒷부분의 상층부 두께는 앞부분에 비해 증가되었음을 볼 수 있다. Figures 4와 5의 결과 로 부터 과환기화재에서 발열량의 증가는 건물 내부의 화염 길이 및 위치를 변화시키고 동시에 내부 유동과 고온 영역의 체류시간을 변화시킴을 알 수 있다. Figure 6은 x=1.2m의 y-z 단면에서 환기부족화재에 대한 HRRPUV, 속도벡터, 유선 및 이론 화염면을 도 시한 것이다. Figure 4의 과환기화재와 비교할 때, 환 기부족화재에서는 부족한 공기유입으로 인하여 화염은 대부분 건물 외부에서 생성되며, 내부 유동은 반시계 방향으로 순환하는 매우 상반된 결과를 보여주고 있다. 이러한 환기조건 변화에 따른 내부 유동패턴의 급격한 변화는 결과적으로 독성물질의 생성 및 분포가 크게 변화될 수 있음을 간접적으로 보여주는 매우 중요한 현상이다. 특히 환기부족화재에서는 내부 재순환 유동 패턴으로 인하여 출입구 근처에서 생성된 불완전 연소 생성물들이 건물 내부로 재순환되면서, 고온과 과농한 연료성분으로 인하여 추가적인 CO, THC 및 그을음 등 을 생성시킬 수 있음을 예측할 수 있다. Figure 7은 x=1.2m의 y-z 단면에서 환기부족화재에 서 대한 평균 O2 몰분율 및 온도분포를 도시한 결과이 다. 그림에서 건물 내부의 산소는 거의 존재하지 않음 을 볼 수 있다. 내부의 온도분포를 살펴보면, 출입구 Figure 4. Mean distributions of HRRPUV, velocity and flow streamlines on y-z plane (at x = 1.2 m) for the over- ventilated fires. Figure 5. Mean distributions of O2 mole fraction and temperature on y-z plane (at x = 1.2 m) for the over- ventilated fires. Figure 6. Mean distributions of HRRPUV, velocity and flow streamlines on y-z plane (at x = 1.2 m) for the under- ventilated fire. 구획화재에서 환기조건의 변화가 화재특성에 미치는 영향(Part II 다차원 화재거동) 37 J. of Korean Institute of Fire Sci. Eng., Vol. 24, No. 5, 2010 근처의 화염면에서 최대의 온도값이 분포하며, 반시계 방향의 재순환유동을 따라 벽면으로의 열손실로 인하 여 온도는 점차적으로 감소되고 있음을 확인할 수 있다. 환기부족화재는 과환기화재에 비해 건물 내부에서 보다 복잡한 유동구조를 갖기 때문에 이에 대한 3차원 평균 유동장 해석이 수행되었다. Figure 8은 평균 O2 iso-contour와 출입구 하단에서 공기 유입에 따른 유선 분포를 도시한 것이다. O2의 분포를 살펴보면, 벽면 근 처의 값이 중심부분(x = 1.2m)에 비해 높음을 볼 수 있 다. 이러한 분포는 출입구 하단에서 유입되는 공기의 유동분포를 통해 설명될 수 있다. 출입구의 중앙으로 부터 유입된 공기는 팬 앞면에서 생성된 화염대에서 반응하는 반면에, 벽면방향으로 침투된 공기는 y=1.2m 근처에서 연료와 반응하며, 부력효과에 의해 급격히 수 직방향으로 상승하게 된다. 이때 생성된 고온 생성물 은 천정에 부딪히며, 결국 1.8m 재순환하게 된다. 위와 같은 복잡한 유동특성이 CO 생성에 미치는 영 향을 검토하기 위하여, Figure 9는 환기부족화재에서 3 차원 평균 CO 분포를 도시한 결과이다. 건물 내부에 서 CO의 생성은 크게 3가지 영역으로 분류될 수 있다. 즉 버너와 출입구 사이의 영역, 측면의 y=1.2m, 측면 의 y = 2.4m 영역이다. 측면에서 생성되는 CO는 Figure 8의 O2의 분포와 유선을 통해 해석될 수 있다. 즉 y= 1.2m 측면에서 O2는 연료와 반응하여 생성물을 생성 하면서 부력효과에 의해 수직방향으로 상승하게 된다. 이때 시간에 따라 증가되는 당량비로 인하여 CO의 농 도는 점차적으로 증가한다. 또한 상승한 고온 생성물 은 1.8m 된 체류시간과 더욱 높아진 당량비로 인하여 더욱 많 은 CO가 발생하게 된다. 결과적으로 유속이 가장 낮 은 중심영역 (y = 2.4m)에서 건물 내부의 최대 CO 농 도가 존재하게 된다. 이러한 CO 생성에 관한 3차원 분 포는 그동안의 화재 연구에서 확인되거나 제시된 바 없는 새로운 발견이라 할 수 있다. 특히 충분한 검증 과정을 거친 LES 수치해석 결과를 이용한 환기부족화 재에서 CO 생성특성 규명은 향후 상세 반응기구를 통 한 CO 생성원리 규명에 매우 유용한 정보를 제공할 것으로 판단된다. 4. 결 론 실규모 ISO 9705 표준 화재실에서 환기조건의 변화 에 따른 화재거동을 이해하기 위한 수치해석이 수행되 었으며, 주요 결과는 다음과 같다. 과환기화재에서 낮은 발열량의 조건에서는 일반적인 Figure 7. Mean distributions of O2 mole fraction and temperature on y-z plane (at x = 1.2 m) for the under- ventilated fire. Figure 9. Mean distributions of CO iso-contour inside the compartment for the under-ventilated fire. Figure 8. Mean distributions of streamlines and O2 iso- contour inside the compartment for the under-ventilated fire. 한국화재소방학회 논문지, 제24권 제5호, 2010년 38 김종현 고권현 박충화 황철홍 부력화염과 벽면 충돌유동의 혼합된 현상을 관찰할 수 있으며, 고온 상층부의 온도 및 농도는 비교적 균일한 분포를 갖게 된다. 그러나 발열량이 더욱 증가함에 따 라 화염면은 뒷부분으로 이동하게 되며, 이로 인하여 상층부의 온도는 불균일한 분포를 갖게 된다. 이때 내 부의 유동은 화염면의 위치와 직접적으로 관련되며, 시 계방향으로 크게 순환하면서 출입구를 통해 외부로 배 출된다. 환기부족화재에서는 출입구 및 건물 외부에서 생성 된 화염면의 위치로 인하여 내부 유동은 반시계방향의 큰 재순환 구조를 갖는다. 이는 과환기화재에서의 유 동패턴과 매우 상이한 결과이다. 보다 상세한 해석은 3차원 O2의 분포 및 유선을 통해 확인될 수 있었으며, 이를 통해 CO의 생성특성 및 분포를 상세히 이해할 수 있었다. 동시에 기존에 구획화재에서 적용되는 존 모델의 접근방법과 국부적인 위치에서의 실험 측정값 은 3차원의 복잡한 화재특성을 갖는 환기부족화재를 이해하는데 많은 한계가 있음을 알 수 있었다.\n",
      "\n",
      "\n",
      "\n",
      "방화셔터를 이용한 아트리움 제연과 피난안전에 관한 수치해석 연구 A Numerical Study for the Atrium Smoke Control by Fire Shutter and Evacuation 전흥균 최영상 추홍록 초록 본 연구에서는 대구 D대학 기숙사 건물에 대해 2MW, 5MW 화재크기와 아트리움 방화셔터의 미설치 및 작동 경우의 4가지 화재시나리오를 구성하고, FDS(ver. 5.5.0)와 Pathfinder 2009 프로그램을 사용하여 화재 및 피난시뮬레이션을 수행하였다. 화재피난영향평가를 통하여 방화셔터와 배연구의 아트리움 제연 효과에 대한 성능을 확인하였고, 화재위험 및 피난안전을 분석하였다. 방화셔터의 작동은 연기 전파 방지에 큰 효과가 있지만, 상부 배연구를 통한 배연량이 불충분하여 방화셔터의 유무에 관계없이 연기층은 바닥으로부터 약 2m 지점까지 하강하고, 본 연구에서 설정한 연기층 한계 높이 이하가 되었다. 또 방화셔터 미설치, 5MW 화재크기의 경우, 온도보다 가시거리에 의한 화재위험 가능성이 더 크게 나타났고, 기숙사 중.상부 층의 계단실 피난여유시간은 약 5초 이내로 매우 작았다. 지상 1층 주출입구까지 전체 피난자의 순수 피난이동시간은 136초이다. 피난자의 더 안전한 피난을 위해 추가적인 보완조치가 필요하다고 사료된다. Four fire scenarios, as the cases of fire sizes of 2 MW and 5 MW, and no installation and activation of atrium fire shutter for dormitory building of Daegu D college , were developed and fire simulations were run using FDS (ver. 5.5.0) and Pathfinder 2009 programs. By assessing fire and evacuation, the effects of atrium fire shutter and vents on the smoke control of atrium were evaluated and this study also analyzed fire hazard and egress safety for occupants in the dormitory. Fire shutter s preventing smoke transport around atrium was much effective, but smoke layer descended down the design limit of smoke height and kept about 2 m height from the atrium floor in all cases because flow rate through vents was not enough. For the case of 5 MW fire and no fire shutter, fire hazard was higher due to visibility than temperature and allowable egress time to stairwell was short less than 5 seconds for the occupants on the floors of 4F to 7F. For total occupants, egress time out of main doorway was calculated about 136 seconds. It is sure that additional systems improving the performance of smoke control need to be installed for more safe evacuation. 핵심 어휘 Atrium fire shutter FDS and Pathfinder Smoke control Fire hazard Safe evacuation 본문 1. 서 론 고층오피스, 주상복합아파트, 대형할인마트 및 대학 교육용 건물 등 현대 건축물은 규모와 기능면에서 점 차 대형화, 고층화, 복합화 되고 있다. 이러한 건물은 실내구조가 매우 복잡하고 신소재 건 축자재의 사용이 늘고 있어 화재 발생 가능성이 매우 높고, 거주 밀도가 높아 피난의 혼잡과 장애 가능성이 높아 화재 시 막대한 재산 및 인명 피해가 우려된다. 따라서 고층 대형 건축물의 화재 및 피난안전성 확보 는 재산과 인명 피해 방지를 위해 매우 중요한 사안으 로 대두된다. 그러나 국내소방법기준은 이러한 건축물 에 대한 관련법 미비로 인해 화재 및 피난안전성 확보 를 위한 성능위주설계 업무에 어려움이 있다. E-mail jeonhk mail.dhc.ac.kr 방화셔터를 이용한 아트리움 제연과 피난안전에 관한 수치해석 연구 51 J. of Korean Institute of Fire Sci. Eng., Vol. 24, No. 5, 2010 본 연구에서는 화재 및 피난안전성 확보를 위한 성 능위주설계와 관련하여 대구 D대학 기숙사 건물(이하 기숙사 로 표기)에 대한 화재시뮬레이션을 통하여 아 트리움에 설치된 방화셔터와 배연구의 아트리움 제연 효과에 대한 성능 확인과 더불어 화재피난영향평가를 통하여 화재위험 및 피난안전에 대해 분석하고자 한다. 본 연구와 관련된 연구로써 이영주1) 는 사례를 중심 으로 본 최근 대형건축물의 방재 이슈 에서 E대학교 캠퍼스 센터와 S국제금융센터의 방재특성에 대하여 화 재 및 피난시뮬레이션을 실행하여 화재안전성을 확인 하였다. 또 Michael J. Ferriera 외 1인2) 은 Federal Building and Fire Safety Investigation of the World Trade Center Disaster Smoke Management Systems 에 서 세계무역센터 테러 사고 시 건물 내 화재와 피난안 전과 관련하여 계단실 제연설비의 작동 여부와 성능에 관한 수치해석을 수행하였다. 또 향후 911테러 사고와 같은 대형 건물 화재 시 연기로부터 피난안전을 확보 하여 거주자의 인명피해를 최소화할 수 있도록 제연방 식에 대한 보완대책을 강구하였다. 상기 연구와 더불어 본 연구에서는 화재피난영향평 가를 통하여 화재위험 및 피난안전 분석기법의 수준을 제고시키고, 향후 시행될 화재피난영향평가제의 기준 마련과 원활한 제도 운영에 도움을 주고자 한다. 본 연구의 화재피난영향평가 대상 건물인 기숙사는 식당, 세탁실, 휴게실, 기계실, 사감실, 학생 방과 더불 어 건물 중앙에 아트리움 공간으로 구성된 지하 1층 지상 8층 규모의 건물이다. 화재피난시뮬레이션에 사 용한 프로그램은 FDS(ver. 5.5.0)3) 와 Pathfinder 20094) 이다. 2. 자연배연 이론 열과 연기의 자연 배연이란 화재실내 창문 또는 설 계된 배연구를 통하여 고온의 연기 부력과 팽창에 의 한 외부로의 고온 연기의 제거와 더불어 외부로부터 신선한 공기가 유입되도록 하는 것을 말한다. 자연 배 연의 목적은 고온의 연기가 피난경로공간으로 전파되 는 것을 막아 화재위험으로부터 실내거주자가 안전하 게 피난 할 수 있도록 하고, 소방진압대원이 확보된 시 야를 통해 화재건물 내 진입과 화재 진압을 용이하게 할 수 있도록 하며, 화재 건물과 시설이 고온의 연기 에 장시간 노출 되는 것을 방지하여 인명과 재산 피해 를 최소화 할 수 있도록 하는 것이다.5) 본 연구의 아트리움 상부 벽면에 설치된 배연구를 통한 자연배연과 관련된 식은 미국 NFPA 204 기준6) 을 적용하였다. 먼저 화재 열기류의 질량유량 계산식 은 식(1)과 같다. (1) 또 배연구를 통해 배출되는 연기의 질량유량 계산식 은 식(2)와 같다. (2) 본 연구에서 아트리움 상부 배연구의 전체 면적은 11.52m2이고, 외기 유입구의 면적은 건물 주출입구의 면적으로써 4.0m2이다. 또 화재면적은 4m2이며, 열방 출율이 2MW와 5MW의 화재에 대하여 식(1)과 식(2) 를 사용하여 화재 열기류와 배연구의 질량유량을 계산 하였다. 3. 화재 및 피난 시뮬레이션 3.1 화재 및 피난 모델 본 연구의 화재피난영향평가 대상 건물인 기숙사는 지하 1층에는 식당, 세탁실, 휴게실, 기계실과 지상 1 층에는 로비, 사감실과 남학생 방, 2층과 3층에는 남학 생 방, 4층에서 7층에는 여학생 방, 그리고 외국인 교 수 방, 8층에는 옥상계단실 등을 포함한 지하 1층 지 상 8층 규모이며, 건물 공간 중앙에는 아트리움으로 건 축된 건물이다. 아트리움 공간 상부 수직 벽면에는 창 이 설치되어 평상시에는 실내 환기를, 화재 시에는 자 연배연을 담당한다. 또 1층과 2층을 제외한 지하 1층과 지상 3층에서 7 층까지 전체 6개 층의 아트리움 4면 천장에는 방화셔 터가 설치되어 연기감지기와 연동하여 화재 시 건물 중앙의 아트리움 공간을 구획함으로써 화염 확산 및 연기 전파를 차단한다. 본 화재모델의 수치계산영역은 다중 격자계(multiple meshes systems)로 구성하였고, 격자크기는 가로, 세로, 높이가 각각 0.2m이며, 전체 계산영역의 격자수는 777,528개이다. 화재시뮬레이션은 Workstation급 컴퓨 터(DELL Precision 690)를 사용하여 수행하였다. 각 화 재모델별 계산 시간은 약 64시간이다. Figure 1은 화재 모델을 나타낸다. 피난모델의 재실자 분포는 기숙사 각 실에 2명씩이 며, 전체 재실자 수는 177명이다. Figure 2는 피난모델 을 나타낸다. 재실자 분포는 Table 1에 나타내었다. m p = 0.071Q c zs zo ( )5/3 × 1 + 0.027Q c zs zo ( )-5/3 m v = Cd v, Av 1 + Cd v, Av Cd i,2 Ai2 Ta T ----------------------------------------------× 2 a gds× T a T T a ( ) T 한국화재소방학회 논문지, 제24권 제5호, 2010년 52 전흥균 최영상 추홍록 3.2 화재 및 피난 시나리오 본 연구의 화재시나리오는 2가지 화재크기와 방화셔 터의 설치 유무로 전체 4가지 경우를 고려하였다. 설 계화재는 열방출률이 2MW와 5MW로써 발화(t = 0초) 에서 화재모의실험 종료시점(t = 600초)까지 일정하며, 아트리움 지하 1층 중앙 바닥에 위치한다. 연기감지기는 광전식 2종으로써 지하 1층 및 지상 3 층에서 7층까지 전체 6개 층의 아트리움 주위 통로 상 부 천장 아래에 각 층별로 4개씩 전체 24개가 설치되 었다. 본 연구에서는 Cleary model7) 을 적용하였다. 방화셔터는 연기감지기의 작동과 연동되며, 본 연구 의 화재시뮬레이션 결과 최초 연기감지기 작동시점이 2MW와 5MW 화재 시 각각 약 10초와 8초임을 감안 하여 발화 후 20초에서 작동되도록 하였다. 또 1개의 연기감지기가 작동되면 아트리움 전체 방화셔터가 동 시에 작동되며, 방화셔터의 하강속도는 0.1m/s로 적용 하였다. 방화셔터가 바닥면까지 완전 하강 시 방화셔 터의 굴절부분 틈새로의 연기 전파는 없는 것으로 가 정하였다. 초기온도는 20o C이고, 외부풍속은 0m/s를 적 용하였다. 본 연구의 피난시뮬레이션에 적용한 전체 재실자의 보행속도는 1.19m/s로 동일하며, 보행자 특성은 steering 모드를 적용하였다.8) 재실자의 안전 피난은 지상 1층 주출입구를 통과하여 건물 외부로 피난 완료한 상태이 다. 또 피난 시간 계산 시 화재 위험특성과 피난 전 행 동특성은 고려하지 않았고, 재실자의 순수 피난이동시 간( ttrav )만을 계산하였다. 3.3 제연성능과 화재안전기준 제연성능기준의 경우, 아트리움 중앙 바닥에서 발생 한 화재 연기가 아트리움 공간 상부 배연구를 통한 자 연배연과 동시에 방화셔터로 구획된 아트리움 공간 체 적에 자연 충만(natural smoke filling)에 의한 연기층 하강높이가 기 설정한 일정 높이를 유지하는지 여부와 배연구를 통한 배연량에 대한 이론 계산 값과 화재시 뮬레이션 결과 값을 비교하여 성능을 분석하였다. 본 연구에서는 연기층 한계 높이를 방화셔터가 설치되어 있지 않은 2층의 바닥에서 상부 2m 높이(지하 1층 바 닥에서 10m 높이)로 설정하였다. 화재안전기준의 경우, 피난안전에 영향을 크게 미치 Figure 1. Fire model (FDS). Figure 2. Evacuation model (Pathfinder). Table 1. Occupant Load in Dormitory (Unit pers) Floor Man Woman Total 7F 2 18 20 6F - 26 26 5F - 26 26 4F - 26 26 3F 26 - 26 2F 26 - 26 1F 23 2 25 B1 - 2 2 Total 77 100 177 방화셔터를 이용한 아트리움 제연과 피난안전에 관한 수치해석 연구 53 J. of Korean Institute of Fire Sci. Eng., Vol. 24, No. 5, 2010 는 연기층의 온도와 가시거리 2가지를 고려하였고, 각 각 65o C와 6m로 적용하였다. 각 건물 하부, 중간, 상 부 층의 화재위험을 알아보기 위하여 지하 1층, 지상 1층, 4층, 7층의 계단실로 연결되는 통로 입구 바닥면 의 1.5m 높이에서 2가지 화재위험요소를 측정하였다. 본 연구의 화재피난영향평가를 위해 적용한 제연성능 기준9) 과 화재안전기준10) 은 Table 2와 같다. 4. 결과 및 고찰 4.1 방화셔터와 배연구의 제연성능 화재크기가 2MW와 5MW의 경우 이론식에 의한 화 재 열기류의 질량유량( )은 각각 43.1kg/s와 55.1kg/ s이다. 실제 설치된 배연구의 질량유량 이론 계산 값 ( )은 각각 13.9kg/s와 18.9kg/s로 열기류의 발생량 에 비해 상당히 부족한 상태이다. 2MW와 5MW 화재에 대한 화재시뮬레이션 결과, 연 기층 높이가 10m인 시점에서 배연구를 통한 배연량 ( )은 방화셔터 미설치 경우 각각 20.0kg/s, 28.2kg/ s이고, 방화셔터 작동 경우 각각 18.6kg/s, 26.6kg/s이다. 이후 연기 층의 높이가 최대로 하강한 시점의 최대 배 연량( )은 방화셔터 미설치 경우 각각 27.1kg/s, 35.8kg/s이고, 방화셔터 작동 경우 각각 31.4kg/s, 39.6kg/ s이다. 화재크기가 큰 경우와 방화셔터가 작동한 경우 배연량이 약 8kg/s 정도 크게 나타났다. 화재초기에는 방화셔터 작동 경우보다 미설치 경우의 배연량이 크다. 이것은 화재초기 방화셔터의 차단으로 아트리움 주위 의 연기가 배연구로 배출하지 못하기 때문이다. 이후 화재가 진행됨에 따라 방화셔터 작동 경우가 미설치 경우보다 배연량이 더 크다. 이것은 방화셔터로 구획 된 아트리움 공간이 화재열기류의 유동 통로 역할과 함께 충만된 고온 연기층의 부력이 크게 작용하기 때 문이다. 배연구를 통한 배연량은 화재시뮬레이션 결과 값이 이론값 보다 크지만, 이론식의 열기류 질량유량 계산 값 보다는 크게 못 미치는 것으로 나타났다. 이 러한 결과는 Figure 4에서 나타난 바와 같이 연기층이 한계높이 아래로 하강한다는 것을 의미한다. Table 3은 각 경우의 질량유량을 나타낸다. 본 연구의 화재시뮬레이션 결과 방화셔터의 작동 시 아트리움 공간 주위로의 연기 전파는 방화셔터 미설치 시 보다 현저히 감소하여 연기 전파 방지에 상당한 효 과가 있음을 확인할 수 있다. 그러나 방화셔터로 구획 된 아트리움 공간 내에 충만한 연기가 상부 배연구로 의 불충분한 배연으로 인해 연기층은 한계 높이 이하 로 하강하여 1층과 2층 통로로 부분적인 연기 전파 현 상이 나타났다. 따라서 연기층이 한계 높이 이하로 하 강하는 것을 방지하기 위해서는 배연량을 열기류 발생 량과 동일하게 하여야 한다. 이를 위해서는 배연구 면 적과 외기유입구의 면적 조정이 필요하다. 본 연구의 5MW 화재와 방화셔터 작동 경우에 대해 식(2)를 사 용하여 계산한 결과, 외기유입구 면적을 그대로 둔 경 우라면 배연구 면적은 약 3배 정도 증가시켜야 한다. 또 배연구 면적을 2배 정도 증가시키면, 외기유입구 면 적은 약 3배 정도 증가시켜야 한다. Figure 3과 Figure 4는 각각 배연구를 통한 질량유량과 아트리움 공간내 m p m v th , m v 10m , m v max , Table 2. Criteria for Smoke Control and Fire Safety Case Quantities Criteria Smoke Control Smoke layer height 2.0 m above floor at the 2 story Fire Safety Temperature 65p C at 1.5 m above floor Visibility 6 m at 1.5 m above floor Table 3. Flow Rates of Fire Plume and Vent Flow Rate (kg/s) No Fire Shutter Fire Shutter 2 MW 5 MW 2 MW 5 MW 43.1 55.1 43.1 55.1 13.9 18.9 13.9 18.9 20.0 28.2 18.6 26.6 27.1 35.8 31.4 39.6 m p m v th , m v 10m , m v max , Figure 3. Smoke flow rate through vent. 한국화재소방학회 논문지, 제24권 제5호, 2010년 54 전흥균 최영상 추홍록 의 연기층 높이를 나타내며, Figure 5는 5MW 화재에 대한 연기 전파를 나타낸다. 4.2 화재위험 분석 4.2.1 온도 화재크기가 2MW와 5MW의 경우에 대해 방화셔터 의 미설치 경우와 작동 경우의 화재시뮬레이션 결과 중 통로 온도를 Figure 6과 Figure 7에 나타내었다. 아트리움 방화셔터의 미설치, 화재크기가 2MW인 경 우 모든 층의 통로 온도는 화재안전기준(65o C) 이하이 며, 중 상부 층의 온도는 하부 층의 온도보다 약 30o C 정도 높다. 또 5MW인 경우 4층과 7층의 통로 온도는 발화 100초 후 화재안전기준 이상으로 증가하며, 중 상부 층의 온도는 하부 층의 온도보다 약 50o C 정도 높다. 따라서 화재크기가 증가할수록 아트리움을 통한 고온의 연기전파로 인해 중 상부 층의 통로 내 화재 위험이 클 것으로 사료된다. 아트리움 방화셔터의 작동 경우, 화재크기가 2MW 와 5MW 모두 상부 층과 하부 층의 온도 차이는 미작 동 경우 보다 더 낮으며, 두 경우 모두 화재안전기준 이하이다. 즉 방화셔터의 작동으로 아트리움 주위로의 연기 전 Figure 4. Smoke layer height in atrium. Figure 6. Temperature (No fire shutter). Figure 5. Smoke transport for 5 MW fire. 방화셔터를 이용한 아트리움 제연과 피난안전에 관한 수치해석 연구 55 J. of Korean Institute of Fire Sci. Eng., Vol. 24, No. 5, 2010 파가 차단되어 통로내의 화재위험은 낮게 나타났다. 따 라서 아트리움 방화셔터의 작동 경우, 재실자의 통로 피난 시 화재위험은 없을 것으로 사료된다. Figure 8은 5MW 화재에 대한 화재위험기준(65o C) 이상의 온도분 포를 나타낸다. 4.2.2 가시거리 화재크기가 2MW와 5MW의 경우에 대해 방화셔터 의 미설치 경우와 작동 경우의 화재시뮬레이션 결과 중 연기밀도 및 통로 가시거리를 Figure 9, Figure 10. Figure 11에 나타내었다. 아트리움 방화셔터의 미설치 경우, 화재크기가 2MW 와 5MW의 경우 4층과 7층 모두 통로 가시거리는 각 각 약 t=80초와 t=36초에 화재안전기준값(6m)에 도 달된다. 이후 t=250초에 4m와 t=280초에 2m로 유지 된다. 따라서 화재안전기준값에 도달되기 전에 해당 층 에서 대피하지 못할 경우 피난 시 시야장애로 인해 보 행속도가 감소하여 피난 소요시간이 증가함에 따라 화 재위험이 클 것으로 사료된다. 지하 1층의 가시거리는 연기가 아트리움 공간에 충 만할 때까지 일정하다가 이후 감소한다. 그러나 1층의 가시거리는 거의 변동 없이 일정하다. 이것은 1층 주 출입구로부터 유입된 외기가 아트리움 공간으로 유동 함에 따라 연기의 전파가 제한되기 때문이다. 이러한 유동 현상은 주출입구로의 피난 시 1층 통로와 로비에 Figure 9. Smoke density at 300 s for 5 MW (above 100 ppm). Figure 7. Temperature (fire shutter). Figure 8. Temperature at 300 s for 5 MW fire (above 65o C). 한국화재소방학회 논문지, 제24권 제5호, 2010년 56 전흥균 최영상 추홍록 서 피난자의 가시거리 확보에 유리하게 작용할 것으로 사료된다. 아트리움 방화셔터의 작동, 화재크기가 5MW 경우 7층에서 방화셔터 작동 이전에 전파된 연기로 인해 가 시거리는 약 t=40 초에 일시적으로 화재안전기준값 정도까지 감소하지만 이 후 점차 증가한다. 그러나 4 층에서의 가시거리는 약 t=60초에 화재안전기준값 보 다 조금 낮은 값으로 감소하여 약 5분 동안 그 상태가 유지된다. 따라서 이 시간 동안 피난에 다소 어려움이 예상되나, 전반적으로 방화셔터의 작동으로 아트리움 주위로의 연기 전파가 차단됨에 따라 간접적 위험요소 인 가시거리로 인한 통로내의 화재위험은 크게 문제가 되지 않을 것으로 사료된다. Figure 9는 5MW 화재에 대한 100ppm 이상인 연기밀도의 분포를 나타낸다. 4.3 피난안전 분석 본 연구의 피난안전성 평가를 위하여 사용한 피난시 뮬레이션 프로그램은 Pathfinder 2009이다. Pathfinder 2009는 개체 위주(agent-based) 시뮬레이션 프로그램으 로써 피난자의 신체 및 행동 특성에 근거하여 피난완 Figure 10. Visibility (No fire shutter). Figure 11. Visibility (fire shutter). 방화셔터를 이용한 아트리움 제연과 피난안전에 관한 수치해석 연구 57 J. of Korean Institute of Fire Sci. Eng., Vol. 24, No. 5, 2010 료 시까지 개체별 독립적인 움직임에 의해 피난 시간 을 계산하며, 피난 시뮬레이션 결과를 3D 화면을 통해 시각적 효과와 더불어 피난안전 분석을 할 수 있다. 기숙사 건물의 피난 시뮬레이션 결과, 각 층별 통로 내의 체류자 수, 각 층의 계단실 출입구를 통과하는 유 동률을 각각 Figure 12와 Figure 13에 나타내었다. Figure 12에서 피난 초기 피난자가 각 방에서 통로 로 나옴에 따라 각 층의 체류자 수는 증가하여 10초 이내에 최대로 되었다가 이후 계단실 출입구를 통해 Figure 12. Remaining occupants within each floor. Figure 14. Flow rate of stairway. Figure 15. Remaining and exited occupants. Figure 13. Flow rate through stairwell door. 나감으로써 체류자 수가 감소한다. Figure 13에 나타난 바와 같이 피난대피 층인 지상 1층을 제외한 나머지 층의 체류시간은 재실자 수에 따 라 차이가 있으나 대략 30초 이내이다. 1층 체류자 수 는 초기 비슷한 양상을 보이다가 약 40초 이후 상부 층의 피난자가 1층 계단실 문을 통하여 1층 로비로 빠 져나옴에 따라 다시 증가한다. 이후 약 110초부터 다 시 감소한다. Figure 14는 각 층의 계단실내에서 피난자의 유동률 을 나타낸다. 1층에서의 유동률은 약 4명에서 5명 정 한국화재소방학회 논문지, 제24권 제5호, 2010년 58 전흥균 최영상 추홍록 도이며, 4층과 7층에서의 유동률은 약 5명에서 8명 정 도이다. 이러한 변동 현상은 1층을 제외한 각 층에서 유입된 피난자가 계단실 하부 층으로 내려옴에 따라 피난자 수가 점점 증가함과 동시에 계단실 출입구 계 단참에서 계단실내 피난자와 각 층의 통로에서 체류된 피난자의 상호 충돌로 인해 계단실내에서 간헐적인 정 체와 지체가 반복됨에 따라 피난자 보행속도가 감소하 였기 때문이다. Figure 15는 피난시간 동안의 체류자 수와 전체 누적 피난자 수를 나타낸다. 단위시간당 피난자 수는 약 1.3 명/s로 누적피난자 수는 거의 일정하게 증가한다. 177 명의 전체 피난자가 피난완료하는 시간은 136초이다. Figure 16은 시간대별 피난시뮬레이션 장면을 나타낸다. 본 연구의 화재위험분석결과 전체 시간 동안 계단실 의 화재위험은 없는 것으로 확인되었다. 이에 피난안 전 구획된 각 층의 계단실로 대피하는 경우 1층 피난 대피 장소까지 안전하게 피난하는 것으로 제한하여 피 난안전성을 분석하였다. 아트리움 방화셔터의 미설치 경우, 4층과 7층의 화 재위험은 2MW 화재크기의 경우 가시거리에 의한 화 재위험만 존재하며, 화재위험 도래시간은 약 80초이다. 5MW 화재크기의 경우 온도 및 가시거리의 화재위험 도래시간은 약 85초와 36초이다. 발화시점에서 가시거 리의 화재위험 도래시간인 피난허용시간(ASET), 발화 시점에서 피난완료 시간인 피난요구시간(RSET), 피난 자의 화재인지시간( trec )과 화재반응시간( tres )의 합인 피난자의 피난 전 행동시간( tpre ), 피난개시에서 전체 피난자의 피난 완료하는 시간인 순수 피난이동시간 ( ttrav ), 최초 경보설비 작동시간( ta , 최초 감지기 작동 시간( td ) 즉시 피난한다고 가정)과의 관계를 고려하면, 피난여유시간(tallow )은 식(3)으로 계산된다. 계산된 피난 여유시간은 Table 4에 나타내었다. Table 4에 나타난 각 경우의 피난여유시간을 보면 가시거리에 의한 위험 이 온도에 의한 위험보다 크다는 것을 확인할 수 있다. 실제 화재 시 피난자의 피난전 행동시간과 전체 피 난 상황을 감안한 안전율을 고려하면, 화재크기가 5MW 경우 중 상부 층의 피난자는 계단실로 대피하기 전 에 연기의 시야장애로 인해 피난에 상당한 어려움이 예상된다. 반면 아트리움 방화셔터의 작동 경우 앞 절 의 화재시뮬레이션 결과 화재위험은 없다. 따라서 피 난자의 피난안전에는 큰 문제가 없을 것으로 사료된다. Figure 16. Evacuation simulation. Table 4. Allowable Evacuation Time into Stairwell for No Fire Shutter (Unit s) Floor Parameter B1 1F 4F 7F ttrav 16 N/R 27 23 RSET 2 MW 26 N/R 37 33 5 MW 24 N/R 35 31 ASET (Temperature) 2 MW N/R N/R N/R N/R 5 MW N/R N/R 85 85 ASET (Visibility) 2 MW N/R N/R 80 80 5 MW N/R N/R 36 36 tallow (Temperature) 2 MW N/R N/R N/R N/R 5 MW N/R N/R 50 54 tallow (Visibility) 2 MW N/R N/R 43 47 5 MW N/R N/R 1 5 방화셔터를 이용한 아트리움 제연과 피난안전에 관한 수치해석 연구 59 J. of Korean Institute of Fire Sci. Eng., Vol. 24, No. 5, 2010 tallow =ASET RSET tallow =ASET ( ta + tevac ) tallow =ASET ( ta + tpre + ttrav ) tallow =ASET ( ta + trec + tres + ttrav ) tallow ASET ( td +0+0+ ttrav ) (3) 5. 결 론 본 연구에서는 대구 D대학 기숙사 건물에 대해 2MW, 5MW 화재크기와 방화셔터의 미설치 및 작동 경우의 4가지 화재시나리오를 구성하고, FDS(ver. 5.5.0)와 Pathfinder 2009 프로그램을 사용하여 화재피난시뮬레 이션을 수행하였다. 화재피난영향평가를 통하여 기숙 사 아트리움에 설치된 방화셔터와 배연구의 아트리움 제연 효과에 대한 성능 확인과 화재위험 및 피난안전 을 분석한 결과 다음과 같은 결론을 얻었다. (1) 방화셔터 작동 경우, 아트리움 주위로의 연기 전 파가 차단됨으로써 화재위험 방지에 큰 효과가 있었다. 그러나 상부 배연구를 통한 배연량이 불충분하여 방화 셔터의 유무에 관계없이 아트리움 내의 연기층은 바닥 으로부터 약 2m 지점까지 하강하여 한계 높이 이하가 되었다. (2) 방화셔터 미설치, 화재크기가 2MW인 경우, 온 도에 의한 화재위험은 없었고 가시거리에 의한 화재위 험 도달시간은 t=80초이다. 화재크기가 5MW의 경우, 건물 중 상부 층에 대해 화재위험도달시간은 온도와 가시거리 각각 약 85초와 36초로써 온도보다는 가시거 리에 의한 화재위험이 더 크게 나타났다. 그리고 피난 자에 대한 계단실 피난여유시간은 약 5초 이내로 매우 작게 나타났다. (3) 지상 1층 주출입구까지 전체 피난자의 순수 피 난이동시간은 136초이며, 전체 피난자의 1층 건물 주 출입구까지 피난 대피할 경우, 계단실까지의 피난시간 에 비해 약 110초 이상 증가하게 된다. 본 연구의 화재위험 분석 결과, 방화셔터가 작동하 는 경우 연기의 온도가 낮아 화재위험은 거의 없으나, 일부 공간에서 일시적으로 화재안전기준값 보다 낮은 가시거리로 인해 피난에 다소 어려움이 예상된다. 피 난자의 더 안전한 피난을 위해 추가적인 보완조치가 필요하다고 사료된다. 감사의 글 이 논문은 2009년 대구보건대학 교내학술연구비 지 원으로 수행되었습니다. 기호표시 Ai air inlet area m2 Av vent area m2 Cd discharge coefficient ds smoke layer depth m g gravitational acceleration m/s2 mass flow rate in the plume kg/s mass flow rate through vent kg/s convective heat release rate kW T smoke layer temperature K Ta ambient temperature K zo height of virtual origin of plume m zs interface height of smoke layer m a ambient density kg/m3\n",
      "\n",
      "\n",
      "\n"
     ]
    }
   ],
   "source": [
    "## Test page입니다\n",
    "f = open(FINAL_DATA_TXT_PATH, 'r')\n",
    "d = f.readlines()\n",
    "count = 0\n",
    "# for i in d:\n",
    "#     if i == '\\n': count += 1\n",
    "# print(count)\n",
    "# print(len(d))\n",
    "# print(d.count('\\n'))\n",
    "\n",
    "for i in d:\n",
    "    print(i)\n",
    "    if count == 3: break\n",
    "    count+=1\n",
    "f.close()"
   ]
  },
  {
   "cell_type": "markdown",
   "metadata": {},
   "source": [
    "**문단을 문장단위로 자르기(\\n)**<br>\n",
    "text파일은 *1줄에 data 1개*가 들어있다.<br>\n",
    "*1줄에 1문장*으로 변경 (data사이에는 \\n으로 구분)"
   ]
  },
  {
   "cell_type": "code",
   "execution_count": 114,
   "metadata": {},
   "outputs": [
    {
     "data": {
      "text/plain": [
       "11"
      ]
     },
     "execution_count": 114,
     "metadata": {},
     "output_type": "execute_result"
    }
   ],
   "source": [
    "a=\"asdfk wlfwlk nflwng %#$ kkklw%#$sfk %#$dlkfjlsj lkfjsl%#$ \"\n",
    "re.findall(\"%#\\$\", a)\n",
    "# asfkljsf%#$faskld``fjlka%#$  %#\\$\n",
    "b=\"faklsdfjlk %#$\"\n",
    "re.sub(\"%#\\$\", \"세\", b)\n",
    "b.find('%#$')\n"
   ]
  },
  {
   "cell_type": "code",
   "execution_count": 17,
   "metadata": {},
   "outputs": [
    {
     "name": "stdout",
     "output_type": "stream",
     "text": [
      "0\n"
     ]
    }
   ],
   "source": [
    "f=open(FINAL_DATA_TXT_PATH, 'r')\n",
    "lines=f.readlines()\n",
    "f.close()\n",
    "count = 0\n",
    "for i, d in enumerate(lines):\n",
    "    count += len(re.findall(\"%#\\$\",d))\n",
    "    \n",
    "print(count)"
   ]
  },
  {
   "cell_type": "code",
   "execution_count": 18,
   "metadata": {},
   "outputs": [
    {
     "name": "stdout",
     "output_type": "stream",
     "text": [
      "find url : 9117개\n"
     ]
    }
   ],
   "source": [
    "# URL의 경우 예외처리 @@로 한 후에 나중에 다시 변경\n",
    "import re\n",
    "URL_reguler_expression = r\"\"\"(?i)\\b((?:https?:(?:/{1,3}|[a-z0-9%])|[a-z0-9.\\-]+[.](?:com|net|org|edu|gov|mil|aero|asia|biz|cat|coop|info|int|jobs|mobi|museum|name|post|pro|tel|travel|xxx|ac|ad|ae|af|ag|ai|al|am|an|ao|aq|ar|as|at|au|aw|ax|az|ba|bb|bd|be|bf|bg|bh|bi|bj|bm|bn|bo|br|bs|bt|bv|bw|by|bz|ca|cc|cd|cf|cg|ch|ci|ck|cl|cm|cn|co|cr|cs|cu|cv|cx|cy|cz|dd|de|dj|dk|dm|do|dz|ec|ee|eg|eh|er|es|et|eu|fi|fj|fk|fm|fo|fr|ga|gb|gd|ge|gf|gg|gh|gi|gl|gm|gn|gp|gq|gr|gs|gt|gu|gw|gy|hk|hm|hn|hr|ht|hu|id|ie|il|im|in|io|iq|ir|is|it|je|jm|jo|jp|ke|kg|kh|ki|km|kn|kp|kr|kw|ky|kz|la|lb|lc|li|lk|lr|ls|lt|lu|lv|ly|ma|mc|md|me|mg|mh|mk|ml|mm|mn|mo|mp|mq|mr|ms|mt|mu|mv|mw|mx|my|mz|na|nc|ne|nf|ng|ni|nl|no|np|nr|nu|nz|om|pa|pe|pf|pg|ph|pk|pl|pm|pn|pr|ps|pt|pw|py|qa|re|ro|rs|ru|rw|sa|sb|sc|sd|se|sg|sh|si|sj|Ja|sk|sl|sm|sn|so|sr|ss|st|su|sv|sx|sy|sz|tc|td|tf|tg|th|tj|tk|tl|tm|tn|to|tp|tr|tt|tv|tw|tz|ua|ug|uk|us|uy|uz|va|vc|ve|vg|vi|vn|vu|wf|ws|ye|yt|yu|za|zm|zw)/)(?:[^\\s()<>{}\\[\\]]+|\\([^\\s()]*?\\([^\\s()]+\\)[^\\s()]*?\\)|\\([^\\s]+?\\))+(?:\\([^\\s()]*?\\([^\\s()]+\\)[^\\s()]*?\\)|\\([^\\s]+?\\)|[^\\s`!()\\[\\]{};:'\".,<>?«»“”‘’])|(?:(?<!@)[a-z0-9]+(?:[.\\-][a-z0-9]+)*[.](?:com|net|org|edu|gov|mil|aero|asia|biz|cat|coop|info|int|jobs|mobi|museum|name|post|pro|tel|travel|xxx|ac|ad|ae|af|ag|ai|al|am|an|ao|aq|ar|as|at|au|aw|ax|az|ba|bb|bd|be|bf|bg|bh|bi|bj|bm|bn|bo|br|bs|bt|bv|bw|by|bz|ca|cc|cd|cf|cg|ch|ci|ck|cl|cm|cn|co|cr|cs|cu|cv|cx|cy|cz|dd|de|dj|dk|dm|do|dz|ec|ee|eg|eh|er|es|et|eu|fi|fj|fk|fm|fo|fr|ga|gb|gd|ge|gf|gg|gh|gi|gl|gm|gn|gp|gq|gr|gs|gt|gu|gw|gy|hk|hm|hn|hr|ht|hu|id|ie|il|im|in|io|iq|ir|is|it|je|jm|jo|jp|ke|kg|kh|ki|km|kn|kp|kr|kw|ky|kz|la|lb|lc|li|lk|lr|ls|lt|lu|lv|ly|ma|mc|md|me|mg|mh|mk|ml|mm|mn|mo|mp|mq|mr|ms|mt|mu|mv|mw|mx|my|mz|na|nc|ne|nf|ng|ni|nl|no|np|nr|nu|nz|om|pa|pe|pf|pg|ph|pk|pl|pm|pn|pr|ps|pt|pw|py|qa|re|ro|rs|ru|rw|sa|sb|sc|sd|se|sg|sh|si|sj|Ja|sk|sl|sm|sn|so|sr|ss|st|su|sv|sx|sy|sz|tc|td|tf|tg|th|tj|tk|tl|tm|tn|to|tp|tr|tt|tv|tw|tz|ua|ug|uk|us|uy|uz|va|vc|ve|vg|vi|vn|vu|wf|ws|ye|yt|yu|za|zm|zw)\\b/?(?!@)))\"\"\"\n",
    "URL_REMOVER = re.compile(URL_reguler_expression)\n",
    "\n",
    "f=open(FINAL_DATA_TXT_PATH, 'r')\n",
    "# g=open(\"rsc/training_data/final_text_url_removed.txt\", 'w')\n",
    "# # 논문 데이터만 사용하기위함\n",
    "g=open(\"only_paper_data/paper_full_url_removed_v{}.txt\".format(VERSION), 'w')\n",
    "\n",
    "lines=f.readlines()\n",
    "URL_li = []\n",
    "new_line = \"\"\n",
    "\n",
    "for line in lines:\n",
    "    URL_li.extend(URL_REMOVER.findall(line))\n",
    "    new_line = URL_REMOVER.sub(\"%#$\", line)\n",
    "    g.write(new_line)\n",
    "    \n",
    "f.close()\n",
    "g.close()\n",
    "print(\"find url : {}개\".format(len(URL_li)))"
   ]
  },
  {
   "cell_type": "code",
   "execution_count": 19,
   "metadata": {},
   "outputs": [],
   "source": [
    "# 문단을 문장단위로 자르기(\\n)\n",
    "def paragraph_to_sentence(path_paragraph, path_sentence):\n",
    "    f = open(path_paragraph, 'r')\n",
    "    g = open(path_sentence, 'w')\n",
    "    \n",
    "    line_num = 1\n",
    "    \n",
    "    level1 = 0\n",
    "    level2 = 0\n",
    "    level3 = 0\n",
    "    level4 = 0\n",
    "    level5 = 0\n",
    "\n",
    "#     text = f.read()   ## 파일이 클경우 index가 초과해서 실행 안됨\n",
    "    text = f.readline()\n",
    "    while text:\n",
    "        if line_num % 1000 == 0:\n",
    "            print(\"processing line : {}\".format(line_num))\n",
    "        \n",
    "        try:\n",
    "            while(1):\n",
    "                temp = text.find(\".\")\n",
    "                # .을 못찾을 경우\n",
    "                if temp == -1:\n",
    "                    g.write(text)\n",
    "                    break\n",
    "                # .으로 끝날 경우((문자).(공백))\n",
    "                elif (text[temp-1].isalpha() and text[temp+1] == \" \"):\n",
    "                    level1 += 1\n",
    "                    if(text[temp-2:temp+1] == \"No.\" or text[temp-2:temp+1] == \"no.\"): \n",
    "                        g.write(text[:temp+2])\n",
    "                        text = text[temp+2:]\n",
    "                    elif(text[temp-3:temp+1] == \"Vol.\" or text[temp-3:temp+1] == \"vol.\"): \n",
    "                        g.write(text[:temp+2])\n",
    "                        text = text[temp+2:]\n",
    "                    elif(text[temp-3:temp+1] == \"Ver.\" or text[temp-3:temp+1] == \"ver.\"): \n",
    "                        g.write(text[:temp+2])\n",
    "                        text = text[temp+2:]\n",
    "                    elif(text[temp-3:temp+1] == \"Fig.\" or text[temp-3:temp+1] == \"fig.\"): \n",
    "                        g.write(text[:temp+2])\n",
    "                        text = text[temp+2:]\n",
    "                    elif(text[temp-3:temp+1] == \"Avg.\" or text[temp-3:temp+1] == \"avg.\"): \n",
    "                        g.write(text[:temp+2])\n",
    "                        text = text[temp+2:]\n",
    "                    elif((text[temp-5:temp+1] == \"Table.\" or text[temp-5:temp+1] == \"table.\") and text[temp+2].isdigit() and text[temp+3] == ' '): \n",
    "                        g.write(text[:temp+2])\n",
    "                        text = text[temp+2:]\n",
    "                    else:    \n",
    "                        g.write(text[:temp+1] + \"\\n\")\n",
    "                        text = text[temp+2:]\n",
    "                # (문자).(공백)안지키고 (문자).(문자)의 경우 줄 바꿈\n",
    "                elif (text[temp-1].isalpha() and text[temp+1].isalpha()):\n",
    "                    g.write(text[:temp+1] + \"\\n\")\n",
    "                    level2 += 1\n",
    "                    text = text[temp+1:]\n",
    "                elif (text[temp-1].isalpha() and text[temp+1].isdigit() and text[temp+2] == \" \"):\n",
    "                    g.write(text[:temp+1] + \"\\n\")\n",
    "                    level3 += 1\n",
    "                    text = text[temp+1:]\n",
    "                else:\n",
    "                    g.write(text[:temp+1])\n",
    "                    level4 += 1\n",
    "                    text = text[temp+1:]\n",
    "        except IndexError:\n",
    "            level5 += 1\n",
    "            if text[-1] == '\\n': g.write(text[:])\n",
    "            else : \n",
    "                g.write(text[:] + \"\\n\")\n",
    "        \n",
    "        text = f.readline()\n",
    "        line_num += 1\n",
    "    \n",
    "    f.close()\n",
    "    g.close()\n",
    "    print(\"level 1 : {}, level 2 : {}, level 3 : {}, level 4 : {}, level 5 : {}\".format(level1, level2, level3, level4, level5))\n",
    "    print(\"Total line number(number of dataset) : {}\".format(line_num - 1))\n",
    "    print(\"create : \",path_sentence)"
   ]
  },
  {
   "cell_type": "code",
   "execution_count": 20,
   "metadata": {
    "scrolled": true
   },
   "outputs": [
    {
     "name": "stdout",
     "output_type": "stream",
     "text": [
      "processing line : 1000\n",
      "processing line : 2000\n",
      "processing line : 3000\n",
      "processing line : 4000\n",
      "processing line : 5000\n",
      "processing line : 6000\n",
      "processing line : 7000\n",
      "processing line : 8000\n",
      "processing line : 9000\n",
      "processing line : 10000\n",
      "processing line : 11000\n",
      "processing line : 12000\n",
      "processing line : 13000\n",
      "processing line : 14000\n",
      "processing line : 15000\n",
      "processing line : 16000\n",
      "processing line : 17000\n",
      "processing line : 18000\n",
      "processing line : 19000\n",
      "processing line : 20000\n",
      "processing line : 21000\n",
      "processing line : 22000\n",
      "processing line : 23000\n",
      "processing line : 24000\n",
      "processing line : 25000\n",
      "processing line : 26000\n",
      "processing line : 27000\n",
      "processing line : 28000\n",
      "processing line : 29000\n",
      "processing line : 30000\n",
      "processing line : 31000\n",
      "processing line : 32000\n",
      "processing line : 33000\n",
      "processing line : 34000\n",
      "processing line : 35000\n",
      "processing line : 36000\n",
      "processing line : 37000\n",
      "processing line : 38000\n",
      "processing line : 39000\n",
      "processing line : 40000\n",
      "processing line : 41000\n",
      "processing line : 42000\n",
      "processing line : 43000\n",
      "processing line : 44000\n",
      "processing line : 45000\n",
      "processing line : 46000\n",
      "processing line : 47000\n",
      "processing line : 48000\n",
      "processing line : 49000\n",
      "processing line : 50000\n",
      "processing line : 51000\n",
      "processing line : 52000\n",
      "processing line : 53000\n",
      "processing line : 54000\n",
      "processing line : 55000\n",
      "processing line : 56000\n",
      "processing line : 57000\n",
      "processing line : 58000\n",
      "processing line : 59000\n",
      "processing line : 60000\n",
      "processing line : 61000\n",
      "processing line : 62000\n",
      "processing line : 63000\n",
      "processing line : 64000\n",
      "processing line : 65000\n",
      "processing line : 66000\n",
      "processing line : 67000\n",
      "processing line : 68000\n",
      "processing line : 69000\n",
      "processing line : 70000\n",
      "processing line : 71000\n",
      "processing line : 72000\n",
      "processing line : 73000\n",
      "processing line : 74000\n",
      "processing line : 75000\n",
      "processing line : 76000\n",
      "processing line : 77000\n",
      "processing line : 78000\n",
      "processing line : 79000\n",
      "processing line : 80000\n",
      "processing line : 81000\n",
      "processing line : 82000\n",
      "processing line : 83000\n",
      "processing line : 84000\n",
      "processing line : 85000\n",
      "processing line : 86000\n",
      "processing line : 87000\n",
      "processing line : 88000\n",
      "processing line : 89000\n",
      "processing line : 90000\n",
      "level 1 : 5459214, level 2 : 51990, level 3 : 3117, level 4 : 3361875, level 5 : 0\n",
      "Total line number(number of dataset) : 90000\n",
      "create :  only_paper_data/paper_full_sentence_temp_v4.txt\n"
     ]
    }
   ],
   "source": [
    "full_text_file = \"only_paper_data/paper_full_url_removed_v{}.txt\".format(VERSION)\n",
    "sentence_text_file = \"only_paper_data/paper_full_sentence_temp_v{}.txt\".format(VERSION)\n",
    "# # 논문 데이터만 사용하기 위함\n",
    "# full_text_file = \"rsc/training_data/final_text_url_removed.txt\"\n",
    "# sentence_text_file = \"rsc/training_data/paper_full_sentence_temp.txt\"\n",
    "paragraph_to_sentence(full_text_file, sentence_text_file)"
   ]
  },
  {
   "cell_type": "code",
   "execution_count": 21,
   "metadata": {},
   "outputs": [],
   "source": [
    "import copy\n",
    "URL = copy.deepcopy(URL_li)"
   ]
  },
  {
   "cell_type": "code",
   "execution_count": 22,
   "metadata": {},
   "outputs": [
    {
     "name": "stdout",
     "output_type": "stream",
     "text": [
      "예상 9117개, 결과 : 9117\n"
     ]
    }
   ],
   "source": [
    "f = open(sentence_text_file, 'r')\n",
    "d = f.readlines()\n",
    "f.close()\n",
    "count = 0\n",
    "for i, l in enumerate(d):\n",
    "    count += len(re.findall(\"%#\\$\", l))\n",
    "        \n",
    "print(\"예상 {}개, 결과 : {}\".format(len(URL_li), count))"
   ]
  },
  {
   "cell_type": "code",
   "execution_count": 23,
   "metadata": {},
   "outputs": [
    {
     "name": "stdout",
     "output_type": "stream",
     "text": [
      "45000\n"
     ]
    }
   ],
   "source": [
    "f = open(sentence_text_file, 'r')\n",
    "d = f.readlines()\n",
    "f.close()\n",
    "count = 0\n",
    "for i ,l in enumerate(d):\n",
    "    if l == '\\n': count += 1\n",
    "print(count)"
   ]
  },
  {
   "cell_type": "code",
   "execution_count": 24,
   "metadata": {
    "scrolled": true
   },
   "outputs": [
    {
     "name": "stdout",
     "output_type": "stream",
     "text": [
      "complete\n"
     ]
    }
   ],
   "source": [
    "URL.reverse()\n",
    "temp_str = \"\"\n",
    "\n",
    "g = open(FINAL_DATA_TXT_SETENCE_PATH, 'w')\n",
    "try:\n",
    "    for i, line in enumerate(d):\n",
    "        while(1):\n",
    "#                 if (\"``\" in line) : print(line)\n",
    "            start = line.find('%#$')\n",
    "            if start == -1: \n",
    "                g.write(line)\n",
    "                break\n",
    "            g.write(re.sub(\"%#\\$\", URL.pop(), line[:start+3]))\n",
    "            line = line[start+3:]\n",
    "                \n",
    "    print(\"complete\")\n",
    "except IndexError:\n",
    "    print(\"IndexError : line {}\".format(i))\n",
    "    \n",
    "f.close()\n",
    "g.close()\n",
    "# 총 6169673줄의 text 파일 -> URL 처리후 6106379줄"
   ]
  },
  {
   "cell_type": "code",
   "execution_count": 25,
   "metadata": {},
   "outputs": [
    {
     "data": {
      "text/plain": [
       "0"
      ]
     },
     "execution_count": 25,
     "metadata": {},
     "output_type": "execute_result"
    }
   ],
   "source": [
    "len(URL)"
   ]
  },
  {
   "cell_type": "code",
   "execution_count": 26,
   "metadata": {},
   "outputs": [
    {
     "name": "stdout",
     "output_type": "stream",
     "text": [
      "예상 : 101189, 결과 : 45000\n"
     ]
    }
   ],
   "source": [
    "a = open(FINAL_DATA_TXT_SETENCE_PATH, 'r')\n",
    "b = a.readlines()\n",
    "## 공백 개수 확인 (예상 101189 - data 갯수)\n",
    "count = 0\n",
    "for i in b:\n",
    "    if i == '\\n': \n",
    "        count += 1\n",
    "a.close()\n",
    "print(\"예상 : 101189, 결과 : {}\".format(count))"
   ]
  },
  {
   "cell_type": "code",
   "execution_count": 27,
   "metadata": {
    "scrolled": true
   },
   "outputs": [
    {
     "name": "stdout",
     "output_type": "stream",
     "text": [
      "Total line number of text file :  5233444\n"
     ]
    }
   ],
   "source": [
    "u = open(FINAL_DATA_TXT_SETENCE_PATH, 'r')\n",
    "z = u.readlines()\n",
    "u.close()\n",
    "print(\"Total line number of text file : \", len(z))"
   ]
  },
  {
   "cell_type": "markdown",
   "metadata": {},
   "source": [
    "**text file 분할**<br>\n",
    "원본 text file은 크기가 너무 커서 OOM 이슈 발생"
   ]
  },
  {
   "cell_type": "code",
   "execution_count": 28,
   "metadata": {},
   "outputs": [
    {
     "data": {
      "text/plain": [
       "45000"
      ]
     },
     "execution_count": 28,
     "metadata": {},
     "output_type": "execute_result"
    }
   ],
   "source": [
    "# 총 dataset 개수와 일치하는지 확인 : 101189개\n",
    "f = open(FINAL_DATA_TXT_SETENCE_PATH, 'r')\n",
    "d = f.readlines()\n",
    "f.close()\n",
    "len([i for i in d if i == '\\n'])"
   ]
  },
  {
   "cell_type": "code",
   "execution_count": 29,
   "metadata": {},
   "outputs": [
    {
     "data": {
      "text/plain": [
       "90000"
      ]
     },
     "execution_count": 29,
     "metadata": {},
     "output_type": "execute_result"
    }
   ],
   "source": [
    "# 공백으로 나누어진 1개의 데이터별로 분리\n",
    "result = []\n",
    "temp = []\n",
    "for i in d:\n",
    "    if i == '\\n':\n",
    "        result.append(temp)\n",
    "        result.append('\\n')\n",
    "        temp = []\n",
    "    else:\n",
    "        temp.append(i)\n",
    "        \n",
    "len(result)  # 데이터 개수 확인 (101189개)"
   ]
  },
  {
   "cell_type": "code",
   "execution_count": 79,
   "metadata": {},
   "outputs": [
    {
     "ename": "SyntaxError",
     "evalue": "invalid syntax (<ipython-input-79-756fc3462bfa>, line 5)",
     "output_type": "error",
     "traceback": [
      "\u001b[0;36m  File \u001b[0;32m\"<ipython-input-79-756fc3462bfa>\"\u001b[0;36m, line \u001b[0;32m5\u001b[0m\n\u001b[0;31m    if i == 100000: num = len(result) - 100000\u001b[0m\n\u001b[0m                  ^\u001b[0m\n\u001b[0;31mSyntaxError\u001b[0m\u001b[0;31m:\u001b[0m invalid syntax\n"
     ]
    }
   ],
   "source": [
    "# Finalresult_n.txt 파일 생성\n",
    "for i in range(0, len(result), 100000):\n",
    "    print(i)\n",
    "    f = open(DISTRIBUTED_FINAL_DATA_TXT_SETENCE_PATH.format(VERSION, ((i+1)/100000)+1), 'w')\n",
    "    if i == 100000: num = len(result) - 100000\n",
    "    else: num = 10000\n",
    "    for j in range(num):\n",
    "        for k in result[i+j]:\n",
    "            f.write(k)\n",
    "    f.close()"
   ]
  },
  {
   "cell_type": "code",
   "execution_count": 30,
   "metadata": {},
   "outputs": [
    {
     "name": "stdout",
     "output_type": "stream",
     "text": [
      "step :  0\n",
      "step :  9000\n",
      "step :  18000\n",
      "step :  27000\n",
      "step :  36000\n",
      "step :  45000\n",
      "step :  54000\n",
      "step :  63000\n",
      "step :  72000\n",
      "step :  81000\n"
     ]
    }
   ],
   "source": [
    "# 논문데이터 분할 파일 생성\n",
    "cutting_line = 9000\n",
    "\n",
    "for i in range(0, len(result), cutting_line):\n",
    "    print(\"step : \", i)\n",
    "    f = open(DISTRIBUTED_FINAL_DATA_TXT_SETENCE_PATH.format(VERSION, ((i+1) // cutting_line) + 1), 'w')\n",
    "    if (i + cutting_line) > len(result): num = len(result) - i -1\n",
    "    else: num = cutting_line\n",
    "    for j in range(num):\n",
    "        for k in result[i+j]:\n",
    "            f.write(k)\n",
    "    f.close()"
   ]
  }
 ],
 "metadata": {
  "kernelspec": {
   "display_name": "python3_projectAI",
   "language": "python",
   "name": "projectai"
  },
  "language_info": {
   "codemirror_mode": {
    "name": "ipython",
    "version": 3
   },
   "file_extension": ".py",
   "mimetype": "text/x-python",
   "name": "python",
   "nbconvert_exporter": "python",
   "pygments_lexer": "ipython3",
   "version": "3.6.9"
  }
 },
 "nbformat": 4,
 "nbformat_minor": 4
}
