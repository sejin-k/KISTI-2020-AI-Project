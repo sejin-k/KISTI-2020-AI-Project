{
 "cells": [
  {
   "cell_type": "code",
   "execution_count": 23,
   "metadata": {},
   "outputs": [],
   "source": [
    "from collections import Counter\n",
    "from collections import defaultdict\n",
    "import os\n",
    "import argparse\n",
    "import re\n",
    "from konlpy.tag import Mecab\n",
    "tokenizer = Mecab()"
   ]
  },
  {
   "cell_type": "code",
   "execution_count": 4,
   "metadata": {},
   "outputs": [],
   "source": [
    "# VERSION\n",
    "VERSION = \"4\"\n",
    "\n",
    "# INPUT PATH\n",
    "FULL_TEXT_FILE_PATH = \"only_paper_data/paper_full_text_v4.txt\"\n",
    "\n",
    "# OUTPUT PATH\n",
    "MECAB_VOCAB_KO_PATH = \"only_paper_data/paper_mecab_vocab_ko_v{}_sejin.txt\".format(VERSION)\n",
    "\n",
    "# TEMP FILE\n",
    "FULL_WORD_TEMP = 'only_paper_data/paper_text_vacab_ko_temp_v{}_sejin.txt'.format(VERSION)\n",
    "DUPLICATED_TEMP = \"only_paper_data/paper_mecab_vocab_ko_duplicate_v{}_sejin.txt\".format(VERSION)"
   ]
  },
  {
   "cell_type": "markdown",
   "metadata": {},
   "source": [
    "### Vocab을 위한 데이터 전처리 및 vocab 파일 생성"
   ]
  },
  {
   "cell_type": "code",
   "execution_count": 25,
   "metadata": {},
   "outputs": [],
   "source": [
    "def whitespace_tokenize(data):\n",
    "    data = data.strip()    # 문자열의 맨앞, 맨끝 공백 지움\n",
    "    if not data:\n",
    "        return []\n",
    "    tokens = data.split()  # 문자열을 스페이스,탭,엔터 단위로 분리하여 배열에 집어넣음\n",
    "    return tokens"
   ]
  },
  {
   "cell_type": "code",
   "execution_count": 3,
   "metadata": {},
   "outputs": [],
   "source": [
    "f = open(FULL_TEXT_FILE_PATH, 'r')\n",
    "d = f.read()"
   ]
  },
  {
   "cell_type": "code",
   "execution_count": 4,
   "metadata": {
    "scrolled": true
   },
   "outputs": [
    {
     "data": {
      "text/plain": [
       "'구획화재에서 환기조건의 변화가 화재특성에 미치는 영향 (Part II 다차원 화재거동) Effects of Ventilation Condition on the Fire Characteristics in Compartment Fires (Part II Multi-dimensional Fire Dynamics) 김종현 고권현 박충화 황철홍 초록 실규모 ISO 9705 표준 화재실에서 환기조건 변화에 따른 다차원 화재거동에 관한 수치해석적 연구가 수행되었다. 선행된 실험과 동일한 조건에 대하여 FDS(Fire Dynamic Simulator)가 사용되었다. 과환기화재 및 환기부족화재의 발생을 위하여 연료 유량과 출입구의 폭이 변화되었다. 주요 결과로서, 환기부족화재의 내부 유동패턴은 과환기화재와 비교할 때 반대방향을 갖으며, 그 결과 다량의 고온 생성물이 구획내부에서 재순환되는 매우 중요한 특징을 확인하였다. 환기조건에 따른 유동패턴의 변화는 구획 내부에서 고온 생성물의 체류시간을 크게 변화시키며, CO 및 그을음의 복잡한 생성과정에 큰 영향을 미칠 수 있다. 환기부족화재는 구획 내부의 열 및 유동구조 뿐만 아니라 화학종의 분포에 관하여 매우 복잡한 3차원 구조를 생성하였다. 특히, 구획 내부의 측면에서 추가적인 반응은 유동패턴 및 CO 생성에 매우 큰 영향을 주고 있다. 복잡한 CO의 분포는 3차원 산소 농도의 분포 및 유동 패턴을 통해 체계적으로 분석되었다. 위 결과로 부터 고온 상층부에서 측정된 국부 화학종 농도는 구획 내부의 화재특성을 규명하는데 많은 한계가 있음을 확인할 수 있었다. Multi-dimensional fire dynamics were studied numerically with the change in ventilation conditions in a full-scale ISO 9705 room. Fire Dynamic Simulator (FDS) was used for the identical conditions conducted in previous experiments. Flow rate and doorway width were changed to create over-ventilated fire (OVF) and under-ventilated fire (UVF). From the numerical simulation, it was found that the internal flow pattern rotated in the opposite direction for the UVF relative to the OVF so that a portion of products recirculated to the inside of compartment. Significant change in flow pattern with ventilation conditions may affect changes in the complex process of CO and soot formation inside the compartment due to increase in the residence time of high-temperature products. The fire behavior in the UVF created complex 3D characteristics of species distribution as well as thermal and flow structures. In particular, additional burning near the side wall inside the compartment significantly affected the flow pattern and CO production. The distribution of CO inside the compartment was explained with 3D distribution and flow patterns. It was observed that gas sampling at local positions in the upper layer were insufficient to completely characterize the internal structure of the compartment fire. 핵심 어휘 Compartment fire FDS (Fire Dynamic Simulator) Ventilation condition Fire dynamics CO(Carbon monoxide) 본문 1. 서 론 구획화재에서 환기조건의 변화는 화재의 전반적 특 성인 연소효율, 총괄당량비뿐만 아니라 고온 상층부의 온도 및 연소생성물의 농도에 큰 영향을 준다. 특히 가 연연료에 비해 산소가 부족한 환기부족화재(under- ventilated fire)는 과환기화재(over-ventilated fire)에 비 해 더욱 복잡하고 불규칙한 화재거동을 보이게 된다. 또한 인체에 치명적인 일산화탄소(CO)를 포함하여 미 연탄화수소(THC total hydrocarbon carbon), 그을음 (soot) 등을 다량으로 발생시키기 때문에 심각한 인명 피해를 초래한다.1,2) 구획화재에서 CO 생성에 관한 대부분의 연구는 고 온 상층부의 화재특성을 모사하기 위하여 연료 및 공 기의 양을 제어할 수 있는 배기후드(exhaust hood)에서 주로 수행되었다.3) Pittz4) 는 다양한 실험결과를 바탕으 로 총괄당량비(global equivalence ratio)를 이용하여 환 기조건에 따른 CO 농도의 예측을 시도하였다. 그 결 과 제한된 조건에서 CO의 발생량은 총괄당량비와 고 온 상층부의 온도를 이용한 상관관계를 통해 예측될 수 있었다.5) 그러나 기존의 배기후드 실험에서와는 달 리 구획화재에서는 상층부의 온도와 생성물의 농도분 포가 균일하지 않으며, 벽면에서의 열적 피드백(thermal feedback)으로 인하여 내부의 온도는 배기후드 실험에 서의 결과와 큰 차이를 보였다.6) 그 결과 구획화재에 서는 총괄당량비를 통해 예측된 값보다 많은 양의 CO 가 발생되었으며, 구획화재와 배기후드에서의 유동특 성과 온도의 차이는 결과적으로 CO 발생량의 큰 차이 를 발생시킬 것으로 예측되었다.7) 특히 환기부족화재 는 고온 상층부와 저온 하층부의 구분이 명확하지 않 을 정도로 유동구조가 매우 복잡하며, 이는 연료와 공 기의 혼합, 온도분포의 급격한 변화를 초래하며, 결과 적으로 CO 생성특성에 큰 영향을 줄 수 있다. 최근에는 센서 및 레이저 계측을 이용한 다양한 실 험기법의 발전으로 건물 내부의 발생열량, 온도, 농도 및 속도장에 대한 측정이 가능하다. 그러나 실제 규모 의 화재실험에서는 비용 및 측정의 어려움으로 인하여 제한된 국부위치나 특정 단면에서 낮은 해상도의 계측 만이 이루어지고 있다.8) 결과적으로 실험적 연구만을 통해서 복잡한 3차원 화재거동 및 열유동 특성을 갖는 환기부족화재를 정확히 이해하는데 한계가 있다. 화재현상을 수치적으로 모사하기 위한 전산해석기법 은 크게 존(zone) 모델과 필드(field) 모델로 구분될 수 있다. 존 모델에서는 건물 내부의 공간을 상부의 고온 연기층과 하부의 차가운 공기층으로 구분한다. 이때 각 영역의 경계면을 지나는 열 및 질량유속에 의한 상호 관련성을 고려하여 균일한 물성치를 갖도록 가정된다. 최근 보다 현실적인 물리적 접근방법이 구현된 존 모 델의 경우에 예측 정확도는 부분적으로 개선되었다. 그 러나 존 모델에 적용된 물리적인 가정은 존 모델이 고 온 연기층 및 차가운 공기층의 구분이 명확하지 않은 환기부족화재를 해석하기에는 명확한 한계가 있음을 의미한다.9) 화재현상을 해석하는 필드 모델 중 NIST 의 BFRL(Building and Fire Research Lab.)에서 개발된 FDS(Fire Dynamic Simulator)10) 는 3차원의 공간에서 화 염의 순간적인 거동 해석이 가능한 LES(large eddy simulation)기법을 적용하고 있다. 또한 다양한 조건의 화재실험에 대한 검증을 통해 화재현상을 이해하는데 유용한 도구로 널리 알려져 있다. 이러한 배경 하에 본 연구에서는 환기조건 변화에 따른 건물 내부의 복잡한 유동 및 화재거동에 대한 이 해를 위하여, FDS를 이용한 수치계산을 수행하였다. 이를 통해 환기조건에 따른 다차원 유동특성, 온도 및 화학종 분포에 대해 검토하고 환기부족화재의 발생 시 중요시 되는 CO의 생성특성에 관한 새로운 해석결과 를 제시하고자 한다. 2. 실험 및 수치해석 방법 2.1 실험방법 및 조건 실제 규모의 구획화재 실험을 위하여 Figure 1과 같 이 2.4m × 2.4m × 3.6 m의 크기를 갖는 ISO 9705 표준 화재실이 제작되었다. 연료는 헵탄(C7 H16 )이 사용되었 Figure 1. Perspective views of the ISO 9705 room and location of measurements (unit m). 한국화재소방학회 논문지, 제24권 제5호, 2010년 34 김종현 고권현 박충화 황철홍 으며, 실내 중앙에 설치된 정사각형 버너(또는 팬(pan)) 에 의해 공급되었다. 환기조건에 따른 화재특성의 변 화를 관찰하기 위하여 과환기화재에서는 표준 출입구 의 크기인 0.8m × 2.0m가 사용되었으며, 환기부족화재 에서는 유입공기량의 제어를 통해 낮은 발열량에서 보 다 쉽게 환기부족조건을 조성하도록 0.2 m×2.0 m의 출 입구가 설치되었다. 발열량의 측정을 위하여 6m × 6m 후드를 가진 산소 소모 열량계를 이용하였다. 건물 내부의 온도, 연소생 성물 및 그을음의 농도는 고온 상층부의 두 지점에서 측정되었으며, 6개의 열유속계(total heat flux gauge)가 천정과 바닥에 설치되었다. 또한 수직 방향에 따른 온 도분포를 확인하기 위하여 두개의 열전대 트리(tree)를 설치하였다. 보다 자세한 실험장치, 방법 및 각 측정에 대한 불확실도(uncertainty)는 NIST TN 160311) 에서 확 인될 수 있다. 선행된 실험연구11) 에서는 매우 다양한 환기조건에 대한 측정이 이루어졌으나, 본 연구에서는 2개의 과환 기화재와 1개의 환기부족화재에 대한 검토가 수행되었 다. Table 1에 제시된바와 같이, 과환기조건에서 이론 발열량이 1100kW에서 2400kW로 증가할 때, 연소효율 은 97.8%에서 86.1%로 감소한다. 이때 총괄당량비( g ) 를 살펴보면, 0.327에서 0.634로 증가되지만 모든 조건 이 1.0보다 작은 과환기화재에 해당된다. 반면에 환기 부족화재의 경우, 이론 발열량은 1830kW로 비교적 작 은 값이지만, 출입구의 면적감소에 의한 유입 공기량 의 감소로 인하여 연소효율은 80.7%로 감소하며, 총괄 당량비는 2.156으로서 전형적인 환기부족화재의 특징 을 보여주고 있다. 참고로 Table 1에 표기된 와 는 각각 연료의 질량유량(또는 연료 소모율)과 출 입구를 통해 외부에서 유입되는 공기의 질량유량을 의 미한다. 2.2 계산방법 및 조건 환기조건에 따른 화재현상을 수치모사하기 위해 LES 의 수행이 가능한 FDS(ver. 5.1.6, SVN 1710)가 사용 되었다. LES에서 순간적인 유동변수는 GS(grid scale) 성분( )과 SGS(subgrid scale) 성분(f )으로 나뉘어진다. 이때 GS 성분은 Farve 여과( )에 의해 결정되 며, over-bar 첨자는 공간여과(spatial filter)를 의미한다. 그 결과 낮은 마하수(Ma Navier-Stokes 방정식은 다음과 같은 LES 방정식으로 표현된다.12) (1) (2) (3) (4) (5) 공간 여과과정에서 발생되는 sgs , Jsgs 와 qsgs 는 SGS 성 분 효과를 나타내는 응력텐서, 화학종 및 열 유속(flux) 을 의미하며, 위 방정식들을 종결(closure)하기 위하여 추가적인 모델이 수행된다. SGS 항들의 모델링을 위해서는 SGS의 특성길이 및 시간규모의 정보가 요구된다. 이를 위해 길이 규모는 격자의 크기, 즉 =( x y z)1/3 으로 하였으며, 시간 규모는 SGS에서 에너지의 생성과 소멸사이에 평형상 태가 존재하다는 가정을 이용하는 original Smagorinsky 의 모델13) 에 의해 결정되었다. 이때 SGS의 에디 점성 계수에 포함되는 상수 Cs는 0.2로 고정되었다. 지배방정식의 차분을 위하여 공간에 대해서는 유한 체적법을 이용한 2차 정확도의 중심 차분법이 사용되 었다. 시간적분에 대해서는 전체적으로 2차 정확도를 갖는 양해법(explicit) 예측-교정자법이 적용되었다. 또 한 열유속( )은 복사열전달 방정식의 유한체적법14) 을 통해 고려되었다. 계산조건은 Table 1에 제시된 실험조건과 동일하며, 건물 외부로 배출되는 화염 및 경계조건에 의한 영향 m f m a f f = f/ t ----- + u ( ) = 0 u t --------- + u u ( ) = p + sgs ( ) + g Y i t ----------- + Y i u ( ) = D i Y i + J sgs ( ) + m i h t --------- + h u ( ) = D p o D t --------- + k T + D ih i Y i + qsgs i ∑ qr = poW/RT qr Table 1. Experimental Conditions and Global Parameters Over- Ventilated Fires Under- Ventilated Fire Doorway Width (m) 0.80 0.20 Burner Size (m2 ) 1.0 0.5 Ideal HRR (kW) 1110 2400 1830 Measured HRR (kW) 1080 2070 1480 Combust. Eff. (%) 97.8 86.1 80.7 (kg/s) 0.025 0.054 0.041 Into Door (kg/s) 1.145 1.282 0.288 g 0.327 0.634 2.156 m f m a 구획화재에서 환기조건의 변화가 화재특성에 미치는 영향(Part II 다차원 화재거동) 35 J. of Korean Institute of Fire Sci. Eng., Vol. 24, No. 5, 2010 을 최소화하기 위하여 Figure 2에서와 같이 2.4m × 7.0m ×4.5m의 넓은 계산영역이 설정되었다. 격자 민감도 해 석을 통해 약 600,000개의 불균일 격자가 사용되었으 며, 격자의 평균 크기는 약 0.05m에 해당된다.15) 출입 구에서 발생되는 큰 구배의 속도를 해상하기 위하여 추가적으로 약 0.015m의 크기를 갖는 격자가 삽입되 었다. 실험에서 측정된 연료 유량 및 소모량이 화원의 입력값으로 사용되었으며, 그을음의 생성을 인위적으 로 모사하기 위하여 0.015의 그을음 생성량(yield) 값 이 사용되었다. 또한 벽면의 정확한 열전달을 고려하 기 위하여 온도에 의존하는 벽면 재질의 물성치값들이 적용되었다. 3. 결과 및 검토 Figure 3은 본 계산에 적용된 과환기 및 환기부족화 재에 대한 이해를 돕기 위해 선행 실험에서 측정된 순 간적인 화염사진을 나타낸 것이다. 각 조건에 대해 동 일한 위치에서 측정된 사진의 부재로, Figure 3(a)는 환 기부족화재에서 점화 이후 초기단계에서 발생되는 과 환기조건의 순간을 나타낸 것이다. 사진에서 확인할 수 있듯이, 건물 내부에 충분한 산소가 존재하는 과환기 조건에서는 화염의 크기가 작으며, 미량의 그을음만이 건물 외부로 배출된다. 반면에 환기부족조건에서는 대 부분의 화염이 건물 외부에서 생성되고 있으며, 부력 효과에 의해 주기적으로 큰 와동이 발생됨을 볼 수 있 다. 선행실험11) 을 통해 화염의 가시적인 촬영뿐만 아니 라 상층부의 국부적인 위치에서 온도 및 농도의 측정 이 이루어졌다. 그러나 환기조건의 변화에 따라 건물 내부의 유동패턴, 온도 및 농도들의 분포에 대한 정보 획득은 실험적 방법으로는 매우 큰 한계가 있다. 따라 서 상세한 검증을 통한 신뢰도 높은 수치계산 결과는 건물 내부의 다차원 화재거동을 예측하는데 매우 유용 할 것으로 사료된다. Figure 4는 x=1.2 m의 y-z 단면에서 과환기화재에 대한 평균 단위 체적당 열발생율(HRRPUV heat release rate per unit volume), 속도벡터, 유선 및 이론 화염면 을 도시한 것이다. HRRPUV는 100 2000kW/m3의 범 위에서 표현되었으며, 이론 화염면은 헵탄 연료의 이 론 혼합분율의 값(≈ 0.0622)에 의해 표현되었다. Figure 4(a)에서 측정 발열량은 1080kW이며, 총괄당량비는 0.327로 매우 낮은 조건이다. 이때 화염은 전형적인 풀 (pool) 화재의 형상을 보이고 있으며, 화원 근처의 충 분한 산소로 인하여 매우 작은 화염길이를 보여주고 있다. 유동패턴은 천정에 의한 충돌 및 뒷부분의 재순 환 유동을 제외하고는 일반적인 부력화염의 현상을 보 여주고 있다. 이러한 화염형상 및 유동패턴은 고온 상 층부에서 균일한 온도 및 농도분포를 형성시킴을 선행 된 실험결과11) 를 통해 확인될 수 있다. 측정 발열량 이 2070kW에 해당되는 Figure 4(b)를 살펴보면, 화염 길 이는 증가하였으며, 출입구를 통해 유입되는 공기량의 증가로 인하여 화염면은 뒷부분으로 기울어졌음을 볼 수 있다. 또한 내부 유동은 시계방향으로 크게 순환하 면서 출입구를 통해 외부로 배출됨을 알 수 있다. 비 록 본 논문에서는 제시되지 않았으나, 실험에서 관측 된 상층부 뒷부분의 상대적인 높은 온도분포의 원인은 Figure 2. Computational domain for predicting fire dynamics in the ISO-9705 room. Figure 3. Temporal images of (a) the over-ventilated and (b) under-ventilated compartment fires. 한국화재소방학회 논문지, 제24권 제5호, 2010년 36 김종현 고권현 박충화 황철홍 본 계산에서 예측된 화염거동을 통해 명확히 설명될 수 있다. Figure 5는 x=1.2m의 y-z 단면에서 과환기화재에 대 한 평균 O2 몰분율 및 온도분포를 도시한 결과이다. 그 림의 이해를 돕기 위하여 O2의 몰분율과 온도는 각각 0.0 0.18과 200 1200o C의 범위 내에서 표현되었다. 측 정 발열량이 1080kW일 때, 상층부의 O2 및 온도는 매 우 균일하며, 고온의 상층부와 저온의 하층부가 수평 적으로 명확하게 구분됨을 볼 수 있다. 반면에 측정 발 열량이 2070kW의 조건에서는 상층부의 두께는 낮은 발열량 조건에 비해 크게 증가하였으며, 화염면의 위 치 변화로 인하여 뒷부분의 상층부 두께는 앞부분에 비해 증가되었음을 볼 수 있다. Figures 4와 5의 결과 로 부터 과환기화재에서 발열량의 증가는 건물 내부의 화염 길이 및 위치를 변화시키고 동시에 내부 유동과 고온 영역의 체류시간을 변화시킴을 알 수 있다. Figure 6은 x=1.2m의 y-z 단면에서 환기부족화재에 대한 HRRPUV, 속도벡터, 유선 및 이론 화염면을 도 시한 것이다. Figure 4의 과환기화재와 비교할 때, 환 기부족화재에서는 부족한 공기유입으로 인하여 화염은 대부분 건물 외부에서 생성되며, 내부 유동은 반시계 방향으로 순환하는 매우 상반된 결과를 보여주고 있다. 이러한 환기조건 변화에 따른 내부 유동패턴의 급격한 변화는 결과적으로 독성물질의 생성 및 분포가 크게 변화될 수 있음을 간접적으로 보여주는 매우 중요한 현상이다. 특히 환기부족화재에서는 내부 재순환 유동 패턴으로 인하여 출입구 근처에서 생성된 불완전 연소 생성물들이 건물 내부로 재순환되면서, 고온과 과농한 연료성분으로 인하여 추가적인 CO, THC 및 그을음 등 을 생성시킬 수 있음을 예측할 수 있다. Figure 7은 x=1.2m의 y-z 단면에서 환기부족화재에 서 대한 평균 O2 몰분율 및 온도분포를 도시한 결과이 다. 그림에서 건물 내부의 산소는 거의 존재하지 않음 을 볼 수 있다. 내부의 온도분포를 살펴보면, 출입구 Figure 4. Mean distributions of HRRPUV, velocity and flow streamlines on y-z plane (at x = 1.2 m) for the over- ventilated fires. Figure 5. Mean distributions of O2 mole fraction and temperature on y-z plane (at x = 1.2 m) for the over- ventilated fires. Figure 6. Mean distributions of HRRPUV, velocity and flow streamlines on y-z plane (at x = 1.2 m) for the under- ventilated fire. 구획화재에서 환기조건의 변화가 화재특성에 미치는 영향(Part II 다차원 화재거동) 37 J. of Korean Institute of Fire Sci. Eng., Vol. 24, No. 5, 2010 근처의 화염면에서 최대의 온도값이 분포하며, 반시계 방향의 재순환유동을 따라 벽면으로의 열손실로 인하 여 온도는 점차적으로 감소되고 있음을 확인할 수 있다. 환기부족화재는 과환기화재에 비해 건물 내부에서 보다 복잡한 유동구조를 갖기 때문에 이에 대한 3차원 평균 유동장 해석이 수행되었다. Figure 8은 평균 O2 iso-contour와 출입구 하단에서 공기 유입에 따른 유선 분포를 도시한 것이다. O2의 분포를 살펴보면, 벽면 근 처의 값이 중심부분(x = 1.2m)에 비해 높음을 볼 수 있 다. 이러한 분포는 출입구 하단에서 유입되는 공기의 유동분포를 통해 설명될 수 있다. 출입구의 중앙으로 부터 유입된 공기는 팬 앞면에서 생성된 화염대에서 반응하는 반면에, 벽면방향으로 침투된 공기는 y=1.2m 근처에서 연료와 반응하며, 부력효과에 의해 급격히 수 직방향으로 상승하게 된다. 이때 생성된 고온 생성물 은 천정에 부딪히며, 결국 1.8m 재순환하게 된다. 위와 같은 복잡한 유동특성이 CO 생성에 미치는 영 향을 검토하기 위하여, Figure 9는 환기부족화재에서 3 차원 평균 CO 분포를 도시한 결과이다. 건물 내부에 서 CO의 생성은 크게 3가지 영역으로 분류될 수 있다. 즉 버너와 출입구 사이의 영역, 측면의 y=1.2m, 측면 의 y = 2.4m 영역이다. 측면에서 생성되는 CO는 Figure 8의 O2의 분포와 유선을 통해 해석될 수 있다. 즉 y= 1.2m 측면에서 O2는 연료와 반응하여 생성물을 생성 하면서 부력효과에 의해 수직방향으로 상승하게 된다. 이때 시간에 따라 증가되는 당량비로 인하여 CO의 농 도는 점차적으로 증가한다. 또한 상승한 고온 생성물 은 1.8m 된 체류시간과 더욱 높아진 당량비로 인하여 더욱 많 은 CO가 발생하게 된다. 결과적으로 유속이 가장 낮 은 중심영역 (y = 2.4m)에서 건물 내부의 최대 CO 농 도가 존재하게 된다. 이러한 CO 생성에 관한 3차원 분 포는 그동안의 화재 연구에서 확인되거나 제시된 바 없는 새로운 발견이라 할 수 있다. 특히 충분한 검증 과정을 거친 LES 수치해석 결과를 이용한 환기부족화 재에서 CO 생성특성 규명은 향후 상세 반응기구를 통 한 CO 생성원리 규명에 매우 유용한 정보를 제공할 것으로 판단된다. 4. 결 론 실규모 ISO 9705 표준 화재실에서 환기조건의 변화 에 따른 화재거동을 이해하기 위한 수치해석이 수행되 었으며, 주요 결과는 다음과 같다. 과환기화재에서 낮은 발열량의 조건에서는 일반적인 Figure 7. Mean distributions of O2 mole fraction and temperature on y-z plane (at x = 1.2 m) for the under- ventilated fire. Figure 9. Mean distributions of CO iso-contour inside the compartment for the under-ventilated fire. Figure 8. Mean distributions of streamlines and O2 iso- contour inside the compartment for the under-ventilated fire. 한국화재소방학회 논문지, 제24권 제5호, 2010년 38 김종현 고권현 박충화 황철홍 부력화염과 벽면 충돌유동의 혼합된 현상을 관찰할 수 있으며, 고온 상층부의 온도 및 농도는 비교적 균일한 분포를 갖게 된다. 그러나 발열량이 더욱 증가함에 따 라 화염면은 뒷부분으로 이동하게 되며, 이로 인하여 상층부의 온도는 불균일한 분포를 갖게 된다. 이때 내 부의 유동은 화염면의 위치와 직접적으로 관련되며, 시 계방향으로 크게 순환하면서 출입구를 통해 외부로 배 출된다. 환기부족화재에서는 출입구 및 건물 외부에서 생성 된 화염면의 위치로 인하여 내부 유동은 반시계방향의 큰 재순환 구조를 갖는다. 이는 과환기화재에서의 유 동패턴과 매우 상이한 결과이다. 보다 상세한 해석은 3차원 O2의 분포 및 유선을 통해 확인될 수 있었으며, 이를 통해 CO의 생성특성 및 분포를 상세히 이해할 수 있었다. 동시에 기존에 구획화재에서 적용되는 존 모델의 접근방법과 국부적인 위치에서의 실험 측정값 은 3차원의 복잡한 화재특성을 갖는 환기부족화재를 이해하는데 많은 한계가 있음을 알 수 있었다.\\n\\n방화셔터를 이용한 아트리움 제연과 피난안전에 관한 수치해석 연구 A Numerical Study for the Atrium Smoke Control by Fire Shutter and Evacuation 전흥균 최영상 추홍록 초록 본 연구에서는 대구 D대학 기숙사 건물에 대해 2MW, 5MW 화재크기와 아트리움 방화셔터의 미설치 및 작동 경우의 4가지 화재시나리오를 구성하고, FDS(ver. 5.5.0)와 Pathfinder 2009 프로그램을 사용하여 화재 및 피난시뮬레이션을 수행하였다. 화재피난영향평가를 통하여 방화셔터와 배연구의 아트리움 제연 효과에 대한 성능을 확인하였고, 화재위험 및 피난안전을 분석하였다. 방화셔터의 작동은 연기 전파 방지에 큰 효과가 있지만, 상부 배연구를 통한 배연량이 불충분하여 방화셔터의 유무에 관계없이 연기층은 바닥으로부터 약 2m 지점까지 하강하고, 본 연구에서 설정한 연기층 한계 높이 이하가 되었다. 또 방화셔터 미설치, 5MW 화재크기의 경우, 온도보다 가시거리에 의한 화재위험 가능성이 더 크게 나타났고, 기숙사 중.상부 층의 계단실 피난여유시간은 약 5초 이내로 매우 작았다. 지상 1층 주출입구까지 전체 피난자의 순수 피난이동시간은 136초이다. 피난자의 더 안전한 피난을 위해 추가적인 보완조치가 필요하다고 사료된다. Four fire scenarios, as the cases of fire sizes of 2 MW and 5 MW, and no installation and activation of atrium fire shutter for dormitory building of Daegu D college , were developed and fire simulations were run using FDS (ver. 5.5.0) and Pathfinder 2009 programs. By assessing fire and evacuation, the effects of atrium fire shutter and vents on the smoke control of atrium were evaluated and this study also analyzed fire hazard and egress safety for occupants in the dormitory. Fire shutter s preventing smoke transport around atrium was much effective, but smoke layer descended down the design limit of smoke height and kept about 2 m height from the atrium floor in all cases because flow rate through vents was not enough. For the case of 5 MW fire and no fire shutter, fire hazard was higher due to visibility than temperature and allowable egress time to stairwell was short less than 5 seconds for the occupants on the floors of 4F to 7F. For total occupants, egress time out of main doorway was calculated about 136 seconds. It is sure that additional systems improving the performance of smoke control need to be installed for more safe evacuation. 핵심 어휘 Atrium fire shutter FDS and Pathfinder Smoke control Fire hazard Safe evacuation 본문 1. 서 론 고층오피스, 주상복합아파트, 대형할인마트 및 대학 교육용 건물 등 현대 건축물은 규모와 기능면에서 점 차 대형화, 고층화, 복합화 되고 있다. 이러한 건물은 실내구조가 매우 복잡하고 신소재 건 축자재의 사용이 늘고 있어 화재 발생 가능성이 매우 높고, 거주 밀도가 높아 피난의 혼잡과 장애 가능성이 높아 화재 시 막대한 재산 및 인명 피해가 우려된다. 따라서 고층 대형 건축물의 화재 및 피난안전성 확보 는 재산과 인명 피해 방지를 위해 매우 중요한 사안으 로 대두된다. 그러나 국내소방법기준은 이러한 건축물 에 대한 관련법 미비로 인해 화재 및 피난안전성 확보 를 위한 성능위주설계 업무에 어려움이 있다. E-mail jeonhk mail.dhc.ac.kr 방화셔터를 이용한 아트리움 제연과 피난안전에 관한 수치해석 연구 51 J. of Korean Institute of Fire Sci. Eng., Vol. 24, No. 5, 2010 본 연구에서는 화재 및 피난안전성 확보를 위한 성 능위주설계와 관련하여 대구 D대학 기숙사 건물(이하 기숙사 로 표기)에 대한 화재시뮬레이션을 통하여 아 트리움에 설치된 방화셔터와 배연구의 아트리움 제연 효과에 대한 성능 확인과 더불어 화재피난영향평가를 통하여 화재위험 및 피난안전에 대해 분석하고자 한다. 본 연구와 관련된 연구로써 이영주1) 는 사례를 중심 으로 본 최근 대형건축물의 방재 이슈 에서 E대학교 캠퍼스 센터와 S국제금융센터의 방재특성에 대하여 화 재 및 피난시뮬레이션을 실행하여 화재안전성을 확인 하였다. 또 Michael J. Ferriera 외 1인2) 은 Federal Building and Fire Safety Investigation of the World Trade Center Disaster Smoke Management Systems 에 서 세계무역센터 테러 사고 시 건물 내 화재와 피난안 전과 관련하여 계단실 제연설비의 작동 여부와 성능에 관한 수치해석을 수행하였다. 또 향후 911테러 사고와 같은 대형 건물 화재 시 연기로부터 피난안전을 확보 하여 거주자의 인명피해를 최소화할 수 있도록 제연방 식에 대한 보완대책을 강구하였다. 상기 연구와 더불어 본 연구에서는 화재피난영향평 가를 통하여 화재위험 및 피난안전 분석기법의 수준을 제고시키고, 향후 시행될 화재피난영향평가제의 기준 마련과 원활한 제도 운영에 도움을 주고자 한다. 본 연구의 화재피난영향평가 대상 건물인 기숙사는 식당, 세탁실, 휴게실, 기계실, 사감실, 학생 방과 더불 어 건물 중앙에 아트리움 공간으로 구성된 지하 1층 지상 8층 규모의 건물이다. 화재피난시뮬레이션에 사 용한 프로그램은 FDS(ver. 5.5.0)3) 와 Pathfinder 20094) 이다. 2. 자연배연 이론 열과 연기의 자연 배연이란 화재실내 창문 또는 설 계된 배연구를 통하여 고온의 연기 부력과 팽창에 의 한 외부로의 고온 연기의 제거와 더불어 외부로부터 신선한 공기가 유입되도록 하는 것을 말한다. 자연 배 연의 목적은 고온의 연기가 피난경로공간으로 전파되 는 것을 막아 화재위험으로부터 실내거주자가 안전하 게 피난 할 수 있도록 하고, 소방진압대원이 확보된 시 야를 통해 화재건물 내 진입과 화재 진압을 용이하게 할 수 있도록 하며, 화재 건물과 시설이 고온의 연기 에 장시간 노출 되는 것을 방지하여 인명과 재산 피해 를 최소화 할 수 있도록 하는 것이다.5) 본 연구의 아트리움 상부 벽면에 설치된 배연구를 통한 자연배연과 관련된 식은 미국 NFPA 204 기준6) 을 적용하였다. 먼저 화재 열기류의 질량유량 계산식 은 식(1)과 같다. (1) 또 배연구를 통해 배출되는 연기의 질량유량 계산식 은 식(2)와 같다. (2) 본 연구에서 아트리움 상부 배연구의 전체 면적은 11.52m2이고, 외기 유입구의 면적은 건물 주출입구의 면적으로써 4.0m2이다. 또 화재면적은 4m2이며, 열방 출율이 2MW와 5MW의 화재에 대하여 식(1)과 식(2) 를 사용하여 화재 열기류와 배연구의 질량유량을 계산 하였다. 3. 화재 및 피난 시뮬레이션 3.1 화재 및 피난 모델 본 연구의 화재피난영향평가 대상 건물인 기숙사는 지하 1층에는 식당, 세탁실, 휴게실, 기계실과 지상 1 층에는 로비, 사감실과 남학생 방, 2층과 3층에는 남학 생 방, 4층에서 7층에는 여학생 방, 그리고 외국인 교 수 방, 8층에는 옥상계단실 등을 포함한 지하 1층 지 상 8층 규모이며, 건물 공간 중앙에는 아트리움으로 건 축된 건물이다. 아트리움 공간 상부 수직 벽면에는 창 이 설치되어 평상시에는 실내 환기를, 화재 시에는 자 연배연을 담당한다. 또 1층과 2층을 제외한 지하 1층과 지상 3층에서 7 층까지 전체 6개 층의 아트리움 4면 천장에는 방화셔 터가 설치되어 연기감지기와 연동하여 화재 시 건물 중앙의 아트리움 공간을 구획함으로써 화염 확산 및 연기 전파를 차단한다. 본 화재모델의 수치계산영역은 다중 격자계(multiple meshes systems)로 구성하였고, 격자크기는 가로, 세로, 높이가 각각 0.2m이며, 전체 계산영역의 격자수는 777,528개이다. 화재시뮬레이션은 Workstation급 컴퓨 터(DELL Precision 690)를 사용하여 수행하였다. 각 화 재모델별 계산 시간은 약 64시간이다. Figure 1은 화재 모델을 나타낸다. 피난모델의 재실자 분포는 기숙사 각 실에 2명씩이 며, 전체 재실자 수는 177명이다. Figure 2는 피난모델 을 나타낸다. 재실자 분포는 Table 1에 나타내었다. m p = 0.071Q c zs zo ( )5/3 × 1 + 0.027Q c zs zo ( )-5/3 m v = Cd v, Av 1 + Cd v, Av Cd i,2 Ai2 Ta T ----------------------------------------------× 2 a gds× T a T T a ( ) T 한국화재소방학회 논문지, 제24권 제5호, 2010년 52 전흥균 최영상 추홍록 3.2 화재 및 피난 시나리오 본 연구의 화재시나리오는 2가지 화재크기와 방화셔 터의 설치 유무로 전체 4가지 경우를 고려하였다. 설 계화재는 열방출률이 2MW와 5MW로써 발화(t = 0초) 에서 화재모의실험 종료시점(t = 600초)까지 일정하며, 아트리움 지하 1층 중앙 바닥에 위치한다. 연기감지기는 광전식 2종으로써 지하 1층 및 지상 3 층에서 7층까지 전체 6개 층의 아트리움 주위 통로 상 부 천장 아래에 각 층별로 4개씩 전체 24개가 설치되 었다. 본 연구에서는 Cleary model7) 을 적용하였다. 방화셔터는 연기감지기의 작동과 연동되며, 본 연구 의 화재시뮬레이션 결과 최초 연기감지기 작동시점이 2MW와 5MW 화재 시 각각 약 10초와 8초임을 감안 하여 발화 후 20초에서 작동되도록 하였다. 또 1개의 연기감지기가 작동되면 아트리움 전체 방화셔터가 동 시에 작동되며, 방화셔터의 하강속도는 0.1m/s로 적용 하였다. 방화셔터가 바닥면까지 완전 하강 시 방화셔 터의 굴절부분 틈새로의 연기 전파는 없는 것으로 가 정하였다. 초기온도는 20o C이고, 외부풍속은 0m/s를 적 용하였다. 본 연구의 피난시뮬레이션에 적용한 전체 재실자의 보행속도는 1.19m/s로 동일하며, 보행자 특성은 steering 모드를 적용하였다.8) 재실자의 안전 피난은 지상 1층 주출입구를 통과하여 건물 외부로 피난 완료한 상태이 다. 또 피난 시간 계산 시 화재 위험특성과 피난 전 행 동특성은 고려하지 않았고, 재실자의 순수 피난이동시 간( ttrav )만을 계산하였다. 3.3 제연성능과 화재안전기준 제연성능기준의 경우, 아트리움 중앙 바닥에서 발생 한 화재 연기가 아트리움 공간 상부 배연구를 통한 자 연배연과 동시에 방화셔터로 구획된 아트리움 공간 체 적에 자연 충만(natural smoke filling)에 의한 연기층 하강높이가 기 설정한 일정 높이를 유지하는지 여부와 배연구를 통한 배연량에 대한 이론 계산 값과 화재시 뮬레이션 결과 값을 비교하여 성능을 분석하였다. 본 연구에서는 연기층 한계 높이를 방화셔터가 설치되어 있지 않은 2층의 바닥에서 상부 2m 높이(지하 1층 바 닥에서 10m 높이)로 설정하였다. 화재안전기준의 경우, 피난안전에 영향을 크게 미치 Figure 1. Fire model (FDS). Figure 2. Evacuation model (Pathfinder). Table 1. Occupant Load in Dormitory (Unit pers) Floor Man Woman Total 7F 2 18 20 6F - 26 26 5F - 26 26 4F - 26 26 3F 26 - 26 2F 26 - 26 1F 23 2 25 B1 - 2 2 Total 77 100 177 방화셔터를 이용한 아트리움 제연과 피난안전에 관한 수치해석 연구 53 J. of Korean Institute of Fire Sci. Eng., Vol. 24, No. 5, 2010 는 연기층의 온도와 가시거리 2가지를 고려하였고, 각 각 65o C와 6m로 적용하였다. 각 건물 하부, 중간, 상 부 층의 화재위험을 알아보기 위하여 지하 1층, 지상 1층, 4층, 7층의 계단실로 연결되는 통로 입구 바닥면 의 1.5m 높이에서 2가지 화재위험요소를 측정하였다. 본 연구의 화재피난영향평가를 위해 적용한 제연성능 기준9) 과 화재안전기준10) 은 Table 2와 같다. 4. 결과 및 고찰 4.1 방화셔터와 배연구의 제연성능 화재크기가 2MW와 5MW의 경우 이론식에 의한 화 재 열기류의 질량유량( )은 각각 43.1kg/s와 55.1kg/ s이다. 실제 설치된 배연구의 질량유량 이론 계산 값 ( )은 각각 13.9kg/s와 18.9kg/s로 열기류의 발생량 에 비해 상당히 부족한 상태이다. 2MW와 5MW 화재에 대한 화재시뮬레이션 결과, 연 기층 높이가 10m인 시점에서 배연구를 통한 배연량 ( )은 방화셔터 미설치 경우 각각 20.0kg/s, 28.2kg/ s이고, 방화셔터 작동 경우 각각 18.6kg/s, 26.6kg/s이다. 이후 연기 층의 높이가 최대로 하강한 시점의 최대 배 연량( )은 방화셔터 미설치 경우 각각 27.1kg/s, 35.8kg/s이고, 방화셔터 작동 경우 각각 31.4kg/s, 39.6kg/ s이다. 화재크기가 큰 경우와 방화셔터가 작동한 경우 배연량이 약 8kg/s 정도 크게 나타났다. 화재초기에는 방화셔터 작동 경우보다 미설치 경우의 배연량이 크다. 이것은 화재초기 방화셔터의 차단으로 아트리움 주위 의 연기가 배연구로 배출하지 못하기 때문이다. 이후 화재가 진행됨에 따라 방화셔터 작동 경우가 미설치 경우보다 배연량이 더 크다. 이것은 방화셔터로 구획 된 아트리움 공간이 화재열기류의 유동 통로 역할과 함께 충만된 고온 연기층의 부력이 크게 작용하기 때 문이다. 배연구를 통한 배연량은 화재시뮬레이션 결과 값이 이론값 보다 크지만, 이론식의 열기류 질량유량 계산 값 보다는 크게 못 미치는 것으로 나타났다. 이 러한 결과는 Figure 4에서 나타난 바와 같이 연기층이 한계높이 아래로 하강한다는 것을 의미한다. Table 3은 각 경우의 질량유량을 나타낸다. 본 연구의 화재시뮬레이션 결과 방화셔터의 작동 시 아트리움 공간 주위로의 연기 전파는 방화셔터 미설치 시 보다 현저히 감소하여 연기 전파 방지에 상당한 효 과가 있음을 확인할 수 있다. 그러나 방화셔터로 구획 된 아트리움 공간 내에 충만한 연기가 상부 배연구로 의 불충분한 배연으로 인해 연기층은 한계 높이 이하 로 하강하여 1층과 2층 통로로 부분적인 연기 전파 현 상이 나타났다. 따라서 연기층이 한계 높이 이하로 하 강하는 것을 방지하기 위해서는 배연량을 열기류 발생 량과 동일하게 하여야 한다. 이를 위해서는 배연구 면 적과 외기유입구의 면적 조정이 필요하다. 본 연구의 5MW 화재와 방화셔터 작동 경우에 대해 식(2)를 사 용하여 계산한 결과, 외기유입구 면적을 그대로 둔 경 우라면 배연구 면적은 약 3배 정도 증가시켜야 한다. 또 배연구 면적을 2배 정도 증가시키면, 외기유입구 면 적은 약 3배 정도 증가시켜야 한다. Figure 3과 Figure 4는 각각 배연구를 통한 질량유량과 아트리움 공간내 m p m v th , m v 10m , m v max , Table 2. Criteria for Smoke Control and Fire Safety Case Quantities Criteria Smoke Control Smoke layer height 2.0 m above floor at the 2 story Fire Safety Temperature 65p C at 1.5 m above floor Visibility 6 m at 1.5 m above floor Table 3. Flow Rates of Fire Plume and Vent Flow Rate (kg/s) No Fire Shutter Fire Shutter 2 MW 5 MW 2 MW 5 MW 43.1 55.1 43.1 55.1 13.9 18.9 13.9 18.9 20.0 28.2 18.6 26.6 27.1 35.8 31.4 39.6 m p m v th , m v 10m , m v max , Figure 3. Smoke flow rate through vent. 한국화재소방학회 논문지, 제24권 제5호, 2010년 54 전흥균 최영상 추홍록 의 연기층 높이를 나타내며, Figure 5는 5MW 화재에 대한 연기 전파를 나타낸다. 4.2 화재위험 분석 4.2.1 온도 화재크기가 2MW와 5MW의 경우에 대해 방화셔터 의 미설치 경우와 작동 경우의 화재시뮬레이션 결과 중 통로 온도를 Figure 6과 Figure 7에 나타내었다. 아트리움 방화셔터의 미설치, 화재크기가 2MW인 경 우 모든 층의 통로 온도는 화재안전기준(65o C) 이하이 며, 중 상부 층의 온도는 하부 층의 온도보다 약 30o C 정도 높다. 또 5MW인 경우 4층과 7층의 통로 온도는 발화 100초 후 화재안전기준 이상으로 증가하며, 중 상부 층의 온도는 하부 층의 온도보다 약 50o C 정도 높다. 따라서 화재크기가 증가할수록 아트리움을 통한 고온의 연기전파로 인해 중 상부 층의 통로 내 화재 위험이 클 것으로 사료된다. 아트리움 방화셔터의 작동 경우, 화재크기가 2MW 와 5MW 모두 상부 층과 하부 층의 온도 차이는 미작 동 경우 보다 더 낮으며, 두 경우 모두 화재안전기준 이하이다. 즉 방화셔터의 작동으로 아트리움 주위로의 연기 전 Figure 4. Smoke layer height in atrium. Figure 6. Temperature (No fire shutter). Figure 5. Smoke transport for 5 MW fire. 방화셔터를 이용한 아트리움 제연과 피난안전에 관한 수치해석 연구 55 J. of Korean Institute of Fire Sci. Eng., Vol. 24, No. 5, 2010 파가 차단되어 통로내의 화재위험은 낮게 나타났다. 따 라서 아트리움 방화셔터의 작동 경우, 재실자의 통로 피난 시 화재위험은 없을 것으로 사료된다. Figure 8은 5MW 화재에 대한 화재위험기준(65o C) 이상의 온도분 포를 나타낸다. 4.2.2 가시거리 화재크기가 2MW와 5MW의 경우에 대해 방화셔터 의 미설치 경우와 작동 경우의 화재시뮬레이션 결과 중 연기밀도 및 통로 가시거리를 Figure 9, Figure 10. Figure 11에 나타내었다. 아트리움 방화셔터의 미설치 경우, 화재크기가 2MW 와 5MW의 경우 4층과 7층 모두 통로 가시거리는 각 각 약 t=80초와 t=36초에 화재안전기준값(6m)에 도 달된다. 이후 t=250초에 4m와 t=280초에 2m로 유지 된다. 따라서 화재안전기준값에 도달되기 전에 해당 층 에서 대피하지 못할 경우 피난 시 시야장애로 인해 보 행속도가 감소하여 피난 소요시간이 증가함에 따라 화 재위험이 클 것으로 사료된다. 지하 1층의 가시거리는 연기가 아트리움 공간에 충 만할 때까지 일정하다가 이후 감소한다. 그러나 1층의 가시거리는 거의 변동 없이 일정하다. 이것은 1층 주 출입구로부터 유입된 외기가 아트리움 공간으로 유동 함에 따라 연기의 전파가 제한되기 때문이다. 이러한 유동 현상은 주출입구로의 피난 시 1층 통로와 로비에 Figure 9. Smoke density at 300 s for 5 MW (above 100 ppm). Figure 7. Temperature (fire shutter). Figure 8. Temperature at 300 s for 5 MW fire (above 65o C). 한국화재소방학회 논문지, 제24권 제5호, 2010년 56 전흥균 최영상 추홍록 서 피난자의 가시거리 확보에 유리하게 작용할 것으로 사료된다. 아트리움 방화셔터의 작동, 화재크기가 5MW 경우 7층에서 방화셔터 작동 이전에 전파된 연기로 인해 가 시거리는 약 t=40 초에 일시적으로 화재안전기준값 정도까지 감소하지만 이 후 점차 증가한다. 그러나 4 층에서의 가시거리는 약 t=60초에 화재안전기준값 보 다 조금 낮은 값으로 감소하여 약 5분 동안 그 상태가 유지된다. 따라서 이 시간 동안 피난에 다소 어려움이 예상되나, 전반적으로 방화셔터의 작동으로 아트리움 주위로의 연기 전파가 차단됨에 따라 간접적 위험요소 인 가시거리로 인한 통로내의 화재위험은 크게 문제가 되지 않을 것으로 사료된다. Figure 9는 5MW 화재에 대한 100ppm 이상인 연기밀도의 분포를 나타낸다. 4.3 피난안전 분석 본 연구의 피난안전성 평가를 위하여 사용한 피난시 뮬레이션 프로그램은 Pathfinder 2009이다. Pathfinder 2009는 개체 위주(agent-based) 시뮬레이션 프로그램으 로써 피난자의 신체 및 행동 특성에 근거하여 피난완 Figure 10. Visibility (No fire shutter). Figure 11. Visibility (fire shutter). 방화셔터를 이용한 아트리움 제연과 피난안전에 관한 수치해석 연구 57 J. of Korean Institute of Fire Sci. Eng., Vol. 24, No. 5, 2010 료 시까지 개체별 독립적인 움직임에 의해 피난 시간 을 계산하며, 피난 시뮬레이션 결과를 3D 화면을 통해 시각적 효과와 더불어 피난안전 분석을 할 수 있다. 기숙사 건물의 피난 시뮬레이션 결과, 각 층별 통로 내의 체류자 수, 각 층의 계단실 출입구를 통과하는 유 동률을 각각 Figure 12와 Figure 13에 나타내었다. Figure 12에서 피난 초기 피난자가 각 방에서 통로 로 나옴에 따라 각 층의 체류자 수는 증가하여 10초 이내에 최대로 되었다가 이후 계단실 출입구를 통해 Figure 12. Remaining occupants within each floor. Figure 14. Flow rate of stairway. Figure 15. Remaining and exited occupants. Figure 13. Flow rate through stairwell door. 나감으로써 체류자 수가 감소한다. Figure 13에 나타난 바와 같이 피난대피 층인 지상 1층을 제외한 나머지 층의 체류시간은 재실자 수에 따 라 차이가 있으나 대략 30초 이내이다. 1층 체류자 수 는 초기 비슷한 양상을 보이다가 약 40초 이후 상부 층의 피난자가 1층 계단실 문을 통하여 1층 로비로 빠 져나옴에 따라 다시 증가한다. 이후 약 110초부터 다 시 감소한다. Figure 14는 각 층의 계단실내에서 피난자의 유동률 을 나타낸다. 1층에서의 유동률은 약 4명에서 5명 정 한국화재소방학회 논문지, 제24권 제5호, 2010년 58 전흥균 최영상 추홍록 도이며, 4층과 7층에서의 유동률은 약 5명에서 8명 정 도이다. 이러한 변동 현상은 1층을 제외한 각 층에서 유입된 피난자가 계단실 하부 층으로 내려옴에 따라 피난자 수가 점점 증가함과 동시에 계단실 출입구 계 단참에서 계단실내 피난자와 각 층의 통로에서 체류된 피난자의 상호 충돌로 인해 계단실내에서 간헐적인 정 체와 지체가 반복됨에 따라 피난자 보행속도가 감소하 였기 때문이다. Figure 15는 피난시간 동안의 체류자 수와 전체 누적 피난자 수를 나타낸다. 단위시간당 피난자 수는 약 1.3 명/s로 누적피난자 수는 거의 일정하게 증가한다. 177 명의 전체 피난자가 피난완료하는 시간은 136초이다. Figure 16은 시간대별 피난시뮬레이션 장면을 나타낸다. 본 연구의 화재위험분석결과 전체 시간 동안 계단실 의 화재위험은 없는 것으로 확인되었다. 이에 피난안 전 구획된 각 층의 계단실로 대피하는 경우 1층 피난 대피 장소까지 안전하게 피난하는 것으로 제한하여 피 난안전성을 분석하였다. 아트리움 방화셔터의 미설치 경우, 4층과 7층의 화 재위험은 2MW 화재크기의 경우 가시거리에 의한 화 재위험만 존재하며, 화재위험 도래시간은 약 80초이다. 5MW 화재크기의 경우 온도 및 가시거리의 화재위험 도래시간은 약 85초와 36초이다. 발화시점에서 가시거 리의 화재위험 도래시간인 피난허용시간(ASET), 발화 시점에서 피난완료 시간인 피난요구시간(RSET), 피난 자의 화재인지시간( trec )과 화재반응시간( tres )의 합인 피난자의 피난 전 행동시간( tpre ), 피난개시에서 전체 피난자의 피난 완료하는 시간인 순수 피난이동시간 ( ttrav ), 최초 경보설비 작동시간( ta , 최초 감지기 작동 시간( td ) 즉시 피난한다고 가정)과의 관계를 고려하면, 피난여유시간(tallow )은 식(3)으로 계산된다. 계산된 피난 여유시간은 Table 4에 나타내었다. Table 4에 나타난 각 경우의 피난여유시간을 보면 가시거리에 의한 위험 이 온도에 의한 위험보다 크다는 것을 확인할 수 있다. 실제 화재 시 피난자의 피난전 행동시간과 전체 피 난 상황을 감안한 안전율을 고려하면, 화재크기가 5MW 경우 중 상부 층의 피난자는 계단실로 대피하기 전 에 연기의 시야장애로 인해 피난에 상당한 어려움이 예상된다. 반면 아트리움 방화셔터의 작동 경우 앞 절 의 화재시뮬레이션 결과 화재위험은 없다. 따라서 피 난자의 피난안전에는 큰 문제가 없을 것으로 사료된다. Figure 16. Evacuation simulation. Table 4. Allowable Evacuation Time into Stairwell for No Fire Shutter (Unit s) Floor Parameter B1 1F 4F 7F ttrav 16 N/R 27 23 RSET 2 MW 26 N/R 37 33 5 MW 24 N/R 35 31 ASET (Temperature) 2 MW N/R N/R N/R N/R 5 MW N/R N/R 85 85 ASET (Visibility) 2 MW N/R N/R 80 80 5 MW N/R N/R 36 36 tallow (Temperature) 2 MW N/R N/R N/R N/R 5 MW N/R N/R 50 54 tallow (Visibility) 2 MW N/R N/R 43 47 5 MW N/R N/R 1 5 방화셔터를 이용한 아트리움 제연과 피난안전에 관한 수치해석 연구 59 J. of Korean Institute of Fire Sci. Eng., Vol. 24, No. 5, 2010 tallow =ASET RSET tallow =ASET ( ta + tevac ) tallow =ASET ( ta + tpre + ttrav ) tallow =ASET ( ta + trec + tres + ttrav ) tallow ASET ( td +0+0+ ttrav ) (3) 5. 결 론 본 연구에서는 대구 D대학 기숙사 건물에 대해 2MW, 5MW 화재크기와 방화셔터의 미설치 및 작동 경우의 4가지 화재시나리오를 구성하고, FDS(ver. 5.5.0)와 Pathfinder 2009 프로그램을 사용하여 화재피난시뮬레 이션을 수행하였다. 화재피난영향평가를 통하여 기숙 사 아트리움에 설치된 방화셔터와 배연구의 아트리움 제연 효과에 대한 성능 확인과 화재위험 및 피난안전 을 분석한 결과 다음과 같은 결론을 얻었다. (1) 방화셔터 작동 경우, 아트리움 주위로의 연기 전 파가 차단됨으로써 화재위험 방지에 큰 효과가 있었다. 그러나 상부 배연구를 통한 배연량이 불충분하여 방화 셔터의 유무에 관계없이 아트리움 내의 연기층은 바닥 으로부터 약 2m 지점까지 하강하여 한계 높이 이하가 되었다. (2) 방화셔터 미설치, 화재크기가 2MW인 경우, 온 도에 의한 화재위험은 없었고 가시거리에 의한 화재위 험 도달시간은 t=80초이다. 화재크기가 5MW의 경우, 건물 중 상부 층에 대해 화재위험도달시간은 온도와 가시거리 각각 약 85초와 36초로써 온도보다는 가시거 리에 의한 화재위험이 더 크게 나타났다. 그리고 피난 자에 대한 계단실 피난여유시간은 약 5초 이내로 매우 작게 나타났다. (3) 지상 1층 주출입구까지 전체 피난자의 순수 피 난이동시간은 136초이며, 전체 피난자의 1층 건물 주 출입구까지 피난 대피할 경우, 계단실까지의 피난시간 에 비해 약 110초 이상 증가하게 된다. 본 연구의 화재위험 분석 결과, 방화셔터가 작동하 는 경우 연기의 온도가 낮아 화재위험은 거의 없으나, 일부 공간에서 일시적으로 화재안전기준값 보다 낮은 가시거리로 인해 피난에 다소 어려움이 예상된다. 피 난자의 더 안전한 피난을 위해 추가적인 보완조치가 필요하다고 사료된다. 감사의 글 이 논문은 2009년 대구보건대학 교내학술연구비 지 원으로 수행되었습니다. 기호표시 Ai air inlet area m2 Av vent area m2 Cd discharge coefficient ds smoke layer depth m g gravitational acceleration m/s2 mass flow rate in the plume kg/s mass flow rate through vent kg/s convective heat release rate kW T smoke layer temperature K Ta ambient temperature K zo height of virtual origin of plume m zs interface height of smoke layer m a ambient density kg/m3\\n\\n이중격실 Pool 화재에 대한 FDS 검증분석 Validation of FDS for the Pool Fires within Two Rooms 배용범 류수현 김윤일 이상규 금오현 박종석 초록 화재분석모델이 제한사항 내에서 화재 피해를 신뢰성 있게 예측하기 위해서는 화재분석모델에 대한 검증분석이 반드시 이루어져야 하며, 이러한 검증분석 과정은 일반적으로 실증실험 결과와 비교함으로서 이루어진다. 본 연구의 목적은 화재분석모델인 FDS의 이중격실 Pool 화재에 대한 예측 능력을 평가하고, FDS의 중요 입력값(열방출률 및 환기량)의 미소변화에 따른 출력값(온도, 농도, 열유속)의 민감도를 분석하기 위함이다. FDS의 예측능력 평가와 FDS 입력변수의 민감도 분석을 위해 국제공동연구 PRISME 프로잭트로부터 화재실증 결과와 FDS 결과물을 비교분석하였다. 이중격실 Pool 화재에 대한 FDS의 예측능력은 화재실증 실험결과와 비교하여 약 10% changes of input parameter. From this study, the FDS predictive capabilities are within 20% error range. Heat release rate as input parameter affects most of outcomes and flow rate only has relation with concentration of oxygen and combustion products. 핵심 어휘 Fire Dynamics Simulator (FDS) Pool fire Validation 본문 1. 서 론 화재분석모델은 질량, 운동량 및 에너지 보존법칙을 기반으로 화재로 인한 구조물, 계통 및 기기에 대한 손 상 등을 수학적으로 예측하는 방법이다. 이러한 화재분석모델은 검증(Verification Validation) 된 화재상황 내에서 적용되어야만 분석결과의 보수성 을 인정받게 된다.1,2) 화재분석모델의 검증은 화재실증 실험의 결과와 비교를 통해서 이루어지며, 분석을 통 하여 모델의 예측능력 및 입력인자의 민감도가 검증된 다. 그러므로 화재분석모델의 활용도를 높이기 위한 다 양한 화재실증실험과 검증과정은 필수적이라 할 수 있 다. 이러한 화재분석모델의 검증은 그 필요성에도 불 구하고 많은 비용이 들기 때문에 다양하게 이루어지지 않았다. 그러나 화재분석모델이 다양한 분야에서 활용 됨에 따라 화재실증실험을 통한 검증 필요성이 대두되 E-mail baeyb kins.re.kr 이중격실 Pool 화재에 대한 FDS 검증분석 61 J. of Korean Institute of Fire Sci. Eng., Vol. 24, No. 5, 2010 었다. 해외 연구기관을 통해 이루어진 화재실증시험은 Table 1에서와 같다. 국내에서는 지하공동구 화재실험,15) 지하철 역사 승강장 화재실험,16) 조립식 주거건물 화 재실험17) 등을 통하여 화재모델을 평가하는 연구가 수 행되었다. 본 논문에서는 한국, 미국, 일본, 프랑스, 영국, 독일, 등이 참여하여 연구 중인 국제공동연구 OECD/NEA PRISME Project를 통해 수행된 화재실증실험 결과를 가지고 화재분석모델 중의 하나인 FDS(Fire Dynamics Simulator version 5.3)를 예측능력 및 입력변수의 민감 도 측면에서 검증하고자 한다. 화재실증실험 설비, 계 측기, 실험조건과 FDS의 경계조건 및 주요 입력요소 를 전반부에 기술하고, 실험결과를 바탕으로 모델의 예 측능력 및 중요 입력요소인 열방출률 및 환기량에 대 한 민감도를 분석한다. 2. 실 험 2.1 실험장치 본 연구에 사용된 화재실증실험은 두께 0.3m의 강화 콘크리트 벽으로 구성된 두 개의 격실에서 수행한다. 격실크기는 5m × 6m × 4m(가로 ×세로 ×높이)이며, 각 격실 상부에는 공기 유입 및 유출을 담당하는 환기용 개구부(0.6m × 0.3m, 가로 ×세로)가 각각 한 개씩 설 치되어 있다. 격실 사이에는 0.8m × 2.1m(폭 ×높이) 크기의 문이 있으며, 실험진행 중에는 개방된 상태로 있다(Figure 1). 화재가 진행되는 격실 1에는 가연성 액체연료인 TPH 16.266kg이 바닥으로부터 0.4m 높이 의 원형 팬(지름 0.714m, 높이 0.1m)에 담겨 있으며, 팬의 외부는 50mm 두께의 단열재로 마감처리 하여 모든 열은 상부로 향하도록 하였다. 본 연구에서는 화 염 및 고온 연기층으로 인한 주위 영향을 분석하기 Table 1. International Fire Tests for V V14) Country Organization No. room Ventilation Japan BRI 2 Natural USA FMRC 4 Natural USA NIST (cooper) 3 Natural USA NIST (Peacock) 3 Natural USA NIST (Quintiere) 2 Natural Canada NRCC 60 Natural Germany NCR-HDR 60 Mechanical China Ploy U 2 Natural Finland VTT 12 Natural France IRSN 2 Mechanical Figure 1. Schematic diagram of experimental facility. Figure 2. Plane view of measurement points in room 1. Figure 3. Vertical view of measurement points in room 1. 한국화재소방학회 논문지, 제24권 제5호, 2010년 62 배용범 류수현 김윤일 이상규 금오현 박종석 위해서 온도, 농도, 및 열유속을 측정하여 해석하였다. 온도 및 농도 계측기는 고온 연기층 및 주위의 온도 를 대표할 수 있도록 화염과 벽의 영향이 최소가 되 는 수평거리에 설치되었다. 온도계측기의 경우 수직방 향으로 각 실마다 18개의 계측기가 설치되어 높이별 온도를 측정할 수 있게 하였으며, 농도계측기는 고온 연기층 및 주위층을 대표할 수 있도록 각 층별 1개의 계측기가 설치되었다. 열유속 계측기는 케이블 등의 배관이 다수 존재할 수 있는 높이인 2.65m에서 4개 의 벽면 중앙에 설치되었다. 실험장치 내에 각종 센 서에 대한 위치를 Figure 2 및 Figure 3에 나타내었으 며, 상세한 좌표의 위치는 Table 2, 3, 4에 각각 표시 하였다. 2.2 실험조건 화재는 액체상태의 TPH 16.266kg을 원형 연료 팬에 담아놓고 점화장치를 이용 및 착화하여 모든 연료가 소모될 때까지 진행된다. 원형 연료 팬은 3mm 두께의 탄소강으로 구성되어 있으며, 연료 팬의 주위는 50mm 두께의 단열재로 처리되어 있다. 연료 팬의 하부에는 연소로 인한 질량손실률을 측정하기 위한 질량측정기 가 설치되어 화재진행 동안 연료의 질량변화를 측정한 다. 개방된 문으로 서로 연결된 격실 1과 격실 2는 강 화 콘크리트 벽에 의해 외부로부터 밀폐되어 있고, 천 정의 강화 콘크리트만 단열처리 되어 있다. 각 격실에 있는 환기용 개구부를 통해 외부 공기가 0.158m3 /sec 의 속도로 각각 유입 및 유출되고 있다. 주위온도는 25o C, 상대습도 40%인 조건에서 실험은 수행되며, 실 험에 사용된 TPH의 화학 및 연소 특성은 Table 5에 표 시하였다. 3. 화재 시뮬레이션 3.1 초기 및 경계조건 가연성 액체연료인 TPH와 구조물의 초기온도는 25o C, 상대습도 40%로 설정하였으며, 구조물을 구성하고 있 는 강화 콘크리트에 대한 경계조건은 Table 6과 같이 설정하였다. Table 2. Heat Flux Measurement Points in Room 1 Heat Flux Measurement Point m x y z 2.5 6.0 2.65 5.0 3.0 2.65 2.5 0.0 2.65 0.0 3.0 2.65 Table 3. Temperature Measurement Points in Room 1 Room 1 m TG L1 NW x y z TG L1 NW390 1.25 1.50 3.90 TG L1 NW385 1.25 1.50 3.85 TG L1 NW380 1.25 1.50 3.80 TG L1 NW355 1.25 1.50 3.55 TG L1 NW330 1.25 1.50 3.30 TG L1 NW305 1.25 1.50 3.05 TG L1 NW280 1.25 1.50 2.80 TG L1 NW255 1.25 1.50 2.55 TG L1 NW230 1.25 1.50 2.30 TG L1 NW205 1.25 1.50 2.05 TG L1 NW180 1.25 1.50 1.80 TG L1 NW155 1.25 1.50 1.55 TG L1 NW130 1.25 1.50 1.30 TG L1 NW105 1.25 1.50 1.05 TG L1 NW080 1.25 1.50 0.80 TG L1 NW055 1.25 1.50 0.55 TG L1 NW030 1.25 1.50 0.30 Table 4. Concentration Measurement Points in Room 1 CO2 , CO, O2 Concentration Measurement Point m x y z HAUT* 3.75 4.50 3.30 BAS* 3.75 4.50 0.80 *See vertical view of measurement points in room 1. Table 5. Properties of TPH3,6) TPH Chemical composition C12 H26 (20o C) 0.76 g/ml Mw 170 Hc 47500 kJ/kg MLR 13.6 g/s Y co 0.013 g/g Y s 0.056 g/g Flash point 51 61o C Radiative Fraction 0.35 이중격실 Pool 화재에 대한 FDS 검증분석 63 J. of Korean Institute of Fire Sci. Eng., Vol. 24, No. 5, 2010 연소생성물인 CO와 Soot의 생성률은 실험조건과 같 이 각각 0.013g/g와 0.056g/g으로 설정하였고, 개구부 를 통한 공기 유입 및 유출은 ±0.158m3 /sec으로 실험 조건과 동일하게 설정하여, 격실의 외부로부터 유입 및 유출되는 흐름은 없는 것으로 경계조건을 설정하였다. 또한 유입 및 유출 공기의 온도는 25o C, 상대습도는 40%로 각각 설정하였다. 3.2 화재 설정 본 연구에서 FDS의 화재 설정은 열방출률 HRR의 입력을 통해 수행된다. 화재진행에 따른 가연성 액체 TPH의 열방출률은 화재실증실험을 통해 얻은 질량손 실률에 단위질량당 연소열 Hc = 47,500kJ/kg10,11) 을 곱 하여 계산하며, 이렇게 계산된 열방출률을 Figure 4에 표시하였다. 계산된 열방출률을 FDS에 입력하기 위해 열방출률 추세와 근사한 곡선을 추정하여 Figure 4에 표시하였으며, 추정된 곡선을 바탕으로 시간대별 질량 손실률과 열방출률을 Table 7에 나타내었다. 약 30분 동안 진행된 화재에 대하여 17단계의 시간대별 열방출 률을 FDS에서 입력하여 화재를 설정하였다. Table 6. Properties of Reinforced Concrete4,5) Reinforced concrete 2,200 /m3 Cp 740 J/kg/K 0.9 - k 1.5 W/m/K Figure 4. HRR from MLR of experiment and FDS input HRR. Table 7. HRR Estimation from MLR and Heat of Combustion Time sec MLR kg/s Hc kJ/kg HRR kW 000 0.0000 47,500 000.00 0 60 0.0000 47,500 000.00 069 0.0030 47,500 142.50 114 0.0065 47,500 308.75 176 0.0090 47,500 427.50 264 0.0115 47,500 546.25 382 0.0135 47,500 641.25 500 0.0114 47,500 541.50 646 0.0090 47,500 427.50 764 0.0084 47,500 399.00 940 0.0080 47,500 380.00 1382 0.0080 47,500 380.00 1676 0.0085 47,500 403.75 1793 0.0080 47,500 380.00 1911 0.0060 47,500 285.00 1970 0.0040 47,500 190.00 1990 0.0000 47,500 000.00 Table 8. Grid Sizes and the Number of Grid Grid Size Total Number of. Grid 1 0.3m 014,400 2 0.15 m 115,200 3 0.1 m 388,800 Figure 5. Temperature with various grid sizes at TG L1 NW380. 한국화재소방학회 논문지, 제24권 제5호, 2010년 64 배용범 류수현 김윤일 이상규 금오현 박종석 3.3 격자 구성 본 연구에 사용된 FDS의 격자 구성은 정육면체의 균일한 크기의 격자로 이루어진다. 다양한 격자크기별 로 출력값에 대한 민감도를 검토하여 최적의 격자크기 를 선정한다. 수행된 격자크기와 총 격자수를 Table 8 에 나타내었다. 격자크기 0.1m에서 수렴하여 격자크기 를 0.1m로 선정하여 시뮬레이션을 수행하였다. 4. 분석결과 화재실증실험과 시뮬레이션 결과를 바탕으로 모델의 예측능력을 분석하였다. 또한 환기가 제한되고 외부로 부터 밀폐된 두 개의 격실에서 열방출률 및 환기/배기 량은 화재측면에서 중요한 요소이기 때문에 열방출률 및 환기/배기량의 미세변화(± 10%)에 대한 온도, 열유 속, 연소생성물 및 산소 농도의 민감도 분석 결과를 나 타내었다. 모델의 예측능력 및 중요 입력변수의 민감 도는 온도, 열유속, 농도 측면에서 비교분석하였다. 4.1 온도 비교 Figure 6에서부터 Figure 9까지는 바닥으로부터 3.80m 및 2.55m 높이의 온도 계측기 TG L1 NW 위치(Figure 3)에서 화재실증실험 온도와 시뮬레이션 온도를 비교 하여 나타내었다. 또한, 실험조건의 열방출률보다 10% 씩 증감한 경우와 실험조건의 공기 유출입보다 10% 증감한 경우에 대한 시뮬레이션 결과를 나타내었다. 두 개의 계측기 위치에서 시뮬레이션을 통한 온도는 화재 실증실험을 통한 온도와 비교하였을 때에 약 20% 정 Figure 6. Temperature with ± 10% HRR at TG L1 NW380. Figure 8. Temperature with ± 10% HRR at TG L1 NW255. Figure 7. Temperature with ± 10% Ventilation at TG L1 NW380. 도 차이를 나타내었다. 열방출률을 10% 증가 또는 감 소시켜 시뮬레이션한 경우 두 계측지점에서 동일한 실 험조건하에서 시뮬레이션 수행결과와 비교하여 5 10% 정도의 온도변화가 있었으나, 공기 유출입을 10% 증 가 또는 감소시켰을 경우에는 두 측정지점에서 온도변 화를 거의 찾을 수 없었다. 4.2 열유속 비교 Figure 10과 Figure 11은 바닥으로부터 2.65m 높이 의 계측기 지점 FLT L1 NC에서 화재실증실험과 시뮬 레이션의 열유속(Heat Flux)을 비교하여 나타내었다. 또한, 실험조건의 열방출률보다 10%씩 증감한 경우 이중격실 Pool 화재에 대한 FDS 검증분석 65 J. of Korean Institute of Fire Sci. Eng., Vol. 24, No. 5, 2010 와 실험조건의 공기 유출입보다 10% 증감한 경우에 대한 시뮬레이션 결과를 나타내었다. 두 개의 계측기 에서 계산된 열유속은 화재실증실험의 열유속 결과와 비교하였을 때에 약 10% 정도의 차이를 나타내었다. 또한, 열방출률을 10% 증가 또는 감소시켜 시뮬레이 션한 경우 두 계측지점에서 동일한 실험조건하의 시뮬 레이션 수행결과와 비교하여 약 5 8% 정도의 열유속 변화가 있었으나, 공기 유출입을 10% 증가 또는 감소 시켰을 경우에는 두 측정지점에서 열유속 변화를 거의 찾을 수 없었다. 4.3 산소농도 비교 Figure 12와 Figure 13은 바닥으로부터 0.8m 높이의 산소농도 계측지점인 O2 L1 BAS에서 화재실증실험과 FDS시뮬레이션 산소농도를 비교하여 나타내었다. 화재 발생부터 400초까지 산소농도 감소속도가 실험결과와 유사하였으나 후반부로 갈수록 실험값 대비 최대 15% 의 차이를 나타내었다. 공기 유출입을 ±10% 변화시켰 을 경우에는 약 3 6%의 산소농도 변화가 나타났으며, 실험조건의 열방출률보다 10%씩 증감한 경우에는 약 2 3%의 산소농도변화가 나타났다. Figure 14와 Figure 15에는 바닥으로부터 3.3m 높이의 산소농도 계측지점 인 O2 L1 HAUT에서 산소농도를 비교하여 나타내었 다. 화재발생부터 400초까지 산소농도는 실험결과와 유 사하였으나 후반부로 갈수록 실험값 대비 최대 13%의 Figure 9. Temperature with ± 10% Ventilation at TG L1 NW255. Figure 11. Heat Flux with ± 10% Vent at FLT L1 NC265. Figure 12. O2 Concentration with ± 10% vent (O2 L1 BAS). Figure 10. Heat Flux with ± 10% HRR at FLT L1 NC265. 한국화재소방학회 논문지, 제24권 제5호, 2010년 66 배용범 류수현 김윤일 이상규 금오현 박종석 차이를 나타내었다. 상층부의 산소농도 계측의 경우 열 방출률의 ±10% 변화가 환기량 ±10% 변화보다 산소 농도에 더 영향을 주는 것으로 나타났다. 5. 결 론 이중격실 수조화재에 대한 화재분석모델 FDS의 검 증은 화재실증실험의 결과와의 비교분석을 통하여 이 루어졌다. 국제공동연구 OECD/NEA PRISME Project 의 참여를 통해 수행된 화재실증실험 결과가 비교분석 에 이용되었다. FDS의 예측능력은 특정지점에서의 온 도, 농도, 열유속을 바탕으로 검증하였다. 이중격실 공 간 내에서 가연성 액체의 수조화재에 대한 FDS의 예 측능력은 실험값 대비 온도의 경우 약 20% 오차범위 를 나타냈으며, 열유속은 약 10% 오차범위, 농도는 약 15%의 오차범위를 나타내었다. 입력변수에 대한 민감 도는 열방출률 미소변화의 경우 온도는 5 10% 증감을 보였으나, 환기량 미소변화의 경우 온도 변화는 거의 나타나지 않았다. 열유속의 경우, 열방출률의 미소 증 가 혹은 감소에 따라 최대 8%의 열유속 증가 및 감소 영향을 주는 것으로 관측되었으나, 환기량 변화에 따 른 열유속 영향은 없었다. 산소농도의 경우 환기량 또 는 열방출률 미소 변화에 영향을 받았으며, 상층부에 서는 열방출률 미소변화의 영향이 하층부에서는 환기 량 미소변화의 영향이 민감하게 작용하였다. 결론적으로 한 격실이 5m × 6m × 4m 크기인 이중격 실 수조화재에 있어서 FDS의 온도, 열유속 및 농도 예 측능력은 실험 대비 약 10 20%의 오차를 나타내었으 며, FDS에서 환기량 미소변화는 온도 및 열유속의 민 감도에 별다른 영향을 주지 못하지만, 열방출률 미소 변화에 온도 및 열유속은 상당히 민감함을 확인하였다. 또한, 산소농도는 상층부 및 하층부에서 열방출률 및 환기량의 미소변화에 민감하게 반응하며, 특히 상층부 의 경우에는 열방출률 미소변화가 환기량 미소변화 보 다 더 민감하게 영향 받음을 검증하였다.\\n\\n실규모 구획화재의 연소가스에 대한 혼합분율 분석 Mixture Fraction Analysis on the Combustion Gases of the Full-Scale Compartment Fires 고권현 황철홍 초록 본 연구에서는 구획화재로부터 발생되는 화학종의 특성을 파악하기 위해서 혼합분율분석을 수행하였다. 메탄, 헵탄 그리고 톨루엔과 같은 탄화수소 연료들을 사용한 화재 실험이 ISO 9705 표준 화재실에서 수행되었으며 상층부의 두 지점에서 가스종 농도와 그을음(soot) 분율 등을 측정하였다. 미연탄화수소(UHC), 일산화탄소(CO), 이산화탄소( ), 산소( ) 그리고 그을음 등의 측정된 화학종에 대한 질량분율을 혼합분율의 함수로 나타내었고, 탄화수소 연료의 이상적인 반응식에 기초한 상태 관계식과 비교 분석하였다. 혼합분율 분석은 다양한 화재 조건 및 측정 위치에서 얻은 수많은 측정데이터를 하나의 일관된 파라미터, 즉 혼합분율의 항으로 분류할 수 있게 하였다. 해석 결과를 통해 혼합분율 계산에 그을음을 고려하는 것이, 특히 헵탄이나 톨루엔과 같이 그을음 발생이 큰 연료의 경우 분석의 정확성을 향상시킴을 확인하였다. In this study, a mixture fraction analysis was performed to investigate the characteristics of chemical species production in compartment fires burning hydrocarbon fuels such as methane, heptane, and toluene. A series of fire experiments was conducted in the ISO 9705 standard room, and gas species concentration and soot fraction were measured at two locations in the upper layer of the compartment. The mass fractions of measured chemical species, such as unburned hydrocarbons (UHC), carbon monoxide (CO), carbon dioxide ( ), oxygen ( ), and soot were presented as a function of mixture fraction and compared with state relationships based on the idealized reaction of hydrocarbon fuels. The mixture fraction analysis made it possible to rearrange hundreds of species measurements, which were done under various fire conditions and at two locations of the upper layer, in term of the unified parameter, i.e. the mixture fraction. The results also showed that inclusion of soot in the mixture fraction calculation could improve the performance of analysis, especially for the sooty fuels such as heptane and toluene. 핵심 어휘 ISO 9705 room Under-ventilated fires Mixture fraction Carbon monoxide Soot 본문 1. 서 론 건축물 실내에서의 화재는 환기 조건에 따라 화염 위치, 화재실 내부 온도 분포, 연소가스 성분 등과 같 은 주요 특성이 결정된다. 구획 화재가 충분히 성장하 여 외부로부터 유입되는 공기의 양이 열적 피드백 (thermal feedback)으로 인한 연료 증기(fuel vapor) 생 성량에 비해 적어지면 불완전연소가 진행되는데 이러 한 상태의 화재를 흔히 환기부족 화재(under-ventilated fires), 혹은 환기지배형 화재(ventilation-controlled fires) 라고 표현한다. 환기부족 화재에서는 인체에 치명적인 일산화탄소(carbon monoxide, CO)를 포함하여 미연탄 화수소(unburned hydrocarbon, UHC), 그을음(soot) 등 이 대량으로 발생하여 심각한 인명피해를 야기할 수 있다.1,2) 따라서 환기부족조건의 실내 화재에서 발생되 는 연소 가스의 성분특성을 이해하는 것은 화재에 의 E-mail kogh dyu.ac.kr 실규모 구획화재의 연소가스에 대한 혼합분율 분석 129 J. of Korean Institute of Fire Sci. (a) without soot, and (b) with soot for the toluene fire Tests 6 and 7. 한국화재소방학회 논문지, 제24권 제5호, 2010년 134 고권현 황철홍 건에서 그을음의 고려 여부에 따라 혼합분율 값이 크 게 달라지는 것을 확인할 수 있다. 특히 톨루엔 화재 의 경우 그을음을 고려하지 않는 경우 혼합분율 값이 0.07 정도 이상으로 증가하지 않는 것을 볼 수 있다. 그러나 그을음을 고려할 경우 톨루엔 화재의 최대 혼 합분율 값은 0.13 이상으로 증가한다. 앞서 살펴보았듯 이, 이러한 결과는 불연 연료의 성분 중 대부분이 그 을음의 형태로 존재하기 때문이다. 따라서 헵탄이나 톨 루엔과 같은 그을음 발생이 심한 화재의 혼합분율 해 석에서 그을음의 고려는 필수적이라 사료된다. 4. 결 론 본 연구에서는 ISO 9705 표준실에서의 화재 실험으 로부터 측정된 고온 상층부의 연소가스 농도를 연료별 로 정리하여 혼합분율 개념을 바탕으로 분석함으로써 환기부족 구획화재의 연소생성물 특성을 살펴보았다. 이를 통해 다음과 같은 결론을 도출할 수 있었다. 1. 구획화재의 분석에 있어서 혼합분율의 개념은 매 우 유용하여 다양한 조건의 화재에서 측정된 많은 연 소가스 데이터를 하나의 기준으로 분류할 수 있게 하 였다. 다양한 조건의 많은 데이터들이 혼합분율 값에 따라 일정한 경향을 갖고 분포됨을 확인할 수 있었다. 2. 이러한 경향은 이상적인 반응식에 근거한 혼합분 율-종질량분율의 상관관계로 파악할 수 있었다. 혼합분 율 모델은 과환기조건에서는 측정결과를 매우 정확히 예측하는 반면에 환기부족조건에서는 CO2의 농도를 하 향 예측하는 경향을 보였다. 이것은 이상적인 반응식 에 근거한 혼합분율 모델이 CO의 발생을 고려하지 않 기 때문이다. 그럼에도 불구하고 전반적인 질량분율 변 화의 경향에 대한 예측은 유효하다고 판단된다. 3. 혼합분율 계산에 있어서 그을음을 고려하는 것이 혼합분율 값을 크게 증가시켰다. 특히 헵탄이나 톨루 엔과 같이 그을음 발생이 큰 연료의 경우에는 그을음 을 고려하는 것이 정확한 환기조건 판별에 영향을 미 칠 수 있을 만큼 중요하다는 것을 확인할 수 있었다. 마지막으로, 혼합분율에 근거한 연소모델이 FDS7) 를 포함한 대부분의 화재해석코드에서 사용되고 있다는 것을 언급하고자 한다. 본 연구에서 살펴본 바와 같이 혼합분율의 개념은 특히, 환기부족조건에서 상당한 오 차를 발생시킬 수 있다. FDS는 CO나 그을음을 고려 하기 위한 단순한 모델을 포함하고 있다. 그러나 이들 의 예측 정확도 뿐만 아니라 다양한 화재조건에서 CO 와 그을음의 생성특성에 관련된 복잡한 물리 화학적 특성을 적절히 모사할 수 있는지는 향후 보다 체계적 으로 검토되어야 할 것으로 사료된다.\\n\\nC 60 (CH 2 ) n OH (n=0 2)와 C 60 (OH) 2 의 분자구조 및 분광학적 성질에 관한 이론 연구 Theoretical Study for Structures and Spectroscopic Properties of C 60 (CH 2 ) n OH (n=0 2) and C 60 (OH) 2 이주영 김승준 초록 C {60}(CH 2) nOH (n=0 2)와 C {60}(OH) 2 의 가능한 분자구조를 B3LYP/6-311G(d,f) 이론 수준에서 최적화 하였으며, 각 화합물의 가장 안정한 분자구조(global minimum)를 확인하고 결합에너지를 계산하여 구조적 특성에 따른 에너지와의 상호연관성을 고찰하였다. 보다 정확한 상대 에너지를 계산하기 위하여 진동주파수를 계산하여 영점 진동 에너지(zero-point vibrational energy, ZPVE)를 보정하였으며, IR 스펙트럼을 예측하였다. C {60}(CH 2) nOH (n=0-2)에서 결합에너지의 경우, C {60}(CH 2) nOH (n=0 2) and C {60}(OH) 2 have been optimized using density functional theory (DFT) with the 6-311G (d,f) basis set. The harmonic vibrational frequencies and IR intensities are also determined to confirm that all the optimized geometries are true minima. Also zero-point vibrational energies (ZPVE) have been considered to predict the binding energies. The predicted binding energy of C {60}(CH 2) nOHC {60}(OH) 2 DFT Binding energy 본문 서 론 풀러렌(fullerene, C60)은 탄소 60개로 이루어진 축구공 모양의 방향성물질로, 1985년 처음 합성된 이 후 그 독특한 물리적, 화학적 성질 때문에 많은 과학자들의 관심을 끌어 왔다. 특히 매우 높은 온도와 압력을 견딜 수 있고 강하고 미끄러운 성질 등으로 신물질로서의 가능성이 높이 평가되고 있다.1 풀러렌과 그 유도체들은 고분자 물질, 촉매, 광전도체나 광전효과를 이용한 광학재료, 수소 저장,2 초전도체, 전지, 그리고 의학 분야3-5 등 매우 다양한 응용가능성 때문에 지금까지 많은 연구들이 수행되어져왔다. 그러나 풀러렌의 소수성 즉 물에 잘 용해되지 않는 성질 때문에 응용성에 한계가 있다. 따라서 수용액 상에서 풀러렌의 용해성은 중요한 연구과제 가운데 하나가 되어 왔다. 이와 같은 풀러렌의 용해성을 증가시키기 위하여 1992년 Chiang 연구팀은 -OH기를 첨가한 풀러렌 유도체(fullerenol, 풀러렌올)를 처음으로 합성하였다.6 그 이후 다양한 방법으로 다양한 형태의 수용성 풀러렌올을 합성하여 그 응용 가능성을 넓혀왔다.7-11 이와 같은 수용성 풀러렌올은 2000대로 들어서면서 다양한 형태로 그 응용가능성에 관한 연구가 수행되었는데, Chiang 과 그 연구진들은 자유 라디칼을 청소하는 등의 의학적 응용성에 관한 연구 결과를 발표하였으며,12 2001-2002년 Hinokuma 등은 수소 전도체(proton conductor)로서 연료전지에의 응용가능성을 발표하였다.13,14 2003년 Rincon 등은 필름 형태의 풀러렌올을 이용하여 태양에너지의 변환 및 저장 장치 등에 응용 가능성을 연구하였다.15 이외에도 2001년에 Meier와 Kiegiel은 풀러렌에 RuO4의 가수분해 반응을 이용하여 -OH기가 인접하여 2개 붙은 풀러렌을 합성하였으며,16 2004년에는 Xing 등은 TOF-MS 측정, XPS, FT-IR 분광계를 이용하여 풀러렌에 첨가된 -OH기의 개수와 구조에 따른 풀러렌올의 열역학적 안정성을 조사한 논문을 발표하였다.17 풀러렌올에 대한 이론 연구로는 1997년 Wang 등에 의하여 C60(OH)n n=6, 12 의 분자구조와 열역학적 안정성에 대하여 반 경험적 방법으로 계산한 결과를 발표되었으며,18 2006년에는 Rodr guez-Zavala와 Guirado-L pez는 C60(OH)n n=32 의 구조적 안정성에 대하여 반 경험적 방법(semi-empirical method) 및 범 밀도 함수 이론(density functional theory, DFT)방법을 사용한 한 점 에너지(singlepoint energy) 계산으로 연구한 결과를 발표하였다. 이들은 방법을 정확성을 확인하기 위하여 C60(OH)n n=1,2 에 대하여 분자 구조와 결합 에너지를 계산하였다.19 2009년에는 Fileti와 Rivelino에 의하여 C60(OH)1 3의 여러 이성질체들(isomers)에 대하여 DFT 방법을 사용하여 분자구조최적화 및 13C NMR 연구가 발표되었다.20 하지만 지금까지 C60(CH2)nOH (n=1-2)에 대한 이론 계산은 발표되지 않고 있다. 한편 최근에 -방사선을 이용하여 풀러렌 표면에 -OH 등의 기를 첨가한 풀러렌 유도체를 합성하는 연구가 수행되었다.21 풀러렌올과 유사한 즉 수용액 상에서 잘 용해되는 성질을 나타내는 이 유도체는 효소의 고정(immobilization)을 위한 생물학적 센서를 보조하는 물질로써의 응용 가능성을 타진 하고자 합성하였다. 실험 결과 생성물을 확인하기 위하여 FT-IR, 라만 분광계(Raman spectroscopy), 그리고 MALDI-TOF 질량 분광계 등의 분광학 기기를 사용하여 분석하였지만, 스펙트럼을 확인하기 위한 기초 데이터의 부족으로 정확한 확인이 어려워 단지 F-풀러렌으로 명명하였다. 따라서, 본 연구에서는 신뢰할 만한 이론 수준에서 C60(CH2)nOH (n=0 2)와 C60(OH)2에 대한 분자구조를 최적화하여, 결합 성질을 이해하고 절대에너지와 결합에너지를 계산하여 구조적 특성에 따른 에너지와의 상호 연관성을 고찰하였다. 각 화합물의 가장 안정한 분자구조(global minimum)를 확인하고, 보다 정확한 상대 에너지를 계산하기 위하여 진동주파수를 계산하여 영점 진동에너지(ZPVE)를 보정하였으며, C60(OH)2의 가능한 두 구조에 대하여 전자가 채워진 가장 에너지가 높은 분자궤도 함수(Highest Occupied Molecular Orbital, HOMO)와 전자가 채워지지 않은 가장 에너지가 낮은 분자궤도 함수(Lowest Unoccupied Molecular Orbital, LUMO)의 전자분포를 통하여 분자구조의 열역학적 안정성과 MO와의 관계성을 고찰하였다. 또한 최적화된 분자구조에서 IR 스펙트럼을 예측하여 실험 결과를 해석하는데 초석이 되고자한다. 계산 방법 본 논문에 사용된 기본적인 계산방법은 DFT 방법 가운데 일반적으로 가장 보편적으로 사용되어지고 있는 B3LYP를 사용하였다. B3LYP22,23는 Becke, Lee, Yang 그리고 Parr네 사람이 만든 함수들을 조합함으로써 교환 상관관계(exchange correlation)를 첨가한 함수이다. 또한 바탕집합(basis set)은 6-311G**를 사용하였다. 풀러렌에 -OH, -(OH)2, -CH2OH, -C2H4OH 기가 첨가됨에 따른 구조적인 뒤틀림이나 기하학적인 변화를 관찰하고 기저에너지와 결합 에너지를 계산하여 작용기에 따른 결합에너지 변화를 관찰하였다. 또한 진동주파수를 계산하여 최적화된 분자구조가 안정한 최저 에너지(true minimum) 갖는지를 판단하였으며, 결합에너지를 계산하기 위하여 단량체인 C60, OH, (OH)2, CH2OH, C2H4OH 등에 대해서도 위에서 언급한 모든 수준에서 분자구조를 최적화 하였다. 지금까지 언급한 모든 계산들은 Guassian 0324 프로그램을 사용하였다. 결과 및 논의 분자구조 C60OH 기저상태의 분자구조 C60OH (1)에 대한 분자구조는 B3LYP/6-311G(d,f) 수준에서 최적화하였으며 그 결과를 Fig. 1에 나타내었다. 계산된 가장 안정한 분자구조의 결합 길이와 결합 각도는 Table 1에 나열하였다. 최적화된 분자구조를 살펴보면 -OH기가 결합된 부분의 C-C 결합 길이가 6,6결합(육각형-육각형)에서는 1.519 , 5,6 결합(오각형-육각형)에서는 1.540와 1.546 으로 계산되어 일반적인 풀러렌(C60)의 C-C 결합 길이 (6,6결합 1.355 , 5,6결합 1.467 )와 비교해 볼 때 각각 0.164 , 0.073-0.079 정도 길어지는 것으로 확인되었다. 이때 분자 구조는 -OH기가 결합된 부분에서 부분적으로 일그러진 구형의 형태를 나타내었고, 이것은 전기음성도가 큰 산소원자의 부분음전하(partial negative charge)로 인하여 -OH기와 결합된 부분에서 탄소 원자의 전자들이 끌어당겨지기 때문이라고 할 수 있다. 이외의 C-C 결합 길이는 일반적인 풀러렌의 C-C 결합길이와 거의 일치하였다. C-O 결합길이는 1.432 으로 일반적인 탄소 원자와 산소 원자사이 단일결합 길이인 1.43 과 거의 차이가 없는 것으로 계산되었다. O-H 결합길이는 0.965 으로 H2O에서의 길이인 0.942 보다 약간 길어지는 것을 확인했다. Fig. 1. Optimized structure of C60OH (1) calculated at the B3LYP/6-311G(d,f) level of theory. Table 1. Geometrical parameters of C60(CH2)nOH (n=0 2) calculated at the B3LYP/6-311G(d,f) level of theory Fig. 2. Optimized structures of C60(OH)2 calculated at the B3LYP/6-311G(d,f) level of theory. C60(OH)2 기저상태의 분자구조 C60(OH)2에 대한 두 개의 분자구조는 B3LYP/6-311G(d,f) 수준에서 최적화된 결과를 Fig. 2에 나타내었고, 결합 길이와 각도는 Table 2에 나열하였다. (2a)의 구조는 두 개의 -OH기가 풀러렌 표면에서 인접한 부분에 편중되어 결합된 형태이며 (2b)의 구조는 두 개의 -OH기가 서로 반대편에 대칭적 위치의 탄소에 결합되어 있는 형태이다. (2a)의 구조를 살펴보면 -OH기가 결합된 부분의 C-C 6,6결합은 1.609 , 5,6결합은 1.543 으로 일반적인 풀러렌의 C-C 결합 길이보다 각각 0.254 , 0.076 정도 길어졌음을 확인했고, -OH기의 부분적인 음전하의 영향 때문이라고 할 수 있다. (2b)의 구조 역시 각각 0.162 , 0.076 정도 길어진 1.517 , 1.543 으로 나타났고, 앞서 말한 이유와 같다. C-O결합길이는 1.433 로 일반적인 탄소-산소 사이 단일결합 길이(1.43 )와 거의 일치하는 것으로 확인되었다. O-H 결합길이의 경우 두 구조에서 모두 H2O에서의 길이인 0.942 보다 좀 더 긴 0.964 으로 나타났다. Table 2. Geometrical parameters of C60(OH)2 (2a and 2b) isomers calculated at the B3LYP/6-311G(d,f) level of theory C60CH2OH 기저상태의 분자구조 C60CH2OH (3)에 대한 분자구조 역시 B3LYP/6-311G(d,f) 수준에서 최적화하였으며, 그 결과를 Fig. 3에 나타내었다. 결합길이와 각도는 Table 1에 나열하였다. 그 결과 -CH2OH기와 결합한 부분의 C-C 결합길이는 6,6 결합에서 1.519 , 그리고 5,6 결합에서는 1.543 으로 일반적인 풀러렌 분자에 비해 각각 0.164 , 0.076 정도 약간 길어지는 것으로 계산되었다. 역시 결합된 -CH2OH기로 인해 구형이 일그러지는 형태를 띠며, 산소 원자의 부분 음전하에 의한 것으로 보여 진다. 이외의 C-C 결합 길이는 일반적인 풀러렌의 C-C 결합길이와 거의 일치한다. C-O의 경우는 일반적인 탄소 원자와 산소 원자 사이 단일결합 길이인 1.43 보다 짧은 1.417 으로 나타났다. 풀러렌 전체에 편재되어 있던 전자가 -CH2OH기가 결합된 탄소 쪽으로 비편재화가 일어나면서 탄소는 상대적으로 부분 음전하를 띄게 되고, 이 때문에 부분 음전하를 가진 -CH2OH기와 풀러렌 사이에 반발력이 커지면서 -CH2OH기 안의 C-O 결합력도 상대적으로 커지므로 결국 결합 길이가 짧아지게 되는 것으로 해석되어질 수 있다. O-H 결합 길이는 H2O에서의 길이인 0.942 보다 좀 더 긴 0.962 으로 나타났다. Fig. 3. Optimized structures of C60CH2OH (3) and C60(CH2)2OH (4) calculated at the B3LYP/6-311G(d,f) level of theory. C60(CH2)2OH 기저상태의 분자구조 C60(CH2)2OH (4)에 대한 분자구조 또한 B3LYP/6311G(d,f) 수준에서 최적화된 결과를 Fig. 3에 나타내었고, 결합 길이와 각도는 Table 1에 나열하였다. 최적화된 구조에 대한 결과 값을 보면 -(CH2)2OH기가 결합된 탄소 주변의 C-C 결합길이는 6,6 결합에서 1.523 , 5,6 결합에서 1.545 로 계산되어 일반적인 풀러렌의 C-C 결합 길이보다 각각 0.168 , 0.078 정도 길어졌음을 확인했고, 앞서 말한 이유와 같다. 이외의 C-C 결합 길이는 일반적인 풀러렌의 C-C 결합 길이와 거의 일치한다. -(CH2)2OH기에서의 C-C 결합 길이는 1.541 로 일반 C-C 단일결합 길이와 일치한다. C-H 결합길이는 1.096 로 일반적인 C-H 결합 길이(1.093 )와 차이가 없었다. C-O의 경우 1.425 일반적인 탄소 원자와 산소 원자 사이 단일결합 길이인 1.43 과 거의 일치하는 것으로 보아 전하의 영향을 거의 받지 않는 것으로 사료된다. O-H 결합 길이는 H2O에서의 길이인 0.942 보다 좀 더 긴 0.961 로 나타났다. C60(CH2)nOH에서 n이 늘어남에 따라 O-H 결합 길이가 점점 짧아지는 경향을 보이는데, 이는 앞서 언급한 부분음전하의 영향 때문인 것으로 예측된다. Vibrational frequency(진동 주파수) C60(CH2)nOH (n=0 2)의 최적화된 분자구조에 대한 진동 주파수를 B3LYP/6-311G(d,f) 수준에서 계산하여 Fig. 4 6에 나타내었다. 그 결과 모두 양의 값을 나타내어 안정한 최저 에너지 구조인 것을 확인하였다. Fig. 4는 C60OH의 가장 안정한 분자구조에 대해 예측된 IR 스펙트럼을 나타낸 것이다. -OH기에 존재하는 O-H 신축방식(stretching mode)에 대한 피크(peak)는 3798 cm-1에서 관측되었고, 매우 강한 C-O 신축방식은 1033 cm-1에서 발견되었다. Fig. 5는 C60CH2OH의 가장 안정한 분자구조에 대해 예측된 IR 스펙트럼을 나타낸 것이다. 3845 cm-1 에서 O-H 신축방식이 강하게 나타났고, -CH2OH기에 대한 C-H 신축방식이 2984, 3025 cm-1에서 예측되었으며, C-O 신축방식은 1070 1087 cm-1로 계산되었다. Fig. 6에는 C60(CH2)2OH의 가장 안정한 분자구조에 대해 예측된 IR 스펙트럼을 나타내었다. O-H의 신축방식에 대한 값은 3843 cm-1로 계산되었고, -(CH2)2OH기에 대한 C-H 신축방식이 2984, 3016, 3044, 3090 cm-1에서 약간 복잡한 피크로 나타날 것으로 예측되었으며 1056 cm-1에서 C-O 신축방식이 강하게 나타날 것으로 예측되었다. O-H 신축방식에 대한 진동주파수는 n이 늘어남에 따라 청색이동(blue shift)되는 경향을 나타냈으며 O-H 결합이 점차 강해진다는 것을 의미한다고 해석할 수 있겠다. Fig. 4. Vibrational frequencies of C60OH calculated at the B3LYP/6-311G(d,f) level of theory. Fig. 5. Vibrational frequencies of C60CH2OH calculated at the B3LYP/6-311G(d,f) level of theory. Fig. 6. Vibrational frequencies of C60(CH2)2OH calculated at the B3LYP/6-311G(d,f) level of theory. Fig. 7은 최적화된 두 개의 C60(OH)2 이성질체에 대한 진동 주파수를 B3LYP/6-311G(d,f) 수준에서 계산하여 예측된 IR 스펙트럼을 나타낸 것이다. O-H 신축방식에 대한 피크가 (2a)와 (2b) 구조에 대하여 각각 3812 cm-1, 3794 cm-1에서 관측되었고, (2a)가 (2b)보다 청색이동된 것으로 보아 (2a)에서의 O-H 결합이 (2b)에서 보다 더 강하며 (2a)의 구조가 더 안정적일 것으로 짐작할 수 있다. C-O 결합의 경우 (2a)와 (2b) 구조에 대하여 각각 1051 cm-1, 1043 cm-1에서 관측되었다. Fig. 7. Vibrational frequencies of two C60(OH)2 (2a and 2b) isomers calculated at the B3LYP/6-311G(d,f) level of theory. 절대 에너지 및 결합 에너지 C60(CH2)nOH (n=0-2)에 대한 B3LYP 수준에서 최적화된 분자구조에서의 절대에너지(hartree) 및 풀러렌과 라디칼(radical) 사이의 결합에너지(kcal/mol)를 Table 3에 정리하였다. 결합에너지는 E(C60(CH2)nOH)= E(C60)+E((CH2)nOH ) -E(C60(CH2)nOH), (n=0-2)에 의하여 계산하였으며 영점 진동에너지는 같은 바탕집합에서 B3LYP의 계산결과를 사용하여 보정하였다. C60OH의 결합에너지( E)는 35.4 kcal/mol, 그리고 영점 진동에너지를 보정한 결합에너지( E0)는 32.2 kcal/mol로 계산되었다. C60CH2OH의 E는 25.5 kcal/mol, E0은 22.3 kcal/mol로 계산되었으며 이 값은 C60OH보다 각각 9.9 kcal/mol 정도 낮게 나타났다. 반면에 C60(CH2)2OH의 결합에너지( E)는 27.9 kcal/mol, 영점 진동에너지를 보정한 결합에너지( E0)는 24.2 kcal/mol로 계산되어 C60CH2OH보다 각각 2.4 kcal/mol, 1.9 kcal/mol 높게 나타났다. 이러한 E, E0의 경향성을 보았을때 풀러렌올의 경우 -CH2기가 추가됨에 따라 풀러렌과 알코올(alcohol)기 사이 결합이 약해지는 것을 알 수 있었고, -CH2기의 개수에는 결합력에 큰 차이가 나지 않는 것을 알 수 있다. Table 3. aRelative energies ( E) that is, E {C60(CH2)2OH} = E(C60) + E{(CH2)2OH } - E{C60(CH2)2OH} bRelative energies after zero-point vibrational correction ( E0) B3LYP/6-311G(d,f) 수준에서 최적화된 C60(OH)2의 분자구조에서 절대에너지(har'"
      ]
     },
     "execution_count": 4,
     "metadata": {},
     "output_type": "execute_result"
    }
   ],
   "source": [
    "d[:50000]"
   ]
  },
  {
   "cell_type": "markdown",
   "metadata": {},
   "source": [
    "## 한국어만 남기기"
   ]
  },
  {
   "cell_type": "code",
   "execution_count": 8,
   "metadata": {},
   "outputs": [],
   "source": [
    "only_kor=re.sub('[^가-힣]', ' ', d)"
   ]
  },
  {
   "cell_type": "code",
   "execution_count": 9,
   "metadata": {},
   "outputs": [
    {
     "data": {
      "text/plain": [
       "'구획화재에서 환기조건의 변화가 화재특성에 미치는 영향          다차원 화재거동                                                                                                                              김종현 고권현 박충화 황철홍 초록 실규모          표준 화재실에서 환기조건 변화에 따른 다차원 화재거동에 관한 수치해석적 연구가 수행되었다  선행된 실험과 동일한 조건에 대하여                            가 사용되었다  과환기화재 및 환기부족화재의 발생을 위하여 연료 유량과 출입구의 폭이 변화되었다  주요 결과로서  환기부족화재의 내부 유동패턴은 과환기화재와 비교할 때 반대방향을 갖으며  그 결과 다량의 고온 생성물이 구획내부에서 재순환되는 매우 중요한 특징을 확인하였다  환기조건에 따른 유동패턴의 변화는 구획 내부에서 고온 생성물의 체류시간을 크게 변화시키며     및 그을음의 복잡한 생성과정에 큰 영향을 미칠 수 있다  환기부족화재는 구획 내부의 열 및 유동구조 뿐만 아니라 화학종의 분포에 관하여 매우 복잡한  차원 구조를 생성하였다  특히  구획 내부의 측면에서 추가적인 반응은 유동패턴 및    생성에 매우 큰 영향을 주고 있다  복잡한   의 분포는  차원 산소 농도의 분포 및 유동 패턴을 통해 체계적으로 분석되었다  위 결과로 부터 고온 상층부에서 측정된 국부 화학종 농도는 구획 내부의 화재특성을 규명하는데 많은 한계가 있음을 확인할 수 있었다                                                                                                                                                                                                                                                                                                                                                                                                                                                                                                                                                                                                                                                                                                                                                                                                                                                                                                                                                                                                                                                                                                                                                                                                                                                              '"
      ]
     },
     "execution_count": 9,
     "metadata": {},
     "output_type": "execute_result"
    }
   ],
   "source": [
    "only_kor[:2000]"
   ]
  },
  {
   "cell_type": "markdown",
   "metadata": {},
   "source": [
    "## 다중 공백 제거"
   ]
  },
  {
   "cell_type": "code",
   "execution_count": 10,
   "metadata": {},
   "outputs": [],
   "source": [
    "only_kor=re.sub(' +',' ', only_kor)"
   ]
  },
  {
   "cell_type": "code",
   "execution_count": 11,
   "metadata": {},
   "outputs": [
    {
     "data": {
      "text/plain": [
       "'구획화재에서 환기조건의 변화가 화재특성에 미치는 영향 다차원 화재거동 김종현 고권현 박충화 황철홍 초록 실규모 표준 화재실에서 환기조건 변화에 따른 다차원 화재거동에 관한 수치해석적 연구가 수행되었다 선행된 실험과 동일한 조건에 대하여 가 사용되었다 과환기화재 및 환기부족화재의 발생을 위하여 연료 유량과 출입구의 폭이 변화되었다 주요 결과로서 환기부족화재의 내부 유동패턴은 과환기화재와 비교할 때 반대방향을 갖으며 그 결과 다량의 고온 생성물이 구획내부에서 재순환되는 매우 중요한 특징을 확인하였다 환기조건에 따른 유동패턴의 변화는 구획 내부에서 고온 생성물의 체류시간을 크게 변화시키며 및 그을음의 복잡한 생성과정에 큰 영향을 미칠 수 있다 환기부족화재는 구획 내부의 열 및 유동구조 뿐만 아니라 화학종의 분포에 관하여 매우 복잡한 차원 구조를 생성하였다 특히 구획 내부의 측면에서 추가적인 반응은 유동패턴 및 생성에 매우 큰 영향을 주고 있다 복잡한 의 분포는 차원 산소 농도의 분포 및 유동 패턴을 통해 체계적으로 분석되었다 위 결과로 부터 고온 상층부에서 측정된 국부 화학종 농도는 구획 내부의 화재특성을 규명하는데 많은 한계가 있음을 확인할 수 있었다 핵심 어휘 본문 서 론 구획화재에서 환기조건의 변화는 화재의 전반적 특 성인 연소효율 총괄당량비뿐만 아니라 고온 상층부의 온도 및 연소생성물의 농도에 큰 영향을 준다 특히 가 연연료에 비해 산소가 부족한 환기부족화재 는 과환기화재 에 비 해 더욱 복잡하고 불규칙한 화재거동을 보이게 된다 또한 인체에 치명적인 일산화탄소 를 포함하여 미 연탄화수소 그을음 등을 다량으로 발생시키기 때문에 심각한 인명 피해를 초래한다 구획화재에서 생성에 관한 대부분의 연구는 고 온 상층부의 화재특성을 모사하기 위하여 연료 및 공 기의 양을 제어할 수 있는 배기후드 에서 주로 수행되었다 는 다양한 실험결과를 바탕으 로 총괄당량비 를 이용하여 환 기조건에 따른 농도의 예측을 시도하였다 그 결 과 제한된 조건에서 의 발생량은 총괄당량비와 고 온'"
      ]
     },
     "execution_count": 11,
     "metadata": {},
     "output_type": "execute_result"
    }
   ],
   "source": [
    "only_kor[:1000]"
   ]
  },
  {
   "cell_type": "code",
   "execution_count": 12,
   "metadata": {},
   "outputs": [
    {
     "name": "stdout",
     "output_type": "stream",
     "text": [
      "100678253\n"
     ]
    }
   ],
   "source": [
    "words = whitespace_tokenize(only_kor)\n",
    "f.close()\n",
    "print(len(words))"
   ]
  },
  {
   "cell_type": "code",
   "execution_count": 13,
   "metadata": {},
   "outputs": [],
   "source": [
    "words = set(words)"
   ]
  },
  {
   "cell_type": "code",
   "execution_count": 14,
   "metadata": {},
   "outputs": [
    {
     "name": "stdout",
     "output_type": "stream",
     "text": [
      "3879332\n",
      "정관복원술\n"
     ]
    }
   ],
   "source": [
    "# test\n",
    "print(len(words))\n",
    "print(list(words)[600])"
   ]
  },
  {
   "cell_type": "markdown",
   "metadata": {},
   "source": [
    "## vocab 저장하기"
   ]
  },
  {
   "cell_type": "code",
   "execution_count": 15,
   "metadata": {},
   "outputs": [],
   "source": [
    "f2 = open(FULL_WORD_TEMP, 'w')\n",
    "for j in words:\n",
    "    f2.write(j+'\\n')\n",
    "f2.close()"
   ]
  },
  {
   "cell_type": "markdown",
   "metadata": {},
   "source": [
    "## mecab을 이용하여 사전 구축"
   ]
  },
  {
   "cell_type": "code",
   "execution_count": 16,
   "metadata": {},
   "outputs": [],
   "source": [
    "def mecab_tokenize_sejin(vocab_file):\n",
    "    f = open(vocab_file,'r')\n",
    "    words = f.readlines()\n",
    "    f.close()\n",
    "    print(len(words))\n",
    "    output_tokens = []\n",
    "    num = 0\n",
    "    mecab_vocab_file = open(DUPLICATED_TEMP, 'w')  # 텍스트 파일을 쓰기 모드로 생성 \n",
    "\n",
    "    for wst in words:   # wst : 공백,탭,엔터 기준 문자열 하나\n",
    "        count = 0\n",
    "        if wst in 'ㄱㄴㄷㄹㅁㅂㅅㅇㅈㅊㅋㅌㅍㅎㄲㄸㅃㅆㅉㄳㄵㄶㄺㄻㄼㄽㄾㄿㅀㅄ': continue\n",
    "        if wst in 'ㅏㅑㅓㅕㅗㅛㅜㅠㅡㅣㅐㅒㅔㅖㅘㅙㅚㅝㅞㅟㅢ': continue\n",
    "        try:\n",
    "            for token in tokenizer.morphs(wst):\n",
    "                tk = token\n",
    "                if count > 0:\n",
    "                    tk = \"##\" + tk\n",
    "                    mecab_vocab_file.write(tk+'\\n')\n",
    "                else:\n",
    "                    mecab_vocab_file.write(tk+'\\n')\n",
    "                    count += 1\n",
    "\n",
    "        except Exception as e:\n",
    "#             print(wst)\n",
    "            print(e)\n",
    "            \n",
    "        num += 1\n",
    "        print(\"processing index num : {}\".format(num), end='\\r',flush=True)\n",
    "                  \n",
    "    mecab_vocab_file.close()\n",
    "    print(\"complete creating {} file\".format(DUPLICATED_TEMP))\n",
    "#     del output_tokens"
   ]
  },
  {
   "cell_type": "code",
   "execution_count": 15,
   "metadata": {},
   "outputs": [],
   "source": [
    "def mecab_tokenize(vocab_file):\n",
    "    f = open(vocab_file,'r')\n",
    "    words = f.readlines()\n",
    "    f.close()\n",
    "    print(len(words))\n",
    "    output_tokens = []\n",
    "    num = 0\n",
    "    vocab_file = open(DUPLICATED_TEMP, 'w')  # 텍스트 파일을 쓰기 모드로 생성      \n",
    "    for wst in words:   # wst : 공백,탭,엔터 기준 문자열 하나\n",
    "        count = 0\n",
    "        if wst in 'ㄱㄴㄷㄹㅁㅂㅅㅇㅈㅊㅋㅌㅍㅎㄲㄸㅃㅆㅉㄳㄵㄶㄺㄻㄼㄽㄾㄿㅀㅄ': continue\n",
    "        if wst in 'ㅏㅑㅓㅕㅗㅛㅜㅠㅡㅣㅐㅒㅔㅖㅘㅙㅚㅝㅞㅟㅢ': continue\n",
    "        try:\n",
    "            for token in tokenizer.morphs(wst):       # token : wst를 형태소 분석한 토큰 하나\n",
    "                tag = tokenizer.pos(token)\n",
    "                if token in output_tokens or '##'+token in output_tokens: continue\n",
    "                if '+' in tag[0][1]:\n",
    "                    tag = [tag[0][0],tag[0][1].split('+')]\n",
    "                    check = False\n",
    "                    for j in tag[1]:\n",
    "                        if j in ['JKS','JKC','JKG','JKO','JKB','JKV','JKQ','JX','JC','XSN','XSV','XSA','XR','XR','EF','EC','ETN','ETM','NNB','NNBC','VX','EP']:\n",
    "                            check = True\n",
    "                    if check:\n",
    "                        output_tokens.append('##'+tag[0])\n",
    "                        vocab_file.write('##'+tag[0] + '\\n')\n",
    "                    output_tokens.append(tag[0])\n",
    "                    vocab_file.write(tag[0] + '\\n')\n",
    "                else:\n",
    "                    if tag[0][1] in ['JKS','JKC','JKG','JKO','JKB','JKV','JKQ','JX','JC','XSN','XSV','XSA','XR','XR','EF','EC','ETN','ETM','EP']:\n",
    "                        output_tokens.append('##'+tag[0][0])\n",
    "                        vocab_file.write('##'+tag[0][0] + '\\n')\n",
    "                    output_tokens.append(tag[0][0])\n",
    "                    vocab_file.write(tag[0][0] + '\\n')\n",
    "\n",
    "        except:print(wst)\n",
    "            \n",
    "        num += 1\n",
    "        print(\"processing index num : {}\".format(num), end='\\r',flush=True)\n",
    "\n",
    "    vocab_file.close()\n",
    "    del output_tokens"
   ]
  },
  {
   "cell_type": "code",
   "execution_count": 17,
   "metadata": {
    "scrolled": true
   },
   "outputs": [
    {
     "name": "stdout",
     "output_type": "stream",
     "text": [
      "3879332\n",
      "processing index num : 2974\r"
     ]
    },
    {
     "name": "stderr",
     "output_type": "stream",
     "text": [
      "IOPub message rate exceeded.\n",
      "The notebook server will temporarily stop sending output\n",
      "to the client in order to avoid crashing it.\n",
      "To change this limit, set the config variable\n",
      "`--NotebookApp.iopub_msg_rate_limit`.\n",
      "\n",
      "Current values:\n",
      "NotebookApp.iopub_msg_rate_limit=1000.0 (msgs/sec)\n",
      "NotebookApp.rate_limit_window=3.0 (secs)\n",
      "\n"
     ]
    },
    {
     "name": "stdout",
     "output_type": "stream",
     "text": [
      "processing index num : 9049\r"
     ]
    },
    {
     "name": "stderr",
     "output_type": "stream",
     "text": [
      "IOPub message rate exceeded.\n",
      "The notebook server will temporarily stop sending output\n",
      "to the client in order to avoid crashing it.\n",
      "To change this limit, set the config variable\n",
      "`--NotebookApp.iopub_msg_rate_limit`.\n",
      "\n",
      "Current values:\n",
      "NotebookApp.iopub_msg_rate_limit=1000.0 (msgs/sec)\n",
      "NotebookApp.rate_limit_window=3.0 (secs)\n",
      "\n"
     ]
    },
    {
     "name": "stdout",
     "output_type": "stream",
     "text": [
      "processing index num : 15377\r"
     ]
    },
    {
     "name": "stderr",
     "output_type": "stream",
     "text": [
      "IOPub message rate exceeded.\n",
      "The notebook server will temporarily stop sending output\n",
      "to the client in order to avoid crashing it.\n",
      "To change this limit, set the config variable\n",
      "`--NotebookApp.iopub_msg_rate_limit`.\n",
      "\n",
      "Current values:\n",
      "NotebookApp.iopub_msg_rate_limit=1000.0 (msgs/sec)\n",
      "NotebookApp.rate_limit_window=3.0 (secs)\n",
      "\n"
     ]
    },
    {
     "name": "stdout",
     "output_type": "stream",
     "text": [
      "processing index num : 21657\r"
     ]
    },
    {
     "name": "stderr",
     "output_type": "stream",
     "text": [
      "IOPub message rate exceeded.\n",
      "The notebook server will temporarily stop sending output\n",
      "to the client in order to avoid crashing it.\n",
      "To change this limit, set the config variable\n",
      "`--NotebookApp.iopub_msg_rate_limit`.\n",
      "\n",
      "Current values:\n",
      "NotebookApp.iopub_msg_rate_limit=1000.0 (msgs/sec)\n",
      "NotebookApp.rate_limit_window=3.0 (secs)\n",
      "\n"
     ]
    },
    {
     "name": "stdout",
     "output_type": "stream",
     "text": [
      "processing index num : 27952\r"
     ]
    },
    {
     "name": "stderr",
     "output_type": "stream",
     "text": [
      "IOPub message rate exceeded.\n",
      "The notebook server will temporarily stop sending output\n",
      "to the client in order to avoid crashing it.\n",
      "To change this limit, set the config variable\n",
      "`--NotebookApp.iopub_msg_rate_limit`.\n",
      "\n",
      "Current values:\n",
      "NotebookApp.iopub_msg_rate_limit=1000.0 (msgs/sec)\n",
      "NotebookApp.rate_limit_window=3.0 (secs)\n",
      "\n"
     ]
    },
    {
     "name": "stdout",
     "output_type": "stream",
     "text": [
      "processing index num : 34207\r"
     ]
    },
    {
     "name": "stderr",
     "output_type": "stream",
     "text": [
      "IOPub message rate exceeded.\n",
      "The notebook server will temporarily stop sending output\n",
      "to the client in order to avoid crashing it.\n",
      "To change this limit, set the config variable\n",
      "`--NotebookApp.iopub_msg_rate_limit`.\n",
      "\n",
      "Current values:\n",
      "NotebookApp.iopub_msg_rate_limit=1000.0 (msgs/sec)\n",
      "NotebookApp.rate_limit_window=3.0 (secs)\n",
      "\n"
     ]
    },
    {
     "name": "stdout",
     "output_type": "stream",
     "text": [
      "processing index num : 43050\r"
     ]
    },
    {
     "name": "stderr",
     "output_type": "stream",
     "text": [
      "IOPub message rate exceeded.\n",
      "The notebook server will temporarily stop sending output\n",
      "to the client in order to avoid crashing it.\n",
      "To change this limit, set the config variable\n",
      "`--NotebookApp.iopub_msg_rate_limit`.\n",
      "\n",
      "Current values:\n",
      "NotebookApp.iopub_msg_rate_limit=1000.0 (msgs/sec)\n",
      "NotebookApp.rate_limit_window=3.0 (secs)\n",
      "\n"
     ]
    },
    {
     "name": "stdout",
     "output_type": "stream",
     "text": [
      "processing index num : 53441\r"
     ]
    },
    {
     "name": "stderr",
     "output_type": "stream",
     "text": [
      "IOPub message rate exceeded.\n",
      "The notebook server will temporarily stop sending output\n",
      "to the client in order to avoid crashing it.\n",
      "To change this limit, set the config variable\n",
      "`--NotebookApp.iopub_msg_rate_limit`.\n",
      "\n",
      "Current values:\n",
      "NotebookApp.iopub_msg_rate_limit=1000.0 (msgs/sec)\n",
      "NotebookApp.rate_limit_window=3.0 (secs)\n",
      "\n"
     ]
    },
    {
     "name": "stdout",
     "output_type": "stream",
     "text": [
      "processing index num : 61856\r"
     ]
    },
    {
     "name": "stderr",
     "output_type": "stream",
     "text": [
      "IOPub message rate exceeded.\n",
      "The notebook server will temporarily stop sending output\n",
      "to the client in order to avoid crashing it.\n",
      "To change this limit, set the config variable\n",
      "`--NotebookApp.iopub_msg_rate_limit`.\n",
      "\n",
      "Current values:\n",
      "NotebookApp.iopub_msg_rate_limit=1000.0 (msgs/sec)\n",
      "NotebookApp.rate_limit_window=3.0 (secs)\n",
      "\n"
     ]
    },
    {
     "name": "stdout",
     "output_type": "stream",
     "text": [
      "processing index num : 72468\r"
     ]
    },
    {
     "name": "stderr",
     "output_type": "stream",
     "text": [
      "IOPub message rate exceeded.\n",
      "The notebook server will temporarily stop sending output\n",
      "to the client in order to avoid crashing it.\n",
      "To change this limit, set the config variable\n",
      "`--NotebookApp.iopub_msg_rate_limit`.\n",
      "\n",
      "Current values:\n",
      "NotebookApp.iopub_msg_rate_limit=1000.0 (msgs/sec)\n",
      "NotebookApp.rate_limit_window=3.0 (secs)\n",
      "\n"
     ]
    },
    {
     "name": "stdout",
     "output_type": "stream",
     "text": [
      "processing index num : 84970processing index num : 82651"
     ]
    },
    {
     "name": "stderr",
     "output_type": "stream",
     "text": [
      "IOPub message rate exceeded.\n",
      "The notebook server will temporarily stop sending output\n",
      "to the client in order to avoid crashing it.\n",
      "To change this limit, set the config variable\n",
      "`--NotebookApp.iopub_msg_rate_limit`.\n",
      "\n",
      "Current values:\n",
      "NotebookApp.iopub_msg_rate_limit=1000.0 (msgs/sec)\n",
      "NotebookApp.rate_limit_window=3.0 (secs)\n",
      "\n"
     ]
    },
    {
     "name": "stdout",
     "output_type": "stream",
     "text": [
      "processing index num : 95969processing index num : 94235\r"
     ]
    },
    {
     "name": "stderr",
     "output_type": "stream",
     "text": [
      "IOPub message rate exceeded.\n",
      "The notebook server will temporarily stop sending output\n",
      "to the client in order to avoid crashing it.\n",
      "To change this limit, set the config variable\n",
      "`--NotebookApp.iopub_msg_rate_limit`.\n",
      "\n",
      "Current values:\n",
      "NotebookApp.iopub_msg_rate_limit=1000.0 (msgs/sec)\n",
      "NotebookApp.rate_limit_window=3.0 (secs)\n",
      "\n"
     ]
    },
    {
     "name": "stdout",
     "output_type": "stream",
     "text": [
      "processing index num : 107035\r"
     ]
    },
    {
     "name": "stderr",
     "output_type": "stream",
     "text": [
      "IOPub message rate exceeded.\n",
      "The notebook server will temporarily stop sending output\n",
      "to the client in order to avoid crashing it.\n",
      "To change this limit, set the config variable\n",
      "`--NotebookApp.iopub_msg_rate_limit`.\n",
      "\n",
      "Current values:\n",
      "NotebookApp.iopub_msg_rate_limit=1000.0 (msgs/sec)\n",
      "NotebookApp.rate_limit_window=3.0 (secs)\n",
      "\n"
     ]
    },
    {
     "name": "stdout",
     "output_type": "stream",
     "text": [
      "processing index num : 116588\r"
     ]
    },
    {
     "name": "stderr",
     "output_type": "stream",
     "text": [
      "IOPub message rate exceeded.\n",
      "The notebook server will temporarily stop sending output\n",
      "to the client in order to avoid crashing it.\n",
      "To change this limit, set the config variable\n",
      "`--NotebookApp.iopub_msg_rate_limit`.\n",
      "\n",
      "Current values:\n",
      "NotebookApp.iopub_msg_rate_limit=1000.0 (msgs/sec)\n",
      "NotebookApp.rate_limit_window=3.0 (secs)\n",
      "\n"
     ]
    },
    {
     "name": "stdout",
     "output_type": "stream",
     "text": [
      "processing index num : 126994\r"
     ]
    },
    {
     "name": "stderr",
     "output_type": "stream",
     "text": [
      "IOPub message rate exceeded.\n",
      "The notebook server will temporarily stop sending output\n",
      "to the client in order to avoid crashing it.\n",
      "To change this limit, set the config variable\n",
      "`--NotebookApp.iopub_msg_rate_limit`.\n",
      "\n",
      "Current values:\n",
      "NotebookApp.iopub_msg_rate_limit=1000.0 (msgs/sec)\n",
      "NotebookApp.rate_limit_window=3.0 (secs)\n",
      "\n"
     ]
    },
    {
     "name": "stdout",
     "output_type": "stream",
     "text": [
      "processing index num : 137452\r"
     ]
    },
    {
     "name": "stderr",
     "output_type": "stream",
     "text": [
      "IOPub message rate exceeded.\n",
      "The notebook server will temporarily stop sending output\n",
      "to the client in order to avoid crashing it.\n",
      "To change this limit, set the config variable\n",
      "`--NotebookApp.iopub_msg_rate_limit`.\n",
      "\n",
      "Current values:\n",
      "NotebookApp.iopub_msg_rate_limit=1000.0 (msgs/sec)\n",
      "NotebookApp.rate_limit_window=3.0 (secs)\n",
      "\n"
     ]
    },
    {
     "name": "stdout",
     "output_type": "stream",
     "text": [
      "processing index num : 148775\r"
     ]
    },
    {
     "name": "stderr",
     "output_type": "stream",
     "text": [
      "IOPub message rate exceeded.\n",
      "The notebook server will temporarily stop sending output\n",
      "to the client in order to avoid crashing it.\n",
      "To change this limit, set the config variable\n",
      "`--NotebookApp.iopub_msg_rate_limit`.\n",
      "\n",
      "Current values:\n",
      "NotebookApp.iopub_msg_rate_limit=1000.0 (msgs/sec)\n",
      "NotebookApp.rate_limit_window=3.0 (secs)\n",
      "\n"
     ]
    },
    {
     "name": "stdout",
     "output_type": "stream",
     "text": [
      "processing index num : 159679\r"
     ]
    },
    {
     "name": "stderr",
     "output_type": "stream",
     "text": [
      "IOPub message rate exceeded.\n",
      "The notebook server will temporarily stop sending output\n",
      "to the client in order to avoid crashing it.\n",
      "To change this limit, set the config variable\n",
      "`--NotebookApp.iopub_msg_rate_limit`.\n",
      "\n",
      "Current values:\n",
      "NotebookApp.iopub_msg_rate_limit=1000.0 (msgs/sec)\n",
      "NotebookApp.rate_limit_window=3.0 (secs)\n",
      "\n"
     ]
    },
    {
     "name": "stdout",
     "output_type": "stream",
     "text": [
      "processing index num : 169805\r"
     ]
    },
    {
     "name": "stderr",
     "output_type": "stream",
     "text": [
      "IOPub message rate exceeded.\n",
      "The notebook server will temporarily stop sending output\n",
      "to the client in order to avoid crashing it.\n",
      "To change this limit, set the config variable\n",
      "`--NotebookApp.iopub_msg_rate_limit`.\n",
      "\n",
      "Current values:\n",
      "NotebookApp.iopub_msg_rate_limit=1000.0 (msgs/sec)\n",
      "NotebookApp.rate_limit_window=3.0 (secs)\n",
      "\n"
     ]
    },
    {
     "name": "stdout",
     "output_type": "stream",
     "text": [
      "processing index num : 182285\r"
     ]
    },
    {
     "name": "stderr",
     "output_type": "stream",
     "text": [
      "IOPub message rate exceeded.\n",
      "The notebook server will temporarily stop sending output\n",
      "to the client in order to avoid crashing it.\n",
      "To change this limit, set the config variable\n",
      "`--NotebookApp.iopub_msg_rate_limit`.\n",
      "\n",
      "Current values:\n",
      "NotebookApp.iopub_msg_rate_limit=1000.0 (msgs/sec)\n",
      "NotebookApp.rate_limit_window=3.0 (secs)\n",
      "\n"
     ]
    },
    {
     "name": "stdout",
     "output_type": "stream",
     "text": [
      "processing index num : 189644\r"
     ]
    },
    {
     "name": "stderr",
     "output_type": "stream",
     "text": [
      "IOPub message rate exceeded.\n",
      "The notebook server will temporarily stop sending output\n",
      "to the client in order to avoid crashing it.\n",
      "To change this limit, set the config variable\n",
      "`--NotebookApp.iopub_msg_rate_limit`.\n",
      "\n",
      "Current values:\n",
      "NotebookApp.iopub_msg_rate_limit=1000.0 (msgs/sec)\n",
      "NotebookApp.rate_limit_window=3.0 (secs)\n",
      "\n"
     ]
    },
    {
     "name": "stdout",
     "output_type": "stream",
     "text": [
      "processing index num : 203648\r"
     ]
    },
    {
     "name": "stderr",
     "output_type": "stream",
     "text": [
      "IOPub message rate exceeded.\n",
      "The notebook server will temporarily stop sending output\n",
      "to the client in order to avoid crashing it.\n",
      "To change this limit, set the config variable\n",
      "`--NotebookApp.iopub_msg_rate_limit`.\n",
      "\n",
      "Current values:\n",
      "NotebookApp.iopub_msg_rate_limit=1000.0 (msgs/sec)\n",
      "NotebookApp.rate_limit_window=3.0 (secs)\n",
      "\n"
     ]
    },
    {
     "name": "stdout",
     "output_type": "stream",
     "text": [
      "processing index num : 214665\r"
     ]
    },
    {
     "name": "stderr",
     "output_type": "stream",
     "text": [
      "IOPub message rate exceeded.\n",
      "The notebook server will temporarily stop sending output\n",
      "to the client in order to avoid crashing it.\n",
      "To change this limit, set the config variable\n",
      "`--NotebookApp.iopub_msg_rate_limit`.\n",
      "\n",
      "Current values:\n",
      "NotebookApp.iopub_msg_rate_limit=1000.0 (msgs/sec)\n",
      "NotebookApp.rate_limit_window=3.0 (secs)\n",
      "\n"
     ]
    },
    {
     "name": "stdout",
     "output_type": "stream",
     "text": [
      "processing index num : 224818\r"
     ]
    },
    {
     "name": "stderr",
     "output_type": "stream",
     "text": [
      "IOPub message rate exceeded.\n",
      "The notebook server will temporarily stop sending output\n",
      "to the client in order to avoid crashing it.\n",
      "To change this limit, set the config variable\n",
      "`--NotebookApp.iopub_msg_rate_limit`.\n",
      "\n",
      "Current values:\n",
      "NotebookApp.iopub_msg_rate_limit=1000.0 (msgs/sec)\n",
      "NotebookApp.rate_limit_window=3.0 (secs)\n",
      "\n"
     ]
    },
    {
     "name": "stdout",
     "output_type": "stream",
     "text": [
      "processing index num : 232978\r"
     ]
    },
    {
     "name": "stderr",
     "output_type": "stream",
     "text": [
      "IOPub message rate exceeded.\n",
      "The notebook server will temporarily stop sending output\n",
      "to the client in order to avoid crashing it.\n",
      "To change this limit, set the config variable\n",
      "`--NotebookApp.iopub_msg_rate_limit`.\n",
      "\n",
      "Current values:\n",
      "NotebookApp.iopub_msg_rate_limit=1000.0 (msgs/sec)\n",
      "NotebookApp.rate_limit_window=3.0 (secs)\n",
      "\n"
     ]
    },
    {
     "name": "stdout",
     "output_type": "stream",
     "text": [
      "processing index num : 246469\r"
     ]
    },
    {
     "name": "stderr",
     "output_type": "stream",
     "text": [
      "IOPub message rate exceeded.\n",
      "The notebook server will temporarily stop sending output\n",
      "to the client in order to avoid crashing it.\n",
      "To change this limit, set the config variable\n",
      "`--NotebookApp.iopub_msg_rate_limit`.\n",
      "\n",
      "Current values:\n",
      "NotebookApp.iopub_msg_rate_limit=1000.0 (msgs/sec)\n",
      "NotebookApp.rate_limit_window=3.0 (secs)\n",
      "\n"
     ]
    },
    {
     "name": "stdout",
     "output_type": "stream",
     "text": [
      "processing index num : 257007\r"
     ]
    },
    {
     "name": "stderr",
     "output_type": "stream",
     "text": [
      "IOPub message rate exceeded.\n",
      "The notebook server will temporarily stop sending output\n",
      "to the client in order to avoid crashing it.\n",
      "To change this limit, set the config variable\n",
      "`--NotebookApp.iopub_msg_rate_limit`.\n",
      "\n",
      "Current values:\n",
      "NotebookApp.iopub_msg_rate_limit=1000.0 (msgs/sec)\n",
      "NotebookApp.rate_limit_window=3.0 (secs)\n",
      "\n"
     ]
    },
    {
     "name": "stdout",
     "output_type": "stream",
     "text": [
      "processing index num : 269321processing index num : 268183\r"
     ]
    },
    {
     "name": "stderr",
     "output_type": "stream",
     "text": [
      "IOPub message rate exceeded.\n",
      "The notebook server will temporarily stop sending output\n",
      "to the client in order to avoid crashing it.\n",
      "To change this limit, set the config variable\n",
      "`--NotebookApp.iopub_msg_rate_limit`.\n",
      "\n",
      "Current values:\n",
      "NotebookApp.iopub_msg_rate_limit=1000.0 (msgs/sec)\n",
      "NotebookApp.rate_limit_window=3.0 (secs)\n",
      "\n"
     ]
    },
    {
     "name": "stdout",
     "output_type": "stream",
     "text": [
      "processing index num : 278974\r"
     ]
    },
    {
     "name": "stderr",
     "output_type": "stream",
     "text": [
      "IOPub message rate exceeded.\n",
      "The notebook server will temporarily stop sending output\n",
      "to the client in order to avoid crashing it.\n",
      "To change this limit, set the config variable\n",
      "`--NotebookApp.iopub_msg_rate_limit`.\n",
      "\n",
      "Current values:\n",
      "NotebookApp.iopub_msg_rate_limit=1000.0 (msgs/sec)\n",
      "NotebookApp.rate_limit_window=3.0 (secs)\n",
      "\n"
     ]
    },
    {
     "name": "stdout",
     "output_type": "stream",
     "text": [
      "processing index num : 289568\r"
     ]
    },
    {
     "name": "stderr",
     "output_type": "stream",
     "text": [
      "IOPub message rate exceeded.\n",
      "The notebook server will temporarily stop sending output\n",
      "to the client in order to avoid crashing it.\n",
      "To change this limit, set the config variable\n",
      "`--NotebookApp.iopub_msg_rate_limit`.\n",
      "\n",
      "Current values:\n",
      "NotebookApp.iopub_msg_rate_limit=1000.0 (msgs/sec)\n",
      "NotebookApp.rate_limit_window=3.0 (secs)\n",
      "\n"
     ]
    },
    {
     "name": "stdout",
     "output_type": "stream",
     "text": [
      "processing index num : 300803\r"
     ]
    },
    {
     "name": "stderr",
     "output_type": "stream",
     "text": [
      "IOPub message rate exceeded.\n",
      "The notebook server will temporarily stop sending output\n",
      "to the client in order to avoid crashing it.\n",
      "To change this limit, set the config variable\n",
      "`--NotebookApp.iopub_msg_rate_limit`.\n",
      "\n",
      "Current values:\n",
      "NotebookApp.iopub_msg_rate_limit=1000.0 (msgs/sec)\n",
      "NotebookApp.rate_limit_window=3.0 (secs)\n",
      "\n"
     ]
    },
    {
     "name": "stdout",
     "output_type": "stream",
     "text": [
      "processing index num : 310967\r"
     ]
    },
    {
     "name": "stderr",
     "output_type": "stream",
     "text": [
      "IOPub message rate exceeded.\n",
      "The notebook server will temporarily stop sending output\n",
      "to the client in order to avoid crashing it.\n",
      "To change this limit, set the config variable\n",
      "`--NotebookApp.iopub_msg_rate_limit`.\n",
      "\n",
      "Current values:\n",
      "NotebookApp.iopub_msg_rate_limit=1000.0 (msgs/sec)\n",
      "NotebookApp.rate_limit_window=3.0 (secs)\n",
      "\n"
     ]
    },
    {
     "name": "stdout",
     "output_type": "stream",
     "text": [
      "processing index num : 322302\r"
     ]
    },
    {
     "name": "stderr",
     "output_type": "stream",
     "text": [
      "IOPub message rate exceeded.\n",
      "The notebook server will temporarily stop sending output\n",
      "to the client in order to avoid crashing it.\n",
      "To change this limit, set the config variable\n",
      "`--NotebookApp.iopub_msg_rate_limit`.\n",
      "\n",
      "Current values:\n",
      "NotebookApp.iopub_msg_rate_limit=1000.0 (msgs/sec)\n",
      "NotebookApp.rate_limit_window=3.0 (secs)\n",
      "\n"
     ]
    },
    {
     "name": "stdout",
     "output_type": "stream",
     "text": [
      "processing index num : 332662processing index num : 330097\r"
     ]
    },
    {
     "name": "stderr",
     "output_type": "stream",
     "text": [
      "IOPub message rate exceeded.\n",
      "The notebook server will temporarily stop sending output\n",
      "to the client in order to avoid crashing it.\n",
      "To change this limit, set the config variable\n",
      "`--NotebookApp.iopub_msg_rate_limit`.\n",
      "\n",
      "Current values:\n",
      "NotebookApp.iopub_msg_rate_limit=1000.0 (msgs/sec)\n",
      "NotebookApp.rate_limit_window=3.0 (secs)\n",
      "\n"
     ]
    },
    {
     "name": "stdout",
     "output_type": "stream",
     "text": [
      "processing index num : 344309\r"
     ]
    },
    {
     "name": "stderr",
     "output_type": "stream",
     "text": [
      "IOPub message rate exceeded.\n",
      "The notebook server will temporarily stop sending output\n",
      "to the client in order to avoid crashing it.\n",
      "To change this limit, set the config variable\n",
      "`--NotebookApp.iopub_msg_rate_limit`.\n",
      "\n",
      "Current values:\n",
      "NotebookApp.iopub_msg_rate_limit=1000.0 (msgs/sec)\n",
      "NotebookApp.rate_limit_window=3.0 (secs)\n",
      "\n"
     ]
    },
    {
     "name": "stdout",
     "output_type": "stream",
     "text": [
      "processing index num : 354687\r"
     ]
    },
    {
     "name": "stderr",
     "output_type": "stream",
     "text": [
      "IOPub message rate exceeded.\n",
      "The notebook server will temporarily stop sending output\n",
      "to the client in order to avoid crashing it.\n",
      "To change this limit, set the config variable\n",
      "`--NotebookApp.iopub_msg_rate_limit`.\n",
      "\n",
      "Current values:\n",
      "NotebookApp.iopub_msg_rate_limit=1000.0 (msgs/sec)\n",
      "NotebookApp.rate_limit_window=3.0 (secs)\n",
      "\n"
     ]
    },
    {
     "name": "stdout",
     "output_type": "stream",
     "text": [
      "processing index num : 364964\r"
     ]
    },
    {
     "name": "stderr",
     "output_type": "stream",
     "text": [
      "IOPub message rate exceeded.\n",
      "The notebook server will temporarily stop sending output\n",
      "to the client in order to avoid crashing it.\n",
      "To change this limit, set the config variable\n",
      "`--NotebookApp.iopub_msg_rate_limit`.\n",
      "\n",
      "Current values:\n",
      "NotebookApp.iopub_msg_rate_limit=1000.0 (msgs/sec)\n",
      "NotebookApp.rate_limit_window=3.0 (secs)\n",
      "\n"
     ]
    },
    {
     "name": "stdout",
     "output_type": "stream",
     "text": [
      "processing index num : 377133\r"
     ]
    },
    {
     "name": "stderr",
     "output_type": "stream",
     "text": [
      "IOPub message rate exceeded.\n",
      "The notebook server will temporarily stop sending output\n",
      "to the client in order to avoid crashing it.\n",
      "To change this limit, set the config variable\n",
      "`--NotebookApp.iopub_msg_rate_limit`.\n",
      "\n",
      "Current values:\n",
      "NotebookApp.iopub_msg_rate_limit=1000.0 (msgs/sec)\n",
      "NotebookApp.rate_limit_window=3.0 (secs)\n",
      "\n"
     ]
    },
    {
     "name": "stdout",
     "output_type": "stream",
     "text": [
      "processing index num : 387427\r"
     ]
    },
    {
     "name": "stderr",
     "output_type": "stream",
     "text": [
      "IOPub message rate exceeded.\n",
      "The notebook server will temporarily stop sending output\n",
      "to the client in order to avoid crashing it.\n",
      "To change this limit, set the config variable\n",
      "`--NotebookApp.iopub_msg_rate_limit`.\n",
      "\n",
      "Current values:\n",
      "NotebookApp.iopub_msg_rate_limit=1000.0 (msgs/sec)\n",
      "NotebookApp.rate_limit_window=3.0 (secs)\n",
      "\n"
     ]
    },
    {
     "name": "stdout",
     "output_type": "stream",
     "text": [
      "processing index num : 396408\r"
     ]
    },
    {
     "name": "stderr",
     "output_type": "stream",
     "text": [
      "IOPub message rate exceeded.\n",
      "The notebook server will temporarily stop sending output\n",
      "to the client in order to avoid crashing it.\n",
      "To change this limit, set the config variable\n",
      "`--NotebookApp.iopub_msg_rate_limit`.\n",
      "\n",
      "Current values:\n",
      "NotebookApp.iopub_msg_rate_limit=1000.0 (msgs/sec)\n",
      "NotebookApp.rate_limit_window=3.0 (secs)\n",
      "\n"
     ]
    },
    {
     "name": "stdout",
     "output_type": "stream",
     "text": [
      "processing index num : 408906\r"
     ]
    },
    {
     "name": "stderr",
     "output_type": "stream",
     "text": [
      "IOPub message rate exceeded.\n",
      "The notebook server will temporarily stop sending output\n",
      "to the client in order to avoid crashing it.\n",
      "To change this limit, set the config variable\n",
      "`--NotebookApp.iopub_msg_rate_limit`.\n",
      "\n",
      "Current values:\n",
      "NotebookApp.iopub_msg_rate_limit=1000.0 (msgs/sec)\n",
      "NotebookApp.rate_limit_window=3.0 (secs)\n",
      "\n"
     ]
    },
    {
     "name": "stdout",
     "output_type": "stream",
     "text": [
      "processing index num : 419997\r"
     ]
    },
    {
     "name": "stderr",
     "output_type": "stream",
     "text": [
      "IOPub message rate exceeded.\n",
      "The notebook server will temporarily stop sending output\n",
      "to the client in order to avoid crashing it.\n",
      "To change this limit, set the config variable\n",
      "`--NotebookApp.iopub_msg_rate_limit`.\n",
      "\n",
      "Current values:\n",
      "NotebookApp.iopub_msg_rate_limit=1000.0 (msgs/sec)\n",
      "NotebookApp.rate_limit_window=3.0 (secs)\n",
      "\n"
     ]
    },
    {
     "name": "stdout",
     "output_type": "stream",
     "text": [
      "processing index num : 428340\r"
     ]
    },
    {
     "name": "stderr",
     "output_type": "stream",
     "text": [
      "IOPub message rate exceeded.\n",
      "The notebook server will temporarily stop sending output\n",
      "to the client in order to avoid crashing it.\n",
      "To change this limit, set the config variable\n",
      "`--NotebookApp.iopub_msg_rate_limit`.\n",
      "\n",
      "Current values:\n",
      "NotebookApp.iopub_msg_rate_limit=1000.0 (msgs/sec)\n",
      "NotebookApp.rate_limit_window=3.0 (secs)\n",
      "\n"
     ]
    },
    {
     "name": "stdout",
     "output_type": "stream",
     "text": [
      "processing index num : 441754\r"
     ]
    },
    {
     "name": "stderr",
     "output_type": "stream",
     "text": [
      "IOPub message rate exceeded.\n",
      "The notebook server will temporarily stop sending output\n",
      "to the client in order to avoid crashing it.\n",
      "To change this limit, set the config variable\n",
      "`--NotebookApp.iopub_msg_rate_limit`.\n",
      "\n",
      "Current values:\n",
      "NotebookApp.iopub_msg_rate_limit=1000.0 (msgs/sec)\n",
      "NotebookApp.rate_limit_window=3.0 (secs)\n",
      "\n"
     ]
    },
    {
     "name": "stdout",
     "output_type": "stream",
     "text": [
      "processing index num : 452707\r"
     ]
    },
    {
     "name": "stderr",
     "output_type": "stream",
     "text": [
      "IOPub message rate exceeded.\n",
      "The notebook server will temporarily stop sending output\n",
      "to the client in order to avoid crashing it.\n",
      "To change this limit, set the config variable\n",
      "`--NotebookApp.iopub_msg_rate_limit`.\n",
      "\n",
      "Current values:\n",
      "NotebookApp.iopub_msg_rate_limit=1000.0 (msgs/sec)\n",
      "NotebookApp.rate_limit_window=3.0 (secs)\n",
      "\n"
     ]
    },
    {
     "name": "stdout",
     "output_type": "stream",
     "text": [
      "processing index num : 463793processing index num : 462936\r"
     ]
    },
    {
     "name": "stderr",
     "output_type": "stream",
     "text": [
      "IOPub message rate exceeded.\n",
      "The notebook server will temporarily stop sending output\n",
      "to the client in order to avoid crashing it.\n",
      "To change this limit, set the config variable\n",
      "`--NotebookApp.iopub_msg_rate_limit`.\n",
      "\n",
      "Current values:\n",
      "NotebookApp.iopub_msg_rate_limit=1000.0 (msgs/sec)\n",
      "NotebookApp.rate_limit_window=3.0 (secs)\n",
      "\n"
     ]
    },
    {
     "name": "stdout",
     "output_type": "stream",
     "text": [
      "processing index num : 471344\r"
     ]
    },
    {
     "name": "stderr",
     "output_type": "stream",
     "text": [
      "IOPub message rate exceeded.\n",
      "The notebook server will temporarily stop sending output\n",
      "to the client in order to avoid crashing it.\n",
      "To change this limit, set the config variable\n",
      "`--NotebookApp.iopub_msg_rate_limit`.\n",
      "\n",
      "Current values:\n",
      "NotebookApp.iopub_msg_rate_limit=1000.0 (msgs/sec)\n",
      "NotebookApp.rate_limit_window=3.0 (secs)\n",
      "\n"
     ]
    },
    {
     "name": "stdout",
     "output_type": "stream",
     "text": [
      "processing index num : 485174\r"
     ]
    },
    {
     "name": "stderr",
     "output_type": "stream",
     "text": [
      "IOPub message rate exceeded.\n",
      "The notebook server will temporarily stop sending output\n",
      "to the client in order to avoid crashing it.\n",
      "To change this limit, set the config variable\n",
      "`--NotebookApp.iopub_msg_rate_limit`.\n",
      "\n",
      "Current values:\n",
      "NotebookApp.iopub_msg_rate_limit=1000.0 (msgs/sec)\n",
      "NotebookApp.rate_limit_window=3.0 (secs)\n",
      "\n"
     ]
    },
    {
     "name": "stdout",
     "output_type": "stream",
     "text": [
      "processing index num : 496386\r"
     ]
    },
    {
     "name": "stderr",
     "output_type": "stream",
     "text": [
      "IOPub message rate exceeded.\n",
      "The notebook server will temporarily stop sending output\n",
      "to the client in order to avoid crashing it.\n",
      "To change this limit, set the config variable\n",
      "`--NotebookApp.iopub_msg_rate_limit`.\n",
      "\n",
      "Current values:\n",
      "NotebookApp.iopub_msg_rate_limit=1000.0 (msgs/sec)\n",
      "NotebookApp.rate_limit_window=3.0 (secs)\n",
      "\n"
     ]
    },
    {
     "name": "stdout",
     "output_type": "stream",
     "text": [
      "processing index num : 505408\r"
     ]
    },
    {
     "name": "stderr",
     "output_type": "stream",
     "text": [
      "IOPub message rate exceeded.\n",
      "The notebook server will temporarily stop sending output\n",
      "to the client in order to avoid crashing it.\n",
      "To change this limit, set the config variable\n",
      "`--NotebookApp.iopub_msg_rate_limit`.\n",
      "\n",
      "Current values:\n",
      "NotebookApp.iopub_msg_rate_limit=1000.0 (msgs/sec)\n",
      "NotebookApp.rate_limit_window=3.0 (secs)\n",
      "\n"
     ]
    },
    {
     "name": "stdout",
     "output_type": "stream",
     "text": [
      "processing index num : 516061\r"
     ]
    },
    {
     "name": "stderr",
     "output_type": "stream",
     "text": [
      "IOPub message rate exceeded.\n",
      "The notebook server will temporarily stop sending output\n",
      "to the client in order to avoid crashing it.\n",
      "To change this limit, set the config variable\n",
      "`--NotebookApp.iopub_msg_rate_limit`.\n",
      "\n",
      "Current values:\n",
      "NotebookApp.iopub_msg_rate_limit=1000.0 (msgs/sec)\n",
      "NotebookApp.rate_limit_window=3.0 (secs)\n",
      "\n"
     ]
    },
    {
     "name": "stdout",
     "output_type": "stream",
     "text": [
      "processing index num : 527507\r"
     ]
    },
    {
     "name": "stderr",
     "output_type": "stream",
     "text": [
      "IOPub message rate exceeded.\n",
      "The notebook server will temporarily stop sending output\n",
      "to the client in order to avoid crashing it.\n",
      "To change this limit, set the config variable\n",
      "`--NotebookApp.iopub_msg_rate_limit`.\n",
      "\n",
      "Current values:\n",
      "NotebookApp.iopub_msg_rate_limit=1000.0 (msgs/sec)\n",
      "NotebookApp.rate_limit_window=3.0 (secs)\n",
      "\n"
     ]
    },
    {
     "name": "stdout",
     "output_type": "stream",
     "text": [
      "processing index num : 538025\r"
     ]
    },
    {
     "name": "stderr",
     "output_type": "stream",
     "text": [
      "IOPub message rate exceeded.\n",
      "The notebook server will temporarily stop sending output\n",
      "to the client in order to avoid crashing it.\n",
      "To change this limit, set the config variable\n",
      "`--NotebookApp.iopub_msg_rate_limit`.\n",
      "\n",
      "Current values:\n",
      "NotebookApp.iopub_msg_rate_limit=1000.0 (msgs/sec)\n",
      "NotebookApp.rate_limit_window=3.0 (secs)\n",
      "\n"
     ]
    },
    {
     "name": "stdout",
     "output_type": "stream",
     "text": [
      "processing index num : 550335\r"
     ]
    },
    {
     "name": "stderr",
     "output_type": "stream",
     "text": [
      "IOPub message rate exceeded.\n",
      "The notebook server will temporarily stop sending output\n",
      "to the client in order to avoid crashing it.\n",
      "To change this limit, set the config variable\n",
      "`--NotebookApp.iopub_msg_rate_limit`.\n",
      "\n",
      "Current values:\n",
      "NotebookApp.iopub_msg_rate_limit=1000.0 (msgs/sec)\n",
      "NotebookApp.rate_limit_window=3.0 (secs)\n",
      "\n"
     ]
    },
    {
     "name": "stdout",
     "output_type": "stream",
     "text": [
      "processing index num : 561485\r"
     ]
    },
    {
     "name": "stderr",
     "output_type": "stream",
     "text": [
      "IOPub message rate exceeded.\n",
      "The notebook server will temporarily stop sending output\n",
      "to the client in order to avoid crashing it.\n",
      "To change this limit, set the config variable\n",
      "`--NotebookApp.iopub_msg_rate_limit`.\n",
      "\n",
      "Current values:\n",
      "NotebookApp.iopub_msg_rate_limit=1000.0 (msgs/sec)\n",
      "NotebookApp.rate_limit_window=3.0 (secs)\n",
      "\n"
     ]
    },
    {
     "name": "stdout",
     "output_type": "stream",
     "text": [
      "processing index num : 571598\r"
     ]
    },
    {
     "name": "stderr",
     "output_type": "stream",
     "text": [
      "IOPub message rate exceeded.\n",
      "The notebook server will temporarily stop sending output\n",
      "to the client in order to avoid crashing it.\n",
      "To change this limit, set the config variable\n",
      "`--NotebookApp.iopub_msg_rate_limit`.\n",
      "\n",
      "Current values:\n",
      "NotebookApp.iopub_msg_rate_limit=1000.0 (msgs/sec)\n",
      "NotebookApp.rate_limit_window=3.0 (secs)\n",
      "\n"
     ]
    },
    {
     "name": "stdout",
     "output_type": "stream",
     "text": [
      "processing index num : 584552\r"
     ]
    },
    {
     "name": "stderr",
     "output_type": "stream",
     "text": [
      "IOPub message rate exceeded.\n",
      "The notebook server will temporarily stop sending output\n",
      "to the client in order to avoid crashing it.\n",
      "To change this limit, set the config variable\n",
      "`--NotebookApp.iopub_msg_rate_limit`.\n",
      "\n",
      "Current values:\n",
      "NotebookApp.iopub_msg_rate_limit=1000.0 (msgs/sec)\n",
      "NotebookApp.rate_limit_window=3.0 (secs)\n",
      "\n"
     ]
    },
    {
     "name": "stdout",
     "output_type": "stream",
     "text": [
      "processing index num : 595491\r"
     ]
    },
    {
     "name": "stderr",
     "output_type": "stream",
     "text": [
      "IOPub message rate exceeded.\n",
      "The notebook server will temporarily stop sending output\n",
      "to the client in order to avoid crashing it.\n",
      "To change this limit, set the config variable\n",
      "`--NotebookApp.iopub_msg_rate_limit`.\n",
      "\n",
      "Current values:\n",
      "NotebookApp.iopub_msg_rate_limit=1000.0 (msgs/sec)\n",
      "NotebookApp.rate_limit_window=3.0 (secs)\n",
      "\n"
     ]
    },
    {
     "name": "stdout",
     "output_type": "stream",
     "text": [
      "processing index num : 606050\r"
     ]
    },
    {
     "name": "stderr",
     "output_type": "stream",
     "text": [
      "IOPub message rate exceeded.\n",
      "The notebook server will temporarily stop sending output\n",
      "to the client in order to avoid crashing it.\n",
      "To change this limit, set the config variable\n",
      "`--NotebookApp.iopub_msg_rate_limit`.\n",
      "\n",
      "Current values:\n",
      "NotebookApp.iopub_msg_rate_limit=1000.0 (msgs/sec)\n",
      "NotebookApp.rate_limit_window=3.0 (secs)\n",
      "\n"
     ]
    },
    {
     "name": "stdout",
     "output_type": "stream",
     "text": [
      "processing index num : 617006\r"
     ]
    },
    {
     "name": "stderr",
     "output_type": "stream",
     "text": [
      "IOPub message rate exceeded.\n",
      "The notebook server will temporarily stop sending output\n",
      "to the client in order to avoid crashing it.\n",
      "To change this limit, set the config variable\n",
      "`--NotebookApp.iopub_msg_rate_limit`.\n",
      "\n",
      "Current values:\n",
      "NotebookApp.iopub_msg_rate_limit=1000.0 (msgs/sec)\n",
      "NotebookApp.rate_limit_window=3.0 (secs)\n",
      "\n"
     ]
    },
    {
     "name": "stdout",
     "output_type": "stream",
     "text": [
      "processing index num : 626757\r"
     ]
    },
    {
     "name": "stderr",
     "output_type": "stream",
     "text": [
      "IOPub message rate exceeded.\n",
      "The notebook server will temporarily stop sending output\n",
      "to the client in order to avoid crashing it.\n",
      "To change this limit, set the config variable\n",
      "`--NotebookApp.iopub_msg_rate_limit`.\n",
      "\n",
      "Current values:\n",
      "NotebookApp.iopub_msg_rate_limit=1000.0 (msgs/sec)\n",
      "NotebookApp.rate_limit_window=3.0 (secs)\n",
      "\n"
     ]
    },
    {
     "name": "stdout",
     "output_type": "stream",
     "text": [
      "processing index num : 638598\r"
     ]
    },
    {
     "name": "stderr",
     "output_type": "stream",
     "text": [
      "IOPub message rate exceeded.\n",
      "The notebook server will temporarily stop sending output\n",
      "to the client in order to avoid crashing it.\n",
      "To change this limit, set the config variable\n",
      "`--NotebookApp.iopub_msg_rate_limit`.\n",
      "\n",
      "Current values:\n",
      "NotebookApp.iopub_msg_rate_limit=1000.0 (msgs/sec)\n",
      "NotebookApp.rate_limit_window=3.0 (secs)\n",
      "\n"
     ]
    },
    {
     "name": "stdout",
     "output_type": "stream",
     "text": [
      "processing index num : 648698\r"
     ]
    },
    {
     "name": "stderr",
     "output_type": "stream",
     "text": [
      "IOPub message rate exceeded.\n",
      "The notebook server will temporarily stop sending output\n",
      "to the client in order to avoid crashing it.\n",
      "To change this limit, set the config variable\n",
      "`--NotebookApp.iopub_msg_rate_limit`.\n",
      "\n",
      "Current values:\n",
      "NotebookApp.iopub_msg_rate_limit=1000.0 (msgs/sec)\n",
      "NotebookApp.rate_limit_window=3.0 (secs)\n",
      "\n"
     ]
    },
    {
     "name": "stdout",
     "output_type": "stream",
     "text": [
      "processing index num : 658909\r"
     ]
    },
    {
     "name": "stderr",
     "output_type": "stream",
     "text": [
      "IOPub message rate exceeded.\n",
      "The notebook server will temporarily stop sending output\n",
      "to the client in order to avoid crashing it.\n",
      "To change this limit, set the config variable\n",
      "`--NotebookApp.iopub_msg_rate_limit`.\n",
      "\n",
      "Current values:\n",
      "NotebookApp.iopub_msg_rate_limit=1000.0 (msgs/sec)\n",
      "NotebookApp.rate_limit_window=3.0 (secs)\n",
      "\n"
     ]
    },
    {
     "name": "stdout",
     "output_type": "stream",
     "text": [
      "processing index num : 669055\r"
     ]
    },
    {
     "name": "stderr",
     "output_type": "stream",
     "text": [
      "IOPub message rate exceeded.\n",
      "The notebook server will temporarily stop sending output\n",
      "to the client in order to avoid crashing it.\n",
      "To change this limit, set the config variable\n",
      "`--NotebookApp.iopub_msg_rate_limit`.\n",
      "\n",
      "Current values:\n",
      "NotebookApp.iopub_msg_rate_limit=1000.0 (msgs/sec)\n",
      "NotebookApp.rate_limit_window=3.0 (secs)\n",
      "\n"
     ]
    },
    {
     "name": "stdout",
     "output_type": "stream",
     "text": [
      "processing index num : 679781\r"
     ]
    },
    {
     "name": "stderr",
     "output_type": "stream",
     "text": [
      "IOPub message rate exceeded.\n",
      "The notebook server will temporarily stop sending output\n",
      "to the client in order to avoid crashing it.\n",
      "To change this limit, set the config variable\n",
      "`--NotebookApp.iopub_msg_rate_limit`.\n",
      "\n",
      "Current values:\n",
      "NotebookApp.iopub_msg_rate_limit=1000.0 (msgs/sec)\n",
      "NotebookApp.rate_limit_window=3.0 (secs)\n",
      "\n"
     ]
    },
    {
     "name": "stdout",
     "output_type": "stream",
     "text": [
      "processing index num : 690894\r"
     ]
    },
    {
     "name": "stderr",
     "output_type": "stream",
     "text": [
      "IOPub message rate exceeded.\n",
      "The notebook server will temporarily stop sending output\n",
      "to the client in order to avoid crashing it.\n",
      "To change this limit, set the config variable\n",
      "`--NotebookApp.iopub_msg_rate_limit`.\n",
      "\n",
      "Current values:\n",
      "NotebookApp.iopub_msg_rate_limit=1000.0 (msgs/sec)\n",
      "NotebookApp.rate_limit_window=3.0 (secs)\n",
      "\n"
     ]
    },
    {
     "name": "stdout",
     "output_type": "stream",
     "text": [
      "processing index num : 701343\r"
     ]
    },
    {
     "name": "stderr",
     "output_type": "stream",
     "text": [
      "IOPub message rate exceeded.\n",
      "The notebook server will temporarily stop sending output\n",
      "to the client in order to avoid crashing it.\n",
      "To change this limit, set the config variable\n",
      "`--NotebookApp.iopub_msg_rate_limit`.\n",
      "\n",
      "Current values:\n",
      "NotebookApp.iopub_msg_rate_limit=1000.0 (msgs/sec)\n",
      "NotebookApp.rate_limit_window=3.0 (secs)\n",
      "\n"
     ]
    },
    {
     "name": "stdout",
     "output_type": "stream",
     "text": [
      "processing index num : 713737\r"
     ]
    },
    {
     "name": "stderr",
     "output_type": "stream",
     "text": [
      "IOPub message rate exceeded.\n",
      "The notebook server will temporarily stop sending output\n",
      "to the client in order to avoid crashing it.\n",
      "To change this limit, set the config variable\n",
      "`--NotebookApp.iopub_msg_rate_limit`.\n",
      "\n",
      "Current values:\n",
      "NotebookApp.iopub_msg_rate_limit=1000.0 (msgs/sec)\n",
      "NotebookApp.rate_limit_window=3.0 (secs)\n",
      "\n"
     ]
    },
    {
     "name": "stdout",
     "output_type": "stream",
     "text": [
      "processing index num : 724431\r"
     ]
    },
    {
     "name": "stderr",
     "output_type": "stream",
     "text": [
      "IOPub message rate exceeded.\n",
      "The notebook server will temporarily stop sending output\n",
      "to the client in order to avoid crashing it.\n",
      "To change this limit, set the config variable\n",
      "`--NotebookApp.iopub_msg_rate_limit`.\n",
      "\n",
      "Current values:\n",
      "NotebookApp.iopub_msg_rate_limit=1000.0 (msgs/sec)\n",
      "NotebookApp.rate_limit_window=3.0 (secs)\n",
      "\n"
     ]
    },
    {
     "name": "stdout",
     "output_type": "stream",
     "text": [
      "processing index num : 735034processing index num : 732736\r"
     ]
    },
    {
     "name": "stderr",
     "output_type": "stream",
     "text": [
      "IOPub message rate exceeded.\n",
      "The notebook server will temporarily stop sending output\n",
      "to the client in order to avoid crashing it.\n",
      "To change this limit, set the config variable\n",
      "`--NotebookApp.iopub_msg_rate_limit`.\n",
      "\n",
      "Current values:\n",
      "NotebookApp.iopub_msg_rate_limit=1000.0 (msgs/sec)\n",
      "NotebookApp.rate_limit_window=3.0 (secs)\n",
      "\n"
     ]
    },
    {
     "name": "stdout",
     "output_type": "stream",
     "text": [
      "processing index num : 746553\r"
     ]
    },
    {
     "name": "stderr",
     "output_type": "stream",
     "text": [
      "IOPub message rate exceeded.\n",
      "The notebook server will temporarily stop sending output\n",
      "to the client in order to avoid crashing it.\n",
      "To change this limit, set the config variable\n",
      "`--NotebookApp.iopub_msg_rate_limit`.\n",
      "\n",
      "Current values:\n",
      "NotebookApp.iopub_msg_rate_limit=1000.0 (msgs/sec)\n",
      "NotebookApp.rate_limit_window=3.0 (secs)\n",
      "\n"
     ]
    },
    {
     "name": "stdout",
     "output_type": "stream",
     "text": [
      "processing index num : 757377\r"
     ]
    },
    {
     "name": "stderr",
     "output_type": "stream",
     "text": [
      "IOPub message rate exceeded.\n",
      "The notebook server will temporarily stop sending output\n",
      "to the client in order to avoid crashing it.\n",
      "To change this limit, set the config variable\n",
      "`--NotebookApp.iopub_msg_rate_limit`.\n",
      "\n",
      "Current values:\n",
      "NotebookApp.iopub_msg_rate_limit=1000.0 (msgs/sec)\n",
      "NotebookApp.rate_limit_window=3.0 (secs)\n",
      "\n"
     ]
    },
    {
     "name": "stdout",
     "output_type": "stream",
     "text": [
      "processing index num : 768752\r"
     ]
    },
    {
     "name": "stderr",
     "output_type": "stream",
     "text": [
      "IOPub message rate exceeded.\n",
      "The notebook server will temporarily stop sending output\n",
      "to the client in order to avoid crashing it.\n",
      "To change this limit, set the config variable\n",
      "`--NotebookApp.iopub_msg_rate_limit`.\n",
      "\n",
      "Current values:\n",
      "NotebookApp.iopub_msg_rate_limit=1000.0 (msgs/sec)\n",
      "NotebookApp.rate_limit_window=3.0 (secs)\n",
      "\n"
     ]
    },
    {
     "name": "stdout",
     "output_type": "stream",
     "text": [
      "processing index num : 779126\r"
     ]
    },
    {
     "name": "stderr",
     "output_type": "stream",
     "text": [
      "IOPub message rate exceeded.\n",
      "The notebook server will temporarily stop sending output\n",
      "to the client in order to avoid crashing it.\n",
      "To change this limit, set the config variable\n",
      "`--NotebookApp.iopub_msg_rate_limit`.\n",
      "\n",
      "Current values:\n",
      "NotebookApp.iopub_msg_rate_limit=1000.0 (msgs/sec)\n",
      "NotebookApp.rate_limit_window=3.0 (secs)\n",
      "\n"
     ]
    },
    {
     "name": "stdout",
     "output_type": "stream",
     "text": [
      "processing index num : 786707\r"
     ]
    },
    {
     "name": "stderr",
     "output_type": "stream",
     "text": [
      "IOPub message rate exceeded.\n",
      "The notebook server will temporarily stop sending output\n",
      "to the client in order to avoid crashing it.\n",
      "To change this limit, set the config variable\n",
      "`--NotebookApp.iopub_msg_rate_limit`.\n",
      "\n",
      "Current values:\n",
      "NotebookApp.iopub_msg_rate_limit=1000.0 (msgs/sec)\n",
      "NotebookApp.rate_limit_window=3.0 (secs)\n",
      "\n"
     ]
    },
    {
     "name": "stdout",
     "output_type": "stream",
     "text": [
      "processing index num : 800785"
     ]
    },
    {
     "name": "stderr",
     "output_type": "stream",
     "text": [
      "IOPub message rate exceeded.\n",
      "The notebook server will temporarily stop sending output\n",
      "to the client in order to avoid crashing it.\n",
      "To change this limit, set the config variable\n",
      "`--NotebookApp.iopub_msg_rate_limit`.\n",
      "\n",
      "Current values:\n",
      "NotebookApp.iopub_msg_rate_limit=1000.0 (msgs/sec)\n",
      "NotebookApp.rate_limit_window=3.0 (secs)\n",
      "\n"
     ]
    },
    {
     "name": "stdout",
     "output_type": "stream",
     "text": [
      "processing index num : 812305\r"
     ]
    },
    {
     "name": "stderr",
     "output_type": "stream",
     "text": [
      "IOPub message rate exceeded.\n",
      "The notebook server will temporarily stop sending output\n",
      "to the client in order to avoid crashing it.\n",
      "To change this limit, set the config variable\n",
      "`--NotebookApp.iopub_msg_rate_limit`.\n",
      "\n",
      "Current values:\n",
      "NotebookApp.iopub_msg_rate_limit=1000.0 (msgs/sec)\n",
      "NotebookApp.rate_limit_window=3.0 (secs)\n",
      "\n"
     ]
    },
    {
     "name": "stdout",
     "output_type": "stream",
     "text": [
      "processing index num : 823154\r"
     ]
    },
    {
     "name": "stderr",
     "output_type": "stream",
     "text": [
      "IOPub message rate exceeded.\n",
      "The notebook server will temporarily stop sending output\n",
      "to the client in order to avoid crashing it.\n",
      "To change this limit, set the config variable\n",
      "`--NotebookApp.iopub_msg_rate_limit`.\n",
      "\n",
      "Current values:\n",
      "NotebookApp.iopub_msg_rate_limit=1000.0 (msgs/sec)\n",
      "NotebookApp.rate_limit_window=3.0 (secs)\n",
      "\n"
     ]
    },
    {
     "name": "stdout",
     "output_type": "stream",
     "text": [
      "processing index num : 833066\r"
     ]
    },
    {
     "name": "stderr",
     "output_type": "stream",
     "text": [
      "IOPub message rate exceeded.\n",
      "The notebook server will temporarily stop sending output\n",
      "to the client in order to avoid crashing it.\n",
      "To change this limit, set the config variable\n",
      "`--NotebookApp.iopub_msg_rate_limit`.\n",
      "\n",
      "Current values:\n",
      "NotebookApp.iopub_msg_rate_limit=1000.0 (msgs/sec)\n",
      "NotebookApp.rate_limit_window=3.0 (secs)\n",
      "\n"
     ]
    },
    {
     "name": "stdout",
     "output_type": "stream",
     "text": [
      "processing index num : 843709\r"
     ]
    },
    {
     "name": "stderr",
     "output_type": "stream",
     "text": [
      "IOPub message rate exceeded.\n",
      "The notebook server will temporarily stop sending output\n",
      "to the client in order to avoid crashing it.\n",
      "To change this limit, set the config variable\n",
      "`--NotebookApp.iopub_msg_rate_limit`.\n",
      "\n",
      "Current values:\n",
      "NotebookApp.iopub_msg_rate_limit=1000.0 (msgs/sec)\n",
      "NotebookApp.rate_limit_window=3.0 (secs)\n",
      "\n"
     ]
    },
    {
     "name": "stdout",
     "output_type": "stream",
     "text": [
      "processing index num : 854657\r"
     ]
    },
    {
     "name": "stderr",
     "output_type": "stream",
     "text": [
      "IOPub message rate exceeded.\n",
      "The notebook server will temporarily stop sending output\n",
      "to the client in order to avoid crashing it.\n",
      "To change this limit, set the config variable\n",
      "`--NotebookApp.iopub_msg_rate_limit`.\n",
      "\n",
      "Current values:\n",
      "NotebookApp.iopub_msg_rate_limit=1000.0 (msgs/sec)\n",
      "NotebookApp.rate_limit_window=3.0 (secs)\n",
      "\n"
     ]
    },
    {
     "name": "stdout",
     "output_type": "stream",
     "text": [
      "processing index num : 864861\r"
     ]
    },
    {
     "name": "stderr",
     "output_type": "stream",
     "text": [
      "IOPub message rate exceeded.\n",
      "The notebook server will temporarily stop sending output\n",
      "to the client in order to avoid crashing it.\n",
      "To change this limit, set the config variable\n",
      "`--NotebookApp.iopub_msg_rate_limit`.\n",
      "\n",
      "Current values:\n",
      "NotebookApp.iopub_msg_rate_limit=1000.0 (msgs/sec)\n",
      "NotebookApp.rate_limit_window=3.0 (secs)\n",
      "\n"
     ]
    },
    {
     "name": "stdout",
     "output_type": "stream",
     "text": [
      "processing index num : 877277\r"
     ]
    },
    {
     "name": "stderr",
     "output_type": "stream",
     "text": [
      "IOPub message rate exceeded.\n",
      "The notebook server will temporarily stop sending output\n",
      "to the client in order to avoid crashing it.\n",
      "To change this limit, set the config variable\n",
      "`--NotebookApp.iopub_msg_rate_limit`.\n",
      "\n",
      "Current values:\n",
      "NotebookApp.iopub_msg_rate_limit=1000.0 (msgs/sec)\n",
      "NotebookApp.rate_limit_window=3.0 (secs)\n",
      "\n"
     ]
    },
    {
     "name": "stdout",
     "output_type": "stream",
     "text": [
      "processing index num : 887664\r"
     ]
    },
    {
     "name": "stderr",
     "output_type": "stream",
     "text": [
      "IOPub message rate exceeded.\n",
      "The notebook server will temporarily stop sending output\n",
      "to the client in order to avoid crashing it.\n",
      "To change this limit, set the config variable\n",
      "`--NotebookApp.iopub_msg_rate_limit`.\n",
      "\n",
      "Current values:\n",
      "NotebookApp.iopub_msg_rate_limit=1000.0 (msgs/sec)\n",
      "NotebookApp.rate_limit_window=3.0 (secs)\n",
      "\n"
     ]
    },
    {
     "name": "stdout",
     "output_type": "stream",
     "text": [
      "processing index num : 899043\r"
     ]
    },
    {
     "name": "stderr",
     "output_type": "stream",
     "text": [
      "IOPub message rate exceeded.\n",
      "The notebook server will temporarily stop sending output\n",
      "to the client in order to avoid crashing it.\n",
      "To change this limit, set the config variable\n",
      "`--NotebookApp.iopub_msg_rate_limit`.\n",
      "\n",
      "Current values:\n",
      "NotebookApp.iopub_msg_rate_limit=1000.0 (msgs/sec)\n",
      "NotebookApp.rate_limit_window=3.0 (secs)\n",
      "\n"
     ]
    },
    {
     "name": "stdout",
     "output_type": "stream",
     "text": [
      "processing index num : 910955\r"
     ]
    },
    {
     "name": "stderr",
     "output_type": "stream",
     "text": [
      "IOPub message rate exceeded.\n",
      "The notebook server will temporarily stop sending output\n",
      "to the client in order to avoid crashing it.\n",
      "To change this limit, set the config variable\n",
      "`--NotebookApp.iopub_msg_rate_limit`.\n",
      "\n",
      "Current values:\n",
      "NotebookApp.iopub_msg_rate_limit=1000.0 (msgs/sec)\n",
      "NotebookApp.rate_limit_window=3.0 (secs)\n",
      "\n"
     ]
    },
    {
     "name": "stdout",
     "output_type": "stream",
     "text": [
      "processing index num : 923267\r"
     ]
    },
    {
     "name": "stderr",
     "output_type": "stream",
     "text": [
      "IOPub message rate exceeded.\n",
      "The notebook server will temporarily stop sending output\n",
      "to the client in order to avoid crashing it.\n",
      "To change this limit, set the config variable\n",
      "`--NotebookApp.iopub_msg_rate_limit`.\n",
      "\n",
      "Current values:\n",
      "NotebookApp.iopub_msg_rate_limit=1000.0 (msgs/sec)\n",
      "NotebookApp.rate_limit_window=3.0 (secs)\n",
      "\n"
     ]
    },
    {
     "name": "stdout",
     "output_type": "stream",
     "text": [
      "processing index num : 932053\r"
     ]
    },
    {
     "name": "stderr",
     "output_type": "stream",
     "text": [
      "IOPub message rate exceeded.\n",
      "The notebook server will temporarily stop sending output\n",
      "to the client in order to avoid crashing it.\n",
      "To change this limit, set the config variable\n",
      "`--NotebookApp.iopub_msg_rate_limit`.\n",
      "\n",
      "Current values:\n",
      "NotebookApp.iopub_msg_rate_limit=1000.0 (msgs/sec)\n",
      "NotebookApp.rate_limit_window=3.0 (secs)\n",
      "\n"
     ]
    },
    {
     "name": "stdout",
     "output_type": "stream",
     "text": [
      "processing index num : 940616\r"
     ]
    },
    {
     "name": "stderr",
     "output_type": "stream",
     "text": [
      "IOPub message rate exceeded.\n",
      "The notebook server will temporarily stop sending output\n",
      "to the client in order to avoid crashing it.\n",
      "To change this limit, set the config variable\n",
      "`--NotebookApp.iopub_msg_rate_limit`.\n",
      "\n",
      "Current values:\n",
      "NotebookApp.iopub_msg_rate_limit=1000.0 (msgs/sec)\n",
      "NotebookApp.rate_limit_window=3.0 (secs)\n",
      "\n"
     ]
    },
    {
     "name": "stdout",
     "output_type": "stream",
     "text": [
      "processing index num : 951290\r"
     ]
    },
    {
     "name": "stderr",
     "output_type": "stream",
     "text": [
      "IOPub message rate exceeded.\n",
      "The notebook server will temporarily stop sending output\n",
      "to the client in order to avoid crashing it.\n",
      "To change this limit, set the config variable\n",
      "`--NotebookApp.iopub_msg_rate_limit`.\n",
      "\n",
      "Current values:\n",
      "NotebookApp.iopub_msg_rate_limit=1000.0 (msgs/sec)\n",
      "NotebookApp.rate_limit_window=3.0 (secs)\n",
      "\n"
     ]
    },
    {
     "name": "stdout",
     "output_type": "stream",
     "text": [
      "processing index num : 965135\r"
     ]
    },
    {
     "name": "stderr",
     "output_type": "stream",
     "text": [
      "IOPub message rate exceeded.\n",
      "The notebook server will temporarily stop sending output\n",
      "to the client in order to avoid crashing it.\n",
      "To change this limit, set the config variable\n",
      "`--NotebookApp.iopub_msg_rate_limit`.\n",
      "\n",
      "Current values:\n",
      "NotebookApp.iopub_msg_rate_limit=1000.0 (msgs/sec)\n",
      "NotebookApp.rate_limit_window=3.0 (secs)\n",
      "\n"
     ]
    },
    {
     "name": "stdout",
     "output_type": "stream",
     "text": [
      "processing index num : 976612\r"
     ]
    },
    {
     "name": "stderr",
     "output_type": "stream",
     "text": [
      "IOPub message rate exceeded.\n",
      "The notebook server will temporarily stop sending output\n",
      "to the client in order to avoid crashing it.\n",
      "To change this limit, set the config variable\n",
      "`--NotebookApp.iopub_msg_rate_limit`.\n",
      "\n",
      "Current values:\n",
      "NotebookApp.iopub_msg_rate_limit=1000.0 (msgs/sec)\n",
      "NotebookApp.rate_limit_window=3.0 (secs)\n",
      "\n"
     ]
    },
    {
     "name": "stdout",
     "output_type": "stream",
     "text": [
      "processing index num : 987738\r"
     ]
    },
    {
     "name": "stderr",
     "output_type": "stream",
     "text": [
      "IOPub message rate exceeded.\n",
      "The notebook server will temporarily stop sending output\n",
      "to the client in order to avoid crashing it.\n",
      "To change this limit, set the config variable\n",
      "`--NotebookApp.iopub_msg_rate_limit`.\n",
      "\n",
      "Current values:\n",
      "NotebookApp.iopub_msg_rate_limit=1000.0 (msgs/sec)\n",
      "NotebookApp.rate_limit_window=3.0 (secs)\n",
      "\n"
     ]
    },
    {
     "name": "stdout",
     "output_type": "stream",
     "text": [
      "processing index num : 995809\r"
     ]
    },
    {
     "name": "stderr",
     "output_type": "stream",
     "text": [
      "IOPub message rate exceeded.\n",
      "The notebook server will temporarily stop sending output\n",
      "to the client in order to avoid crashing it.\n",
      "To change this limit, set the config variable\n",
      "`--NotebookApp.iopub_msg_rate_limit`.\n",
      "\n",
      "Current values:\n",
      "NotebookApp.iopub_msg_rate_limit=1000.0 (msgs/sec)\n",
      "NotebookApp.rate_limit_window=3.0 (secs)\n",
      "\n"
     ]
    },
    {
     "name": "stdout",
     "output_type": "stream",
     "text": [
      "processing index num : 1005861\r"
     ]
    },
    {
     "name": "stderr",
     "output_type": "stream",
     "text": [
      "IOPub message rate exceeded.\n",
      "The notebook server will temporarily stop sending output\n",
      "to the client in order to avoid crashing it.\n",
      "To change this limit, set the config variable\n",
      "`--NotebookApp.iopub_msg_rate_limit`.\n",
      "\n",
      "Current values:\n",
      "NotebookApp.iopub_msg_rate_limit=1000.0 (msgs/sec)\n",
      "NotebookApp.rate_limit_window=3.0 (secs)\n",
      "\n"
     ]
    },
    {
     "name": "stdout",
     "output_type": "stream",
     "text": [
      "processing index num : 1019722\r"
     ]
    },
    {
     "name": "stderr",
     "output_type": "stream",
     "text": [
      "IOPub message rate exceeded.\n",
      "The notebook server will temporarily stop sending output\n",
      "to the client in order to avoid crashing it.\n",
      "To change this limit, set the config variable\n",
      "`--NotebookApp.iopub_msg_rate_limit`.\n",
      "\n",
      "Current values:\n",
      "NotebookApp.iopub_msg_rate_limit=1000.0 (msgs/sec)\n",
      "NotebookApp.rate_limit_window=3.0 (secs)\n",
      "\n"
     ]
    },
    {
     "name": "stdout",
     "output_type": "stream",
     "text": [
      "processing index num : 1031562\r"
     ]
    },
    {
     "name": "stderr",
     "output_type": "stream",
     "text": [
      "IOPub message rate exceeded.\n",
      "The notebook server will temporarily stop sending output\n",
      "to the client in order to avoid crashing it.\n",
      "To change this limit, set the config variable\n",
      "`--NotebookApp.iopub_msg_rate_limit`.\n",
      "\n",
      "Current values:\n",
      "NotebookApp.iopub_msg_rate_limit=1000.0 (msgs/sec)\n",
      "NotebookApp.rate_limit_window=3.0 (secs)\n",
      "\n"
     ]
    },
    {
     "name": "stdout",
     "output_type": "stream",
     "text": [
      "processing index num : 1039350\r"
     ]
    },
    {
     "name": "stderr",
     "output_type": "stream",
     "text": [
      "IOPub message rate exceeded.\n",
      "The notebook server will temporarily stop sending output\n",
      "to the client in order to avoid crashing it.\n",
      "To change this limit, set the config variable\n",
      "`--NotebookApp.iopub_msg_rate_limit`.\n",
      "\n",
      "Current values:\n",
      "NotebookApp.iopub_msg_rate_limit=1000.0 (msgs/sec)\n",
      "NotebookApp.rate_limit_window=3.0 (secs)\n",
      "\n"
     ]
    },
    {
     "name": "stdout",
     "output_type": "stream",
     "text": [
      "processing index num : 1050150\r"
     ]
    },
    {
     "name": "stderr",
     "output_type": "stream",
     "text": [
      "IOPub message rate exceeded.\n",
      "The notebook server will temporarily stop sending output\n",
      "to the client in order to avoid crashing it.\n",
      "To change this limit, set the config variable\n",
      "`--NotebookApp.iopub_msg_rate_limit`.\n",
      "\n",
      "Current values:\n",
      "NotebookApp.iopub_msg_rate_limit=1000.0 (msgs/sec)\n",
      "NotebookApp.rate_limit_window=3.0 (secs)\n",
      "\n"
     ]
    },
    {
     "name": "stdout",
     "output_type": "stream",
     "text": [
      "processing index num : 1061186\r"
     ]
    },
    {
     "name": "stderr",
     "output_type": "stream",
     "text": [
      "IOPub message rate exceeded.\n",
      "The notebook server will temporarily stop sending output\n",
      "to the client in order to avoid crashing it.\n",
      "To change this limit, set the config variable\n",
      "`--NotebookApp.iopub_msg_rate_limit`.\n",
      "\n",
      "Current values:\n",
      "NotebookApp.iopub_msg_rate_limit=1000.0 (msgs/sec)\n",
      "NotebookApp.rate_limit_window=3.0 (secs)\n",
      "\n"
     ]
    },
    {
     "name": "stdout",
     "output_type": "stream",
     "text": [
      "processing index num : 1074292processing index num : 1070120\r"
     ]
    },
    {
     "name": "stderr",
     "output_type": "stream",
     "text": [
      "IOPub message rate exceeded.\n",
      "The notebook server will temporarily stop sending output\n",
      "to the client in order to avoid crashing it.\n",
      "To change this limit, set the config variable\n",
      "`--NotebookApp.iopub_msg_rate_limit`.\n",
      "\n",
      "Current values:\n",
      "NotebookApp.iopub_msg_rate_limit=1000.0 (msgs/sec)\n",
      "NotebookApp.rate_limit_window=3.0 (secs)\n",
      "\n"
     ]
    },
    {
     "name": "stdout",
     "output_type": "stream",
     "text": [
      "processing index num : 1085284\r"
     ]
    },
    {
     "name": "stderr",
     "output_type": "stream",
     "text": [
      "IOPub message rate exceeded.\n",
      "The notebook server will temporarily stop sending output\n",
      "to the client in order to avoid crashing it.\n",
      "To change this limit, set the config variable\n",
      "`--NotebookApp.iopub_msg_rate_limit`.\n",
      "\n",
      "Current values:\n",
      "NotebookApp.iopub_msg_rate_limit=1000.0 (msgs/sec)\n",
      "NotebookApp.rate_limit_window=3.0 (secs)\n",
      "\n"
     ]
    },
    {
     "name": "stdout",
     "output_type": "stream",
     "text": [
      "processing index num : 1095831\r"
     ]
    },
    {
     "name": "stderr",
     "output_type": "stream",
     "text": [
      "IOPub message rate exceeded.\n",
      "The notebook server will temporarily stop sending output\n",
      "to the client in order to avoid crashing it.\n",
      "To change this limit, set the config variable\n",
      "`--NotebookApp.iopub_msg_rate_limit`.\n",
      "\n",
      "Current values:\n",
      "NotebookApp.iopub_msg_rate_limit=1000.0 (msgs/sec)\n",
      "NotebookApp.rate_limit_window=3.0 (secs)\n",
      "\n"
     ]
    },
    {
     "name": "stdout",
     "output_type": "stream",
     "text": [
      "processing index num : 1106371processing index num : 1105384\r"
     ]
    },
    {
     "name": "stderr",
     "output_type": "stream",
     "text": [
      "IOPub message rate exceeded.\n",
      "The notebook server will temporarily stop sending output\n",
      "to the client in order to avoid crashing it.\n",
      "To change this limit, set the config variable\n",
      "`--NotebookApp.iopub_msg_rate_limit`.\n",
      "\n",
      "Current values:\n",
      "NotebookApp.iopub_msg_rate_limit=1000.0 (msgs/sec)\n",
      "NotebookApp.rate_limit_window=3.0 (secs)\n",
      "\n"
     ]
    },
    {
     "name": "stdout",
     "output_type": "stream",
     "text": [
      "processing index num : 1114516\r"
     ]
    },
    {
     "name": "stderr",
     "output_type": "stream",
     "text": [
      "IOPub message rate exceeded.\n",
      "The notebook server will temporarily stop sending output\n",
      "to the client in order to avoid crashing it.\n",
      "To change this limit, set the config variable\n",
      "`--NotebookApp.iopub_msg_rate_limit`.\n",
      "\n",
      "Current values:\n",
      "NotebookApp.iopub_msg_rate_limit=1000.0 (msgs/sec)\n",
      "NotebookApp.rate_limit_window=3.0 (secs)\n",
      "\n"
     ]
    },
    {
     "name": "stdout",
     "output_type": "stream",
     "text": [
      "processing index num : 1129167\r"
     ]
    },
    {
     "name": "stderr",
     "output_type": "stream",
     "text": [
      "IOPub message rate exceeded.\n",
      "The notebook server will temporarily stop sending output\n",
      "to the client in order to avoid crashing it.\n",
      "To change this limit, set the config variable\n",
      "`--NotebookApp.iopub_msg_rate_limit`.\n",
      "\n",
      "Current values:\n",
      "NotebookApp.iopub_msg_rate_limit=1000.0 (msgs/sec)\n",
      "NotebookApp.rate_limit_window=3.0 (secs)\n",
      "\n"
     ]
    },
    {
     "name": "stdout",
     "output_type": "stream",
     "text": [
      "processing index num : 1140028processing index num : 1139596\r"
     ]
    },
    {
     "name": "stderr",
     "output_type": "stream",
     "text": [
      "IOPub message rate exceeded.\n",
      "The notebook server will temporarily stop sending output\n",
      "to the client in order to avoid crashing it.\n",
      "To change this limit, set the config variable\n",
      "`--NotebookApp.iopub_msg_rate_limit`.\n",
      "\n",
      "Current values:\n",
      "NotebookApp.iopub_msg_rate_limit=1000.0 (msgs/sec)\n",
      "NotebookApp.rate_limit_window=3.0 (secs)\n",
      "\n"
     ]
    },
    {
     "name": "stdout",
     "output_type": "stream",
     "text": [
      "processing index num : 1150402\r"
     ]
    },
    {
     "name": "stderr",
     "output_type": "stream",
     "text": [
      "IOPub message rate exceeded.\n",
      "The notebook server will temporarily stop sending output\n",
      "to the client in order to avoid crashing it.\n",
      "To change this limit, set the config variable\n",
      "`--NotebookApp.iopub_msg_rate_limit`.\n",
      "\n",
      "Current values:\n",
      "NotebookApp.iopub_msg_rate_limit=1000.0 (msgs/sec)\n",
      "NotebookApp.rate_limit_window=3.0 (secs)\n",
      "\n"
     ]
    },
    {
     "name": "stdout",
     "output_type": "stream",
     "text": [
      "processing index num : 1162151\r"
     ]
    },
    {
     "name": "stderr",
     "output_type": "stream",
     "text": [
      "IOPub message rate exceeded.\n",
      "The notebook server will temporarily stop sending output\n",
      "to the client in order to avoid crashing it.\n",
      "To change this limit, set the config variable\n",
      "`--NotebookApp.iopub_msg_rate_limit`.\n",
      "\n",
      "Current values:\n",
      "NotebookApp.iopub_msg_rate_limit=1000.0 (msgs/sec)\n",
      "NotebookApp.rate_limit_window=3.0 (secs)\n",
      "\n"
     ]
    },
    {
     "name": "stdout",
     "output_type": "stream",
     "text": [
      "processing index num : 1173789\r"
     ]
    },
    {
     "name": "stderr",
     "output_type": "stream",
     "text": [
      "IOPub message rate exceeded.\n",
      "The notebook server will temporarily stop sending output\n",
      "to the client in order to avoid crashing it.\n",
      "To change this limit, set the config variable\n",
      "`--NotebookApp.iopub_msg_rate_limit`.\n",
      "\n",
      "Current values:\n",
      "NotebookApp.iopub_msg_rate_limit=1000.0 (msgs/sec)\n",
      "NotebookApp.rate_limit_window=3.0 (secs)\n",
      "\n"
     ]
    },
    {
     "name": "stdout",
     "output_type": "stream",
     "text": [
      "processing index num : 1184512\r"
     ]
    },
    {
     "name": "stderr",
     "output_type": "stream",
     "text": [
      "IOPub message rate exceeded.\n",
      "The notebook server will temporarily stop sending output\n",
      "to the client in order to avoid crashing it.\n",
      "To change this limit, set the config variable\n",
      "`--NotebookApp.iopub_msg_rate_limit`.\n",
      "\n",
      "Current values:\n",
      "NotebookApp.iopub_msg_rate_limit=1000.0 (msgs/sec)\n",
      "NotebookApp.rate_limit_window=3.0 (secs)\n",
      "\n"
     ]
    },
    {
     "name": "stdout",
     "output_type": "stream",
     "text": [
      "processing index num : 1195076\r"
     ]
    },
    {
     "name": "stderr",
     "output_type": "stream",
     "text": [
      "IOPub message rate exceeded.\n",
      "The notebook server will temporarily stop sending output\n",
      "to the client in order to avoid crashing it.\n",
      "To change this limit, set the config variable\n",
      "`--NotebookApp.iopub_msg_rate_limit`.\n",
      "\n",
      "Current values:\n",
      "NotebookApp.iopub_msg_rate_limit=1000.0 (msgs/sec)\n",
      "NotebookApp.rate_limit_window=3.0 (secs)\n",
      "\n"
     ]
    },
    {
     "name": "stdout",
     "output_type": "stream",
     "text": [
      "processing index num : 1205045\r"
     ]
    },
    {
     "name": "stderr",
     "output_type": "stream",
     "text": [
      "IOPub message rate exceeded.\n",
      "The notebook server will temporarily stop sending output\n",
      "to the client in order to avoid crashing it.\n",
      "To change this limit, set the config variable\n",
      "`--NotebookApp.iopub_msg_rate_limit`.\n",
      "\n",
      "Current values:\n",
      "NotebookApp.iopub_msg_rate_limit=1000.0 (msgs/sec)\n",
      "NotebookApp.rate_limit_window=3.0 (secs)\n",
      "\n"
     ]
    },
    {
     "name": "stdout",
     "output_type": "stream",
     "text": [
      "processing index num : 1214021\r"
     ]
    },
    {
     "name": "stderr",
     "output_type": "stream",
     "text": [
      "IOPub message rate exceeded.\n",
      "The notebook server will temporarily stop sending output\n",
      "to the client in order to avoid crashing it.\n",
      "To change this limit, set the config variable\n",
      "`--NotebookApp.iopub_msg_rate_limit`.\n",
      "\n",
      "Current values:\n",
      "NotebookApp.iopub_msg_rate_limit=1000.0 (msgs/sec)\n",
      "NotebookApp.rate_limit_window=3.0 (secs)\n",
      "\n"
     ]
    },
    {
     "name": "stdout",
     "output_type": "stream",
     "text": [
      "processing index num : 1227407\r"
     ]
    },
    {
     "name": "stderr",
     "output_type": "stream",
     "text": [
      "IOPub message rate exceeded.\n",
      "The notebook server will temporarily stop sending output\n",
      "to the client in order to avoid crashing it.\n",
      "To change this limit, set the config variable\n",
      "`--NotebookApp.iopub_msg_rate_limit`.\n",
      "\n",
      "Current values:\n",
      "NotebookApp.iopub_msg_rate_limit=1000.0 (msgs/sec)\n",
      "NotebookApp.rate_limit_window=3.0 (secs)\n",
      "\n"
     ]
    },
    {
     "name": "stdout",
     "output_type": "stream",
     "text": [
      "processing index num : 1234613\r"
     ]
    },
    {
     "name": "stderr",
     "output_type": "stream",
     "text": [
      "IOPub message rate exceeded.\n",
      "The notebook server will temporarily stop sending output\n",
      "to the client in order to avoid crashing it.\n",
      "To change this limit, set the config variable\n",
      "`--NotebookApp.iopub_msg_rate_limit`.\n",
      "\n",
      "Current values:\n",
      "NotebookApp.iopub_msg_rate_limit=1000.0 (msgs/sec)\n",
      "NotebookApp.rate_limit_window=3.0 (secs)\n",
      "\n"
     ]
    },
    {
     "name": "stdout",
     "output_type": "stream",
     "text": [
      "processing index num : 1248070\r"
     ]
    },
    {
     "name": "stderr",
     "output_type": "stream",
     "text": [
      "IOPub message rate exceeded.\n",
      "The notebook server will temporarily stop sending output\n",
      "to the client in order to avoid crashing it.\n",
      "To change this limit, set the config variable\n",
      "`--NotebookApp.iopub_msg_rate_limit`.\n",
      "\n",
      "Current values:\n",
      "NotebookApp.iopub_msg_rate_limit=1000.0 (msgs/sec)\n",
      "NotebookApp.rate_limit_window=3.0 (secs)\n",
      "\n"
     ]
    },
    {
     "name": "stdout",
     "output_type": "stream",
     "text": [
      "processing index num : 1259901\r"
     ]
    },
    {
     "name": "stderr",
     "output_type": "stream",
     "text": [
      "IOPub message rate exceeded.\n",
      "The notebook server will temporarily stop sending output\n",
      "to the client in order to avoid crashing it.\n",
      "To change this limit, set the config variable\n",
      "`--NotebookApp.iopub_msg_rate_limit`.\n",
      "\n",
      "Current values:\n",
      "NotebookApp.iopub_msg_rate_limit=1000.0 (msgs/sec)\n",
      "NotebookApp.rate_limit_window=3.0 (secs)\n",
      "\n"
     ]
    },
    {
     "name": "stdout",
     "output_type": "stream",
     "text": [
      "processing index num : 1270165\r"
     ]
    },
    {
     "name": "stderr",
     "output_type": "stream",
     "text": [
      "IOPub message rate exceeded.\n",
      "The notebook server will temporarily stop sending output\n",
      "to the client in order to avoid crashing it.\n",
      "To change this limit, set the config variable\n",
      "`--NotebookApp.iopub_msg_rate_limit`.\n",
      "\n",
      "Current values:\n",
      "NotebookApp.iopub_msg_rate_limit=1000.0 (msgs/sec)\n",
      "NotebookApp.rate_limit_window=3.0 (secs)\n",
      "\n"
     ]
    },
    {
     "name": "stdout",
     "output_type": "stream",
     "text": [
      "processing index num : 1281889\r"
     ]
    },
    {
     "name": "stderr",
     "output_type": "stream",
     "text": [
      "IOPub message rate exceeded.\n",
      "The notebook server will temporarily stop sending output\n",
      "to the client in order to avoid crashing it.\n",
      "To change this limit, set the config variable\n",
      "`--NotebookApp.iopub_msg_rate_limit`.\n",
      "\n",
      "Current values:\n",
      "NotebookApp.iopub_msg_rate_limit=1000.0 (msgs/sec)\n",
      "NotebookApp.rate_limit_window=3.0 (secs)\n",
      "\n"
     ]
    },
    {
     "name": "stdout",
     "output_type": "stream",
     "text": [
      "processing index num : 1288411\r"
     ]
    },
    {
     "name": "stderr",
     "output_type": "stream",
     "text": [
      "IOPub message rate exceeded.\n",
      "The notebook server will temporarily stop sending output\n",
      "to the client in order to avoid crashing it.\n",
      "To change this limit, set the config variable\n",
      "`--NotebookApp.iopub_msg_rate_limit`.\n",
      "\n",
      "Current values:\n",
      "NotebookApp.iopub_msg_rate_limit=1000.0 (msgs/sec)\n",
      "NotebookApp.rate_limit_window=3.0 (secs)\n",
      "\n"
     ]
    },
    {
     "name": "stdout",
     "output_type": "stream",
     "text": [
      "processing index num : 1300117"
     ]
    },
    {
     "name": "stderr",
     "output_type": "stream",
     "text": [
      "IOPub message rate exceeded.\n",
      "The notebook server will temporarily stop sending output\n",
      "to the client in order to avoid crashing it.\n",
      "To change this limit, set the config variable\n",
      "`--NotebookApp.iopub_msg_rate_limit`.\n",
      "\n",
      "Current values:\n",
      "NotebookApp.iopub_msg_rate_limit=1000.0 (msgs/sec)\n",
      "NotebookApp.rate_limit_window=3.0 (secs)\n",
      "\n"
     ]
    },
    {
     "name": "stdout",
     "output_type": "stream",
     "text": [
      "processing index num : 1310785\r"
     ]
    },
    {
     "name": "stderr",
     "output_type": "stream",
     "text": [
      "IOPub message rate exceeded.\n",
      "The notebook server will temporarily stop sending output\n",
      "to the client in order to avoid crashing it.\n",
      "To change this limit, set the config variable\n",
      "`--NotebookApp.iopub_msg_rate_limit`.\n",
      "\n",
      "Current values:\n",
      "NotebookApp.iopub_msg_rate_limit=1000.0 (msgs/sec)\n",
      "NotebookApp.rate_limit_window=3.0 (secs)\n",
      "\n"
     ]
    },
    {
     "name": "stdout",
     "output_type": "stream",
     "text": [
      "processing index num : 1322083\r"
     ]
    },
    {
     "name": "stderr",
     "output_type": "stream",
     "text": [
      "IOPub message rate exceeded.\n",
      "The notebook server will temporarily stop sending output\n",
      "to the client in order to avoid crashing it.\n",
      "To change this limit, set the config variable\n",
      "`--NotebookApp.iopub_msg_rate_limit`.\n",
      "\n",
      "Current values:\n",
      "NotebookApp.iopub_msg_rate_limit=1000.0 (msgs/sec)\n",
      "NotebookApp.rate_limit_window=3.0 (secs)\n",
      "\n"
     ]
    },
    {
     "name": "stdout",
     "output_type": "stream",
     "text": [
      "processing index num : 1332138"
     ]
    },
    {
     "name": "stderr",
     "output_type": "stream",
     "text": [
      "IOPub message rate exceeded.\n",
      "The notebook server will temporarily stop sending output\n",
      "to the client in order to avoid crashing it.\n",
      "To change this limit, set the config variable\n",
      "`--NotebookApp.iopub_msg_rate_limit`.\n",
      "\n",
      "Current values:\n",
      "NotebookApp.iopub_msg_rate_limit=1000.0 (msgs/sec)\n",
      "NotebookApp.rate_limit_window=3.0 (secs)\n",
      "\n"
     ]
    },
    {
     "name": "stdout",
     "output_type": "stream",
     "text": [
      "processing index num : 1346398\r"
     ]
    },
    {
     "name": "stderr",
     "output_type": "stream",
     "text": [
      "IOPub message rate exceeded.\n",
      "The notebook server will temporarily stop sending output\n",
      "to the client in order to avoid crashing it.\n",
      "To change this limit, set the config variable\n",
      "`--NotebookApp.iopub_msg_rate_limit`.\n",
      "\n",
      "Current values:\n",
      "NotebookApp.iopub_msg_rate_limit=1000.0 (msgs/sec)\n",
      "NotebookApp.rate_limit_window=3.0 (secs)\n",
      "\n"
     ]
    },
    {
     "name": "stdout",
     "output_type": "stream",
     "text": [
      "processing index num : 1354686\r"
     ]
    },
    {
     "name": "stderr",
     "output_type": "stream",
     "text": [
      "IOPub message rate exceeded.\n",
      "The notebook server will temporarily stop sending output\n",
      "to the client in order to avoid crashing it.\n",
      "To change this limit, set the config variable\n",
      "`--NotebookApp.iopub_msg_rate_limit`.\n",
      "\n",
      "Current values:\n",
      "NotebookApp.iopub_msg_rate_limit=1000.0 (msgs/sec)\n",
      "NotebookApp.rate_limit_window=3.0 (secs)\n",
      "\n"
     ]
    },
    {
     "name": "stdout",
     "output_type": "stream",
     "text": [
      "processing index num : 1368850\r"
     ]
    },
    {
     "name": "stderr",
     "output_type": "stream",
     "text": [
      "IOPub message rate exceeded.\n",
      "The notebook server will temporarily stop sending output\n",
      "to the client in order to avoid crashing it.\n",
      "To change this limit, set the config variable\n",
      "`--NotebookApp.iopub_msg_rate_limit`.\n",
      "\n",
      "Current values:\n",
      "NotebookApp.iopub_msg_rate_limit=1000.0 (msgs/sec)\n",
      "NotebookApp.rate_limit_window=3.0 (secs)\n",
      "\n"
     ]
    },
    {
     "name": "stdout",
     "output_type": "stream",
     "text": [
      "processing index num : 1379377\r"
     ]
    },
    {
     "name": "stderr",
     "output_type": "stream",
     "text": [
      "IOPub message rate exceeded.\n",
      "The notebook server will temporarily stop sending output\n",
      "to the client in order to avoid crashing it.\n",
      "To change this limit, set the config variable\n",
      "`--NotebookApp.iopub_msg_rate_limit`.\n",
      "\n",
      "Current values:\n",
      "NotebookApp.iopub_msg_rate_limit=1000.0 (msgs/sec)\n",
      "NotebookApp.rate_limit_window=3.0 (secs)\n",
      "\n"
     ]
    },
    {
     "name": "stdout",
     "output_type": "stream",
     "text": [
      "processing index num : 1390444\r"
     ]
    },
    {
     "name": "stderr",
     "output_type": "stream",
     "text": [
      "IOPub message rate exceeded.\n",
      "The notebook server will temporarily stop sending output\n",
      "to the client in order to avoid crashing it.\n",
      "To change this limit, set the config variable\n",
      "`--NotebookApp.iopub_msg_rate_limit`.\n",
      "\n",
      "Current values:\n",
      "NotebookApp.iopub_msg_rate_limit=1000.0 (msgs/sec)\n",
      "NotebookApp.rate_limit_window=3.0 (secs)\n",
      "\n"
     ]
    },
    {
     "name": "stdout",
     "output_type": "stream",
     "text": [
      "processing index num : 1400996\r"
     ]
    },
    {
     "name": "stderr",
     "output_type": "stream",
     "text": [
      "IOPub message rate exceeded.\n",
      "The notebook server will temporarily stop sending output\n",
      "to the client in order to avoid crashing it.\n",
      "To change this limit, set the config variable\n",
      "`--NotebookApp.iopub_msg_rate_limit`.\n",
      "\n",
      "Current values:\n",
      "NotebookApp.iopub_msg_rate_limit=1000.0 (msgs/sec)\n",
      "NotebookApp.rate_limit_window=3.0 (secs)\n",
      "\n"
     ]
    },
    {
     "name": "stdout",
     "output_type": "stream",
     "text": [
      "processing index num : 1411676\r"
     ]
    },
    {
     "name": "stderr",
     "output_type": "stream",
     "text": [
      "IOPub message rate exceeded.\n",
      "The notebook server will temporarily stop sending output\n",
      "to the client in order to avoid crashing it.\n",
      "To change this limit, set the config variable\n",
      "`--NotebookApp.iopub_msg_rate_limit`.\n",
      "\n",
      "Current values:\n",
      "NotebookApp.iopub_msg_rate_limit=1000.0 (msgs/sec)\n",
      "NotebookApp.rate_limit_window=3.0 (secs)\n",
      "\n"
     ]
    },
    {
     "name": "stdout",
     "output_type": "stream",
     "text": [
      "processing index num : 1419505\r"
     ]
    },
    {
     "name": "stderr",
     "output_type": "stream",
     "text": [
      "IOPub message rate exceeded.\n",
      "The notebook server will temporarily stop sending output\n",
      "to the client in order to avoid crashing it.\n",
      "To change this limit, set the config variable\n",
      "`--NotebookApp.iopub_msg_rate_limit`.\n",
      "\n",
      "Current values:\n",
      "NotebookApp.iopub_msg_rate_limit=1000.0 (msgs/sec)\n",
      "NotebookApp.rate_limit_window=3.0 (secs)\n",
      "\n"
     ]
    },
    {
     "name": "stdout",
     "output_type": "stream",
     "text": [
      "processing index num : 1429061\r"
     ]
    },
    {
     "name": "stderr",
     "output_type": "stream",
     "text": [
      "IOPub message rate exceeded.\n",
      "The notebook server will temporarily stop sending output\n",
      "to the client in order to avoid crashing it.\n",
      "To change this limit, set the config variable\n",
      "`--NotebookApp.iopub_msg_rate_limit`.\n",
      "\n",
      "Current values:\n",
      "NotebookApp.iopub_msg_rate_limit=1000.0 (msgs/sec)\n",
      "NotebookApp.rate_limit_window=3.0 (secs)\n",
      "\n"
     ]
    },
    {
     "name": "stdout",
     "output_type": "stream",
     "text": [
      "processing index num : 1442042processing index num : 1440326\r"
     ]
    },
    {
     "name": "stderr",
     "output_type": "stream",
     "text": [
      "IOPub message rate exceeded.\n",
      "The notebook server will temporarily stop sending output\n",
      "to the client in order to avoid crashing it.\n",
      "To change this limit, set the config variable\n",
      "`--NotebookApp.iopub_msg_rate_limit`.\n",
      "\n",
      "Current values:\n",
      "NotebookApp.iopub_msg_rate_limit=1000.0 (msgs/sec)\n",
      "NotebookApp.rate_limit_window=3.0 (secs)\n",
      "\n"
     ]
    },
    {
     "name": "stdout",
     "output_type": "stream",
     "text": [
      "processing index num : 1453379\r"
     ]
    },
    {
     "name": "stderr",
     "output_type": "stream",
     "text": [
      "IOPub message rate exceeded.\n",
      "The notebook server will temporarily stop sending output\n",
      "to the client in order to avoid crashing it.\n",
      "To change this limit, set the config variable\n",
      "`--NotebookApp.iopub_msg_rate_limit`.\n",
      "\n",
      "Current values:\n",
      "NotebookApp.iopub_msg_rate_limit=1000.0 (msgs/sec)\n",
      "NotebookApp.rate_limit_window=3.0 (secs)\n",
      "\n"
     ]
    },
    {
     "name": "stdout",
     "output_type": "stream",
     "text": [
      "processing index num : 1464694"
     ]
    },
    {
     "name": "stderr",
     "output_type": "stream",
     "text": [
      "IOPub message rate exceeded.\n",
      "The notebook server will temporarily stop sending output\n",
      "to the client in order to avoid crashing it.\n",
      "To change this limit, set the config variable\n",
      "`--NotebookApp.iopub_msg_rate_limit`.\n",
      "\n",
      "Current values:\n",
      "NotebookApp.iopub_msg_rate_limit=1000.0 (msgs/sec)\n",
      "NotebookApp.rate_limit_window=3.0 (secs)\n",
      "\n"
     ]
    },
    {
     "name": "stdout",
     "output_type": "stream",
     "text": [
      "processing index num : 1474328\r"
     ]
    },
    {
     "name": "stderr",
     "output_type": "stream",
     "text": [
      "IOPub message rate exceeded.\n",
      "The notebook server will temporarily stop sending output\n",
      "to the client in order to avoid crashing it.\n",
      "To change this limit, set the config variable\n",
      "`--NotebookApp.iopub_msg_rate_limit`.\n",
      "\n",
      "Current values:\n",
      "NotebookApp.iopub_msg_rate_limit=1000.0 (msgs/sec)\n",
      "NotebookApp.rate_limit_window=3.0 (secs)\n",
      "\n"
     ]
    },
    {
     "name": "stdout",
     "output_type": "stream",
     "text": [
      "processing index num : 1482277\r"
     ]
    },
    {
     "name": "stderr",
     "output_type": "stream",
     "text": [
      "IOPub message rate exceeded.\n",
      "The notebook server will temporarily stop sending output\n",
      "to the client in order to avoid crashing it.\n",
      "To change this limit, set the config variable\n",
      "`--NotebookApp.iopub_msg_rate_limit`.\n",
      "\n",
      "Current values:\n",
      "NotebookApp.iopub_msg_rate_limit=1000.0 (msgs/sec)\n",
      "NotebookApp.rate_limit_window=3.0 (secs)\n",
      "\n"
     ]
    },
    {
     "name": "stdout",
     "output_type": "stream",
     "text": [
      "processing index num : 1494109\r"
     ]
    },
    {
     "name": "stderr",
     "output_type": "stream",
     "text": [
      "IOPub message rate exceeded.\n",
      "The notebook server will temporarily stop sending output\n",
      "to the client in order to avoid crashing it.\n",
      "To change this limit, set the config variable\n",
      "`--NotebookApp.iopub_msg_rate_limit`.\n",
      "\n",
      "Current values:\n",
      "NotebookApp.iopub_msg_rate_limit=1000.0 (msgs/sec)\n",
      "NotebookApp.rate_limit_window=3.0 (secs)\n",
      "\n"
     ]
    },
    {
     "name": "stdout",
     "output_type": "stream",
     "text": [
      "processing index num : 1506046\r"
     ]
    },
    {
     "name": "stderr",
     "output_type": "stream",
     "text": [
      "IOPub message rate exceeded.\n",
      "The notebook server will temporarily stop sending output\n",
      "to the client in order to avoid crashing it.\n",
      "To change this limit, set the config variable\n",
      "`--NotebookApp.iopub_msg_rate_limit`.\n",
      "\n",
      "Current values:\n",
      "NotebookApp.iopub_msg_rate_limit=1000.0 (msgs/sec)\n",
      "NotebookApp.rate_limit_window=3.0 (secs)\n",
      "\n"
     ]
    },
    {
     "name": "stdout",
     "output_type": "stream",
     "text": [
      "processing index num : 1517887\r"
     ]
    },
    {
     "name": "stderr",
     "output_type": "stream",
     "text": [
      "IOPub message rate exceeded.\n",
      "The notebook server will temporarily stop sending output\n",
      "to the client in order to avoid crashing it.\n",
      "To change this limit, set the config variable\n",
      "`--NotebookApp.iopub_msg_rate_limit`.\n",
      "\n",
      "Current values:\n",
      "NotebookApp.iopub_msg_rate_limit=1000.0 (msgs/sec)\n",
      "NotebookApp.rate_limit_window=3.0 (secs)\n",
      "\n"
     ]
    },
    {
     "name": "stdout",
     "output_type": "stream",
     "text": [
      "processing index num : 1529635\r"
     ]
    },
    {
     "name": "stderr",
     "output_type": "stream",
     "text": [
      "IOPub message rate exceeded.\n",
      "The notebook server will temporarily stop sending output\n",
      "to the client in order to avoid crashing it.\n",
      "To change this limit, set the config variable\n",
      "`--NotebookApp.iopub_msg_rate_limit`.\n",
      "\n",
      "Current values:\n",
      "NotebookApp.iopub_msg_rate_limit=1000.0 (msgs/sec)\n",
      "NotebookApp.rate_limit_window=3.0 (secs)\n",
      "\n"
     ]
    },
    {
     "name": "stdout",
     "output_type": "stream",
     "text": [
      "processing index num : 1540282\r"
     ]
    },
    {
     "name": "stderr",
     "output_type": "stream",
     "text": [
      "IOPub message rate exceeded.\n",
      "The notebook server will temporarily stop sending output\n",
      "to the client in order to avoid crashing it.\n",
      "To change this limit, set the config variable\n",
      "`--NotebookApp.iopub_msg_rate_limit`.\n",
      "\n",
      "Current values:\n",
      "NotebookApp.iopub_msg_rate_limit=1000.0 (msgs/sec)\n",
      "NotebookApp.rate_limit_window=3.0 (secs)\n",
      "\n"
     ]
    },
    {
     "name": "stdout",
     "output_type": "stream",
     "text": [
      "processing index num : 1550761\r"
     ]
    },
    {
     "name": "stderr",
     "output_type": "stream",
     "text": [
      "IOPub message rate exceeded.\n",
      "The notebook server will temporarily stop sending output\n",
      "to the client in order to avoid crashing it.\n",
      "To change this limit, set the config variable\n",
      "`--NotebookApp.iopub_msg_rate_limit`.\n",
      "\n",
      "Current values:\n",
      "NotebookApp.iopub_msg_rate_limit=1000.0 (msgs/sec)\n",
      "NotebookApp.rate_limit_window=3.0 (secs)\n",
      "\n"
     ]
    },
    {
     "name": "stdout",
     "output_type": "stream",
     "text": [
      "processing index num : 1561418\r"
     ]
    },
    {
     "name": "stderr",
     "output_type": "stream",
     "text": [
      "IOPub message rate exceeded.\n",
      "The notebook server will temporarily stop sending output\n",
      "to the client in order to avoid crashing it.\n",
      "To change this limit, set the config variable\n",
      "`--NotebookApp.iopub_msg_rate_limit`.\n",
      "\n",
      "Current values:\n",
      "NotebookApp.iopub_msg_rate_limit=1000.0 (msgs/sec)\n",
      "NotebookApp.rate_limit_window=3.0 (secs)\n",
      "\n"
     ]
    },
    {
     "name": "stdout",
     "output_type": "stream",
     "text": [
      "processing index num : 1573301\r"
     ]
    },
    {
     "name": "stderr",
     "output_type": "stream",
     "text": [
      "IOPub message rate exceeded.\n",
      "The notebook server will temporarily stop sending output\n",
      "to the client in order to avoid crashing it.\n",
      "To change this limit, set the config variable\n",
      "`--NotebookApp.iopub_msg_rate_limit`.\n",
      "\n",
      "Current values:\n",
      "NotebookApp.iopub_msg_rate_limit=1000.0 (msgs/sec)\n",
      "NotebookApp.rate_limit_window=3.0 (secs)\n",
      "\n"
     ]
    },
    {
     "name": "stdout",
     "output_type": "stream",
     "text": [
      "processing index num : 1581069\r"
     ]
    },
    {
     "name": "stderr",
     "output_type": "stream",
     "text": [
      "IOPub message rate exceeded.\n",
      "The notebook server will temporarily stop sending output\n",
      "to the client in order to avoid crashing it.\n",
      "To change this limit, set the config variable\n",
      "`--NotebookApp.iopub_msg_rate_limit`.\n",
      "\n",
      "Current values:\n",
      "NotebookApp.iopub_msg_rate_limit=1000.0 (msgs/sec)\n",
      "NotebookApp.rate_limit_window=3.0 (secs)\n",
      "\n"
     ]
    },
    {
     "name": "stdout",
     "output_type": "stream",
     "text": [
      "processing index num : 1592382\r"
     ]
    },
    {
     "name": "stderr",
     "output_type": "stream",
     "text": [
      "IOPub message rate exceeded.\n",
      "The notebook server will temporarily stop sending output\n",
      "to the client in order to avoid crashing it.\n",
      "To change this limit, set the config variable\n",
      "`--NotebookApp.iopub_msg_rate_limit`.\n",
      "\n",
      "Current values:\n",
      "NotebookApp.iopub_msg_rate_limit=1000.0 (msgs/sec)\n",
      "NotebookApp.rate_limit_window=3.0 (secs)\n",
      "\n"
     ]
    },
    {
     "name": "stdout",
     "output_type": "stream",
     "text": [
      "processing index num : 1605130\r"
     ]
    },
    {
     "name": "stderr",
     "output_type": "stream",
     "text": [
      "IOPub message rate exceeded.\n",
      "The notebook server will temporarily stop sending output\n",
      "to the client in order to avoid crashing it.\n",
      "To change this limit, set the config variable\n",
      "`--NotebookApp.iopub_msg_rate_limit`.\n",
      "\n",
      "Current values:\n",
      "NotebookApp.iopub_msg_rate_limit=1000.0 (msgs/sec)\n",
      "NotebookApp.rate_limit_window=3.0 (secs)\n",
      "\n"
     ]
    },
    {
     "name": "stdout",
     "output_type": "stream",
     "text": [
      "processing index num : 1616529\r"
     ]
    },
    {
     "name": "stderr",
     "output_type": "stream",
     "text": [
      "IOPub message rate exceeded.\n",
      "The notebook server will temporarily stop sending output\n",
      "to the client in order to avoid crashing it.\n",
      "To change this limit, set the config variable\n",
      "`--NotebookApp.iopub_msg_rate_limit`.\n",
      "\n",
      "Current values:\n",
      "NotebookApp.iopub_msg_rate_limit=1000.0 (msgs/sec)\n",
      "NotebookApp.rate_limit_window=3.0 (secs)\n",
      "\n"
     ]
    },
    {
     "name": "stdout",
     "output_type": "stream",
     "text": [
      "processing index num : 1627146\r"
     ]
    },
    {
     "name": "stderr",
     "output_type": "stream",
     "text": [
      "IOPub message rate exceeded.\n",
      "The notebook server will temporarily stop sending output\n",
      "to the client in order to avoid crashing it.\n",
      "To change this limit, set the config variable\n",
      "`--NotebookApp.iopub_msg_rate_limit`.\n",
      "\n",
      "Current values:\n",
      "NotebookApp.iopub_msg_rate_limit=1000.0 (msgs/sec)\n",
      "NotebookApp.rate_limit_window=3.0 (secs)\n",
      "\n"
     ]
    },
    {
     "name": "stdout",
     "output_type": "stream",
     "text": [
      "processing index num : 1637838\r"
     ]
    },
    {
     "name": "stderr",
     "output_type": "stream",
     "text": [
      "IOPub message rate exceeded.\n",
      "The notebook server will temporarily stop sending output\n",
      "to the client in order to avoid crashing it.\n",
      "To change this limit, set the config variable\n",
      "`--NotebookApp.iopub_msg_rate_limit`.\n",
      "\n",
      "Current values:\n",
      "NotebookApp.iopub_msg_rate_limit=1000.0 (msgs/sec)\n",
      "NotebookApp.rate_limit_window=3.0 (secs)\n",
      "\n"
     ]
    },
    {
     "name": "stdout",
     "output_type": "stream",
     "text": [
      "processing index num : 1649742\r"
     ]
    },
    {
     "name": "stderr",
     "output_type": "stream",
     "text": [
      "IOPub message rate exceeded.\n",
      "The notebook server will temporarily stop sending output\n",
      "to the client in order to avoid crashing it.\n",
      "To change this limit, set the config variable\n",
      "`--NotebookApp.iopub_msg_rate_limit`.\n",
      "\n",
      "Current values:\n",
      "NotebookApp.iopub_msg_rate_limit=1000.0 (msgs/sec)\n",
      "NotebookApp.rate_limit_window=3.0 (secs)\n",
      "\n"
     ]
    },
    {
     "name": "stdout",
     "output_type": "stream",
     "text": [
      "processing index num : 1659900\r"
     ]
    },
    {
     "name": "stderr",
     "output_type": "stream",
     "text": [
      "IOPub message rate exceeded.\n",
      "The notebook server will temporarily stop sending output\n",
      "to the client in order to avoid crashing it.\n",
      "To change this limit, set the config variable\n",
      "`--NotebookApp.iopub_msg_rate_limit`.\n",
      "\n",
      "Current values:\n",
      "NotebookApp.iopub_msg_rate_limit=1000.0 (msgs/sec)\n",
      "NotebookApp.rate_limit_window=3.0 (secs)\n",
      "\n"
     ]
    },
    {
     "name": "stdout",
     "output_type": "stream",
     "text": [
      "processing index num : 1670475\r"
     ]
    },
    {
     "name": "stderr",
     "output_type": "stream",
     "text": [
      "IOPub message rate exceeded.\n",
      "The notebook server will temporarily stop sending output\n",
      "to the client in order to avoid crashing it.\n",
      "To change this limit, set the config variable\n",
      "`--NotebookApp.iopub_msg_rate_limit`.\n",
      "\n",
      "Current values:\n",
      "NotebookApp.iopub_msg_rate_limit=1000.0 (msgs/sec)\n",
      "NotebookApp.rate_limit_window=3.0 (secs)\n",
      "\n"
     ]
    },
    {
     "name": "stdout",
     "output_type": "stream",
     "text": [
      "processing index num : 1683321processing index num : 1682679\r"
     ]
    },
    {
     "name": "stderr",
     "output_type": "stream",
     "text": [
      "IOPub message rate exceeded.\n",
      "The notebook server will temporarily stop sending output\n",
      "to the client in order to avoid crashing it.\n",
      "To change this limit, set the config variable\n",
      "`--NotebookApp.iopub_msg_rate_limit`.\n",
      "\n",
      "Current values:\n",
      "NotebookApp.iopub_msg_rate_limit=1000.0 (msgs/sec)\n",
      "NotebookApp.rate_limit_window=3.0 (secs)\n",
      "\n"
     ]
    },
    {
     "name": "stdout",
     "output_type": "stream",
     "text": [
      "processing index num : 1694149\r"
     ]
    },
    {
     "name": "stderr",
     "output_type": "stream",
     "text": [
      "IOPub message rate exceeded.\n",
      "The notebook server will temporarily stop sending output\n",
      "to the client in order to avoid crashing it.\n",
      "To change this limit, set the config variable\n",
      "`--NotebookApp.iopub_msg_rate_limit`.\n",
      "\n",
      "Current values:\n",
      "NotebookApp.iopub_msg_rate_limit=1000.0 (msgs/sec)\n",
      "NotebookApp.rate_limit_window=3.0 (secs)\n",
      "\n"
     ]
    },
    {
     "name": "stdout",
     "output_type": "stream",
     "text": [
      "processing index num : 1703997\r"
     ]
    },
    {
     "name": "stderr",
     "output_type": "stream",
     "text": [
      "IOPub message rate exceeded.\n",
      "The notebook server will temporarily stop sending output\n",
      "to the client in order to avoid crashing it.\n",
      "To change this limit, set the config variable\n",
      "`--NotebookApp.iopub_msg_rate_limit`.\n",
      "\n",
      "Current values:\n",
      "NotebookApp.iopub_msg_rate_limit=1000.0 (msgs/sec)\n",
      "NotebookApp.rate_limit_window=3.0 (secs)\n",
      "\n"
     ]
    },
    {
     "name": "stdout",
     "output_type": "stream",
     "text": [
      "processing index num : 1714269\r"
     ]
    },
    {
     "name": "stderr",
     "output_type": "stream",
     "text": [
      "IOPub message rate exceeded.\n",
      "The notebook server will temporarily stop sending output\n",
      "to the client in order to avoid crashing it.\n",
      "To change this limit, set the config variable\n",
      "`--NotebookApp.iopub_msg_rate_limit`.\n",
      "\n",
      "Current values:\n",
      "NotebookApp.iopub_msg_rate_limit=1000.0 (msgs/sec)\n",
      "NotebookApp.rate_limit_window=3.0 (secs)\n",
      "\n"
     ]
    },
    {
     "name": "stdout",
     "output_type": "stream",
     "text": [
      "processing index num : 1724210"
     ]
    },
    {
     "name": "stderr",
     "output_type": "stream",
     "text": [
      "IOPub message rate exceeded.\n",
      "The notebook server will temporarily stop sending output\n",
      "to the client in order to avoid crashing it.\n",
      "To change this limit, set the config variable\n",
      "`--NotebookApp.iopub_msg_rate_limit`.\n",
      "\n",
      "Current values:\n",
      "NotebookApp.iopub_msg_rate_limit=1000.0 (msgs/sec)\n",
      "NotebookApp.rate_limit_window=3.0 (secs)\n",
      "\n"
     ]
    },
    {
     "name": "stdout",
     "output_type": "stream",
     "text": [
      "processing index num : 1734474\r"
     ]
    },
    {
     "name": "stderr",
     "output_type": "stream",
     "text": [
      "IOPub message rate exceeded.\n",
      "The notebook server will temporarily stop sending output\n",
      "to the client in order to avoid crashing it.\n",
      "To change this limit, set the config variable\n",
      "`--NotebookApp.iopub_msg_rate_limit`.\n",
      "\n",
      "Current values:\n",
      "NotebookApp.iopub_msg_rate_limit=1000.0 (msgs/sec)\n",
      "NotebookApp.rate_limit_window=3.0 (secs)\n",
      "\n"
     ]
    },
    {
     "name": "stdout",
     "output_type": "stream",
     "text": [
      "processing index num : 1745559\r"
     ]
    },
    {
     "name": "stderr",
     "output_type": "stream",
     "text": [
      "IOPub message rate exceeded.\n",
      "The notebook server will temporarily stop sending output\n",
      "to the client in order to avoid crashing it.\n",
      "To change this limit, set the config variable\n",
      "`--NotebookApp.iopub_msg_rate_limit`.\n",
      "\n",
      "Current values:\n",
      "NotebookApp.iopub_msg_rate_limit=1000.0 (msgs/sec)\n",
      "NotebookApp.rate_limit_window=3.0 (secs)\n",
      "\n"
     ]
    },
    {
     "name": "stdout",
     "output_type": "stream",
     "text": [
      "processing index num : 1756811processing index num : 1753875\r"
     ]
    },
    {
     "name": "stderr",
     "output_type": "stream",
     "text": [
      "IOPub message rate exceeded.\n",
      "The notebook server will temporarily stop sending output\n",
      "to the client in order to avoid crashing it.\n",
      "To change this limit, set the config variable\n",
      "`--NotebookApp.iopub_msg_rate_limit`.\n",
      "\n",
      "Current values:\n",
      "NotebookApp.iopub_msg_rate_limit=1000.0 (msgs/sec)\n",
      "NotebookApp.rate_limit_window=3.0 (secs)\n",
      "\n"
     ]
    },
    {
     "name": "stdout",
     "output_type": "stream",
     "text": [
      "processing index num : 1768517\r"
     ]
    },
    {
     "name": "stderr",
     "output_type": "stream",
     "text": [
      "IOPub message rate exceeded.\n",
      "The notebook server will temporarily stop sending output\n",
      "to the client in order to avoid crashing it.\n",
      "To change this limit, set the config variable\n",
      "`--NotebookApp.iopub_msg_rate_limit`.\n",
      "\n",
      "Current values:\n",
      "NotebookApp.iopub_msg_rate_limit=1000.0 (msgs/sec)\n",
      "NotebookApp.rate_limit_window=3.0 (secs)\n",
      "\n"
     ]
    },
    {
     "name": "stdout",
     "output_type": "stream",
     "text": [
      "processing index num : 1779967\r"
     ]
    },
    {
     "name": "stderr",
     "output_type": "stream",
     "text": [
      "IOPub message rate exceeded.\n",
      "The notebook server will temporarily stop sending output\n",
      "to the client in order to avoid crashing it.\n",
      "To change this limit, set the config variable\n",
      "`--NotebookApp.iopub_msg_rate_limit`.\n",
      "\n",
      "Current values:\n",
      "NotebookApp.iopub_msg_rate_limit=1000.0 (msgs/sec)\n",
      "NotebookApp.rate_limit_window=3.0 (secs)\n",
      "\n"
     ]
    },
    {
     "name": "stdout",
     "output_type": "stream",
     "text": [
      "processing index num : 1786139"
     ]
    },
    {
     "name": "stderr",
     "output_type": "stream",
     "text": [
      "IOPub message rate exceeded.\n",
      "The notebook server will temporarily stop sending output\n",
      "to the client in order to avoid crashing it.\n",
      "To change this limit, set the config variable\n",
      "`--NotebookApp.iopub_msg_rate_limit`.\n",
      "\n",
      "Current values:\n",
      "NotebookApp.iopub_msg_rate_limit=1000.0 (msgs/sec)\n",
      "NotebookApp.rate_limit_window=3.0 (secs)\n",
      "\n"
     ]
    },
    {
     "name": "stdout",
     "output_type": "stream",
     "text": [
      "processing index num : 1797811\r"
     ]
    },
    {
     "name": "stderr",
     "output_type": "stream",
     "text": [
      "IOPub message rate exceeded.\n",
      "The notebook server will temporarily stop sending output\n",
      "to the client in order to avoid crashing it.\n",
      "To change this limit, set the config variable\n",
      "`--NotebookApp.iopub_msg_rate_limit`.\n",
      "\n",
      "Current values:\n",
      "NotebookApp.iopub_msg_rate_limit=1000.0 (msgs/sec)\n",
      "NotebookApp.rate_limit_window=3.0 (secs)\n",
      "\n"
     ]
    },
    {
     "name": "stdout",
     "output_type": "stream",
     "text": [
      "processing index num : 1810536\r"
     ]
    },
    {
     "name": "stderr",
     "output_type": "stream",
     "text": [
      "IOPub message rate exceeded.\n",
      "The notebook server will temporarily stop sending output\n",
      "to the client in order to avoid crashing it.\n",
      "To change this limit, set the config variable\n",
      "`--NotebookApp.iopub_msg_rate_limit`.\n",
      "\n",
      "Current values:\n",
      "NotebookApp.iopub_msg_rate_limit=1000.0 (msgs/sec)\n",
      "NotebookApp.rate_limit_window=3.0 (secs)\n",
      "\n"
     ]
    },
    {
     "name": "stdout",
     "output_type": "stream",
     "text": [
      "processing index num : 1822723\r"
     ]
    },
    {
     "name": "stderr",
     "output_type": "stream",
     "text": [
      "IOPub message rate exceeded.\n",
      "The notebook server will temporarily stop sending output\n",
      "to the client in order to avoid crashing it.\n",
      "To change this limit, set the config variable\n",
      "`--NotebookApp.iopub_msg_rate_limit`.\n",
      "\n",
      "Current values:\n",
      "NotebookApp.iopub_msg_rate_limit=1000.0 (msgs/sec)\n",
      "NotebookApp.rate_limit_window=3.0 (secs)\n",
      "\n"
     ]
    },
    {
     "name": "stdout",
     "output_type": "stream",
     "text": [
      "processing index num : 1833956\r"
     ]
    },
    {
     "name": "stderr",
     "output_type": "stream",
     "text": [
      "IOPub message rate exceeded.\n",
      "The notebook server will temporarily stop sending output\n",
      "to the client in order to avoid crashing it.\n",
      "To change this limit, set the config variable\n",
      "`--NotebookApp.iopub_msg_rate_limit`.\n",
      "\n",
      "Current values:\n",
      "NotebookApp.iopub_msg_rate_limit=1000.0 (msgs/sec)\n",
      "NotebookApp.rate_limit_window=3.0 (secs)\n",
      "\n"
     ]
    },
    {
     "name": "stdout",
     "output_type": "stream",
     "text": [
      "processing index num : 1845451\r"
     ]
    },
    {
     "name": "stderr",
     "output_type": "stream",
     "text": [
      "IOPub message rate exceeded.\n",
      "The notebook server will temporarily stop sending output\n",
      "to the client in order to avoid crashing it.\n",
      "To change this limit, set the config variable\n",
      "`--NotebookApp.iopub_msg_rate_limit`.\n",
      "\n",
      "Current values:\n",
      "NotebookApp.iopub_msg_rate_limit=1000.0 (msgs/sec)\n",
      "NotebookApp.rate_limit_window=3.0 (secs)\n",
      "\n"
     ]
    },
    {
     "name": "stdout",
     "output_type": "stream",
     "text": [
      "processing index num : 1855493\r"
     ]
    },
    {
     "name": "stderr",
     "output_type": "stream",
     "text": [
      "IOPub message rate exceeded.\n",
      "The notebook server will temporarily stop sending output\n",
      "to the client in order to avoid crashing it.\n",
      "To change this limit, set the config variable\n",
      "`--NotebookApp.iopub_msg_rate_limit`.\n",
      "\n",
      "Current values:\n",
      "NotebookApp.iopub_msg_rate_limit=1000.0 (msgs/sec)\n",
      "NotebookApp.rate_limit_window=3.0 (secs)\n",
      "\n"
     ]
    },
    {
     "name": "stdout",
     "output_type": "stream",
     "text": [
      "processing index num : 1865155\r"
     ]
    },
    {
     "name": "stderr",
     "output_type": "stream",
     "text": [
      "IOPub message rate exceeded.\n",
      "The notebook server will temporarily stop sending output\n",
      "to the client in order to avoid crashing it.\n",
      "To change this limit, set the config variable\n",
      "`--NotebookApp.iopub_msg_rate_limit`.\n",
      "\n",
      "Current values:\n",
      "NotebookApp.iopub_msg_rate_limit=1000.0 (msgs/sec)\n",
      "NotebookApp.rate_limit_window=3.0 (secs)\n",
      "\n"
     ]
    },
    {
     "name": "stdout",
     "output_type": "stream",
     "text": [
      "processing index num : 1876622\r"
     ]
    },
    {
     "name": "stderr",
     "output_type": "stream",
     "text": [
      "IOPub message rate exceeded.\n",
      "The notebook server will temporarily stop sending output\n",
      "to the client in order to avoid crashing it.\n",
      "To change this limit, set the config variable\n",
      "`--NotebookApp.iopub_msg_rate_limit`.\n",
      "\n",
      "Current values:\n",
      "NotebookApp.iopub_msg_rate_limit=1000.0 (msgs/sec)\n",
      "NotebookApp.rate_limit_window=3.0 (secs)\n",
      "\n"
     ]
    },
    {
     "name": "stdout",
     "output_type": "stream",
     "text": [
      "processing index num : 1887680\r"
     ]
    },
    {
     "name": "stderr",
     "output_type": "stream",
     "text": [
      "IOPub message rate exceeded.\n",
      "The notebook server will temporarily stop sending output\n",
      "to the client in order to avoid crashing it.\n",
      "To change this limit, set the config variable\n",
      "`--NotebookApp.iopub_msg_rate_limit`.\n",
      "\n",
      "Current values:\n",
      "NotebookApp.iopub_msg_rate_limit=1000.0 (msgs/sec)\n",
      "NotebookApp.rate_limit_window=3.0 (secs)\n",
      "\n"
     ]
    },
    {
     "name": "stdout",
     "output_type": "stream",
     "text": [
      "processing index num : 1899456\r"
     ]
    },
    {
     "name": "stderr",
     "output_type": "stream",
     "text": [
      "IOPub message rate exceeded.\n",
      "The notebook server will temporarily stop sending output\n",
      "to the client in order to avoid crashing it.\n",
      "To change this limit, set the config variable\n",
      "`--NotebookApp.iopub_msg_rate_limit`.\n",
      "\n",
      "Current values:\n",
      "NotebookApp.iopub_msg_rate_limit=1000.0 (msgs/sec)\n",
      "NotebookApp.rate_limit_window=3.0 (secs)\n",
      "\n"
     ]
    },
    {
     "name": "stdout",
     "output_type": "stream",
     "text": [
      "processing index num : 1910299\r"
     ]
    },
    {
     "name": "stderr",
     "output_type": "stream",
     "text": [
      "IOPub message rate exceeded.\n",
      "The notebook server will temporarily stop sending output\n",
      "to the client in order to avoid crashing it.\n",
      "To change this limit, set the config variable\n",
      "`--NotebookApp.iopub_msg_rate_limit`.\n",
      "\n",
      "Current values:\n",
      "NotebookApp.iopub_msg_rate_limit=1000.0 (msgs/sec)\n",
      "NotebookApp.rate_limit_window=3.0 (secs)\n",
      "\n"
     ]
    },
    {
     "name": "stdout",
     "output_type": "stream",
     "text": [
      "processing index num : 1921296\r"
     ]
    },
    {
     "name": "stderr",
     "output_type": "stream",
     "text": [
      "IOPub message rate exceeded.\n",
      "The notebook server will temporarily stop sending output\n",
      "to the client in order to avoid crashing it.\n",
      "To change this limit, set the config variable\n",
      "`--NotebookApp.iopub_msg_rate_limit`.\n",
      "\n",
      "Current values:\n",
      "NotebookApp.iopub_msg_rate_limit=1000.0 (msgs/sec)\n",
      "NotebookApp.rate_limit_window=3.0 (secs)\n",
      "\n"
     ]
    },
    {
     "name": "stdout",
     "output_type": "stream",
     "text": [
      "processing index num : 1932252\r"
     ]
    },
    {
     "name": "stderr",
     "output_type": "stream",
     "text": [
      "IOPub message rate exceeded.\n",
      "The notebook server will temporarily stop sending output\n",
      "to the client in order to avoid crashing it.\n",
      "To change this limit, set the config variable\n",
      "`--NotebookApp.iopub_msg_rate_limit`.\n",
      "\n",
      "Current values:\n",
      "NotebookApp.iopub_msg_rate_limit=1000.0 (msgs/sec)\n",
      "NotebookApp.rate_limit_window=3.0 (secs)\n",
      "\n"
     ]
    },
    {
     "name": "stdout",
     "output_type": "stream",
     "text": [
      "processing index num : 1942543\r"
     ]
    },
    {
     "name": "stderr",
     "output_type": "stream",
     "text": [
      "IOPub message rate exceeded.\n",
      "The notebook server will temporarily stop sending output\n",
      "to the client in order to avoid crashing it.\n",
      "To change this limit, set the config variable\n",
      "`--NotebookApp.iopub_msg_rate_limit`.\n",
      "\n",
      "Current values:\n",
      "NotebookApp.iopub_msg_rate_limit=1000.0 (msgs/sec)\n",
      "NotebookApp.rate_limit_window=3.0 (secs)\n",
      "\n"
     ]
    },
    {
     "name": "stdout",
     "output_type": "stream",
     "text": [
      "processing index num : 1953176"
     ]
    },
    {
     "name": "stderr",
     "output_type": "stream",
     "text": [
      "IOPub message rate exceeded.\n",
      "The notebook server will temporarily stop sending output\n",
      "to the client in order to avoid crashing it.\n",
      "To change this limit, set the config variable\n",
      "`--NotebookApp.iopub_msg_rate_limit`.\n",
      "\n",
      "Current values:\n",
      "NotebookApp.iopub_msg_rate_limit=1000.0 (msgs/sec)\n",
      "NotebookApp.rate_limit_window=3.0 (secs)\n",
      "\n"
     ]
    },
    {
     "name": "stdout",
     "output_type": "stream",
     "text": [
      "processing index num : 1964258\r"
     ]
    },
    {
     "name": "stderr",
     "output_type": "stream",
     "text": [
      "IOPub message rate exceeded.\n",
      "The notebook server will temporarily stop sending output\n",
      "to the client in order to avoid crashing it.\n",
      "To change this limit, set the config variable\n",
      "`--NotebookApp.iopub_msg_rate_limit`.\n",
      "\n",
      "Current values:\n",
      "NotebookApp.iopub_msg_rate_limit=1000.0 (msgs/sec)\n",
      "NotebookApp.rate_limit_window=3.0 (secs)\n",
      "\n"
     ]
    },
    {
     "name": "stdout",
     "output_type": "stream",
     "text": [
      "processing index num : 1972265\r"
     ]
    },
    {
     "name": "stderr",
     "output_type": "stream",
     "text": [
      "IOPub message rate exceeded.\n",
      "The notebook server will temporarily stop sending output\n",
      "to the client in order to avoid crashing it.\n",
      "To change this limit, set the config variable\n",
      "`--NotebookApp.iopub_msg_rate_limit`.\n",
      "\n",
      "Current values:\n",
      "NotebookApp.iopub_msg_rate_limit=1000.0 (msgs/sec)\n",
      "NotebookApp.rate_limit_window=3.0 (secs)\n",
      "\n"
     ]
    },
    {
     "name": "stdout",
     "output_type": "stream",
     "text": [
      "processing index num : 1985975processing index num : 1985530\r"
     ]
    },
    {
     "name": "stderr",
     "output_type": "stream",
     "text": [
      "IOPub message rate exceeded.\n",
      "The notebook server will temporarily stop sending output\n",
      "to the client in order to avoid crashing it.\n",
      "To change this limit, set the config variable\n",
      "`--NotebookApp.iopub_msg_rate_limit`.\n",
      "\n",
      "Current values:\n",
      "NotebookApp.iopub_msg_rate_limit=1000.0 (msgs/sec)\n",
      "NotebookApp.rate_limit_window=3.0 (secs)\n",
      "\n"
     ]
    },
    {
     "name": "stdout",
     "output_type": "stream",
     "text": [
      "processing index num : 1996736\r"
     ]
    },
    {
     "name": "stderr",
     "output_type": "stream",
     "text": [
      "IOPub message rate exceeded.\n",
      "The notebook server will temporarily stop sending output\n",
      "to the client in order to avoid crashing it.\n",
      "To change this limit, set the config variable\n",
      "`--NotebookApp.iopub_msg_rate_limit`.\n",
      "\n",
      "Current values:\n",
      "NotebookApp.iopub_msg_rate_limit=1000.0 (msgs/sec)\n",
      "NotebookApp.rate_limit_window=3.0 (secs)\n",
      "\n"
     ]
    },
    {
     "name": "stdout",
     "output_type": "stream",
     "text": [
      "processing index num : 2008033\r"
     ]
    },
    {
     "name": "stderr",
     "output_type": "stream",
     "text": [
      "IOPub message rate exceeded.\n",
      "The notebook server will temporarily stop sending output\n",
      "to the client in order to avoid crashing it.\n",
      "To change this limit, set the config variable\n",
      "`--NotebookApp.iopub_msg_rate_limit`.\n",
      "\n",
      "Current values:\n",
      "NotebookApp.iopub_msg_rate_limit=1000.0 (msgs/sec)\n",
      "NotebookApp.rate_limit_window=3.0 (secs)\n",
      "\n"
     ]
    },
    {
     "name": "stdout",
     "output_type": "stream",
     "text": [
      "processing index num : 2018475\r"
     ]
    },
    {
     "name": "stderr",
     "output_type": "stream",
     "text": [
      "IOPub message rate exceeded.\n",
      "The notebook server will temporarily stop sending output\n",
      "to the client in order to avoid crashing it.\n",
      "To change this limit, set the config variable\n",
      "`--NotebookApp.iopub_msg_rate_limit`.\n",
      "\n",
      "Current values:\n",
      "NotebookApp.iopub_msg_rate_limit=1000.0 (msgs/sec)\n",
      "NotebookApp.rate_limit_window=3.0 (secs)\n",
      "\n"
     ]
    },
    {
     "name": "stdout",
     "output_type": "stream",
     "text": [
      "processing index num : 2028929\r"
     ]
    },
    {
     "name": "stderr",
     "output_type": "stream",
     "text": [
      "IOPub message rate exceeded.\n",
      "The notebook server will temporarily stop sending output\n",
      "to the client in order to avoid crashing it.\n",
      "To change this limit, set the config variable\n",
      "`--NotebookApp.iopub_msg_rate_limit`.\n",
      "\n",
      "Current values:\n",
      "NotebookApp.iopub_msg_rate_limit=1000.0 (msgs/sec)\n",
      "NotebookApp.rate_limit_window=3.0 (secs)\n",
      "\n"
     ]
    },
    {
     "name": "stdout",
     "output_type": "stream",
     "text": [
      "processing index num : 2040168"
     ]
    },
    {
     "name": "stderr",
     "output_type": "stream",
     "text": [
      "IOPub message rate exceeded.\n",
      "The notebook server will temporarily stop sending output\n",
      "to the client in order to avoid crashing it.\n",
      "To change this limit, set the config variable\n",
      "`--NotebookApp.iopub_msg_rate_limit`.\n",
      "\n",
      "Current values:\n",
      "NotebookApp.iopub_msg_rate_limit=1000.0 (msgs/sec)\n",
      "NotebookApp.rate_limit_window=3.0 (secs)\n",
      "\n"
     ]
    },
    {
     "name": "stdout",
     "output_type": "stream",
     "text": [
      "processing index num : 2048579\r"
     ]
    },
    {
     "name": "stderr",
     "output_type": "stream",
     "text": [
      "IOPub message rate exceeded.\n",
      "The notebook server will temporarily stop sending output\n",
      "to the client in order to avoid crashing it.\n",
      "To change this limit, set the config variable\n",
      "`--NotebookApp.iopub_msg_rate_limit`.\n",
      "\n",
      "Current values:\n",
      "NotebookApp.iopub_msg_rate_limit=1000.0 (msgs/sec)\n",
      "NotebookApp.rate_limit_window=3.0 (secs)\n",
      "\n"
     ]
    },
    {
     "name": "stdout",
     "output_type": "stream",
     "text": [
      "processing index num : 2061675\r"
     ]
    },
    {
     "name": "stderr",
     "output_type": "stream",
     "text": [
      "IOPub message rate exceeded.\n",
      "The notebook server will temporarily stop sending output\n",
      "to the client in order to avoid crashing it.\n",
      "To change this limit, set the config variable\n",
      "`--NotebookApp.iopub_msg_rate_limit`.\n",
      "\n",
      "Current values:\n",
      "NotebookApp.iopub_msg_rate_limit=1000.0 (msgs/sec)\n",
      "NotebookApp.rate_limit_window=3.0 (secs)\n",
      "\n"
     ]
    },
    {
     "name": "stdout",
     "output_type": "stream",
     "text": [
      "processing index num : 2072456\r"
     ]
    },
    {
     "name": "stderr",
     "output_type": "stream",
     "text": [
      "IOPub message rate exceeded.\n",
      "The notebook server will temporarily stop sending output\n",
      "to the client in order to avoid crashing it.\n",
      "To change this limit, set the config variable\n",
      "`--NotebookApp.iopub_msg_rate_limit`.\n",
      "\n",
      "Current values:\n",
      "NotebookApp.iopub_msg_rate_limit=1000.0 (msgs/sec)\n",
      "NotebookApp.rate_limit_window=3.0 (secs)\n",
      "\n"
     ]
    },
    {
     "name": "stdout",
     "output_type": "stream",
     "text": [
      "processing index num : 2083695\r"
     ]
    },
    {
     "name": "stderr",
     "output_type": "stream",
     "text": [
      "IOPub message rate exceeded.\n",
      "The notebook server will temporarily stop sending output\n",
      "to the client in order to avoid crashing it.\n",
      "To change this limit, set the config variable\n",
      "`--NotebookApp.iopub_msg_rate_limit`.\n",
      "\n",
      "Current values:\n",
      "NotebookApp.iopub_msg_rate_limit=1000.0 (msgs/sec)\n",
      "NotebookApp.rate_limit_window=3.0 (secs)\n",
      "\n"
     ]
    },
    {
     "name": "stdout",
     "output_type": "stream",
     "text": [
      "processing index num : 2094778\r"
     ]
    },
    {
     "name": "stderr",
     "output_type": "stream",
     "text": [
      "IOPub message rate exceeded.\n",
      "The notebook server will temporarily stop sending output\n",
      "to the client in order to avoid crashing it.\n",
      "To change this limit, set the config variable\n",
      "`--NotebookApp.iopub_msg_rate_limit`.\n",
      "\n",
      "Current values:\n",
      "NotebookApp.iopub_msg_rate_limit=1000.0 (msgs/sec)\n",
      "NotebookApp.rate_limit_window=3.0 (secs)\n",
      "\n"
     ]
    },
    {
     "name": "stdout",
     "output_type": "stream",
     "text": [
      "processing index num : 2105974\r"
     ]
    },
    {
     "name": "stderr",
     "output_type": "stream",
     "text": [
      "IOPub message rate exceeded.\n",
      "The notebook server will temporarily stop sending output\n",
      "to the client in order to avoid crashing it.\n",
      "To change this limit, set the config variable\n",
      "`--NotebookApp.iopub_msg_rate_limit`.\n",
      "\n",
      "Current values:\n",
      "NotebookApp.iopub_msg_rate_limit=1000.0 (msgs/sec)\n",
      "NotebookApp.rate_limit_window=3.0 (secs)\n",
      "\n"
     ]
    },
    {
     "name": "stdout",
     "output_type": "stream",
     "text": [
      "processing index num : 2116563"
     ]
    },
    {
     "name": "stderr",
     "output_type": "stream",
     "text": [
      "IOPub message rate exceeded.\n",
      "The notebook server will temporarily stop sending output\n",
      "to the client in order to avoid crashing it.\n",
      "To change this limit, set the config variable\n",
      "`--NotebookApp.iopub_msg_rate_limit`.\n",
      "\n",
      "Current values:\n",
      "NotebookApp.iopub_msg_rate_limit=1000.0 (msgs/sec)\n",
      "NotebookApp.rate_limit_window=3.0 (secs)\n",
      "\n"
     ]
    },
    {
     "name": "stdout",
     "output_type": "stream",
     "text": [
      "processing index num : 2123935\r"
     ]
    },
    {
     "name": "stderr",
     "output_type": "stream",
     "text": [
      "IOPub message rate exceeded.\n",
      "The notebook server will temporarily stop sending output\n",
      "to the client in order to avoid crashing it.\n",
      "To change this limit, set the config variable\n",
      "`--NotebookApp.iopub_msg_rate_limit`.\n",
      "\n",
      "Current values:\n",
      "NotebookApp.iopub_msg_rate_limit=1000.0 (msgs/sec)\n",
      "NotebookApp.rate_limit_window=3.0 (secs)\n",
      "\n"
     ]
    },
    {
     "name": "stdout",
     "output_type": "stream",
     "text": [
      "processing index num : 2134793\r"
     ]
    },
    {
     "name": "stderr",
     "output_type": "stream",
     "text": [
      "IOPub message rate exceeded.\n",
      "The notebook server will temporarily stop sending output\n",
      "to the client in order to avoid crashing it.\n",
      "To change this limit, set the config variable\n",
      "`--NotebookApp.iopub_msg_rate_limit`.\n",
      "\n",
      "Current values:\n",
      "NotebookApp.iopub_msg_rate_limit=1000.0 (msgs/sec)\n",
      "NotebookApp.rate_limit_window=3.0 (secs)\n",
      "\n"
     ]
    },
    {
     "name": "stdout",
     "output_type": "stream",
     "text": [
      "processing index num : 2146490\r"
     ]
    },
    {
     "name": "stderr",
     "output_type": "stream",
     "text": [
      "IOPub message rate exceeded.\n",
      "The notebook server will temporarily stop sending output\n",
      "to the client in order to avoid crashing it.\n",
      "To change this limit, set the config variable\n",
      "`--NotebookApp.iopub_msg_rate_limit`.\n",
      "\n",
      "Current values:\n",
      "NotebookApp.iopub_msg_rate_limit=1000.0 (msgs/sec)\n",
      "NotebookApp.rate_limit_window=3.0 (secs)\n",
      "\n"
     ]
    },
    {
     "name": "stdout",
     "output_type": "stream",
     "text": [
      "processing index num : 2157033\r"
     ]
    },
    {
     "name": "stderr",
     "output_type": "stream",
     "text": [
      "IOPub message rate exceeded.\n",
      "The notebook server will temporarily stop sending output\n",
      "to the client in order to avoid crashing it.\n",
      "To change this limit, set the config variable\n",
      "`--NotebookApp.iopub_msg_rate_limit`.\n",
      "\n",
      "Current values:\n",
      "NotebookApp.iopub_msg_rate_limit=1000.0 (msgs/sec)\n",
      "NotebookApp.rate_limit_window=3.0 (secs)\n",
      "\n"
     ]
    },
    {
     "name": "stdout",
     "output_type": "stream",
     "text": [
      "processing index num : 2166747\r"
     ]
    },
    {
     "name": "stderr",
     "output_type": "stream",
     "text": [
      "IOPub message rate exceeded.\n",
      "The notebook server will temporarily stop sending output\n",
      "to the client in order to avoid crashing it.\n",
      "To change this limit, set the config variable\n",
      "`--NotebookApp.iopub_msg_rate_limit`.\n",
      "\n",
      "Current values:\n",
      "NotebookApp.iopub_msg_rate_limit=1000.0 (msgs/sec)\n",
      "NotebookApp.rate_limit_window=3.0 (secs)\n",
      "\n"
     ]
    },
    {
     "name": "stdout",
     "output_type": "stream",
     "text": [
      "processing index num : 2179851\r"
     ]
    },
    {
     "name": "stderr",
     "output_type": "stream",
     "text": [
      "IOPub message rate exceeded.\n",
      "The notebook server will temporarily stop sending output\n",
      "to the client in order to avoid crashing it.\n",
      "To change this limit, set the config variable\n",
      "`--NotebookApp.iopub_msg_rate_limit`.\n",
      "\n",
      "Current values:\n",
      "NotebookApp.iopub_msg_rate_limit=1000.0 (msgs/sec)\n",
      "NotebookApp.rate_limit_window=3.0 (secs)\n",
      "\n"
     ]
    },
    {
     "name": "stdout",
     "output_type": "stream",
     "text": [
      "processing index num : 2190809"
     ]
    },
    {
     "name": "stderr",
     "output_type": "stream",
     "text": [
      "IOPub message rate exceeded.\n",
      "The notebook server will temporarily stop sending output\n",
      "to the client in order to avoid crashing it.\n",
      "To change this limit, set the config variable\n",
      "`--NotebookApp.iopub_msg_rate_limit`.\n",
      "\n",
      "Current values:\n",
      "NotebookApp.iopub_msg_rate_limit=1000.0 (msgs/sec)\n",
      "NotebookApp.rate_limit_window=3.0 (secs)\n",
      "\n"
     ]
    },
    {
     "name": "stdout",
     "output_type": "stream",
     "text": [
      "processing index num : 2201982\r"
     ]
    },
    {
     "name": "stderr",
     "output_type": "stream",
     "text": [
      "IOPub message rate exceeded.\n",
      "The notebook server will temporarily stop sending output\n",
      "to the client in order to avoid crashing it.\n",
      "To change this limit, set the config variable\n",
      "`--NotebookApp.iopub_msg_rate_limit`.\n",
      "\n",
      "Current values:\n",
      "NotebookApp.iopub_msg_rate_limit=1000.0 (msgs/sec)\n",
      "NotebookApp.rate_limit_window=3.0 (secs)\n",
      "\n"
     ]
    },
    {
     "name": "stdout",
     "output_type": "stream",
     "text": [
      "processing index num : 2213260\r"
     ]
    },
    {
     "name": "stderr",
     "output_type": "stream",
     "text": [
      "IOPub message rate exceeded.\n",
      "The notebook server will temporarily stop sending output\n",
      "to the client in order to avoid crashing it.\n",
      "To change this limit, set the config variable\n",
      "`--NotebookApp.iopub_msg_rate_limit`.\n",
      "\n",
      "Current values:\n",
      "NotebookApp.iopub_msg_rate_limit=1000.0 (msgs/sec)\n",
      "NotebookApp.rate_limit_window=3.0 (secs)\n",
      "\n"
     ]
    },
    {
     "name": "stdout",
     "output_type": "stream",
     "text": [
      "processing index num : 2222891\r"
     ]
    },
    {
     "name": "stderr",
     "output_type": "stream",
     "text": [
      "IOPub message rate exceeded.\n",
      "The notebook server will temporarily stop sending output\n",
      "to the client in order to avoid crashing it.\n",
      "To change this limit, set the config variable\n",
      "`--NotebookApp.iopub_msg_rate_limit`.\n",
      "\n",
      "Current values:\n",
      "NotebookApp.iopub_msg_rate_limit=1000.0 (msgs/sec)\n",
      "NotebookApp.rate_limit_window=3.0 (secs)\n",
      "\n"
     ]
    },
    {
     "name": "stdout",
     "output_type": "stream",
     "text": [
      "processing index num : 2235026\r"
     ]
    },
    {
     "name": "stderr",
     "output_type": "stream",
     "text": [
      "IOPub message rate exceeded.\n",
      "The notebook server will temporarily stop sending output\n",
      "to the client in order to avoid crashing it.\n",
      "To change this limit, set the config variable\n",
      "`--NotebookApp.iopub_msg_rate_limit`.\n",
      "\n",
      "Current values:\n",
      "NotebookApp.iopub_msg_rate_limit=1000.0 (msgs/sec)\n",
      "NotebookApp.rate_limit_window=3.0 (secs)\n",
      "\n"
     ]
    },
    {
     "name": "stdout",
     "output_type": "stream",
     "text": [
      "processing index num : 2246730\r"
     ]
    },
    {
     "name": "stderr",
     "output_type": "stream",
     "text": [
      "IOPub message rate exceeded.\n",
      "The notebook server will temporarily stop sending output\n",
      "to the client in order to avoid crashing it.\n",
      "To change this limit, set the config variable\n",
      "`--NotebookApp.iopub_msg_rate_limit`.\n",
      "\n",
      "Current values:\n",
      "NotebookApp.iopub_msg_rate_limit=1000.0 (msgs/sec)\n",
      "NotebookApp.rate_limit_window=3.0 (secs)\n",
      "\n"
     ]
    },
    {
     "name": "stdout",
     "output_type": "stream",
     "text": [
      "processing index num : 2257226\r"
     ]
    },
    {
     "name": "stderr",
     "output_type": "stream",
     "text": [
      "IOPub message rate exceeded.\n",
      "The notebook server will temporarily stop sending output\n",
      "to the client in order to avoid crashing it.\n",
      "To change this limit, set the config variable\n",
      "`--NotebookApp.iopub_msg_rate_limit`.\n",
      "\n",
      "Current values:\n",
      "NotebookApp.iopub_msg_rate_limit=1000.0 (msgs/sec)\n",
      "NotebookApp.rate_limit_window=3.0 (secs)\n",
      "\n"
     ]
    },
    {
     "name": "stdout",
     "output_type": "stream",
     "text": [
      "processing index num : 2266693\r"
     ]
    },
    {
     "name": "stderr",
     "output_type": "stream",
     "text": [
      "IOPub message rate exceeded.\n",
      "The notebook server will temporarily stop sending output\n",
      "to the client in order to avoid crashing it.\n",
      "To change this limit, set the config variable\n",
      "`--NotebookApp.iopub_msg_rate_limit`.\n",
      "\n",
      "Current values:\n",
      "NotebookApp.iopub_msg_rate_limit=1000.0 (msgs/sec)\n",
      "NotebookApp.rate_limit_window=3.0 (secs)\n",
      "\n"
     ]
    },
    {
     "name": "stdout",
     "output_type": "stream",
     "text": [
      "processing index num : 2277799\r"
     ]
    },
    {
     "name": "stderr",
     "output_type": "stream",
     "text": [
      "IOPub message rate exceeded.\n",
      "The notebook server will temporarily stop sending output\n",
      "to the client in order to avoid crashing it.\n",
      "To change this limit, set the config variable\n",
      "`--NotebookApp.iopub_msg_rate_limit`.\n",
      "\n",
      "Current values:\n",
      "NotebookApp.iopub_msg_rate_limit=1000.0 (msgs/sec)\n",
      "NotebookApp.rate_limit_window=3.0 (secs)\n",
      "\n"
     ]
    },
    {
     "name": "stdout",
     "output_type": "stream",
     "text": [
      "processing index num : 2288608\r"
     ]
    },
    {
     "name": "stderr",
     "output_type": "stream",
     "text": [
      "IOPub message rate exceeded.\n",
      "The notebook server will temporarily stop sending output\n",
      "to the client in order to avoid crashing it.\n",
      "To change this limit, set the config variable\n",
      "`--NotebookApp.iopub_msg_rate_limit`.\n",
      "\n",
      "Current values:\n",
      "NotebookApp.iopub_msg_rate_limit=1000.0 (msgs/sec)\n",
      "NotebookApp.rate_limit_window=3.0 (secs)\n",
      "\n"
     ]
    },
    {
     "name": "stdout",
     "output_type": "stream",
     "text": [
      "processing index num : 2300247\r"
     ]
    },
    {
     "name": "stderr",
     "output_type": "stream",
     "text": [
      "IOPub message rate exceeded.\n",
      "The notebook server will temporarily stop sending output\n",
      "to the client in order to avoid crashing it.\n",
      "To change this limit, set the config variable\n",
      "`--NotebookApp.iopub_msg_rate_limit`.\n",
      "\n",
      "Current values:\n",
      "NotebookApp.iopub_msg_rate_limit=1000.0 (msgs/sec)\n",
      "NotebookApp.rate_limit_window=3.0 (secs)\n",
      "\n"
     ]
    },
    {
     "name": "stdout",
     "output_type": "stream",
     "text": [
      "processing index num : 2310677\r"
     ]
    },
    {
     "name": "stderr",
     "output_type": "stream",
     "text": [
      "IOPub message rate exceeded.\n",
      "The notebook server will temporarily stop sending output\n",
      "to the client in order to avoid crashing it.\n",
      "To change this limit, set the config variable\n",
      "`--NotebookApp.iopub_msg_rate_limit`.\n",
      "\n",
      "Current values:\n",
      "NotebookApp.iopub_msg_rate_limit=1000.0 (msgs/sec)\n",
      "NotebookApp.rate_limit_window=3.0 (secs)\n",
      "\n"
     ]
    },
    {
     "name": "stdout",
     "output_type": "stream",
     "text": [
      "processing index num : 2320550\r"
     ]
    },
    {
     "name": "stderr",
     "output_type": "stream",
     "text": [
      "IOPub message rate exceeded.\n",
      "The notebook server will temporarily stop sending output\n",
      "to the client in order to avoid crashing it.\n",
      "To change this limit, set the config variable\n",
      "`--NotebookApp.iopub_msg_rate_limit`.\n",
      "\n",
      "Current values:\n",
      "NotebookApp.iopub_msg_rate_limit=1000.0 (msgs/sec)\n",
      "NotebookApp.rate_limit_window=3.0 (secs)\n",
      "\n"
     ]
    },
    {
     "name": "stdout",
     "output_type": "stream",
     "text": [
      "processing index num : 2329544\r"
     ]
    },
    {
     "name": "stderr",
     "output_type": "stream",
     "text": [
      "IOPub message rate exceeded.\n",
      "The notebook server will temporarily stop sending output\n",
      "to the client in order to avoid crashing it.\n",
      "To change this limit, set the config variable\n",
      "`--NotebookApp.iopub_msg_rate_limit`.\n",
      "\n",
      "Current values:\n",
      "NotebookApp.iopub_msg_rate_limit=1000.0 (msgs/sec)\n",
      "NotebookApp.rate_limit_window=3.0 (secs)\n",
      "\n"
     ]
    },
    {
     "name": "stdout",
     "output_type": "stream",
     "text": [
      "processing index num : 2341340\r"
     ]
    },
    {
     "name": "stderr",
     "output_type": "stream",
     "text": [
      "IOPub message rate exceeded.\n",
      "The notebook server will temporarily stop sending output\n",
      "to the client in order to avoid crashing it.\n",
      "To change this limit, set the config variable\n",
      "`--NotebookApp.iopub_msg_rate_limit`.\n",
      "\n",
      "Current values:\n",
      "NotebookApp.iopub_msg_rate_limit=1000.0 (msgs/sec)\n",
      "NotebookApp.rate_limit_window=3.0 (secs)\n",
      "\n"
     ]
    },
    {
     "name": "stdout",
     "output_type": "stream",
     "text": [
      "processing index num : 2353547processing index num : 2351067\r"
     ]
    },
    {
     "name": "stderr",
     "output_type": "stream",
     "text": [
      "IOPub message rate exceeded.\n",
      "The notebook server will temporarily stop sending output\n",
      "to the client in order to avoid crashing it.\n",
      "To change this limit, set the config variable\n",
      "`--NotebookApp.iopub_msg_rate_limit`.\n",
      "\n",
      "Current values:\n",
      "NotebookApp.iopub_msg_rate_limit=1000.0 (msgs/sec)\n",
      "NotebookApp.rate_limit_window=3.0 (secs)\n",
      "\n"
     ]
    },
    {
     "name": "stdout",
     "output_type": "stream",
     "text": [
      "processing index num : 2364952processing index num : 2363014processing index num : 2363776\r"
     ]
    },
    {
     "name": "stderr",
     "output_type": "stream",
     "text": [
      "IOPub message rate exceeded.\n",
      "The notebook server will temporarily stop sending output\n",
      "to the client in order to avoid crashing it.\n",
      "To change this limit, set the config variable\n",
      "`--NotebookApp.iopub_msg_rate_limit`.\n",
      "\n",
      "Current values:\n",
      "NotebookApp.iopub_msg_rate_limit=1000.0 (msgs/sec)\n",
      "NotebookApp.rate_limit_window=3.0 (secs)\n",
      "\n"
     ]
    },
    {
     "name": "stdout",
     "output_type": "stream",
     "text": [
      "processing index num : 2374153\r"
     ]
    },
    {
     "name": "stderr",
     "output_type": "stream",
     "text": [
      "IOPub message rate exceeded.\n",
      "The notebook server will temporarily stop sending output\n",
      "to the client in order to avoid crashing it.\n",
      "To change this limit, set the config variable\n",
      "`--NotebookApp.iopub_msg_rate_limit`.\n",
      "\n",
      "Current values:\n",
      "NotebookApp.iopub_msg_rate_limit=1000.0 (msgs/sec)\n",
      "NotebookApp.rate_limit_window=3.0 (secs)\n",
      "\n"
     ]
    },
    {
     "name": "stdout",
     "output_type": "stream",
     "text": [
      "processing index num : 2385332\r"
     ]
    },
    {
     "name": "stderr",
     "output_type": "stream",
     "text": [
      "IOPub message rate exceeded.\n",
      "The notebook server will temporarily stop sending output\n",
      "to the client in order to avoid crashing it.\n",
      "To change this limit, set the config variable\n",
      "`--NotebookApp.iopub_msg_rate_limit`.\n",
      "\n",
      "Current values:\n",
      "NotebookApp.iopub_msg_rate_limit=1000.0 (msgs/sec)\n",
      "NotebookApp.rate_limit_window=3.0 (secs)\n",
      "\n"
     ]
    },
    {
     "name": "stdout",
     "output_type": "stream",
     "text": [
      "processing index num : 2396638\r"
     ]
    },
    {
     "name": "stderr",
     "output_type": "stream",
     "text": [
      "IOPub message rate exceeded.\n",
      "The notebook server will temporarily stop sending output\n",
      "to the client in order to avoid crashing it.\n",
      "To change this limit, set the config variable\n",
      "`--NotebookApp.iopub_msg_rate_limit`.\n",
      "\n",
      "Current values:\n",
      "NotebookApp.iopub_msg_rate_limit=1000.0 (msgs/sec)\n",
      "NotebookApp.rate_limit_window=3.0 (secs)\n",
      "\n"
     ]
    },
    {
     "name": "stdout",
     "output_type": "stream",
     "text": [
      "processing index num : 2408379\r"
     ]
    },
    {
     "name": "stderr",
     "output_type": "stream",
     "text": [
      "IOPub message rate exceeded.\n",
      "The notebook server will temporarily stop sending output\n",
      "to the client in order to avoid crashing it.\n",
      "To change this limit, set the config variable\n",
      "`--NotebookApp.iopub_msg_rate_limit`.\n",
      "\n",
      "Current values:\n",
      "NotebookApp.iopub_msg_rate_limit=1000.0 (msgs/sec)\n",
      "NotebookApp.rate_limit_window=3.0 (secs)\n",
      "\n"
     ]
    },
    {
     "name": "stdout",
     "output_type": "stream",
     "text": [
      "processing index num : 2415722\r"
     ]
    },
    {
     "name": "stderr",
     "output_type": "stream",
     "text": [
      "IOPub message rate exceeded.\n",
      "The notebook server will temporarily stop sending output\n",
      "to the client in order to avoid crashing it.\n",
      "To change this limit, set the config variable\n",
      "`--NotebookApp.iopub_msg_rate_limit`.\n",
      "\n",
      "Current values:\n",
      "NotebookApp.iopub_msg_rate_limit=1000.0 (msgs/sec)\n",
      "NotebookApp.rate_limit_window=3.0 (secs)\n",
      "\n"
     ]
    },
    {
     "name": "stdout",
     "output_type": "stream",
     "text": [
      "processing index num : 2429833\r"
     ]
    },
    {
     "name": "stderr",
     "output_type": "stream",
     "text": [
      "IOPub message rate exceeded.\n",
      "The notebook server will temporarily stop sending output\n",
      "to the client in order to avoid crashing it.\n",
      "To change this limit, set the config variable\n",
      "`--NotebookApp.iopub_msg_rate_limit`.\n",
      "\n",
      "Current values:\n",
      "NotebookApp.iopub_msg_rate_limit=1000.0 (msgs/sec)\n",
      "NotebookApp.rate_limit_window=3.0 (secs)\n",
      "\n"
     ]
    },
    {
     "name": "stdout",
     "output_type": "stream",
     "text": [
      "processing index num : 2440053\r"
     ]
    },
    {
     "name": "stderr",
     "output_type": "stream",
     "text": [
      "IOPub message rate exceeded.\n",
      "The notebook server will temporarily stop sending output\n",
      "to the client in order to avoid crashing it.\n",
      "To change this limit, set the config variable\n",
      "`--NotebookApp.iopub_msg_rate_limit`.\n",
      "\n",
      "Current values:\n",
      "NotebookApp.iopub_msg_rate_limit=1000.0 (msgs/sec)\n",
      "NotebookApp.rate_limit_window=3.0 (secs)\n",
      "\n"
     ]
    },
    {
     "name": "stdout",
     "output_type": "stream",
     "text": [
      "processing index num : 2452014\r"
     ]
    },
    {
     "name": "stderr",
     "output_type": "stream",
     "text": [
      "IOPub message rate exceeded.\n",
      "The notebook server will temporarily stop sending output\n",
      "to the client in order to avoid crashing it.\n",
      "To change this limit, set the config variable\n",
      "`--NotebookApp.iopub_msg_rate_limit`.\n",
      "\n",
      "Current values:\n",
      "NotebookApp.iopub_msg_rate_limit=1000.0 (msgs/sec)\n",
      "NotebookApp.rate_limit_window=3.0 (secs)\n",
      "\n"
     ]
    },
    {
     "name": "stdout",
     "output_type": "stream",
     "text": [
      "processing index num : 2461866\r"
     ]
    },
    {
     "name": "stderr",
     "output_type": "stream",
     "text": [
      "IOPub message rate exceeded.\n",
      "The notebook server will temporarily stop sending output\n",
      "to the client in order to avoid crashing it.\n",
      "To change this limit, set the config variable\n",
      "`--NotebookApp.iopub_msg_rate_limit`.\n",
      "\n",
      "Current values:\n",
      "NotebookApp.iopub_msg_rate_limit=1000.0 (msgs/sec)\n",
      "NotebookApp.rate_limit_window=3.0 (secs)\n",
      "\n"
     ]
    },
    {
     "name": "stdout",
     "output_type": "stream",
     "text": [
      "processing index num : 2474687processing index num : 2470899\r"
     ]
    },
    {
     "name": "stderr",
     "output_type": "stream",
     "text": [
      "IOPub message rate exceeded.\n",
      "The notebook server will temporarily stop sending output\n",
      "to the client in order to avoid crashing it.\n",
      "To change this limit, set the config variable\n",
      "`--NotebookApp.iopub_msg_rate_limit`.\n",
      "\n",
      "Current values:\n",
      "NotebookApp.iopub_msg_rate_limit=1000.0 (msgs/sec)\n",
      "NotebookApp.rate_limit_window=3.0 (secs)\n",
      "\n"
     ]
    },
    {
     "name": "stdout",
     "output_type": "stream",
     "text": [
      "processing index num : 2485639\r"
     ]
    },
    {
     "name": "stderr",
     "output_type": "stream",
     "text": [
      "IOPub message rate exceeded.\n",
      "The notebook server will temporarily stop sending output\n",
      "to the client in order to avoid crashing it.\n",
      "To change this limit, set the config variable\n",
      "`--NotebookApp.iopub_msg_rate_limit`.\n",
      "\n",
      "Current values:\n",
      "NotebookApp.iopub_msg_rate_limit=1000.0 (msgs/sec)\n",
      "NotebookApp.rate_limit_window=3.0 (secs)\n",
      "\n"
     ]
    },
    {
     "name": "stdout",
     "output_type": "stream",
     "text": [
      "processing index num : 2496678\r"
     ]
    },
    {
     "name": "stderr",
     "output_type": "stream",
     "text": [
      "IOPub message rate exceeded.\n",
      "The notebook server will temporarily stop sending output\n",
      "to the client in order to avoid crashing it.\n",
      "To change this limit, set the config variable\n",
      "`--NotebookApp.iopub_msg_rate_limit`.\n",
      "\n",
      "Current values:\n",
      "NotebookApp.iopub_msg_rate_limit=1000.0 (msgs/sec)\n",
      "NotebookApp.rate_limit_window=3.0 (secs)\n",
      "\n"
     ]
    },
    {
     "name": "stdout",
     "output_type": "stream",
     "text": [
      "processing index num : 2507235processing index num : 2503544\r"
     ]
    },
    {
     "name": "stderr",
     "output_type": "stream",
     "text": [
      "IOPub message rate exceeded.\n",
      "The notebook server will temporarily stop sending output\n",
      "to the client in order to avoid crashing it.\n",
      "To change this limit, set the config variable\n",
      "`--NotebookApp.iopub_msg_rate_limit`.\n",
      "\n",
      "Current values:\n",
      "NotebookApp.iopub_msg_rate_limit=1000.0 (msgs/sec)\n",
      "NotebookApp.rate_limit_window=3.0 (secs)\n",
      "\n"
     ]
    },
    {
     "name": "stdout",
     "output_type": "stream",
     "text": [
      "processing index num : 2517390\r"
     ]
    },
    {
     "name": "stderr",
     "output_type": "stream",
     "text": [
      "IOPub message rate exceeded.\n",
      "The notebook server will temporarily stop sending output\n",
      "to the client in order to avoid crashing it.\n",
      "To change this limit, set the config variable\n",
      "`--NotebookApp.iopub_msg_rate_limit`.\n",
      "\n",
      "Current values:\n",
      "NotebookApp.iopub_msg_rate_limit=1000.0 (msgs/sec)\n",
      "NotebookApp.rate_limit_window=3.0 (secs)\n",
      "\n"
     ]
    },
    {
     "name": "stdout",
     "output_type": "stream",
     "text": [
      "processing index num : 2527374\r"
     ]
    },
    {
     "name": "stderr",
     "output_type": "stream",
     "text": [
      "IOPub message rate exceeded.\n",
      "The notebook server will temporarily stop sending output\n",
      "to the client in order to avoid crashing it.\n",
      "To change this limit, set the config variable\n",
      "`--NotebookApp.iopub_msg_rate_limit`.\n",
      "\n",
      "Current values:\n",
      "NotebookApp.iopub_msg_rate_limit=1000.0 (msgs/sec)\n",
      "NotebookApp.rate_limit_window=3.0 (secs)\n",
      "\n"
     ]
    },
    {
     "name": "stdout",
     "output_type": "stream",
     "text": [
      "processing index num : 2538308\r"
     ]
    },
    {
     "name": "stderr",
     "output_type": "stream",
     "text": [
      "IOPub message rate exceeded.\n",
      "The notebook server will temporarily stop sending output\n",
      "to the client in order to avoid crashing it.\n",
      "To change this limit, set the config variable\n",
      "`--NotebookApp.iopub_msg_rate_limit`.\n",
      "\n",
      "Current values:\n",
      "NotebookApp.iopub_msg_rate_limit=1000.0 (msgs/sec)\n",
      "NotebookApp.rate_limit_window=3.0 (secs)\n",
      "\n"
     ]
    },
    {
     "name": "stdout",
     "output_type": "stream",
     "text": [
      "processing index num : 2550796\r"
     ]
    },
    {
     "name": "stderr",
     "output_type": "stream",
     "text": [
      "IOPub message rate exceeded.\n",
      "The notebook server will temporarily stop sending output\n",
      "to the client in order to avoid crashing it.\n",
      "To change this limit, set the config variable\n",
      "`--NotebookApp.iopub_msg_rate_limit`.\n",
      "\n",
      "Current values:\n",
      "NotebookApp.iopub_msg_rate_limit=1000.0 (msgs/sec)\n",
      "NotebookApp.rate_limit_window=3.0 (secs)\n",
      "\n"
     ]
    },
    {
     "name": "stdout",
     "output_type": "stream",
     "text": [
      "processing index num : 2562042\r"
     ]
    },
    {
     "name": "stderr",
     "output_type": "stream",
     "text": [
      "IOPub message rate exceeded.\n",
      "The notebook server will temporarily stop sending output\n",
      "to the client in order to avoid crashing it.\n",
      "To change this limit, set the config variable\n",
      "`--NotebookApp.iopub_msg_rate_limit`.\n",
      "\n",
      "Current values:\n",
      "NotebookApp.iopub_msg_rate_limit=1000.0 (msgs/sec)\n",
      "NotebookApp.rate_limit_window=3.0 (secs)\n",
      "\n"
     ]
    },
    {
     "name": "stdout",
     "output_type": "stream",
     "text": [
      "processing index num : 2573062processing index num : 2571764\r"
     ]
    },
    {
     "name": "stderr",
     "output_type": "stream",
     "text": [
      "IOPub message rate exceeded.\n",
      "The notebook server will temporarily stop sending output\n",
      "to the client in order to avoid crashing it.\n",
      "To change this limit, set the config variable\n",
      "`--NotebookApp.iopub_msg_rate_limit`.\n",
      "\n",
      "Current values:\n",
      "NotebookApp.iopub_msg_rate_limit=1000.0 (msgs/sec)\n",
      "NotebookApp.rate_limit_window=3.0 (secs)\n",
      "\n"
     ]
    },
    {
     "name": "stdout",
     "output_type": "stream",
     "text": [
      "processing index num : 2584680\r"
     ]
    },
    {
     "name": "stderr",
     "output_type": "stream",
     "text": [
      "IOPub message rate exceeded.\n",
      "The notebook server will temporarily stop sending output\n",
      "to the client in order to avoid crashing it.\n",
      "To change this limit, set the config variable\n",
      "`--NotebookApp.iopub_msg_rate_limit`.\n",
      "\n",
      "Current values:\n",
      "NotebookApp.iopub_msg_rate_limit=1000.0 (msgs/sec)\n",
      "NotebookApp.rate_limit_window=3.0 (secs)\n",
      "\n"
     ]
    },
    {
     "name": "stdout",
     "output_type": "stream",
     "text": [
      "processing index num : 2595029\r"
     ]
    },
    {
     "name": "stderr",
     "output_type": "stream",
     "text": [
      "IOPub message rate exceeded.\n",
      "The notebook server will temporarily stop sending output\n",
      "to the client in order to avoid crashing it.\n",
      "To change this limit, set the config variable\n",
      "`--NotebookApp.iopub_msg_rate_limit`.\n",
      "\n",
      "Current values:\n",
      "NotebookApp.iopub_msg_rate_limit=1000.0 (msgs/sec)\n",
      "NotebookApp.rate_limit_window=3.0 (secs)\n",
      "\n"
     ]
    },
    {
     "name": "stdout",
     "output_type": "stream",
     "text": [
      "processing index num : 2602076\r"
     ]
    },
    {
     "name": "stderr",
     "output_type": "stream",
     "text": [
      "IOPub message rate exceeded.\n",
      "The notebook server will temporarily stop sending output\n",
      "to the client in order to avoid crashing it.\n",
      "To change this limit, set the config variable\n",
      "`--NotebookApp.iopub_msg_rate_limit`.\n",
      "\n",
      "Current values:\n",
      "NotebookApp.iopub_msg_rate_limit=1000.0 (msgs/sec)\n",
      "NotebookApp.rate_limit_window=3.0 (secs)\n",
      "\n"
     ]
    },
    {
     "name": "stdout",
     "output_type": "stream",
     "text": [
      "processing index num : 2614649\r"
     ]
    },
    {
     "name": "stderr",
     "output_type": "stream",
     "text": [
      "IOPub message rate exceeded.\n",
      "The notebook server will temporarily stop sending output\n",
      "to the client in order to avoid crashing it.\n",
      "To change this limit, set the config variable\n",
      "`--NotebookApp.iopub_msg_rate_limit`.\n",
      "\n",
      "Current values:\n",
      "NotebookApp.iopub_msg_rate_limit=1000.0 (msgs/sec)\n",
      "NotebookApp.rate_limit_window=3.0 (secs)\n",
      "\n"
     ]
    },
    {
     "name": "stdout",
     "output_type": "stream",
     "text": [
      "processing index num : 2625495\r"
     ]
    },
    {
     "name": "stderr",
     "output_type": "stream",
     "text": [
      "IOPub message rate exceeded.\n",
      "The notebook server will temporarily stop sending output\n",
      "to the client in order to avoid crashing it.\n",
      "To change this limit, set the config variable\n",
      "`--NotebookApp.iopub_msg_rate_limit`.\n",
      "\n",
      "Current values:\n",
      "NotebookApp.iopub_msg_rate_limit=1000.0 (msgs/sec)\n",
      "NotebookApp.rate_limit_window=3.0 (secs)\n",
      "\n"
     ]
    },
    {
     "name": "stdout",
     "output_type": "stream",
     "text": [
      "processing index num : 2636954\r"
     ]
    },
    {
     "name": "stderr",
     "output_type": "stream",
     "text": [
      "IOPub message rate exceeded.\n",
      "The notebook server will temporarily stop sending output\n",
      "to the client in order to avoid crashing it.\n",
      "To change this limit, set the config variable\n",
      "`--NotebookApp.iopub_msg_rate_limit`.\n",
      "\n",
      "Current values:\n",
      "NotebookApp.iopub_msg_rate_limit=1000.0 (msgs/sec)\n",
      "NotebookApp.rate_limit_window=3.0 (secs)\n",
      "\n"
     ]
    },
    {
     "name": "stdout",
     "output_type": "stream",
     "text": [
      "processing index num : 2648920\r"
     ]
    },
    {
     "name": "stderr",
     "output_type": "stream",
     "text": [
      "IOPub message rate exceeded.\n",
      "The notebook server will temporarily stop sending output\n",
      "to the client in order to avoid crashing it.\n",
      "To change this limit, set the config variable\n",
      "`--NotebookApp.iopub_msg_rate_limit`.\n",
      "\n",
      "Current values:\n",
      "NotebookApp.iopub_msg_rate_limit=1000.0 (msgs/sec)\n",
      "NotebookApp.rate_limit_window=3.0 (secs)\n",
      "\n"
     ]
    },
    {
     "name": "stdout",
     "output_type": "stream",
     "text": [
      "processing index num : 2659749\r"
     ]
    },
    {
     "name": "stderr",
     "output_type": "stream",
     "text": [
      "IOPub message rate exceeded.\n",
      "The notebook server will temporarily stop sending output\n",
      "to the client in order to avoid crashing it.\n",
      "To change this limit, set the config variable\n",
      "`--NotebookApp.iopub_msg_rate_limit`.\n",
      "\n",
      "Current values:\n",
      "NotebookApp.iopub_msg_rate_limit=1000.0 (msgs/sec)\n",
      "NotebookApp.rate_limit_window=3.0 (secs)\n",
      "\n"
     ]
    },
    {
     "name": "stdout",
     "output_type": "stream",
     "text": [
      "processing index num : 2671398\r"
     ]
    },
    {
     "name": "stderr",
     "output_type": "stream",
     "text": [
      "IOPub message rate exceeded.\n",
      "The notebook server will temporarily stop sending output\n",
      "to the client in order to avoid crashing it.\n",
      "To change this limit, set the config variable\n",
      "`--NotebookApp.iopub_msg_rate_limit`.\n",
      "\n",
      "Current values:\n",
      "NotebookApp.iopub_msg_rate_limit=1000.0 (msgs/sec)\n",
      "NotebookApp.rate_limit_window=3.0 (secs)\n",
      "\n"
     ]
    },
    {
     "name": "stdout",
     "output_type": "stream",
     "text": [
      "processing index num : 2682468processing index num : 2679640\r"
     ]
    },
    {
     "name": "stderr",
     "output_type": "stream",
     "text": [
      "IOPub message rate exceeded.\n",
      "The notebook server will temporarily stop sending output\n",
      "to the client in order to avoid crashing it.\n",
      "To change this limit, set the config variable\n",
      "`--NotebookApp.iopub_msg_rate_limit`.\n",
      "\n",
      "Current values:\n",
      "NotebookApp.iopub_msg_rate_limit=1000.0 (msgs/sec)\n",
      "NotebookApp.rate_limit_window=3.0 (secs)\n",
      "\n"
     ]
    },
    {
     "name": "stdout",
     "output_type": "stream",
     "text": [
      "processing index num : 2692982processing index num : 2690271\r"
     ]
    },
    {
     "name": "stderr",
     "output_type": "stream",
     "text": [
      "IOPub message rate exceeded.\n",
      "The notebook server will temporarily stop sending output\n",
      "to the client in order to avoid crashing it.\n",
      "To change this limit, set the config variable\n",
      "`--NotebookApp.iopub_msg_rate_limit`.\n",
      "\n",
      "Current values:\n",
      "NotebookApp.iopub_msg_rate_limit=1000.0 (msgs/sec)\n",
      "NotebookApp.rate_limit_window=3.0 (secs)\n",
      "\n"
     ]
    },
    {
     "name": "stdout",
     "output_type": "stream",
     "text": [
      "processing index num : 2703211\r"
     ]
    },
    {
     "name": "stderr",
     "output_type": "stream",
     "text": [
      "IOPub message rate exceeded.\n",
      "The notebook server will temporarily stop sending output\n",
      "to the client in order to avoid crashing it.\n",
      "To change this limit, set the config variable\n",
      "`--NotebookApp.iopub_msg_rate_limit`.\n",
      "\n",
      "Current values:\n",
      "NotebookApp.iopub_msg_rate_limit=1000.0 (msgs/sec)\n",
      "NotebookApp.rate_limit_window=3.0 (secs)\n",
      "\n"
     ]
    },
    {
     "name": "stdout",
     "output_type": "stream",
     "text": [
      "processing index num : 2714935\r"
     ]
    },
    {
     "name": "stderr",
     "output_type": "stream",
     "text": [
      "IOPub message rate exceeded.\n",
      "The notebook server will temporarily stop sending output\n",
      "to the client in order to avoid crashing it.\n",
      "To change this limit, set the config variable\n",
      "`--NotebookApp.iopub_msg_rate_limit`.\n",
      "\n",
      "Current values:\n",
      "NotebookApp.iopub_msg_rate_limit=1000.0 (msgs/sec)\n",
      "NotebookApp.rate_limit_window=3.0 (secs)\n",
      "\n"
     ]
    },
    {
     "name": "stdout",
     "output_type": "stream",
     "text": [
      "processing index num : 2724658\r"
     ]
    },
    {
     "name": "stderr",
     "output_type": "stream",
     "text": [
      "IOPub message rate exceeded.\n",
      "The notebook server will temporarily stop sending output\n",
      "to the client in order to avoid crashing it.\n",
      "To change this limit, set the config variable\n",
      "`--NotebookApp.iopub_msg_rate_limit`.\n",
      "\n",
      "Current values:\n",
      "NotebookApp.iopub_msg_rate_limit=1000.0 (msgs/sec)\n",
      "NotebookApp.rate_limit_window=3.0 (secs)\n",
      "\n"
     ]
    },
    {
     "name": "stdout",
     "output_type": "stream",
     "text": [
      "processing index num : 2735942\r"
     ]
    },
    {
     "name": "stderr",
     "output_type": "stream",
     "text": [
      "IOPub message rate exceeded.\n",
      "The notebook server will temporarily stop sending output\n",
      "to the client in order to avoid crashing it.\n",
      "To change this limit, set the config variable\n",
      "`--NotebookApp.iopub_msg_rate_limit`.\n",
      "\n",
      "Current values:\n",
      "NotebookApp.iopub_msg_rate_limit=1000.0 (msgs/sec)\n",
      "NotebookApp.rate_limit_window=3.0 (secs)\n",
      "\n"
     ]
    },
    {
     "name": "stdout",
     "output_type": "stream",
     "text": [
      "processing index num : 2746655\r"
     ]
    },
    {
     "name": "stderr",
     "output_type": "stream",
     "text": [
      "IOPub message rate exceeded.\n",
      "The notebook server will temporarily stop sending output\n",
      "to the client in order to avoid crashing it.\n",
      "To change this limit, set the config variable\n",
      "`--NotebookApp.iopub_msg_rate_limit`.\n",
      "\n",
      "Current values:\n",
      "NotebookApp.iopub_msg_rate_limit=1000.0 (msgs/sec)\n",
      "NotebookApp.rate_limit_window=3.0 (secs)\n",
      "\n"
     ]
    },
    {
     "name": "stdout",
     "output_type": "stream",
     "text": [
      "processing index num : 2756930\r"
     ]
    },
    {
     "name": "stderr",
     "output_type": "stream",
     "text": [
      "IOPub message rate exceeded.\n",
      "The notebook server will temporarily stop sending output\n",
      "to the client in order to avoid crashing it.\n",
      "To change this limit, set the config variable\n",
      "`--NotebookApp.iopub_msg_rate_limit`.\n",
      "\n",
      "Current values:\n",
      "NotebookApp.iopub_msg_rate_limit=1000.0 (msgs/sec)\n",
      "NotebookApp.rate_limit_window=3.0 (secs)\n",
      "\n"
     ]
    },
    {
     "name": "stdout",
     "output_type": "stream",
     "text": [
      "processing index num : 2766867\r"
     ]
    },
    {
     "name": "stderr",
     "output_type": "stream",
     "text": [
      "IOPub message rate exceeded.\n",
      "The notebook server will temporarily stop sending output\n",
      "to the client in order to avoid crashing it.\n",
      "To change this limit, set the config variable\n",
      "`--NotebookApp.iopub_msg_rate_limit`.\n",
      "\n",
      "Current values:\n",
      "NotebookApp.iopub_msg_rate_limit=1000.0 (msgs/sec)\n",
      "NotebookApp.rate_limit_window=3.0 (secs)\n",
      "\n"
     ]
    },
    {
     "name": "stdout",
     "output_type": "stream",
     "text": [
      "processing index num : 2777727\r"
     ]
    },
    {
     "name": "stderr",
     "output_type": "stream",
     "text": [
      "IOPub message rate exceeded.\n",
      "The notebook server will temporarily stop sending output\n",
      "to the client in order to avoid crashing it.\n",
      "To change this limit, set the config variable\n",
      "`--NotebookApp.iopub_msg_rate_limit`.\n",
      "\n",
      "Current values:\n",
      "NotebookApp.iopub_msg_rate_limit=1000.0 (msgs/sec)\n",
      "NotebookApp.rate_limit_window=3.0 (secs)\n",
      "\n"
     ]
    },
    {
     "name": "stdout",
     "output_type": "stream",
     "text": [
      "processing index num : 2789785\r"
     ]
    },
    {
     "name": "stderr",
     "output_type": "stream",
     "text": [
      "IOPub message rate exceeded.\n",
      "The notebook server will temporarily stop sending output\n",
      "to the client in order to avoid crashing it.\n",
      "To change this limit, set the config variable\n",
      "`--NotebookApp.iopub_msg_rate_limit`.\n",
      "\n",
      "Current values:\n",
      "NotebookApp.iopub_msg_rate_limit=1000.0 (msgs/sec)\n",
      "NotebookApp.rate_limit_window=3.0 (secs)\n",
      "\n"
     ]
    },
    {
     "name": "stdout",
     "output_type": "stream",
     "text": [
      "processing index num : 2800689processing index num : 2799453processing index num : 2800268\r"
     ]
    },
    {
     "name": "stderr",
     "output_type": "stream",
     "text": [
      "IOPub message rate exceeded.\n",
      "The notebook server will temporarily stop sending output\n",
      "to the client in order to avoid crashing it.\n",
      "To change this limit, set the config variable\n",
      "`--NotebookApp.iopub_msg_rate_limit`.\n",
      "\n",
      "Current values:\n",
      "NotebookApp.iopub_msg_rate_limit=1000.0 (msgs/sec)\n",
      "NotebookApp.rate_limit_window=3.0 (secs)\n",
      "\n"
     ]
    },
    {
     "name": "stdout",
     "output_type": "stream",
     "text": [
      "processing index num : 2808969\r"
     ]
    },
    {
     "name": "stderr",
     "output_type": "stream",
     "text": [
      "IOPub message rate exceeded.\n",
      "The notebook server will temporarily stop sending output\n",
      "to the client in order to avoid crashing it.\n",
      "To change this limit, set the config variable\n",
      "`--NotebookApp.iopub_msg_rate_limit`.\n",
      "\n",
      "Current values:\n",
      "NotebookApp.iopub_msg_rate_limit=1000.0 (msgs/sec)\n",
      "NotebookApp.rate_limit_window=3.0 (secs)\n",
      "\n"
     ]
    },
    {
     "name": "stdout",
     "output_type": "stream",
     "text": [
      "processing index num : 2823539\r"
     ]
    },
    {
     "name": "stderr",
     "output_type": "stream",
     "text": [
      "IOPub message rate exceeded.\n",
      "The notebook server will temporarily stop sending output\n",
      "to the client in order to avoid crashing it.\n",
      "To change this limit, set the config variable\n",
      "`--NotebookApp.iopub_msg_rate_limit`.\n",
      "\n",
      "Current values:\n",
      "NotebookApp.iopub_msg_rate_limit=1000.0 (msgs/sec)\n",
      "NotebookApp.rate_limit_window=3.0 (secs)\n",
      "\n"
     ]
    },
    {
     "name": "stdout",
     "output_type": "stream",
     "text": [
      "processing index num : 2834616\r"
     ]
    },
    {
     "name": "stderr",
     "output_type": "stream",
     "text": [
      "IOPub message rate exceeded.\n",
      "The notebook server will temporarily stop sending output\n",
      "to the client in order to avoid crashing it.\n",
      "To change this limit, set the config variable\n",
      "`--NotebookApp.iopub_msg_rate_limit`.\n",
      "\n",
      "Current values:\n",
      "NotebookApp.iopub_msg_rate_limit=1000.0 (msgs/sec)\n",
      "NotebookApp.rate_limit_window=3.0 (secs)\n",
      "\n"
     ]
    },
    {
     "name": "stdout",
     "output_type": "stream",
     "text": [
      "processing index num : 2845410\r"
     ]
    },
    {
     "name": "stderr",
     "output_type": "stream",
     "text": [
      "IOPub message rate exceeded.\n",
      "The notebook server will temporarily stop sending output\n",
      "to the client in order to avoid crashing it.\n",
      "To change this limit, set the config variable\n",
      "`--NotebookApp.iopub_msg_rate_limit`.\n",
      "\n",
      "Current values:\n",
      "NotebookApp.iopub_msg_rate_limit=1000.0 (msgs/sec)\n",
      "NotebookApp.rate_limit_window=3.0 (secs)\n",
      "\n"
     ]
    },
    {
     "name": "stdout",
     "output_type": "stream",
     "text": [
      "processing index num : 2854961\r"
     ]
    },
    {
     "name": "stderr",
     "output_type": "stream",
     "text": [
      "IOPub message rate exceeded.\n",
      "The notebook server will temporarily stop sending output\n",
      "to the client in order to avoid crashing it.\n",
      "To change this limit, set the config variable\n",
      "`--NotebookApp.iopub_msg_rate_limit`.\n",
      "\n",
      "Current values:\n",
      "NotebookApp.iopub_msg_rate_limit=1000.0 (msgs/sec)\n",
      "NotebookApp.rate_limit_window=3.0 (secs)\n",
      "\n"
     ]
    },
    {
     "name": "stdout",
     "output_type": "stream",
     "text": [
      "processing index num : 2865388processing index num : 2862882\r"
     ]
    },
    {
     "name": "stderr",
     "output_type": "stream",
     "text": [
      "IOPub message rate exceeded.\n",
      "The notebook server will temporarily stop sending output\n",
      "to the client in order to avoid crashing it.\n",
      "To change this limit, set the config variable\n",
      "`--NotebookApp.iopub_msg_rate_limit`.\n",
      "\n",
      "Current values:\n",
      "NotebookApp.iopub_msg_rate_limit=1000.0 (msgs/sec)\n",
      "NotebookApp.rate_limit_window=3.0 (secs)\n",
      "\n"
     ]
    },
    {
     "name": "stdout",
     "output_type": "stream",
     "text": [
      "processing index num : 2876476\r"
     ]
    },
    {
     "name": "stderr",
     "output_type": "stream",
     "text": [
      "IOPub message rate exceeded.\n",
      "The notebook server will temporarily stop sending output\n",
      "to the client in order to avoid crashing it.\n",
      "To change this limit, set the config variable\n",
      "`--NotebookApp.iopub_msg_rate_limit`.\n",
      "\n",
      "Current values:\n",
      "NotebookApp.iopub_msg_rate_limit=1000.0 (msgs/sec)\n",
      "NotebookApp.rate_limit_window=3.0 (secs)\n",
      "\n"
     ]
    },
    {
     "name": "stdout",
     "output_type": "stream",
     "text": [
      "processing index num : 2887118\r"
     ]
    },
    {
     "name": "stderr",
     "output_type": "stream",
     "text": [
      "IOPub message rate exceeded.\n",
      "The notebook server will temporarily stop sending output\n",
      "to the client in order to avoid crashing it.\n",
      "To change this limit, set the config variable\n",
      "`--NotebookApp.iopub_msg_rate_limit`.\n",
      "\n",
      "Current values:\n",
      "NotebookApp.iopub_msg_rate_limit=1000.0 (msgs/sec)\n",
      "NotebookApp.rate_limit_window=3.0 (secs)\n",
      "\n"
     ]
    },
    {
     "name": "stdout",
     "output_type": "stream",
     "text": [
      "processing index num : 2897923\r"
     ]
    },
    {
     "name": "stderr",
     "output_type": "stream",
     "text": [
      "IOPub message rate exceeded.\n",
      "The notebook server will temporarily stop sending output\n",
      "to the client in order to avoid crashing it.\n",
      "To change this limit, set the config variable\n",
      "`--NotebookApp.iopub_msg_rate_limit`.\n",
      "\n",
      "Current values:\n",
      "NotebookApp.iopub_msg_rate_limit=1000.0 (msgs/sec)\n",
      "NotebookApp.rate_limit_window=3.0 (secs)\n",
      "\n"
     ]
    },
    {
     "name": "stdout",
     "output_type": "stream",
     "text": [
      "processing index num : 2908031\r"
     ]
    },
    {
     "name": "stderr",
     "output_type": "stream",
     "text": [
      "IOPub message rate exceeded.\n",
      "The notebook server will temporarily stop sending output\n",
      "to the client in order to avoid crashing it.\n",
      "To change this limit, set the config variable\n",
      "`--NotebookApp.iopub_msg_rate_limit`.\n",
      "\n",
      "Current values:\n",
      "NotebookApp.iopub_msg_rate_limit=1000.0 (msgs/sec)\n",
      "NotebookApp.rate_limit_window=3.0 (secs)\n",
      "\n"
     ]
    },
    {
     "name": "stdout",
     "output_type": "stream",
     "text": [
      "processing index num : 2919622\r"
     ]
    },
    {
     "name": "stderr",
     "output_type": "stream",
     "text": [
      "IOPub message rate exceeded.\n",
      "The notebook server will temporarily stop sending output\n",
      "to the client in order to avoid crashing it.\n",
      "To change this limit, set the config variable\n",
      "`--NotebookApp.iopub_msg_rate_limit`.\n",
      "\n",
      "Current values:\n",
      "NotebookApp.iopub_msg_rate_limit=1000.0 (msgs/sec)\n",
      "NotebookApp.rate_limit_window=3.0 (secs)\n",
      "\n"
     ]
    },
    {
     "name": "stdout",
     "output_type": "stream",
     "text": [
      "processing index num : 2930829\r"
     ]
    },
    {
     "name": "stderr",
     "output_type": "stream",
     "text": [
      "IOPub message rate exceeded.\n",
      "The notebook server will temporarily stop sending output\n",
      "to the client in order to avoid crashing it.\n",
      "To change this limit, set the config variable\n",
      "`--NotebookApp.iopub_msg_rate_limit`.\n",
      "\n",
      "Current values:\n",
      "NotebookApp.iopub_msg_rate_limit=1000.0 (msgs/sec)\n",
      "NotebookApp.rate_limit_window=3.0 (secs)\n",
      "\n"
     ]
    },
    {
     "name": "stdout",
     "output_type": "stream",
     "text": [
      "processing index num : 2941316\r"
     ]
    },
    {
     "name": "stderr",
     "output_type": "stream",
     "text": [
      "IOPub message rate exceeded.\n",
      "The notebook server will temporarily stop sending output\n",
      "to the client in order to avoid crashing it.\n",
      "To change this limit, set the config variable\n",
      "`--NotebookApp.iopub_msg_rate_limit`.\n",
      "\n",
      "Current values:\n",
      "NotebookApp.iopub_msg_rate_limit=1000.0 (msgs/sec)\n",
      "NotebookApp.rate_limit_window=3.0 (secs)\n",
      "\n"
     ]
    },
    {
     "name": "stdout",
     "output_type": "stream",
     "text": [
      "processing index num : 2952227\r"
     ]
    },
    {
     "name": "stderr",
     "output_type": "stream",
     "text": [
      "IOPub message rate exceeded.\n",
      "The notebook server will temporarily stop sending output\n",
      "to the client in order to avoid crashing it.\n",
      "To change this limit, set the config variable\n",
      "`--NotebookApp.iopub_msg_rate_limit`.\n",
      "\n",
      "Current values:\n",
      "NotebookApp.iopub_msg_rate_limit=1000.0 (msgs/sec)\n",
      "NotebookApp.rate_limit_window=3.0 (secs)\n",
      "\n"
     ]
    },
    {
     "name": "stdout",
     "output_type": "stream",
     "text": [
      "processing index num : 2962240\r"
     ]
    },
    {
     "name": "stderr",
     "output_type": "stream",
     "text": [
      "IOPub message rate exceeded.\n",
      "The notebook server will temporarily stop sending output\n",
      "to the client in order to avoid crashing it.\n",
      "To change this limit, set the config variable\n",
      "`--NotebookApp.iopub_msg_rate_limit`.\n",
      "\n",
      "Current values:\n",
      "NotebookApp.iopub_msg_rate_limit=1000.0 (msgs/sec)\n",
      "NotebookApp.rate_limit_window=3.0 (secs)\n",
      "\n"
     ]
    },
    {
     "name": "stdout",
     "output_type": "stream",
     "text": [
      "processing index num : 2970267\r"
     ]
    },
    {
     "name": "stderr",
     "output_type": "stream",
     "text": [
      "IOPub message rate exceeded.\n",
      "The notebook server will temporarily stop sending output\n",
      "to the client in order to avoid crashing it.\n",
      "To change this limit, set the config variable\n",
      "`--NotebookApp.iopub_msg_rate_limit`.\n",
      "\n",
      "Current values:\n",
      "NotebookApp.iopub_msg_rate_limit=1000.0 (msgs/sec)\n",
      "NotebookApp.rate_limit_window=3.0 (secs)\n",
      "\n"
     ]
    },
    {
     "name": "stdout",
     "output_type": "stream",
     "text": [
      "processing index num : 2981382\r"
     ]
    },
    {
     "name": "stderr",
     "output_type": "stream",
     "text": [
      "IOPub message rate exceeded.\n",
      "The notebook server will temporarily stop sending output\n",
      "to the client in order to avoid crashing it.\n",
      "To change this limit, set the config variable\n",
      "`--NotebookApp.iopub_msg_rate_limit`.\n",
      "\n",
      "Current values:\n",
      "NotebookApp.iopub_msg_rate_limit=1000.0 (msgs/sec)\n",
      "NotebookApp.rate_limit_window=3.0 (secs)\n",
      "\n"
     ]
    },
    {
     "name": "stdout",
     "output_type": "stream",
     "text": [
      "processing index num : 2991820\r"
     ]
    },
    {
     "name": "stderr",
     "output_type": "stream",
     "text": [
      "IOPub message rate exceeded.\n",
      "The notebook server will temporarily stop sending output\n",
      "to the client in order to avoid crashing it.\n",
      "To change this limit, set the config variable\n",
      "`--NotebookApp.iopub_msg_rate_limit`.\n",
      "\n",
      "Current values:\n",
      "NotebookApp.iopub_msg_rate_limit=1000.0 (msgs/sec)\n",
      "NotebookApp.rate_limit_window=3.0 (secs)\n",
      "\n"
     ]
    },
    {
     "name": "stdout",
     "output_type": "stream",
     "text": [
      "processing index num : 3003450\r"
     ]
    },
    {
     "name": "stderr",
     "output_type": "stream",
     "text": [
      "IOPub message rate exceeded.\n",
      "The notebook server will temporarily stop sending output\n",
      "to the client in order to avoid crashing it.\n",
      "To change this limit, set the config variable\n",
      "`--NotebookApp.iopub_msg_rate_limit`.\n",
      "\n",
      "Current values:\n",
      "NotebookApp.iopub_msg_rate_limit=1000.0 (msgs/sec)\n",
      "NotebookApp.rate_limit_window=3.0 (secs)\n",
      "\n"
     ]
    },
    {
     "name": "stdout",
     "output_type": "stream",
     "text": [
      "processing index num : 3017071processing index num : 3012725\r"
     ]
    },
    {
     "name": "stderr",
     "output_type": "stream",
     "text": [
      "IOPub message rate exceeded.\n",
      "The notebook server will temporarily stop sending output\n",
      "to the client in order to avoid crashing it.\n",
      "To change this limit, set the config variable\n",
      "`--NotebookApp.iopub_msg_rate_limit`.\n",
      "\n",
      "Current values:\n",
      "NotebookApp.iopub_msg_rate_limit=1000.0 (msgs/sec)\n",
      "NotebookApp.rate_limit_window=3.0 (secs)\n",
      "\n"
     ]
    },
    {
     "name": "stdout",
     "output_type": "stream",
     "text": [
      "processing index num : 3028602\r"
     ]
    },
    {
     "name": "stderr",
     "output_type": "stream",
     "text": [
      "IOPub message rate exceeded.\n",
      "The notebook server will temporarily stop sending output\n",
      "to the client in order to avoid crashing it.\n",
      "To change this limit, set the config variable\n",
      "`--NotebookApp.iopub_msg_rate_limit`.\n",
      "\n",
      "Current values:\n",
      "NotebookApp.iopub_msg_rate_limit=1000.0 (msgs/sec)\n",
      "NotebookApp.rate_limit_window=3.0 (secs)\n",
      "\n"
     ]
    },
    {
     "name": "stdout",
     "output_type": "stream",
     "text": [
      "processing index num : 3039574\r"
     ]
    },
    {
     "name": "stderr",
     "output_type": "stream",
     "text": [
      "IOPub message rate exceeded.\n",
      "The notebook server will temporarily stop sending output\n",
      "to the client in order to avoid crashing it.\n",
      "To change this limit, set the config variable\n",
      "`--NotebookApp.iopub_msg_rate_limit`.\n",
      "\n",
      "Current values:\n",
      "NotebookApp.iopub_msg_rate_limit=1000.0 (msgs/sec)\n",
      "NotebookApp.rate_limit_window=3.0 (secs)\n",
      "\n"
     ]
    },
    {
     "name": "stdout",
     "output_type": "stream",
     "text": [
      "processing index num : 3049681\r"
     ]
    },
    {
     "name": "stderr",
     "output_type": "stream",
     "text": [
      "IOPub message rate exceeded.\n",
      "The notebook server will temporarily stop sending output\n",
      "to the client in order to avoid crashing it.\n",
      "To change this limit, set the config variable\n",
      "`--NotebookApp.iopub_msg_rate_limit`.\n",
      "\n",
      "Current values:\n",
      "NotebookApp.iopub_msg_rate_limit=1000.0 (msgs/sec)\n",
      "NotebookApp.rate_limit_window=3.0 (secs)\n",
      "\n"
     ]
    },
    {
     "name": "stdout",
     "output_type": "stream",
     "text": [
      "processing index num : 3059717\r"
     ]
    },
    {
     "name": "stderr",
     "output_type": "stream",
     "text": [
      "IOPub message rate exceeded.\n",
      "The notebook server will temporarily stop sending output\n",
      "to the client in order to avoid crashing it.\n",
      "To change this limit, set the config variable\n",
      "`--NotebookApp.iopub_msg_rate_limit`.\n",
      "\n",
      "Current values:\n",
      "NotebookApp.iopub_msg_rate_limit=1000.0 (msgs/sec)\n",
      "NotebookApp.rate_limit_window=3.0 (secs)\n",
      "\n"
     ]
    },
    {
     "name": "stdout",
     "output_type": "stream",
     "text": [
      "processing index num : 3070639\r"
     ]
    },
    {
     "name": "stderr",
     "output_type": "stream",
     "text": [
      "IOPub message rate exceeded.\n",
      "The notebook server will temporarily stop sending output\n",
      "to the client in order to avoid crashing it.\n",
      "To change this limit, set the config variable\n",
      "`--NotebookApp.iopub_msg_rate_limit`.\n",
      "\n",
      "Current values:\n",
      "NotebookApp.iopub_msg_rate_limit=1000.0 (msgs/sec)\n",
      "NotebookApp.rate_limit_window=3.0 (secs)\n",
      "\n"
     ]
    },
    {
     "name": "stdout",
     "output_type": "stream",
     "text": [
      "processing index num : 3082192\r"
     ]
    },
    {
     "name": "stderr",
     "output_type": "stream",
     "text": [
      "IOPub message rate exceeded.\n",
      "The notebook server will temporarily stop sending output\n",
      "to the client in order to avoid crashing it.\n",
      "To change this limit, set the config variable\n",
      "`--NotebookApp.iopub_msg_rate_limit`.\n",
      "\n",
      "Current values:\n",
      "NotebookApp.iopub_msg_rate_limit=1000.0 (msgs/sec)\n",
      "NotebookApp.rate_limit_window=3.0 (secs)\n",
      "\n"
     ]
    },
    {
     "name": "stdout",
     "output_type": "stream",
     "text": [
      "processing index num : 3090326\r"
     ]
    },
    {
     "name": "stderr",
     "output_type": "stream",
     "text": [
      "IOPub message rate exceeded.\n",
      "The notebook server will temporarily stop sending output\n",
      "to the client in order to avoid crashing it.\n",
      "To change this limit, set the config variable\n",
      "`--NotebookApp.iopub_msg_rate_limit`.\n",
      "\n",
      "Current values:\n",
      "NotebookApp.iopub_msg_rate_limit=1000.0 (msgs/sec)\n",
      "NotebookApp.rate_limit_window=3.0 (secs)\n",
      "\n"
     ]
    },
    {
     "name": "stdout",
     "output_type": "stream",
     "text": [
      "processing index num : 3102854\r"
     ]
    },
    {
     "name": "stderr",
     "output_type": "stream",
     "text": [
      "IOPub message rate exceeded.\n",
      "The notebook server will temporarily stop sending output\n",
      "to the client in order to avoid crashing it.\n",
      "To change this limit, set the config variable\n",
      "`--NotebookApp.iopub_msg_rate_limit`.\n",
      "\n",
      "Current values:\n",
      "NotebookApp.iopub_msg_rate_limit=1000.0 (msgs/sec)\n",
      "NotebookApp.rate_limit_window=3.0 (secs)\n",
      "\n"
     ]
    },
    {
     "name": "stdout",
     "output_type": "stream",
     "text": [
      "processing index num : 3115205\r"
     ]
    },
    {
     "name": "stderr",
     "output_type": "stream",
     "text": [
      "IOPub message rate exceeded.\n",
      "The notebook server will temporarily stop sending output\n",
      "to the client in order to avoid crashing it.\n",
      "To change this limit, set the config variable\n",
      "`--NotebookApp.iopub_msg_rate_limit`.\n",
      "\n",
      "Current values:\n",
      "NotebookApp.iopub_msg_rate_limit=1000.0 (msgs/sec)\n",
      "NotebookApp.rate_limit_window=3.0 (secs)\n",
      "\n"
     ]
    },
    {
     "name": "stdout",
     "output_type": "stream",
     "text": [
      "processing index num : 3126040"
     ]
    },
    {
     "name": "stderr",
     "output_type": "stream",
     "text": [
      "IOPub message rate exceeded.\n",
      "The notebook server will temporarily stop sending output\n",
      "to the client in order to avoid crashing it.\n",
      "To change this limit, set the config variable\n",
      "`--NotebookApp.iopub_msg_rate_limit`.\n",
      "\n",
      "Current values:\n",
      "NotebookApp.iopub_msg_rate_limit=1000.0 (msgs/sec)\n",
      "NotebookApp.rate_limit_window=3.0 (secs)\n",
      "\n"
     ]
    },
    {
     "name": "stdout",
     "output_type": "stream",
     "text": [
      "processing index num : 3136968\r"
     ]
    },
    {
     "name": "stderr",
     "output_type": "stream",
     "text": [
      "IOPub message rate exceeded.\n",
      "The notebook server will temporarily stop sending output\n",
      "to the client in order to avoid crashing it.\n",
      "To change this limit, set the config variable\n",
      "`--NotebookApp.iopub_msg_rate_limit`.\n",
      "\n",
      "Current values:\n",
      "NotebookApp.iopub_msg_rate_limit=1000.0 (msgs/sec)\n",
      "NotebookApp.rate_limit_window=3.0 (secs)\n",
      "\n"
     ]
    },
    {
     "name": "stdout",
     "output_type": "stream",
     "text": [
      "processing index num : 3147347\r"
     ]
    },
    {
     "name": "stderr",
     "output_type": "stream",
     "text": [
      "IOPub message rate exceeded.\n",
      "The notebook server will temporarily stop sending output\n",
      "to the client in order to avoid crashing it.\n",
      "To change this limit, set the config variable\n",
      "`--NotebookApp.iopub_msg_rate_limit`.\n",
      "\n",
      "Current values:\n",
      "NotebookApp.iopub_msg_rate_limit=1000.0 (msgs/sec)\n",
      "NotebookApp.rate_limit_window=3.0 (secs)\n",
      "\n"
     ]
    },
    {
     "name": "stdout",
     "output_type": "stream",
     "text": [
      "processing index num : 3157522"
     ]
    },
    {
     "name": "stderr",
     "output_type": "stream",
     "text": [
      "IOPub message rate exceeded.\n",
      "The notebook server will temporarily stop sending output\n",
      "to the client in order to avoid crashing it.\n",
      "To change this limit, set the config variable\n",
      "`--NotebookApp.iopub_msg_rate_limit`.\n",
      "\n",
      "Current values:\n",
      "NotebookApp.iopub_msg_rate_limit=1000.0 (msgs/sec)\n",
      "NotebookApp.rate_limit_window=3.0 (secs)\n",
      "\n"
     ]
    },
    {
     "name": "stdout",
     "output_type": "stream",
     "text": [
      "processing index num : 3169049\r"
     ]
    },
    {
     "name": "stderr",
     "output_type": "stream",
     "text": [
      "IOPub message rate exceeded.\n",
      "The notebook server will temporarily stop sending output\n",
      "to the client in order to avoid crashing it.\n",
      "To change this limit, set the config variable\n",
      "`--NotebookApp.iopub_msg_rate_limit`.\n",
      "\n",
      "Current values:\n",
      "NotebookApp.iopub_msg_rate_limit=1000.0 (msgs/sec)\n",
      "NotebookApp.rate_limit_window=3.0 (secs)\n",
      "\n"
     ]
    },
    {
     "name": "stdout",
     "output_type": "stream",
     "text": [
      "processing index num : 3180532\r"
     ]
    },
    {
     "name": "stderr",
     "output_type": "stream",
     "text": [
      "IOPub message rate exceeded.\n",
      "The notebook server will temporarily stop sending output\n",
      "to the client in order to avoid crashing it.\n",
      "To change this limit, set the config variable\n",
      "`--NotebookApp.iopub_msg_rate_limit`.\n",
      "\n",
      "Current values:\n",
      "NotebookApp.iopub_msg_rate_limit=1000.0 (msgs/sec)\n",
      "NotebookApp.rate_limit_window=3.0 (secs)\n",
      "\n"
     ]
    },
    {
     "name": "stdout",
     "output_type": "stream",
     "text": [
      "processing index num : 3190547\r"
     ]
    },
    {
     "name": "stderr",
     "output_type": "stream",
     "text": [
      "IOPub message rate exceeded.\n",
      "The notebook server will temporarily stop sending output\n",
      "to the client in order to avoid crashing it.\n",
      "To change this limit, set the config variable\n",
      "`--NotebookApp.iopub_msg_rate_limit`.\n",
      "\n",
      "Current values:\n",
      "NotebookApp.iopub_msg_rate_limit=1000.0 (msgs/sec)\n",
      "NotebookApp.rate_limit_window=3.0 (secs)\n",
      "\n"
     ]
    },
    {
     "name": "stdout",
     "output_type": "stream",
     "text": [
      "processing index num : 3201321\r"
     ]
    },
    {
     "name": "stderr",
     "output_type": "stream",
     "text": [
      "IOPub message rate exceeded.\n",
      "The notebook server will temporarily stop sending output\n",
      "to the client in order to avoid crashing it.\n",
      "To change this limit, set the config variable\n",
      "`--NotebookApp.iopub_msg_rate_limit`.\n",
      "\n",
      "Current values:\n",
      "NotebookApp.iopub_msg_rate_limit=1000.0 (msgs/sec)\n",
      "NotebookApp.rate_limit_window=3.0 (secs)\n",
      "\n"
     ]
    },
    {
     "name": "stdout",
     "output_type": "stream",
     "text": [
      "processing index num : 3212567\r"
     ]
    },
    {
     "name": "stderr",
     "output_type": "stream",
     "text": [
      "IOPub message rate exceeded.\n",
      "The notebook server will temporarily stop sending output\n",
      "to the client in order to avoid crashing it.\n",
      "To change this limit, set the config variable\n",
      "`--NotebookApp.iopub_msg_rate_limit`.\n",
      "\n",
      "Current values:\n",
      "NotebookApp.iopub_msg_rate_limit=1000.0 (msgs/sec)\n",
      "NotebookApp.rate_limit_window=3.0 (secs)\n",
      "\n"
     ]
    },
    {
     "name": "stdout",
     "output_type": "stream",
     "text": [
      "processing index num : 3224878\r"
     ]
    },
    {
     "name": "stderr",
     "output_type": "stream",
     "text": [
      "IOPub message rate exceeded.\n",
      "The notebook server will temporarily stop sending output\n",
      "to the client in order to avoid crashing it.\n",
      "To change this limit, set the config variable\n",
      "`--NotebookApp.iopub_msg_rate_limit`.\n",
      "\n",
      "Current values:\n",
      "NotebookApp.iopub_msg_rate_limit=1000.0 (msgs/sec)\n",
      "NotebookApp.rate_limit_window=3.0 (secs)\n",
      "\n"
     ]
    },
    {
     "name": "stdout",
     "output_type": "stream",
     "text": [
      "processing index num : 3234628\r"
     ]
    },
    {
     "name": "stderr",
     "output_type": "stream",
     "text": [
      "IOPub message rate exceeded.\n",
      "The notebook server will temporarily stop sending output\n",
      "to the client in order to avoid crashing it.\n",
      "To change this limit, set the config variable\n",
      "`--NotebookApp.iopub_msg_rate_limit`.\n",
      "\n",
      "Current values:\n",
      "NotebookApp.iopub_msg_rate_limit=1000.0 (msgs/sec)\n",
      "NotebookApp.rate_limit_window=3.0 (secs)\n",
      "\n"
     ]
    },
    {
     "name": "stdout",
     "output_type": "stream",
     "text": [
      "processing index num : 3245085\r"
     ]
    },
    {
     "name": "stderr",
     "output_type": "stream",
     "text": [
      "IOPub message rate exceeded.\n",
      "The notebook server will temporarily stop sending output\n",
      "to the client in order to avoid crashing it.\n",
      "To change this limit, set the config variable\n",
      "`--NotebookApp.iopub_msg_rate_limit`.\n",
      "\n",
      "Current values:\n",
      "NotebookApp.iopub_msg_rate_limit=1000.0 (msgs/sec)\n",
      "NotebookApp.rate_limit_window=3.0 (secs)\n",
      "\n"
     ]
    },
    {
     "name": "stdout",
     "output_type": "stream",
     "text": [
      "processing index num : 3256805\r"
     ]
    },
    {
     "name": "stderr",
     "output_type": "stream",
     "text": [
      "IOPub message rate exceeded.\n",
      "The notebook server will temporarily stop sending output\n",
      "to the client in order to avoid crashing it.\n",
      "To change this limit, set the config variable\n",
      "`--NotebookApp.iopub_msg_rate_limit`.\n",
      "\n",
      "Current values:\n",
      "NotebookApp.iopub_msg_rate_limit=1000.0 (msgs/sec)\n",
      "NotebookApp.rate_limit_window=3.0 (secs)\n",
      "\n"
     ]
    },
    {
     "name": "stdout",
     "output_type": "stream",
     "text": [
      "processing index num : 3267609\r"
     ]
    },
    {
     "name": "stderr",
     "output_type": "stream",
     "text": [
      "IOPub message rate exceeded.\n",
      "The notebook server will temporarily stop sending output\n",
      "to the client in order to avoid crashing it.\n",
      "To change this limit, set the config variable\n",
      "`--NotebookApp.iopub_msg_rate_limit`.\n",
      "\n",
      "Current values:\n",
      "NotebookApp.iopub_msg_rate_limit=1000.0 (msgs/sec)\n",
      "NotebookApp.rate_limit_window=3.0 (secs)\n",
      "\n"
     ]
    },
    {
     "name": "stdout",
     "output_type": "stream",
     "text": [
      "processing index num : 3279104\r"
     ]
    },
    {
     "name": "stderr",
     "output_type": "stream",
     "text": [
      "IOPub message rate exceeded.\n",
      "The notebook server will temporarily stop sending output\n",
      "to the client in order to avoid crashing it.\n",
      "To change this limit, set the config variable\n",
      "`--NotebookApp.iopub_msg_rate_limit`.\n",
      "\n",
      "Current values:\n",
      "NotebookApp.iopub_msg_rate_limit=1000.0 (msgs/sec)\n",
      "NotebookApp.rate_limit_window=3.0 (secs)\n",
      "\n"
     ]
    },
    {
     "name": "stdout",
     "output_type": "stream",
     "text": [
      "processing index num : 3289613\r"
     ]
    },
    {
     "name": "stderr",
     "output_type": "stream",
     "text": [
      "IOPub message rate exceeded.\n",
      "The notebook server will temporarily stop sending output\n",
      "to the client in order to avoid crashing it.\n",
      "To change this limit, set the config variable\n",
      "`--NotebookApp.iopub_msg_rate_limit`.\n",
      "\n",
      "Current values:\n",
      "NotebookApp.iopub_msg_rate_limit=1000.0 (msgs/sec)\n",
      "NotebookApp.rate_limit_window=3.0 (secs)\n",
      "\n"
     ]
    },
    {
     "name": "stdout",
     "output_type": "stream",
     "text": [
      "processing index num : 3299425\r"
     ]
    },
    {
     "name": "stderr",
     "output_type": "stream",
     "text": [
      "IOPub message rate exceeded.\n",
      "The notebook server will temporarily stop sending output\n",
      "to the client in order to avoid crashing it.\n",
      "To change this limit, set the config variable\n",
      "`--NotebookApp.iopub_msg_rate_limit`.\n",
      "\n",
      "Current values:\n",
      "NotebookApp.iopub_msg_rate_limit=1000.0 (msgs/sec)\n",
      "NotebookApp.rate_limit_window=3.0 (secs)\n",
      "\n"
     ]
    },
    {
     "name": "stdout",
     "output_type": "stream",
     "text": [
      "processing index num : 3309421\r"
     ]
    },
    {
     "name": "stderr",
     "output_type": "stream",
     "text": [
      "IOPub message rate exceeded.\n",
      "The notebook server will temporarily stop sending output\n",
      "to the client in order to avoid crashing it.\n",
      "To change this limit, set the config variable\n",
      "`--NotebookApp.iopub_msg_rate_limit`.\n",
      "\n",
      "Current values:\n",
      "NotebookApp.iopub_msg_rate_limit=1000.0 (msgs/sec)\n",
      "NotebookApp.rate_limit_window=3.0 (secs)\n",
      "\n"
     ]
    },
    {
     "name": "stdout",
     "output_type": "stream",
     "text": [
      "processing index num : 3319897\r"
     ]
    },
    {
     "name": "stderr",
     "output_type": "stream",
     "text": [
      "IOPub message rate exceeded.\n",
      "The notebook server will temporarily stop sending output\n",
      "to the client in order to avoid crashing it.\n",
      "To change this limit, set the config variable\n",
      "`--NotebookApp.iopub_msg_rate_limit`.\n",
      "\n",
      "Current values:\n",
      "NotebookApp.iopub_msg_rate_limit=1000.0 (msgs/sec)\n",
      "NotebookApp.rate_limit_window=3.0 (secs)\n",
      "\n"
     ]
    },
    {
     "name": "stdout",
     "output_type": "stream",
     "text": [
      "processing index num : 3331794\r"
     ]
    },
    {
     "name": "stderr",
     "output_type": "stream",
     "text": [
      "IOPub message rate exceeded.\n",
      "The notebook server will temporarily stop sending output\n",
      "to the client in order to avoid crashing it.\n",
      "To change this limit, set the config variable\n",
      "`--NotebookApp.iopub_msg_rate_limit`.\n",
      "\n",
      "Current values:\n",
      "NotebookApp.iopub_msg_rate_limit=1000.0 (msgs/sec)\n",
      "NotebookApp.rate_limit_window=3.0 (secs)\n",
      "\n"
     ]
    },
    {
     "name": "stdout",
     "output_type": "stream",
     "text": [
      "processing index num : 3344098\r"
     ]
    },
    {
     "name": "stderr",
     "output_type": "stream",
     "text": [
      "IOPub message rate exceeded.\n",
      "The notebook server will temporarily stop sending output\n",
      "to the client in order to avoid crashing it.\n",
      "To change this limit, set the config variable\n",
      "`--NotebookApp.iopub_msg_rate_limit`.\n",
      "\n",
      "Current values:\n",
      "NotebookApp.iopub_msg_rate_limit=1000.0 (msgs/sec)\n",
      "NotebookApp.rate_limit_window=3.0 (secs)\n",
      "\n"
     ]
    },
    {
     "name": "stdout",
     "output_type": "stream",
     "text": [
      "processing index num : 3354032\r"
     ]
    },
    {
     "name": "stderr",
     "output_type": "stream",
     "text": [
      "IOPub message rate exceeded.\n",
      "The notebook server will temporarily stop sending output\n",
      "to the client in order to avoid crashing it.\n",
      "To change this limit, set the config variable\n",
      "`--NotebookApp.iopub_msg_rate_limit`.\n",
      "\n",
      "Current values:\n",
      "NotebookApp.iopub_msg_rate_limit=1000.0 (msgs/sec)\n",
      "NotebookApp.rate_limit_window=3.0 (secs)\n",
      "\n"
     ]
    },
    {
     "name": "stdout",
     "output_type": "stream",
     "text": [
      "processing index num : 3362577\r"
     ]
    },
    {
     "name": "stderr",
     "output_type": "stream",
     "text": [
      "IOPub message rate exceeded.\n",
      "The notebook server will temporarily stop sending output\n",
      "to the client in order to avoid crashing it.\n",
      "To change this limit, set the config variable\n",
      "`--NotebookApp.iopub_msg_rate_limit`.\n",
      "\n",
      "Current values:\n",
      "NotebookApp.iopub_msg_rate_limit=1000.0 (msgs/sec)\n",
      "NotebookApp.rate_limit_window=3.0 (secs)\n",
      "\n"
     ]
    },
    {
     "name": "stdout",
     "output_type": "stream",
     "text": [
      "processing index num : 3373712\r"
     ]
    },
    {
     "name": "stderr",
     "output_type": "stream",
     "text": [
      "IOPub message rate exceeded.\n",
      "The notebook server will temporarily stop sending output\n",
      "to the client in order to avoid crashing it.\n",
      "To change this limit, set the config variable\n",
      "`--NotebookApp.iopub_msg_rate_limit`.\n",
      "\n",
      "Current values:\n",
      "NotebookApp.iopub_msg_rate_limit=1000.0 (msgs/sec)\n",
      "NotebookApp.rate_limit_window=3.0 (secs)\n",
      "\n"
     ]
    },
    {
     "name": "stdout",
     "output_type": "stream",
     "text": [
      "processing index num : 3388069\r"
     ]
    },
    {
     "name": "stderr",
     "output_type": "stream",
     "text": [
      "IOPub message rate exceeded.\n",
      "The notebook server will temporarily stop sending output\n",
      "to the client in order to avoid crashing it.\n",
      "To change this limit, set the config variable\n",
      "`--NotebookApp.iopub_msg_rate_limit`.\n",
      "\n",
      "Current values:\n",
      "NotebookApp.iopub_msg_rate_limit=1000.0 (msgs/sec)\n",
      "NotebookApp.rate_limit_window=3.0 (secs)\n",
      "\n"
     ]
    },
    {
     "name": "stdout",
     "output_type": "stream",
     "text": [
      "processing index num : 3398045\r"
     ]
    },
    {
     "name": "stderr",
     "output_type": "stream",
     "text": [
      "IOPub message rate exceeded.\n",
      "The notebook server will temporarily stop sending output\n",
      "to the client in order to avoid crashing it.\n",
      "To change this limit, set the config variable\n",
      "`--NotebookApp.iopub_msg_rate_limit`.\n",
      "\n",
      "Current values:\n",
      "NotebookApp.iopub_msg_rate_limit=1000.0 (msgs/sec)\n",
      "NotebookApp.rate_limit_window=3.0 (secs)\n",
      "\n"
     ]
    },
    {
     "name": "stdout",
     "output_type": "stream",
     "text": [
      "processing index num : 3406984\r"
     ]
    },
    {
     "name": "stderr",
     "output_type": "stream",
     "text": [
      "IOPub message rate exceeded.\n",
      "The notebook server will temporarily stop sending output\n",
      "to the client in order to avoid crashing it.\n",
      "To change this limit, set the config variable\n",
      "`--NotebookApp.iopub_msg_rate_limit`.\n",
      "\n",
      "Current values:\n",
      "NotebookApp.iopub_msg_rate_limit=1000.0 (msgs/sec)\n",
      "NotebookApp.rate_limit_window=3.0 (secs)\n",
      "\n"
     ]
    },
    {
     "name": "stdout",
     "output_type": "stream",
     "text": [
      "processing index num : 3420189\r"
     ]
    },
    {
     "name": "stderr",
     "output_type": "stream",
     "text": [
      "IOPub message rate exceeded.\n",
      "The notebook server will temporarily stop sending output\n",
      "to the client in order to avoid crashing it.\n",
      "To change this limit, set the config variable\n",
      "`--NotebookApp.iopub_msg_rate_limit`.\n",
      "\n",
      "Current values:\n",
      "NotebookApp.iopub_msg_rate_limit=1000.0 (msgs/sec)\n",
      "NotebookApp.rate_limit_window=3.0 (secs)\n",
      "\n"
     ]
    },
    {
     "name": "stdout",
     "output_type": "stream",
     "text": [
      "processing index num : 3431188\r"
     ]
    },
    {
     "name": "stderr",
     "output_type": "stream",
     "text": [
      "IOPub message rate exceeded.\n",
      "The notebook server will temporarily stop sending output\n",
      "to the client in order to avoid crashing it.\n",
      "To change this limit, set the config variable\n",
      "`--NotebookApp.iopub_msg_rate_limit`.\n",
      "\n",
      "Current values:\n",
      "NotebookApp.iopub_msg_rate_limit=1000.0 (msgs/sec)\n",
      "NotebookApp.rate_limit_window=3.0 (secs)\n",
      "\n"
     ]
    },
    {
     "name": "stdout",
     "output_type": "stream",
     "text": [
      "processing index num : 3443043\r"
     ]
    },
    {
     "name": "stderr",
     "output_type": "stream",
     "text": [
      "IOPub message rate exceeded.\n",
      "The notebook server will temporarily stop sending output\n",
      "to the client in order to avoid crashing it.\n",
      "To change this limit, set the config variable\n",
      "`--NotebookApp.iopub_msg_rate_limit`.\n",
      "\n",
      "Current values:\n",
      "NotebookApp.iopub_msg_rate_limit=1000.0 (msgs/sec)\n",
      "NotebookApp.rate_limit_window=3.0 (secs)\n",
      "\n"
     ]
    },
    {
     "name": "stdout",
     "output_type": "stream",
     "text": [
      "processing index num : 3453724\r"
     ]
    },
    {
     "name": "stderr",
     "output_type": "stream",
     "text": [
      "IOPub message rate exceeded.\n",
      "The notebook server will temporarily stop sending output\n",
      "to the client in order to avoid crashing it.\n",
      "To change this limit, set the config variable\n",
      "`--NotebookApp.iopub_msg_rate_limit`.\n",
      "\n",
      "Current values:\n",
      "NotebookApp.iopub_msg_rate_limit=1000.0 (msgs/sec)\n",
      "NotebookApp.rate_limit_window=3.0 (secs)\n",
      "\n"
     ]
    },
    {
     "name": "stdout",
     "output_type": "stream",
     "text": [
      "processing index num : 3464533\r"
     ]
    },
    {
     "name": "stderr",
     "output_type": "stream",
     "text": [
      "IOPub message rate exceeded.\n",
      "The notebook server will temporarily stop sending output\n",
      "to the client in order to avoid crashing it.\n",
      "To change this limit, set the config variable\n",
      "`--NotebookApp.iopub_msg_rate_limit`.\n",
      "\n",
      "Current values:\n",
      "NotebookApp.iopub_msg_rate_limit=1000.0 (msgs/sec)\n",
      "NotebookApp.rate_limit_window=3.0 (secs)\n",
      "\n"
     ]
    },
    {
     "name": "stdout",
     "output_type": "stream",
     "text": [
      "processing index num : 3475788\r"
     ]
    },
    {
     "name": "stderr",
     "output_type": "stream",
     "text": [
      "IOPub message rate exceeded.\n",
      "The notebook server will temporarily stop sending output\n",
      "to the client in order to avoid crashing it.\n",
      "To change this limit, set the config variable\n",
      "`--NotebookApp.iopub_msg_rate_limit`.\n",
      "\n",
      "Current values:\n",
      "NotebookApp.iopub_msg_rate_limit=1000.0 (msgs/sec)\n",
      "NotebookApp.rate_limit_window=3.0 (secs)\n",
      "\n"
     ]
    },
    {
     "name": "stdout",
     "output_type": "stream",
     "text": [
      "processing index num : 3486577\r"
     ]
    },
    {
     "name": "stderr",
     "output_type": "stream",
     "text": [
      "IOPub message rate exceeded.\n",
      "The notebook server will temporarily stop sending output\n",
      "to the client in order to avoid crashing it.\n",
      "To change this limit, set the config variable\n",
      "`--NotebookApp.iopub_msg_rate_limit`.\n",
      "\n",
      "Current values:\n",
      "NotebookApp.iopub_msg_rate_limit=1000.0 (msgs/sec)\n",
      "NotebookApp.rate_limit_window=3.0 (secs)\n",
      "\n"
     ]
    },
    {
     "name": "stdout",
     "output_type": "stream",
     "text": [
      "processing index num : 3496841\r"
     ]
    },
    {
     "name": "stderr",
     "output_type": "stream",
     "text": [
      "IOPub message rate exceeded.\n",
      "The notebook server will temporarily stop sending output\n",
      "to the client in order to avoid crashing it.\n",
      "To change this limit, set the config variable\n",
      "`--NotebookApp.iopub_msg_rate_limit`.\n",
      "\n",
      "Current values:\n",
      "NotebookApp.iopub_msg_rate_limit=1000.0 (msgs/sec)\n",
      "NotebookApp.rate_limit_window=3.0 (secs)\n",
      "\n"
     ]
    },
    {
     "name": "stdout",
     "output_type": "stream",
     "text": [
      "processing index num : 3505388\r"
     ]
    },
    {
     "name": "stderr",
     "output_type": "stream",
     "text": [
      "IOPub message rate exceeded.\n",
      "The notebook server will temporarily stop sending output\n",
      "to the client in order to avoid crashing it.\n",
      "To change this limit, set the config variable\n",
      "`--NotebookApp.iopub_msg_rate_limit`.\n",
      "\n",
      "Current values:\n",
      "NotebookApp.iopub_msg_rate_limit=1000.0 (msgs/sec)\n",
      "NotebookApp.rate_limit_window=3.0 (secs)\n",
      "\n"
     ]
    },
    {
     "name": "stdout",
     "output_type": "stream",
     "text": [
      "processing index num : 3516682\r"
     ]
    },
    {
     "name": "stderr",
     "output_type": "stream",
     "text": [
      "IOPub message rate exceeded.\n",
      "The notebook server will temporarily stop sending output\n",
      "to the client in order to avoid crashing it.\n",
      "To change this limit, set the config variable\n",
      "`--NotebookApp.iopub_msg_rate_limit`.\n",
      "\n",
      "Current values:\n",
      "NotebookApp.iopub_msg_rate_limit=1000.0 (msgs/sec)\n",
      "NotebookApp.rate_limit_window=3.0 (secs)\n",
      "\n"
     ]
    },
    {
     "name": "stdout",
     "output_type": "stream",
     "text": [
      "processing index num : 3527762\r"
     ]
    },
    {
     "name": "stderr",
     "output_type": "stream",
     "text": [
      "IOPub message rate exceeded.\n",
      "The notebook server will temporarily stop sending output\n",
      "to the client in order to avoid crashing it.\n",
      "To change this limit, set the config variable\n",
      "`--NotebookApp.iopub_msg_rate_limit`.\n",
      "\n",
      "Current values:\n",
      "NotebookApp.iopub_msg_rate_limit=1000.0 (msgs/sec)\n",
      "NotebookApp.rate_limit_window=3.0 (secs)\n",
      "\n"
     ]
    },
    {
     "name": "stdout",
     "output_type": "stream",
     "text": [
      "processing index num : 3540695\r"
     ]
    },
    {
     "name": "stderr",
     "output_type": "stream",
     "text": [
      "IOPub message rate exceeded.\n",
      "The notebook server will temporarily stop sending output\n",
      "to the client in order to avoid crashing it.\n",
      "To change this limit, set the config variable\n",
      "`--NotebookApp.iopub_msg_rate_limit`.\n",
      "\n",
      "Current values:\n",
      "NotebookApp.iopub_msg_rate_limit=1000.0 (msgs/sec)\n",
      "NotebookApp.rate_limit_window=3.0 (secs)\n",
      "\n"
     ]
    },
    {
     "name": "stdout",
     "output_type": "stream",
     "text": [
      "processing index num : 3551724\r"
     ]
    },
    {
     "name": "stderr",
     "output_type": "stream",
     "text": [
      "IOPub message rate exceeded.\n",
      "The notebook server will temporarily stop sending output\n",
      "to the client in order to avoid crashing it.\n",
      "To change this limit, set the config variable\n",
      "`--NotebookApp.iopub_msg_rate_limit`.\n",
      "\n",
      "Current values:\n",
      "NotebookApp.iopub_msg_rate_limit=1000.0 (msgs/sec)\n",
      "NotebookApp.rate_limit_window=3.0 (secs)\n",
      "\n"
     ]
    },
    {
     "name": "stdout",
     "output_type": "stream",
     "text": [
      "processing index num : 3559046\r"
     ]
    },
    {
     "name": "stderr",
     "output_type": "stream",
     "text": [
      "IOPub message rate exceeded.\n",
      "The notebook server will temporarily stop sending output\n",
      "to the client in order to avoid crashing it.\n",
      "To change this limit, set the config variable\n",
      "`--NotebookApp.iopub_msg_rate_limit`.\n",
      "\n",
      "Current values:\n",
      "NotebookApp.iopub_msg_rate_limit=1000.0 (msgs/sec)\n",
      "NotebookApp.rate_limit_window=3.0 (secs)\n",
      "\n"
     ]
    },
    {
     "name": "stdout",
     "output_type": "stream",
     "text": [
      "processing index num : 3570659\r"
     ]
    },
    {
     "name": "stderr",
     "output_type": "stream",
     "text": [
      "IOPub message rate exceeded.\n",
      "The notebook server will temporarily stop sending output\n",
      "to the client in order to avoid crashing it.\n",
      "To change this limit, set the config variable\n",
      "`--NotebookApp.iopub_msg_rate_limit`.\n",
      "\n",
      "Current values:\n",
      "NotebookApp.iopub_msg_rate_limit=1000.0 (msgs/sec)\n",
      "NotebookApp.rate_limit_window=3.0 (secs)\n",
      "\n"
     ]
    },
    {
     "name": "stdout",
     "output_type": "stream",
     "text": [
      "processing index num : 3582792\r"
     ]
    },
    {
     "name": "stderr",
     "output_type": "stream",
     "text": [
      "IOPub message rate exceeded.\n",
      "The notebook server will temporarily stop sending output\n",
      "to the client in order to avoid crashing it.\n",
      "To change this limit, set the config variable\n",
      "`--NotebookApp.iopub_msg_rate_limit`.\n",
      "\n",
      "Current values:\n",
      "NotebookApp.iopub_msg_rate_limit=1000.0 (msgs/sec)\n",
      "NotebookApp.rate_limit_window=3.0 (secs)\n",
      "\n"
     ]
    },
    {
     "name": "stdout",
     "output_type": "stream",
     "text": [
      "processing index num : 3594121\r"
     ]
    },
    {
     "name": "stderr",
     "output_type": "stream",
     "text": [
      "IOPub message rate exceeded.\n",
      "The notebook server will temporarily stop sending output\n",
      "to the client in order to avoid crashing it.\n",
      "To change this limit, set the config variable\n",
      "`--NotebookApp.iopub_msg_rate_limit`.\n",
      "\n",
      "Current values:\n",
      "NotebookApp.iopub_msg_rate_limit=1000.0 (msgs/sec)\n",
      "NotebookApp.rate_limit_window=3.0 (secs)\n",
      "\n"
     ]
    },
    {
     "name": "stdout",
     "output_type": "stream",
     "text": [
      "processing index num : 3604283\r"
     ]
    },
    {
     "name": "stderr",
     "output_type": "stream",
     "text": [
      "IOPub message rate exceeded.\n",
      "The notebook server will temporarily stop sending output\n",
      "to the client in order to avoid crashing it.\n",
      "To change this limit, set the config variable\n",
      "`--NotebookApp.iopub_msg_rate_limit`.\n",
      "\n",
      "Current values:\n",
      "NotebookApp.iopub_msg_rate_limit=1000.0 (msgs/sec)\n",
      "NotebookApp.rate_limit_window=3.0 (secs)\n",
      "\n"
     ]
    },
    {
     "name": "stdout",
     "output_type": "stream",
     "text": [
      "processing index num : 3614403\r"
     ]
    },
    {
     "name": "stderr",
     "output_type": "stream",
     "text": [
      "IOPub message rate exceeded.\n",
      "The notebook server will temporarily stop sending output\n",
      "to the client in order to avoid crashing it.\n",
      "To change this limit, set the config variable\n",
      "`--NotebookApp.iopub_msg_rate_limit`.\n",
      "\n",
      "Current values:\n",
      "NotebookApp.iopub_msg_rate_limit=1000.0 (msgs/sec)\n",
      "NotebookApp.rate_limit_window=3.0 (secs)\n",
      "\n"
     ]
    },
    {
     "name": "stdout",
     "output_type": "stream",
     "text": [
      "processing index num : 3628513\r"
     ]
    },
    {
     "name": "stderr",
     "output_type": "stream",
     "text": [
      "IOPub message rate exceeded.\n",
      "The notebook server will temporarily stop sending output\n",
      "to the client in order to avoid crashing it.\n",
      "To change this limit, set the config variable\n",
      "`--NotebookApp.iopub_msg_rate_limit`.\n",
      "\n",
      "Current values:\n",
      "NotebookApp.iopub_msg_rate_limit=1000.0 (msgs/sec)\n",
      "NotebookApp.rate_limit_window=3.0 (secs)\n",
      "\n"
     ]
    },
    {
     "name": "stdout",
     "output_type": "stream",
     "text": [
      "processing index num : 3639062\r"
     ]
    },
    {
     "name": "stderr",
     "output_type": "stream",
     "text": [
      "IOPub message rate exceeded.\n",
      "The notebook server will temporarily stop sending output\n",
      "to the client in order to avoid crashing it.\n",
      "To change this limit, set the config variable\n",
      "`--NotebookApp.iopub_msg_rate_limit`.\n",
      "\n",
      "Current values:\n",
      "NotebookApp.iopub_msg_rate_limit=1000.0 (msgs/sec)\n",
      "NotebookApp.rate_limit_window=3.0 (secs)\n",
      "\n"
     ]
    },
    {
     "name": "stdout",
     "output_type": "stream",
     "text": [
      "processing index num : 3649782processing index num : 3647983\r"
     ]
    },
    {
     "name": "stderr",
     "output_type": "stream",
     "text": [
      "IOPub message rate exceeded.\n",
      "The notebook server will temporarily stop sending output\n",
      "to the client in order to avoid crashing it.\n",
      "To change this limit, set the config variable\n",
      "`--NotebookApp.iopub_msg_rate_limit`.\n",
      "\n",
      "Current values:\n",
      "NotebookApp.iopub_msg_rate_limit=1000.0 (msgs/sec)\n",
      "NotebookApp.rate_limit_window=3.0 (secs)\n",
      "\n"
     ]
    },
    {
     "name": "stdout",
     "output_type": "stream",
     "text": [
      "processing index num : 3661063\r"
     ]
    },
    {
     "name": "stderr",
     "output_type": "stream",
     "text": [
      "IOPub message rate exceeded.\n",
      "The notebook server will temporarily stop sending output\n",
      "to the client in order to avoid crashing it.\n",
      "To change this limit, set the config variable\n",
      "`--NotebookApp.iopub_msg_rate_limit`.\n",
      "\n",
      "Current values:\n",
      "NotebookApp.iopub_msg_rate_limit=1000.0 (msgs/sec)\n",
      "NotebookApp.rate_limit_window=3.0 (secs)\n",
      "\n"
     ]
    },
    {
     "name": "stdout",
     "output_type": "stream",
     "text": [
      "processing index num : 3669324\r"
     ]
    },
    {
     "name": "stderr",
     "output_type": "stream",
     "text": [
      "IOPub message rate exceeded.\n",
      "The notebook server will temporarily stop sending output\n",
      "to the client in order to avoid crashing it.\n",
      "To change this limit, set the config variable\n",
      "`--NotebookApp.iopub_msg_rate_limit`.\n",
      "\n",
      "Current values:\n",
      "NotebookApp.iopub_msg_rate_limit=1000.0 (msgs/sec)\n",
      "NotebookApp.rate_limit_window=3.0 (secs)\n",
      "\n"
     ]
    },
    {
     "name": "stdout",
     "output_type": "stream",
     "text": [
      "processing index num : 3679331\r"
     ]
    },
    {
     "name": "stderr",
     "output_type": "stream",
     "text": [
      "IOPub message rate exceeded.\n",
      "The notebook server will temporarily stop sending output\n",
      "to the client in order to avoid crashing it.\n",
      "To change this limit, set the config variable\n",
      "`--NotebookApp.iopub_msg_rate_limit`.\n",
      "\n",
      "Current values:\n",
      "NotebookApp.iopub_msg_rate_limit=1000.0 (msgs/sec)\n",
      "NotebookApp.rate_limit_window=3.0 (secs)\n",
      "\n"
     ]
    },
    {
     "name": "stdout",
     "output_type": "stream",
     "text": [
      "processing index num : 3691029\r"
     ]
    },
    {
     "name": "stderr",
     "output_type": "stream",
     "text": [
      "IOPub message rate exceeded.\n",
      "The notebook server will temporarily stop sending output\n",
      "to the client in order to avoid crashing it.\n",
      "To change this limit, set the config variable\n",
      "`--NotebookApp.iopub_msg_rate_limit`.\n",
      "\n",
      "Current values:\n",
      "NotebookApp.iopub_msg_rate_limit=1000.0 (msgs/sec)\n",
      "NotebookApp.rate_limit_window=3.0 (secs)\n",
      "\n"
     ]
    },
    {
     "name": "stdout",
     "output_type": "stream",
     "text": [
      "processing index num : 3702002\r"
     ]
    },
    {
     "name": "stderr",
     "output_type": "stream",
     "text": [
      "IOPub message rate exceeded.\n",
      "The notebook server will temporarily stop sending output\n",
      "to the client in order to avoid crashing it.\n",
      "To change this limit, set the config variable\n",
      "`--NotebookApp.iopub_msg_rate_limit`.\n",
      "\n",
      "Current values:\n",
      "NotebookApp.iopub_msg_rate_limit=1000.0 (msgs/sec)\n",
      "NotebookApp.rate_limit_window=3.0 (secs)\n",
      "\n"
     ]
    },
    {
     "name": "stdout",
     "output_type": "stream",
     "text": [
      "processing index num : 3713359\r"
     ]
    },
    {
     "name": "stderr",
     "output_type": "stream",
     "text": [
      "IOPub message rate exceeded.\n",
      "The notebook server will temporarily stop sending output\n",
      "to the client in order to avoid crashing it.\n",
      "To change this limit, set the config variable\n",
      "`--NotebookApp.iopub_msg_rate_limit`.\n",
      "\n",
      "Current values:\n",
      "NotebookApp.iopub_msg_rate_limit=1000.0 (msgs/sec)\n",
      "NotebookApp.rate_limit_window=3.0 (secs)\n",
      "\n"
     ]
    },
    {
     "name": "stdout",
     "output_type": "stream",
     "text": [
      "processing index num : 3724075\r"
     ]
    },
    {
     "name": "stderr",
     "output_type": "stream",
     "text": [
      "IOPub message rate exceeded.\n",
      "The notebook server will temporarily stop sending output\n",
      "to the client in order to avoid crashing it.\n",
      "To change this limit, set the config variable\n",
      "`--NotebookApp.iopub_msg_rate_limit`.\n",
      "\n",
      "Current values:\n",
      "NotebookApp.iopub_msg_rate_limit=1000.0 (msgs/sec)\n",
      "NotebookApp.rate_limit_window=3.0 (secs)\n",
      "\n"
     ]
    },
    {
     "name": "stdout",
     "output_type": "stream",
     "text": [
      "processing index num : 3734988\r"
     ]
    },
    {
     "name": "stderr",
     "output_type": "stream",
     "text": [
      "IOPub message rate exceeded.\n",
      "The notebook server will temporarily stop sending output\n",
      "to the client in order to avoid crashing it.\n",
      "To change this limit, set the config variable\n",
      "`--NotebookApp.iopub_msg_rate_limit`.\n",
      "\n",
      "Current values:\n",
      "NotebookApp.iopub_msg_rate_limit=1000.0 (msgs/sec)\n",
      "NotebookApp.rate_limit_window=3.0 (secs)\n",
      "\n"
     ]
    },
    {
     "name": "stdout",
     "output_type": "stream",
     "text": [
      "processing index num : 3745849\r"
     ]
    },
    {
     "name": "stderr",
     "output_type": "stream",
     "text": [
      "IOPub message rate exceeded.\n",
      "The notebook server will temporarily stop sending output\n",
      "to the client in order to avoid crashing it.\n",
      "To change this limit, set the config variable\n",
      "`--NotebookApp.iopub_msg_rate_limit`.\n",
      "\n",
      "Current values:\n",
      "NotebookApp.iopub_msg_rate_limit=1000.0 (msgs/sec)\n",
      "NotebookApp.rate_limit_window=3.0 (secs)\n",
      "\n"
     ]
    },
    {
     "name": "stdout",
     "output_type": "stream",
     "text": [
      "processing index num : 3756877processing index num : 3753107\r"
     ]
    },
    {
     "name": "stderr",
     "output_type": "stream",
     "text": [
      "IOPub message rate exceeded.\n",
      "The notebook server will temporarily stop sending output\n",
      "to the client in order to avoid crashing it.\n",
      "To change this limit, set the config variable\n",
      "`--NotebookApp.iopub_msg_rate_limit`.\n",
      "\n",
      "Current values:\n",
      "NotebookApp.iopub_msg_rate_limit=1000.0 (msgs/sec)\n",
      "NotebookApp.rate_limit_window=3.0 (secs)\n",
      "\n"
     ]
    },
    {
     "name": "stdout",
     "output_type": "stream",
     "text": [
      "processing index num : 3768552\r"
     ]
    },
    {
     "name": "stderr",
     "output_type": "stream",
     "text": [
      "IOPub message rate exceeded.\n",
      "The notebook server will temporarily stop sending output\n",
      "to the client in order to avoid crashing it.\n",
      "To change this limit, set the config variable\n",
      "`--NotebookApp.iopub_msg_rate_limit`.\n",
      "\n",
      "Current values:\n",
      "NotebookApp.iopub_msg_rate_limit=1000.0 (msgs/sec)\n",
      "NotebookApp.rate_limit_window=3.0 (secs)\n",
      "\n"
     ]
    },
    {
     "name": "stdout",
     "output_type": "stream",
     "text": [
      "processing index num : 3780432\r"
     ]
    },
    {
     "name": "stderr",
     "output_type": "stream",
     "text": [
      "IOPub message rate exceeded.\n",
      "The notebook server will temporarily stop sending output\n",
      "to the client in order to avoid crashing it.\n",
      "To change this limit, set the config variable\n",
      "`--NotebookApp.iopub_msg_rate_limit`.\n",
      "\n",
      "Current values:\n",
      "NotebookApp.iopub_msg_rate_limit=1000.0 (msgs/sec)\n",
      "NotebookApp.rate_limit_window=3.0 (secs)\n",
      "\n"
     ]
    },
    {
     "name": "stdout",
     "output_type": "stream",
     "text": [
      "processing index num : 3790900\r"
     ]
    },
    {
     "name": "stderr",
     "output_type": "stream",
     "text": [
      "IOPub message rate exceeded.\n",
      "The notebook server will temporarily stop sending output\n",
      "to the client in order to avoid crashing it.\n",
      "To change this limit, set the config variable\n",
      "`--NotebookApp.iopub_msg_rate_limit`.\n",
      "\n",
      "Current values:\n",
      "NotebookApp.iopub_msg_rate_limit=1000.0 (msgs/sec)\n",
      "NotebookApp.rate_limit_window=3.0 (secs)\n",
      "\n"
     ]
    },
    {
     "name": "stdout",
     "output_type": "stream",
     "text": [
      "processing index num : 3801699\r"
     ]
    },
    {
     "name": "stderr",
     "output_type": "stream",
     "text": [
      "IOPub message rate exceeded.\n",
      "The notebook server will temporarily stop sending output\n",
      "to the client in order to avoid crashing it.\n",
      "To change this limit, set the config variable\n",
      "`--NotebookApp.iopub_msg_rate_limit`.\n",
      "\n",
      "Current values:\n",
      "NotebookApp.iopub_msg_rate_limit=1000.0 (msgs/sec)\n",
      "NotebookApp.rate_limit_window=3.0 (secs)\n",
      "\n"
     ]
    },
    {
     "name": "stdout",
     "output_type": "stream",
     "text": [
      "processing index num : 3811449\r"
     ]
    },
    {
     "name": "stderr",
     "output_type": "stream",
     "text": [
      "IOPub message rate exceeded.\n",
      "The notebook server will temporarily stop sending output\n",
      "to the client in order to avoid crashing it.\n",
      "To change this limit, set the config variable\n",
      "`--NotebookApp.iopub_msg_rate_limit`.\n",
      "\n",
      "Current values:\n",
      "NotebookApp.iopub_msg_rate_limit=1000.0 (msgs/sec)\n",
      "NotebookApp.rate_limit_window=3.0 (secs)\n",
      "\n"
     ]
    },
    {
     "name": "stdout",
     "output_type": "stream",
     "text": [
      "processing index num : 3818963\r"
     ]
    },
    {
     "name": "stderr",
     "output_type": "stream",
     "text": [
      "IOPub message rate exceeded.\n",
      "The notebook server will temporarily stop sending output\n",
      "to the client in order to avoid crashing it.\n",
      "To change this limit, set the config variable\n",
      "`--NotebookApp.iopub_msg_rate_limit`.\n",
      "\n",
      "Current values:\n",
      "NotebookApp.iopub_msg_rate_limit=1000.0 (msgs/sec)\n",
      "NotebookApp.rate_limit_window=3.0 (secs)\n",
      "\n"
     ]
    },
    {
     "name": "stdout",
     "output_type": "stream",
     "text": [
      "processing index num : 3834360\r"
     ]
    },
    {
     "name": "stderr",
     "output_type": "stream",
     "text": [
      "IOPub message rate exceeded.\n",
      "The notebook server will temporarily stop sending output\n",
      "to the client in order to avoid crashing it.\n",
      "To change this limit, set the config variable\n",
      "`--NotebookApp.iopub_msg_rate_limit`.\n",
      "\n",
      "Current values:\n",
      "NotebookApp.iopub_msg_rate_limit=1000.0 (msgs/sec)\n",
      "NotebookApp.rate_limit_window=3.0 (secs)\n",
      "\n"
     ]
    },
    {
     "name": "stdout",
     "output_type": "stream",
     "text": [
      "processing index num : 3844536\r"
     ]
    },
    {
     "name": "stderr",
     "output_type": "stream",
     "text": [
      "IOPub message rate exceeded.\n",
      "The notebook server will temporarily stop sending output\n",
      "to the client in order to avoid crashing it.\n",
      "To change this limit, set the config variable\n",
      "`--NotebookApp.iopub_msg_rate_limit`.\n",
      "\n",
      "Current values:\n",
      "NotebookApp.iopub_msg_rate_limit=1000.0 (msgs/sec)\n",
      "NotebookApp.rate_limit_window=3.0 (secs)\n",
      "\n"
     ]
    },
    {
     "name": "stdout",
     "output_type": "stream",
     "text": [
      "processing index num : 3852108\r"
     ]
    },
    {
     "name": "stderr",
     "output_type": "stream",
     "text": [
      "IOPub message rate exceeded.\n",
      "The notebook server will temporarily stop sending output\n",
      "to the client in order to avoid crashing it.\n",
      "To change this limit, set the config variable\n",
      "`--NotebookApp.iopub_msg_rate_limit`.\n",
      "\n",
      "Current values:\n",
      "NotebookApp.iopub_msg_rate_limit=1000.0 (msgs/sec)\n",
      "NotebookApp.rate_limit_window=3.0 (secs)\n",
      "\n"
     ]
    },
    {
     "name": "stdout",
     "output_type": "stream",
     "text": [
      "processing index num : 3863798\r"
     ]
    },
    {
     "name": "stderr",
     "output_type": "stream",
     "text": [
      "IOPub message rate exceeded.\n",
      "The notebook server will temporarily stop sending output\n",
      "to the client in order to avoid crashing it.\n",
      "To change this limit, set the config variable\n",
      "`--NotebookApp.iopub_msg_rate_limit`.\n",
      "\n",
      "Current values:\n",
      "NotebookApp.iopub_msg_rate_limit=1000.0 (msgs/sec)\n",
      "NotebookApp.rate_limit_window=3.0 (secs)\n",
      "\n"
     ]
    },
    {
     "name": "stdout",
     "output_type": "stream",
     "text": [
      "processing index num : 3873980\r"
     ]
    },
    {
     "name": "stderr",
     "output_type": "stream",
     "text": [
      "IOPub message rate exceeded.\n",
      "The notebook server will temporarily stop sending output\n",
      "to the client in order to avoid crashing it.\n",
      "To change this limit, set the config variable\n",
      "`--NotebookApp.iopub_msg_rate_limit`.\n",
      "\n",
      "Current values:\n",
      "NotebookApp.iopub_msg_rate_limit=1000.0 (msgs/sec)\n",
      "NotebookApp.rate_limit_window=3.0 (secs)\n",
      "\n"
     ]
    }
   ],
   "source": [
    "# mecab_tokenize('./vocab_file.txt')\n",
    "mecab_tokenize_sejin(FULL_WORD_TEMP)"
   ]
  },
  {
   "cell_type": "markdown",
   "metadata": {},
   "source": [
    "## mecab 완료된 vocab read and 중복제거"
   ]
  },
  {
   "cell_type": "code",
   "execution_count": 18,
   "metadata": {},
   "outputs": [],
   "source": [
    "f2 = open(DUPLICATED_TEMP, 'r')\n",
    "vocabs = f2.readlines()"
   ]
  },
  {
   "cell_type": "code",
   "execution_count": 19,
   "metadata": {},
   "outputs": [
    {
     "name": "stdout",
     "output_type": "stream",
     "text": [
      "['차수벽\\n', '##으로\\n', '헌법\\n', '##국가\\n', '##에서\\n', '남강\\n', '##유역\\n', '해양\\n', '##에서\\n', '##식\\n', '##하\\n', '##는\\n', '설\\n', '##페이트\\n', '어려우\\n', '##진다\\n', '체계\\n', '##하\\n', '##는\\n', '전력\\n', '##결합\\n', '##을\\n', '비\\n', '##개착\\n', '##식\\n', '윤택림\\n', '민간\\n', '##사업체\\n', '자원\\n', '##절약\\n', '##이\\n', '##라\\n', '편목\\n', '##업무\\n', '하천\\n', '##건천\\n', '##화\\n', '##를\\n', '증거\\n', '##이\\n', '##외의\\n', '옥살산\\n', '##보다\\n', '미술\\n', '##교사\\n', '##에\\n', '과잉\\n', '##률\\n', '##이\\n', '조정\\n', '##날개\\n', '이것저것\\n', '##이\\n', '연속\\n', '##자기장\\n', '##으로\\n', '가뭄\\n', '##저항성\\n', '##벼\\n', '##의\\n', '패인\\n', '##기금\\n', '##연구\\n', '##는\\n', '어떡\\n', '##해서\\n', '지났\\n', '##으므로\\n', '폐\\n', '##목질\\n', '##계\\n', '연구\\n', '##운동\\n', '비\\n', '##의도\\n', '##적\\n', '##으로\\n', '우월\\n', '##하\\n', '##게\\n', '가족\\n', '##생애\\n', '##과정\\n', '##에\\n', '물표\\n', '수문\\n', '##변화\\n', '##지표\\n', '##법\\n', '##을\\n', '태교\\n', '##정보\\n', '보행\\n', '##조사\\n', '##는\\n', '유효\\n', '##강수량\\n', '##으로\\n', '위성\\n', '##데이터\\n']\n",
      "\n",
      "Mecab으로 만들어진 단어 개수 : 11527295\n"
     ]
    }
   ],
   "source": [
    "print(vocabs[:100])\n",
    "print(\"\\nMecab으로 만들어진 단어 개수 : {}\".format(len(vocabs)))"
   ]
  },
  {
   "cell_type": "code",
   "execution_count": 20,
   "metadata": {},
   "outputs": [
    {
     "name": "stdout",
     "output_type": "stream",
     "text": [
      "만들어진 vocab size : 11527295, 중복 제거한 vocab size : 244945\n"
     ]
    }
   ],
   "source": [
    "duplicate_vocab = set(vocabs)\n",
    "print(\"만들어진 vocab size : {}, 중복 제거한 vocab size : {}\".format(len(vocabs), len(duplicate_vocab)))"
   ]
  },
  {
   "cell_type": "code",
   "execution_count": 22,
   "metadata": {},
   "outputs": [
    {
     "data": {
      "text/plain": [
       "[('였', 'EP')]"
      ]
     },
     "execution_count": 22,
     "metadata": {},
     "output_type": "execute_result"
    }
   ],
   "source": [
    "tokenizer.pos('였')"
   ]
  },
  {
   "cell_type": "markdown",
   "metadata": {},
   "source": [
    "# 중복제거한 vocab 저장"
   ]
  },
  {
   "cell_type": "code",
   "execution_count": 23,
   "metadata": {},
   "outputs": [],
   "source": [
    "f=open(MECAB_VOCAB_KO_PATH, 'w')\n",
    "for v in duplicate_vocab:\n",
    "    f.write(v)\n",
    "f.close()"
   ]
  },
  {
   "cell_type": "code",
   "execution_count": 7,
   "metadata": {},
   "outputs": [
    {
     "name": "stdout",
     "output_type": "stream",
     "text": [
      "244945\n"
     ]
    }
   ],
   "source": [
    "f=open(MECAB_VOCAB_KO_PATH, 'r')\n",
    "t=f.readlines()\n",
    "f.close\n",
    "print(len(t))"
   ]
  },
  {
   "cell_type": "code",
   "execution_count": 8,
   "metadata": {},
   "outputs": [
    {
     "name": "stdout",
     "output_type": "stream",
     "text": [
      "244945\n"
     ]
    }
   ],
   "source": [
    "# kernel 동작 끊겼을때\n",
    "duplicate_vocab = []\n",
    "for d in t:\n",
    "    duplicate_vocab.append(d)\n",
    "print(len(duplicate_vocab))"
   ]
  },
  {
   "cell_type": "code",
   "execution_count": 9,
   "metadata": {},
   "outputs": [],
   "source": [
    "voca_len = []\n",
    "for i,d in enumerate(duplicate_vocab):\n",
    "    voca_len.append((i,len(d)))"
   ]
  },
  {
   "cell_type": "code",
   "execution_count": 10,
   "metadata": {},
   "outputs": [],
   "source": [
    "sort_voca = sorted(voca_len, key = lambda x : x[1])"
   ]
  },
  {
   "cell_type": "code",
   "execution_count": 11,
   "metadata": {},
   "outputs": [],
   "source": [
    "new_voca = []\n",
    "kk = list(duplicate_vocab)\n",
    "for d in sort_voca:\n",
    "    new_voca.append(kk[d[0]])"
   ]
  },
  {
   "cell_type": "code",
   "execution_count": 12,
   "metadata": {
    "scrolled": true
   },
   "outputs": [
    {
     "data": {
      "text/plain": [
       "'휄든크라이스로부터\\n'"
      ]
     },
     "execution_count": 12,
     "metadata": {},
     "output_type": "execute_result"
    }
   ],
   "source": [
    "new_voca[-200]"
   ]
  },
  {
   "cell_type": "code",
   "execution_count": 32,
   "metadata": {},
   "outputs": [],
   "source": [
    "g = open('only_paper_data/sorted_vocab_mecab_ko_sejin.txt', 'w')\n",
    "for d in new_voca:\n",
    "    g.write(d)\n",
    "g.close()"
   ]
  },
  {
   "cell_type": "markdown",
   "metadata": {},
   "source": [
    "## 정렬된 단어 사전으로 뒤에서부터 형태소분석 안된 애들 확인"
   ]
  },
  {
   "cell_type": "code",
   "execution_count": 160,
   "metadata": {},
   "outputs": [
    {
     "data": {
      "text/plain": [
       "'##떻게변화하는지에대하여프로세스모델링상용프로그램인\\n'"
      ]
     },
     "execution_count": 160,
     "metadata": {},
     "output_type": "execute_result"
    }
   ],
   "source": [
    "# 정렬된 다너사전\n",
    "new_voca[-40]\n",
    "len(new_voca)\n",
    "new_voca[-1]"
   ]
  },
  {
   "cell_type": "code",
   "execution_count": null,
   "metadata": {},
   "outputs": [],
   "source": []
  },
  {
   "cell_type": "code",
   "execution_count": 148,
   "metadata": {},
   "outputs": [],
   "source": [
    "from hanspell import spell_checker"
   ]
  },
  {
   "cell_type": "code",
   "execution_count": 154,
   "metadata": {
    "scrolled": true
   },
   "outputs": [
    {
     "name": "stdout",
     "output_type": "stream",
     "text": [
      "21766\n",
      "completeng index num : 20000\n"
     ]
    }
   ],
   "source": [
    "print(len(words))\n",
    "output_tokens = []\n",
    "num = 0\n",
    "flag = 0\n",
    "count2 = 0\n",
    "\n",
    "for wst in new_voca[-20000:]:   # wst : 공백,탭,엔터 기준 문자열 하나\n",
    "    count = 0\n",
    "    count2 = 0\n",
    "    if wst in 'ㄱㄴㄷㄹㅁㅂㅅㅇㅈㅊㅋㅌㅍㅎㄲㄸㅃㅆㅉㄳㄵㄶㄺㄻㄼㄽㄾㄿㅀㅄ': continue\n",
    "    if wst in 'ㅏㅑㅓㅕㅗㅛㅜㅠㅡㅣㅐㅒㅔㅖㅘㅙㅚㅝㅞㅟㅢ': continue\n",
    "    if wst[:2] == \"##\":\n",
    "        wst = wst[2:]\n",
    "        flag = 1\n",
    "    else:\n",
    "        result = spell_checker.check(wst)\n",
    "        line = result.as_dict()['checked'].split(\" \")\n",
    "        for item in line:\n",
    "            try:\n",
    "                for token in tokenizer.morphs(item):\n",
    "                    tk = token\n",
    "                    if count > 0:\n",
    "                        output_tokens.append(tk)\n",
    "                        tk = \"##\" + tk\n",
    "                        output_tokens.append(tk)\n",
    "                    else:\n",
    "                        if flag == 1:\n",
    "                            output_tokens.append(\"##\"+tk)\n",
    "                            flag = 0\n",
    "                        else:\n",
    "                            output_tokens.append(tk)\n",
    "                        count += 1\n",
    "\n",
    "            except Exception as e:\n",
    "                print(e)\n",
    "\n",
    "    num += 1\n",
    "    print(\"processing index num : {}\".format(num), end='\\r',flush=True)\n",
    "\n",
    "print(\"complete\")\n",
    "#     del output_tokens"
   ]
  },
  {
   "cell_type": "code",
   "execution_count": 155,
   "metadata": {},
   "outputs": [
    {
     "name": "stdout",
     "output_type": "stream",
     "text": [
      "6397\n"
     ]
    }
   ],
   "source": [
    "print(len(output_tokens))"
   ]
  },
  {
   "cell_type": "code",
   "execution_count": 159,
   "metadata": {},
   "outputs": [
    {
     "data": {
      "text/plain": [
       "['##소아',\n",
       " '밀알',\n",
       " '##밀알',\n",
       " '코',\n",
       " '##코',\n",
       " '올',\n",
       " '##올',\n",
       " '나이트로글리세린',\n",
       " '##구로디지털단지역',\n",
       " '##수염치레각날도래',\n",
       " '##뺷정보정책서비스',\n",
       " '##카시오페이아자리',\n",
       " '##글리벤클라마이드',\n",
       " '##순양거미불가사리',\n",
       " '##한국',\n",
       " '여성',\n",
       " '##여성',\n",
       " '단체',\n",
       " '##단체',\n",
       " '연합',\n",
       " '##연합',\n",
       " '##큰도둑놈의갈고리',\n",
       " '애기물꽈리아재비',\n",
       " '##엘자',\n",
       " '스키',\n",
       " '##스키',\n",
       " '아파',\n",
       " '##아파',\n",
       " '렐',\n",
       " '##렐',\n",
       " '리',\n",
       " '##리',\n",
       " '##글리세르알데히드',\n",
       " '공공자금관리기금',\n",
       " '##중국얼룩날개모기',\n",
       " '##사우스',\n",
       " '캐롤라이나',\n",
       " '##캐롤라이나',\n",
       " '##트랜스아미나아제',\n",
       " '##파라포름알데히드',\n",
       " '##스타니슬라프스키',\n",
       " '##페난트로닌제일철',\n",
       " '##부에노스아이레스',\n",
       " '##웨스트버지니아주',\n",
       " '##연변조선족자치주',\n",
       " '##니트로셀룰로오스',\n",
       " '##한국교육방송공사',\n",
       " '##이소프로필알코올',\n",
       " '트리클로로에틸렌',\n",
       " '##대한',\n",
       " '무역',\n",
       " '##무역',\n",
       " '진흥',\n",
       " '##진흥',\n",
       " '공사',\n",
       " '##공사',\n",
       " '##소프트아이스크림',\n",
       " '뺷증수임영지뺸의',\n",
       " '##교수',\n",
       " '학습',\n",
       " '##학습',\n",
       " '개발',\n",
       " '##개발',\n",
       " '센터',\n",
       " '##센터',\n",
       " '##바위족제비고사리',\n",
       " '프랑크푸르트학파',\n",
       " '##양배추가루진딧물',\n",
       " '##휄든크라이스기법',\n",
       " '##마이크로프로세서',\n",
       " '##과학',\n",
       " '기술',\n",
       " '##기술',\n",
       " '진흥',\n",
       " '##진흥',\n",
       " '기금',\n",
       " '##기금',\n",
       " '##노이브란덴부르크',\n",
       " '##좁',\n",
       " '은',\n",
       " '##은',\n",
       " '잎',\n",
       " '##잎',\n",
       " '보리장나무',\n",
       " '##보리장나무',\n",
       " '##층층갈고리둥굴레',\n",
       " '##노스캐롤라이나주',\n",
       " '##페로',\n",
       " '소이',\n",
       " '##소이',\n",
       " '황산칼륨',\n",
       " '##황산칼륨',\n",
       " '상트페테르부르크',\n",
       " '##크라스노야르스크',\n",
       " '##미나스제라이스주',\n",
       " '##투명',\n",
       " '사회',\n",
       " '##사회',\n",
       " '운동',\n",
       " '##운동',\n",
       " '본부',\n",
       " '##본부',\n",
       " '##뺷증보어제궁궐지뺸',\n",
       " '뺷학습지도요령뺸에',\n",
       " '주둥무늬차색풍뎅이',\n",
       " '슐레스비히홀슈타인',\n",
       " '##톻합보안결재시스템',\n",
       " '##트리클로로아세트산',\n",
       " '##휄든크라이스방식의',\n",
       " '##카르복시헤모글로빈',\n",
       " '##폴리아크릴로니트릴',\n",
       " '##테트라클로로에틸렌',\n",
       " '##휄든크라이스로부터',\n",
       " '트라이글리세라이드',\n",
       " '##아미노글리코사이드',\n",
       " '비주얼커뮤니케이션',\n",
       " '뺷국가직무능력표준',\n",
       " '##아스코르브산나트륨',\n",
       " '수풀떠들썩팔랑나비',\n",
       " '헥사메틸렌테트라민',\n",
       " '##헵타',\n",
       " '프로',\n",
       " '##프로',\n",
       " '로',\n",
       " '##로',\n",
       " '부티르산',\n",
       " '##부티르산',\n",
       " '##로드아일랜드레드종',\n",
       " '브리티시컬럼비아주',\n",
       " '##코르티코스테로이드',\n",
       " '뺷업무매뉴얼뺸에는',\n",
       " '##셀룰로스아세테이트',\n",
       " '괄적경제동반자협정',\n",
       " '오스트랄로피테쿠스',\n",
       " '##김대중컨벤션센터역',\n",
       " '##아리스토텔레스학파',\n",
       " '##아랍에미리트연합국',\n",
       " '##옥시테트라사이클린',\n",
       " '##프랑스령폴리네시아',\n",
       " '##글리세르알데하이드',\n",
       " '##디지털미디어시티역',\n",
       " '##미나모토노요리토모',\n",
       " '뭉흐오츠럴에덴바트',\n",
       " '##가는잎족제비고사리',\n",
       " '글루코코르티코이드',\n",
       " '헵타',\n",
       " '프로',\n",
       " '##프로',\n",
       " '로',\n",
       " '##로',\n",
       " '부티르산',\n",
       " '##부티르산',\n",
       " '을',\n",
       " '##을',\n",
       " '##뺷신증동국여지승람뺸',\n",
       " '켑타이어케이블에서의',\n",
       " '##이십팔점박이무당벌레',\n",
       " '##뺷한국도서관연감뺸에',\n",
       " '트라이',\n",
       " '클로로',\n",
       " '##클로로',\n",
       " '아세트산',\n",
       " '##아세트산',\n",
       " '마이크로일렉트로닉스',\n",
       " '사우스오스트레일리아',\n",
       " '##혼일강리역대국도지도',\n",
       " '##테트라플루오로에틸렌',\n",
       " '##보스니아헤르체고비나',\n",
       " '##트라이',\n",
       " '나이트로',\n",
       " '##나이트로',\n",
       " '톨루엔',\n",
       " '##톨루엔',\n",
       " '##뺷어제열무장방사정기',\n",
       " '칼럼',\n",
       " '크로마토그래피',\n",
       " '##크로마토그래피',\n",
       " '법',\n",
       " '##법',\n",
       " '##폴리아크릴로나이트릴',\n",
       " '##사이안아마이드화칼슘',\n",
       " '가르미슈파르텐키르헨',\n",
       " '##톱다리개미허리노린재',\n",
       " '##뺷일본학교도서관사뺸',\n",
       " '뺷동국이상국집뺸에서도',\n",
       " '뺷신증동국여지승람뺸의',\n",
       " '뺷내원상화임자갱재축뺸',\n",
       " '뺷표준국어대사전뺸에서',\n",
       " '##큰이십팔점박이무당벌레',\n",
       " '##노르트라인베스트팔렌주',\n",
       " '뺷대한예방의학회지뺸에',\n",
       " '##아세틸콜린에스터레이스',\n",
       " '아세틸콜린에스테라아제',\n",
       " '##뺷국립중앙도서관연보뺸에',\n",
       " '뺷한국민족문화대백과뺸와',\n",
       " '뺷한국민족문화대백과뺸를',\n",
       " '##폴리테트라플루오로에틸렌',\n",
       " '뺷한국향토문화전자대전뺸',\n",
       " '##뺷한국향토문화전자대전뺸사업이',\n",
       " '##귓도리져귓도리에엿부다져귓도리']"
      ]
     },
     "execution_count": 159,
     "metadata": {},
     "output_type": "execute_result"
    }
   ],
   "source": [
    "output_tokens[-200:]"
   ]
  },
  {
   "cell_type": "code",
   "execution_count": 157,
   "metadata": {
    "scrolled": true
   },
   "outputs": [],
   "source": [
    "if \"##들기름\" in output_tokens:\n",
    "    print(\"ko\")"
   ]
  },
  {
   "cell_type": "code",
   "execution_count": 81,
   "metadata": {},
   "outputs": [
    {
     "data": {
      "text/plain": [
       "'##목격자\\n'"
      ]
     },
     "execution_count": 81,
     "metadata": {},
     "output_type": "execute_result"
    }
   ],
   "source": [
    "f = open('only_paper_data/sorted_vocab_mecab_ko_sejin.txt', 'r')\n",
    "samples = f.readlines()\n",
    "f.close\n",
    "\n",
    "samples[-20000]\n",
    "# len(samples[:-20001])"
   ]
  },
  {
   "cell_type": "code",
   "execution_count": 82,
   "metadata": {},
   "outputs": [
    {
     "data": {
      "text/plain": [
       "244945"
      ]
     },
     "execution_count": 82,
     "metadata": {},
     "output_type": "execute_result"
    }
   ],
   "source": [
    "new_voca[-20000]\n",
    "len(samples)"
   ]
  },
  {
   "cell_type": "code",
   "execution_count": 83,
   "metadata": {},
   "outputs": [
    {
     "data": {
      "text/plain": [
       "224945"
      ]
     },
     "execution_count": 83,
     "metadata": {},
     "output_type": "execute_result"
    }
   ],
   "source": [
    "samples = samples[:-20000]\n",
    "samples[-1]\n",
    "# new_voca[-20001]\n",
    "len(samples)"
   ]
  },
  {
   "cell_type": "code",
   "execution_count": 84,
   "metadata": {},
   "outputs": [],
   "source": [
    "samples.extend(output_tokens)"
   ]
  },
  {
   "cell_type": "code",
   "execution_count": 85,
   "metadata": {},
   "outputs": [
    {
     "data": {
      "text/plain": [
       "248460"
      ]
     },
     "execution_count": 85,
     "metadata": {},
     "output_type": "execute_result"
    }
   ],
   "source": [
    "len(samples)"
   ]
  },
  {
   "cell_type": "code",
   "execution_count": 93,
   "metadata": {
    "collapsed": true,
    "jupyter": {
     "outputs_hidden": true
    },
    "scrolled": true
   },
   "outputs": [
    {
     "data": {
      "text/plain": [
       "['배준영\\n',\n",
       " '윈터스\\n',\n",
       " '날계란\\n',\n",
       " '색전증\\n',\n",
       " '침윤성\\n',\n",
       " '##숙위\\n',\n",
       " '##렬저항모델의',\n",
       " '##진탕기',\n",
       " '우배\\n',\n",
       " '장석만\\n',\n",
       " '훈계조\\n',\n",
       " '동포자\\n',\n",
       " '간만대\\n',\n",
       " '##도문\\n',\n",
       " '자고\\n',\n",
       " '##복무규정',\n",
       " '##호양\\n',\n",
       " '하태민\\n',\n",
       " '배상돈\\n',\n",
       " '##피시\\n',\n",
       " '개이\\n',\n",
       " '최진이\\n',\n",
       " '김상금\\n',\n",
       " '##칭찬\\n',\n",
       " '철벽\\n',\n",
       " '회절격자\\n',\n",
       " '##우금\\n',\n",
       " '유막\\n',\n",
       " '방수재\\n',\n",
       " '합성곱\\n',\n",
       " '##만근\\n',\n",
       " '헐떡이풀\\n',\n",
       " '청렴도\\n',\n",
       " '백전풍\\n',\n",
       " '##문향\\n',\n",
       " '##렝을\\n',\n",
       " '데이빗\\n',\n",
       " '잡단\\n',\n",
       " '##김병균',\n",
       " '핀켈\\n',\n",
       " '어필\\n',\n",
       " '##환덕\\n',\n",
       " '내덕\\n',\n",
       " '핀테크\\n',\n",
       " '저고도\\n',\n",
       " '조인석\\n',\n",
       " '##광순\\n',\n",
       " '타격력\\n',\n",
       " '##영영\\n',\n",
       " '미래사\\n',\n",
       " '##간접법',\n",
       " '인소\\n',\n",
       " '뜀뛰기\\n',\n",
       " '##드러냈',\n",
       " '현조\\n',\n",
       " '전시',\n",
       " '찬조금\\n',\n",
       " '##미초\\n',\n",
       " '##유의성\\n',\n",
       " '가슴골\\n',\n",
       " '##약후\\n',\n",
       " '최흥순\\n',\n",
       " '막세\\n',\n",
       " '구희연\\n',\n",
       " '류영선\\n',\n",
       " '##방명록\\n',\n",
       " '발열\\n',\n",
       " '갖가지\\n',\n",
       " '##문종\\n',\n",
       " '합해야\\n',\n",
       " '알아챈\\n',\n",
       " '이성애\\n',\n",
       " '##염화나트륨',\n",
       " '이용식\\n',\n",
       " '마주침\\n',\n",
       " '콘택트\\n',\n",
       " '임찬수\\n',\n",
       " '반사색\\n',\n",
       " '##드래프트',\n",
       " '염상태\\n',\n",
       " '동녘\\n',\n",
       " '최명희\\n',\n",
       " '로잔\\n',\n",
       " '##광광\\n',\n",
       " '##성과품',\n",
       " '일으킬까\\n',\n",
       " '##무속\\n',\n",
       " '홍연찬\\n',\n",
       " '토코\\n',\n",
       " '##재산액',\n",
       " '##기름진',\n",
       " '빌라\\n',\n",
       " '툭\\n',\n",
       " '왕이\\n',\n",
       " '벽운\\n',\n",
       " '주야\\n',\n",
       " '##매괴화\\n',\n",
       " '조성란\\n',\n",
       " '##수도꼭지',\n",
       " '연시\\n']"
      ]
     },
     "execution_count": 93,
     "metadata": {},
     "output_type": "execute_result"
    }
   ],
   "source": [
    "duplicated_samples = set(samples)\n",
    "len(duplicated_samples)\n",
    "duplicated_samples=list(duplicated_samples)\n",
    "duplicated_samples[:100]"
   ]
  },
  {
   "cell_type": "code",
   "execution_count": 95,
   "metadata": {},
   "outputs": [
    {
     "name": "stdout",
     "output_type": "stream",
     "text": [
      "['##여서라기보다는', '헥사메틸렌테트라민', '##오방장두루마기', '##한국교육개발원', '##념미타도량참법', '휄든크라이스방식의', '##잎집무늬마름병', '주둥무늬차색풍뎅이', '##큘러스리프트를', '##메틸셀룰로오스', '##름털갯지렁이류', '##사우디아라비아', '##크롬몰리브덴강', '##큘러스리브트를', '옥시테트라사이클린', '##아라비안나이트', '휄든크라이스로부터', '카르복시헤모글로빈', '##큘로바이러스가', '##페셔널리즘과의', '뭉흐오츠럴에덴바트', '##렬비조정방법과', '##테트라사이클린', '폴리아크릴로니트릴', '##국방과학연구소', '##정신문화연구원', '##귑토스인들에게', '로드아일랜드레드종', '##몬모릴로나이트', '##렬인장강도시험을', '뺷일본학교도서관사뺸', '##략산업진흥사업의', '폴리아크릴로나이트릴', '##렬인장강도시험에', '사우스오스트레일리아', '##름터킹스티치러플', '##트리니트로톨루엔', '이십팔점박이무당벌레', '##한국교육방송공사', '가르미슈파르텐키르헨', '혼일강리역대국도지도', '##시베리아잠자리피', '마이크로일렉트로닉스', '켑타이어케이블에서의', '사이안아마이드화칼슘', '테트라플루오로에틸렌', '##큘로바이러스와의', '##므론헬스케어에서', '##렬인장강도시험은', '보스니아헤르체고비나', '뺷한국도서관연감뺸에', '##바이오테크놀로지', '뺷신증동국여지승람뺸', '##렬인장강도실험과', '##켸쥴러를사용하여', '톱다리개미허리노린재', '##렬전단벽시스템의', '##아크릴로나이트릴', '##렬인장강도실험은', '뺷어제열무장방사정기', '##럴웨이스트라인과', '##마이크로프로세서', '##신증동국여지승람', '뺷신증동국여지승람뺸의', '뺷대한예방의학회지뺸에', '##렬인장강도시험으로', '##듐냉각고속원형로인', '##트라이글리세라이드', '##듐레독스흐름전지의', '아세틸콜린에스테라아제', '##옥시테트라사이클린', '아세틸콜린에스터레이스', '큰이십팔점박이무당벌레', '##릎관절치환술환자의', '노르트라인베스트팔렌주', '뺷표준국어대사전뺸에서', '뺷내원상화임자갱재축뺸', '##른스홀드스비크에서', '뺷동국이상국집뺸에서도', '뺷한국민족문화대백과뺸를', '뺷국립중앙도서관연보뺸에', '##략물자수출입통합고시', '뺷한국향토문화전자대전뺸', '##페메린염산염정량법과', '뺷한국민족문화대백과뺸와', '##름다운데이다라보찌와', '폴리테트라플루오로에틸렌', '##슙아스코빌포스페이트', '##듐도데실벤젠설포네이트', '##트리메틸렌트리니트라민', '##볍게문질러구강검체물을', '##념류찬물류과정류찬물류', '##괄간호서비스병동간호사의', '##깅복사이클링복수상스포츠', '뺷한국향토문화전자대전뺸사업이', '귓도리져귓도리에엿부다져귓도리', '##릎운동발목운동손목운동옆구리운동', '##릐쟈른소릐이슬픈소릐제혼자우러녜어', '##뮴제련기술인금속열환원법과전해제련법의공정흐름도', '##떻게변화하는지에대하여프로세스모델링상용프로그램인']\n"
     ]
    }
   ],
   "source": [
    "samples_len = []\n",
    "for i,d in enumerate(duplicated_samples):\n",
    "    samples_len.append((i,len(d)))\n",
    "    \n",
    "sort_samples = sorted(samples_len, key = lambda x : x[1])\n",
    "\n",
    "new_samples = []\n",
    "gg = list(duplicated_samples)\n",
    "for d in sort_samples:\n",
    "    new_samples.append(gg[d[0]])\n",
    "\n",
    "print(new_samples[-100:])"
   ]
  },
  {
   "cell_type": "code",
   "execution_count": 122,
   "metadata": {},
   "outputs": [
    {
     "name": "stdout",
     "output_type": "stream",
     "text": [
      "ok\n"
     ]
    }
   ],
   "source": [
    "if \"들기름\" in duplicated_samples:\n",
    "    print(\"ok\")"
   ]
  },
  {
   "cell_type": "code",
   "execution_count": null,
   "metadata": {},
   "outputs": [],
   "source": [
    "f=open(\"upgraded_voca_ices.txt\", 'w')\n"
   ]
  },
  {
   "cell_type": "code",
   "execution_count": 113,
   "metadata": {},
   "outputs": [
    {
     "data": {
      "text/plain": [
       "'름과 들기름은 불포화지방산 함량이 높고 각종 영양성분이'"
      ]
     },
     "execution_count": 113,
     "metadata": {},
     "output_type": "execute_result"
    }
   ],
   "source": [
    "v=spell_checker.check(\"름과들기름은불포화지방산함량이높고각종영양성분이\")\n",
    "v.as_dict()['checked']"
   ]
  },
  {
   "cell_type": "code",
   "execution_count": 125,
   "metadata": {},
   "outputs": [
    {
     "data": {
      "text/plain": [
       "['불포화', '지방산']"
      ]
     },
     "execution_count": 125,
     "metadata": {},
     "output_type": "execute_result"
    }
   ],
   "source": [
    "tokenizer.morphs(\"불포화지방산\")"
   ]
  },
  {
   "cell_type": "code",
   "execution_count": null,
   "metadata": {},
   "outputs": [],
   "source": []
  }
 ],
 "metadata": {
  "kernelspec": {
   "display_name": "Python 3",
   "language": "python",
   "name": "python3"
  },
  "language_info": {
   "codemirror_mode": {
    "name": "ipython",
    "version": 3
   },
   "file_extension": ".py",
   "mimetype": "text/x-python",
   "name": "python",
   "nbconvert_exporter": "python",
   "pygments_lexer": "ipython3",
   "version": "3.6.9"
  }
 },
 "nbformat": 4,
 "nbformat_minor": 4
}
